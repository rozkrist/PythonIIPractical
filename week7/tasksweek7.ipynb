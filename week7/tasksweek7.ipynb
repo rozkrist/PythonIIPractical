{
 "cells": [
  {
   "cell_type": "markdown",
   "id": "ca3299db",
   "metadata": {},
   "source": [
    "Transactions (to be performed in Python):\n",
    "\n",
    "1. **Task: Bank Transactions**\n",
    "You are tasked with implementing a banking system that allows customers to transfer funds between accounts.\n",
    "Design a SQL transaction to ensure that the amount is deducted from the sender's account and added to the receiver's account in an atomic manner.\n",
    "If any part of the transaction fails, rollback the changes to maintain data integrity."
   ]
  },
  {
   "cell_type": "code",
   "execution_count": 1,
   "id": "e9af0df3",
   "metadata": {},
   "outputs": [],
   "source": [
    "import mysql.connector"
   ]
  },
  {
   "cell_type": "code",
   "execution_count": 1,
   "id": "e6fd9f77",
   "metadata": {},
   "outputs": [
    {
     "ename": "NameError",
     "evalue": "name 'mysql' is not defined",
     "output_type": "error",
     "traceback": [
      "\u001b[1;31m---------------------------------------------------------------------------\u001b[0m",
      "\u001b[1;31mNameError\u001b[0m                                 Traceback (most recent call last)",
      "Cell \u001b[1;32mIn[1], line 1\u001b[0m\n\u001b[1;32m----> 1\u001b[0m connection \u001b[38;5;241m=\u001b[39m \u001b[43mmysql\u001b[49m\u001b[38;5;241m.\u001b[39mconnector\u001b[38;5;241m.\u001b[39mconnect(user\u001b[38;5;241m=\u001b[39m\u001b[38;5;124m\"\u001b[39m\u001b[38;5;124mroot\u001b[39m\u001b[38;5;124m\"\u001b[39m,\n\u001b[0;32m      2\u001b[0m                                      password\u001b[38;5;241m=\u001b[39m\u001b[38;5;124m\"\u001b[39m\u001b[38;5;124m\"\u001b[39m,\n\u001b[0;32m      3\u001b[0m                                      host\u001b[38;5;241m=\u001b[39m\u001b[38;5;124m\"\u001b[39m\u001b[38;5;124mlocalhost\u001b[39m\u001b[38;5;124m\"\u001b[39m,\n\u001b[0;32m      4\u001b[0m                                      database\u001b[38;5;241m=\u001b[39m\u001b[38;5;124m\"\u001b[39m\u001b[38;5;124madvanced_sql_database\u001b[39m\u001b[38;5;124m\"\u001b[39m)\n\u001b[0;32m      5\u001b[0m cursor \u001b[38;5;241m=\u001b[39m connection\u001b[38;5;241m.\u001b[39mcursor()\n\u001b[0;32m      6\u001b[0m cursor\u001b[38;5;241m.\u001b[39mexecute(\u001b[38;5;124m\"\u001b[39m\u001b[38;5;124mINSERT INTO students(name,lastname,age) VALUES (\u001b[39m\u001b[38;5;124m'\u001b[39m\u001b[38;5;124mEmmily\u001b[39m\u001b[38;5;124m'\u001b[39m\u001b[38;5;124m,\u001b[39m\u001b[38;5;124m'\u001b[39m\u001b[38;5;124mYan\u001b[39m\u001b[38;5;124m'\u001b[39m\u001b[38;5;124m,24)\u001b[39m\u001b[38;5;124m\"\u001b[39m)\n",
      "\u001b[1;31mNameError\u001b[0m: name 'mysql' is not defined"
     ]
    }
   ],
   "source": [
    "connection = mysql.connector.connect(user=\"root\",\n",
    "                                     password=\"\",\n",
    "                                     host=\"localhost\",\n",
    "                                     database=\"sql_transactions_db\")\n",
    "cursor = connection.cursor()\n",
    "# withdraw from account A \n",
    "update_query = \"\"\"Update account_A set balance = 1000 where id = 1\"\"\"\n",
    "    cursor.execute(update_query)\n",
    "\n",
    "# Deposit to account B \n",
    "    update_query = \"\"\"Update account_B set balance = 1500 where id = 2\"\"\"\n",
    "    cursor.execute(update_query)\n",
    "    print(\"Transaction successful\")\n",
    "    \n",
    "    except mysql.connector.Error as error:\n",
    "    print(\"Failed to update record to database rollback: {}\".format(error))\n",
    "    # reverting changes because of exception\n",
    "    conn.rollback()\n",
    "finally:\n",
    "    # closing database connection.\n",
    "    if conn.is_connected():\n",
    "        cursor.close()\n",
    "        conn.close()\n",
    "        print(\"connection is closed\")\n",
    "    \n",
    "conn.commit()\n",
    "\n",
    "\n",
    "cursor.execute(\"INSERT INTO students(name,lastname,age) VALUES ('Emmily','Yan',24)\")\n",
    "# connection.rollback()\n",
    "\n",
    "cursor.execute(\"SELECT COUNT(*) FROM students\")\n",
    "results = cursor.fetchall()\n",
    "count = results[0][0]\n",
    "if count > 20:\n",
    "    connection.rollback()\n",
    "else:\n",
    "    connection.commit()\n",
    "connection.close()\n",
    "#New transaction    \n",
    "cursor = connection.cursor()\n",
    "cursor.execute(\"SELECT COUNT(*) FROM students\")\n",
    "results = cursor.fetchall()\n",
    "count = results[0][0]\n",
    "cursor.execute(\"INSERT INTO students(name,lastname,age) VALUES ('Emmily','Yan',24)\")\n",
    "connection.commit()\n",
    "connection.close()"
   ]
  },
  {
   "cell_type": "code",
   "execution_count": 2,
   "id": "cac079dc",
   "metadata": {},
   "outputs": [],
   "source": [
    "conn = mysql.connector.connect"
   ]
  },
  {
   "cell_type": "code",
   "execution_count": 3,
   "id": "b1d2765e",
   "metadata": {},
   "outputs": [
    {
     "ename": "AttributeError",
     "evalue": "'function' object has no attribute 'cursor'",
     "output_type": "error",
     "traceback": [
      "\u001b[1;31m---------------------------------------------------------------------------\u001b[0m",
      "\u001b[1;31mAttributeError\u001b[0m                            Traceback (most recent call last)",
      "Cell \u001b[1;32mIn[3], line 1\u001b[0m\n\u001b[1;32m----> 1\u001b[0m cursor \u001b[38;5;241m=\u001b[39m \u001b[43mconn\u001b[49m\u001b[38;5;241;43m.\u001b[39;49m\u001b[43mcursor\u001b[49m()\n",
      "\u001b[1;31mAttributeError\u001b[0m: 'function' object has no attribute 'cursor'"
     ]
    }
   ],
   "source": [
    "cursor = conn.cursor()"
   ]
  },
  {
   "cell_type": "markdown",
   "id": "bdb5e4eb",
   "metadata": {},
   "source": [
    "2. **Task: Order Processing**\n",
    "You are developing an online shopping platform.\n",
    "Create a SQL transaction that updates the inventory of products when a customer places an order.\n",
    "Deduct the ordered quantity from the product stock and update the order status.\n",
    "If any part of the transaction fails (e.g., insufficient stock), roll back the changes to ensure consistent data."
   ]
  },
  {
   "cell_type": "code",
   "execution_count": null,
   "id": "cae4c80e",
   "metadata": {},
   "outputs": [],
   "source": [
    "import mysql.connector"
   ]
  },
  {
   "cell_type": "code",
   "execution_count": null,
   "id": "f78ab429",
   "metadata": {},
   "outputs": [],
   "source": [
    "connection = mysql.connector.connect(user=\"root\",\n",
    "                                     password=\"\",\n",
    "                                     host=\"localhost\",\n",
    "                                     database=\"sql_transactions_db\")\n",
    "cursor = connection.cursor()\n",
    "cursor.execute(\"INSERT INTO students(name,lastname,age) VALUES ('Emmily','Yan',24)\")\n",
    "# connection.rollback()\n",
    "\n",
    "cursor.execute(\"SELECT COUNT(*) FROM students\")\n",
    "results = cursor.fetchall()\n",
    "count = results[0][0]\n",
    "if count > 20:\n",
    "    connection.rollback()\n",
    "else:\n",
    "    connection.commit()\n",
    "\n",
    "#New transaction    \n",
    "cursor = connection.cursor()\n",
    "cursor.execute(\"SELECT COUNT(*) FROM students\")\n",
    "results = cursor.fetchall()\n",
    "count = results[0][0]\n",
    "cursor.execute(\"INSERT INTO students(name,lastname,age) VALUES ('Emmily','Yan',24)\")\n",
    "connection.commit()\n",
    "connection.close()"
   ]
  },
  {
   "cell_type": "code",
   "execution_count": null,
   "id": "97ebec04",
   "metadata": {},
   "outputs": [],
   "source": []
  },
  {
   "cell_type": "markdown",
   "id": "3124f2fe",
   "metadata": {},
   "source": [
    "3. **Task: Employee Salary Adjustment**\n",
    "Your HR department needs to apply a salary adjustment to all employees based on their performance.\n",
    "Design a SQL transaction that updates the salary of each employee with the corresponding adjustment and logs the changes. If there is any issue while updating salaries, roll back the changes to maintain the previous salary data."
   ]
  },
  {
   "cell_type": "code",
   "execution_count": null,
   "id": "901290d9",
   "metadata": {},
   "outputs": [],
   "source": []
  },
  {
   "cell_type": "code",
   "execution_count": null,
   "id": "9d4d3b16",
   "metadata": {},
   "outputs": [],
   "source": [
    "update employee set sal =(select avg(sal) from employee group by deptno) where deptno in(select deptno from employee group by deptno)"
   ]
  },
  {
   "cell_type": "code",
   "execution_count": null,
   "id": "7a0976ea",
   "metadata": {},
   "outputs": [],
   "source": []
  },
  {
   "cell_type": "markdown",
   "id": "8136a922",
   "metadata": {},
   "source": [
    "4. **Task: Flight Reservation**\n",
    "You are building a flight reservation system. Create a SQL transaction that reserves a seat for a passenger on a flight.\n",
    "Deduct the seat availability, update the reservation record, and log the booking details.\n",
    "If any part of the transaction fails (e.g., seat already taken), roll back the changes and notify the user of the failure."
   ]
  },
  {
   "cell_type": "code",
   "execution_count": null,
   "id": "9a5e95f2",
   "metadata": {},
   "outputs": [],
   "source": []
  },
  {
   "cell_type": "code",
   "execution_count": null,
   "id": "c1dffbbd",
   "metadata": {},
   "outputs": [],
   "source": []
  },
  {
   "cell_type": "code",
   "execution_count": null,
   "id": "a5c52e24",
   "metadata": {},
   "outputs": [],
   "source": []
  },
  {
   "cell_type": "markdown",
   "id": "a9bfb0f0",
   "metadata": {},
   "source": [
    "5. **Task: Product Returns**\n",
    "You are developing an e-commerce platform. Implement a SQL transaction to process product returns initiated by customers.\n",
    "Update the product's return status, refund the customer's payment, and log the return details.\n",
    "If any part of the transaction fails (e.g., invalid return request), roll back the changes and handle the error gracefully.\n"
   ]
  },
  {
   "cell_type": "code",
   "execution_count": null,
   "id": "4256158a",
   "metadata": {},
   "outputs": [],
   "source": []
  },
  {
   "cell_type": "code",
   "execution_count": null,
   "id": "02f5b1ca",
   "metadata": {},
   "outputs": [],
   "source": []
  },
  {
   "cell_type": "code",
   "execution_count": null,
   "id": "11e424ff",
   "metadata": {},
   "outputs": [],
   "source": []
  },
  {
   "cell_type": "markdown",
   "id": "4dd1755d",
   "metadata": {},
   "source": [
    "6. **Task: Student Enrollment**\n",
    "Design a SQL transaction to handle the enrollment of new students in a university.\n",
    "Update the student enrollment records, assign courses, and update the tuition fee payment status. \n",
    "If any part of the transaction fails (e.g., course limit reached), roll back the changes to ensure no invalid enrollments are recorded.\n"
   ]
  },
  {
   "cell_type": "code",
   "execution_count": null,
   "id": "a7252858",
   "metadata": {},
   "outputs": [],
   "source": []
  },
  {
   "cell_type": "code",
   "execution_count": null,
   "id": "706184fb",
   "metadata": {},
   "outputs": [],
   "source": []
  },
  {
   "cell_type": "code",
   "execution_count": null,
   "id": "0c8aaaa9",
   "metadata": {},
   "outputs": [],
   "source": []
  },
  {
   "cell_type": "markdown",
   "id": "41215d1c",
   "metadata": {},
   "source": [
    "Non SQL database:\n",
    "\n",
    "In Python, design your own design of the database (using the files) and perform some practical examples with it. "
   ]
  },
  {
   "cell_type": "code",
   "execution_count": 35,
   "id": "b6f0e861",
   "metadata": {},
   "outputs": [],
   "source": [
    "import json\n",
    "import os"
   ]
  },
  {
   "cell_type": "code",
   "execution_count": 36,
   "id": "6134bfba",
   "metadata": {},
   "outputs": [],
   "source": [
    "student1 = {\"id\":1,\"name\":\"Anna\",\"last_name\":\"Green\",\"age\":14}\n",
    "student2 = {\"id\":2,\"name\":\"Thomas\",\"last_name\":\"Brown\",\"age\":16}\n",
    "student3 = {\"id\":3,\"name\":\"Sandra\",\"last_name\":\"Wakefield\",\"age\":15}\n",
    "\n",
    "students = list()\n",
    "\n",
    "students.append(student1)\n",
    "students.append(student2)\n",
    "students.append(student3)\n",
    "with open(\"students.json\",\"w\") as json_f:\n",
    "    json.dump(students,json_f)\n",
    "with open(\"students.json\",\"r\") as json_f:\n",
    "    students_data = json.load(json_f)"
   ]
  },
  {
   "cell_type": "code",
   "execution_count": 37,
   "id": "4bfa6a6d",
   "metadata": {},
   "outputs": [],
   "source": [
    "student = {\"id\":4,\"name\":\"Brian\",\"last_name\":\"Oaktree\",\"age\":14}\n",
    "students_data.append(student)\n",
    "\n",
    "with open(\"students.json\",\"w\") as json_f:\n",
    "    json.dump(students_data,json_f)"
   ]
  },
  {
   "cell_type": "code",
   "execution_count": 45,
   "id": "a22f411d",
   "metadata": {},
   "outputs": [
    {
     "ename": "IndentationError",
     "evalue": "unindent does not match any outer indentation level (<tokenize>, line 26)",
     "output_type": "error",
     "traceback": [
      "\u001b[1;36m  File \u001b[1;32m<tokenize>:26\u001b[1;36m\u001b[0m\n\u001b[1;33m    self.load_students_from_file()\u001b[0m\n\u001b[1;37m    ^\u001b[0m\n\u001b[1;31mIndentationError\u001b[0m\u001b[1;31m:\u001b[0m unindent does not match any outer indentation level\n"
     ]
    }
   ],
   "source": [
    "class StudentsDB:\n",
    "    \n",
    "    def __init__(self):\n",
    "        with open(\"students.json\",\"r\") as json_f:\n",
    "            self.students_data = json.load(json_f)\n",
    "            self.students_data_init = self.studenta_data.copy()\n",
    "        self.load_students_from_file()\n",
    "    def get_last_id(self):\n",
    "        last_id = 0\n",
    "        for student in self.students_data:\n",
    "            if last_id < students[\"id\"]:\n",
    "                last_id = students[\"id\"]\n",
    "        return last_id\n",
    "                \n",
    "    def insert(self,name:str,last_name:str,age:int):\n",
    "        new_id = self.get_last_id() + 1\n",
    "        student = {\"id\":new_id,\"name\":name,\"last_name\":last_name,\"age\":age}\n",
    "        self.student_data.append(student)\n",
    "        \n",
    "    def commit(self):\n",
    "        with open(\"students.json\",\"w\") as json_f:\n",
    "            json.dump(self.students_data,json_f)\n",
    "            \n",
    "            def rollback(self):\n",
    "#         self.persons_data = self.persons_data_init.copy()\n",
    "       self.load_students_from_file()\n",
    "\n",
    "    def load_students_from_file(self):\n",
    "         with open(\"students.json\",\"r\") as json_f:\n",
    "            self.students_data = json.load(json_f)\n",
    "            \n",
    "    def update(self,id:int,name=None,last_name=None,age=None):\n",
    "        student_upd = None\n",
    "        for student in self.students_data:\n",
    "            if student[\"id\"] == id:\n",
    "                student_upd = student\n",
    "                break\n",
    "        if student_upd == None:\n",
    "            return False\n",
    "        \n",
    "        if not (name == None):\n",
    "            student[\"name\"] = name\n",
    "        if not (last_name == None):\n",
    "            student[\"last_name\"] = last_name\n",
    "        if not (age == None):    \n",
    "            student[\"age\"] = age\n",
    "        return True"
   ]
  },
  {
   "cell_type": "code",
   "execution_count": 46,
   "id": "0e4d0681",
   "metadata": {},
   "outputs": [
    {
     "ename": "AttributeError",
     "evalue": "'StudentsDB' object has no attribute 'load_persons_from_file'",
     "output_type": "error",
     "traceback": [
      "\u001b[1;31m---------------------------------------------------------------------------\u001b[0m",
      "\u001b[1;31mAttributeError\u001b[0m                            Traceback (most recent call last)",
      "Cell \u001b[1;32mIn[46], line 1\u001b[0m\n\u001b[1;32m----> 1\u001b[0m student_db \u001b[38;5;241m=\u001b[39m \u001b[43mStudentsDB\u001b[49m\u001b[43m(\u001b[49m\u001b[43m)\u001b[49m\n",
      "Cell \u001b[1;32mIn[15], line 7\u001b[0m, in \u001b[0;36mStudentsDB.__init__\u001b[1;34m(self)\u001b[0m\n\u001b[0;32m      3\u001b[0m     \u001b[38;5;28;01mdef\u001b[39;00m \u001b[38;5;21m__init__\u001b[39m(\u001b[38;5;28mself\u001b[39m):\n\u001b[0;32m      4\u001b[0m \u001b[38;5;66;03m#         with open(\"students.json\",\"r\") as json_f:\u001b[39;00m\n\u001b[0;32m      5\u001b[0m \u001b[38;5;66;03m#             self.students_data = json.load(json_f)\u001b[39;00m\n\u001b[0;32m      6\u001b[0m \u001b[38;5;66;03m#             self.students_data_init = self.studenta_data.copy()\u001b[39;00m\n\u001b[1;32m----> 7\u001b[0m         \u001b[38;5;28;43mself\u001b[39;49m\u001b[38;5;241;43m.\u001b[39;49m\u001b[43mload_persons_from_file\u001b[49m()\n",
      "\u001b[1;31mAttributeError\u001b[0m: 'StudentsDB' object has no attribute 'load_persons_from_file'"
     ]
    }
   ],
   "source": [
    "student_db = StudentsDB()"
   ]
  },
  {
   "cell_type": "code",
   "execution_count": 41,
   "id": "15314cfb",
   "metadata": {},
   "outputs": [
    {
     "ename": "NameError",
     "evalue": "name 'person_db' is not defined",
     "output_type": "error",
     "traceback": [
      "\u001b[1;31m---------------------------------------------------------------------------\u001b[0m",
      "\u001b[1;31mNameError\u001b[0m                                 Traceback (most recent call last)",
      "Cell \u001b[1;32mIn[41], line 1\u001b[0m\n\u001b[1;32m----> 1\u001b[0m \u001b[43mperson_db\u001b[49m\u001b[38;5;241m.\u001b[39minsert(\u001b[38;5;124m\"\u001b[39m\u001b[38;5;124mJack\u001b[39m\u001b[38;5;124m\"\u001b[39m,\u001b[38;5;124m\"\u001b[39m\u001b[38;5;124mEagle\u001b[39m\u001b[38;5;124m\"\u001b[39m,\u001b[38;5;241m14\u001b[39m)\n",
      "\u001b[1;31mNameError\u001b[0m: name 'person_db' is not defined"
     ]
    }
   ],
   "source": [
    "student_db.insert(\"Jack\",\"Eagle\",14)"
   ]
  },
  {
   "cell_type": "code",
   "execution_count": 43,
   "id": "12b4dd92",
   "metadata": {},
   "outputs": [
    {
     "ename": "NameError",
     "evalue": "name 'student_db' is not defined",
     "output_type": "error",
     "traceback": [
      "\u001b[1;31m---------------------------------------------------------------------------\u001b[0m",
      "\u001b[1;31mNameError\u001b[0m                                 Traceback (most recent call last)",
      "Cell \u001b[1;32mIn[43], line 1\u001b[0m\n\u001b[1;32m----> 1\u001b[0m \u001b[43mstudent_db\u001b[49m\u001b[38;5;241m.\u001b[39mstudents_data\n",
      "\u001b[1;31mNameError\u001b[0m: name 'student_db' is not defined"
     ]
    }
   ],
   "source": [
    "student_db.students_data"
   ]
  },
  {
   "cell_type": "code",
   "execution_count": null,
   "id": "47f6b960",
   "metadata": {},
   "outputs": [],
   "source": []
  }
 ],
 "metadata": {
  "kernelspec": {
   "display_name": "Python 3 (ipykernel)",
   "language": "python",
   "name": "python3"
  },
  "language_info": {
   "codemirror_mode": {
    "name": "ipython",
    "version": 3
   },
   "file_extension": ".py",
   "mimetype": "text/x-python",
   "name": "python",
   "nbconvert_exporter": "python",
   "pygments_lexer": "ipython3",
   "version": "3.11.2"
  }
 },
 "nbformat": 4,
 "nbformat_minor": 5
}
