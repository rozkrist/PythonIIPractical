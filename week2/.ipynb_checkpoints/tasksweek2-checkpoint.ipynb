{
 "cells": [
  {
   "cell_type": "markdown",
   "id": "3f40b4c8",
   "metadata": {},
   "source": [
    "Databases (SQL):\n",
    "1. Select any free API (the choice is up to you, you can use any from https://rapidapi.com/collection/list-of-free-apis)."
   ]
  },
  {
   "cell_type": "markdown",
   "id": "135e49de",
   "metadata": {},
   "source": [
    "https://rapidapi.com/weatherapi/api/weatherapi-com"
   ]
  },
  {
   "cell_type": "markdown",
   "id": "e7fa7852",
   "metadata": {},
   "source": [
    "2. Create the database which stores the infomration related to the API chosen (at least 2 tables)."
   ]
  },
  {
   "cell_type": "code",
   "execution_count": null,
   "id": "1b742b68",
   "metadata": {},
   "outputs": [],
   "source": [
    "please see weatherapp.sql file in github week2"
   ]
  },
  {
   "cell_type": "markdown",
   "id": "4504966f",
   "metadata": {},
   "source": [
    "3. In Python,\n",
    "3.1. implement the logic which fetches the data from API and moves it to Database \n"
   ]
  },
  {
   "cell_type": "code",
   "execution_count": null,
   "id": "65f3cc1f",
   "metadata": {},
   "outputs": [],
   "source": []
  },
  {
   "cell_type": "markdown",
   "id": "a950a4c8",
   "metadata": {},
   "source": [
    "3.2. Fetches the data from database and "
   ]
  },
  {
   "cell_type": "code",
   "execution_count": null,
   "id": "b3cbe018",
   "metadata": {},
   "outputs": [],
   "source": []
  },
  {
   "cell_type": "markdown",
   "id": "ef939151",
   "metadata": {},
   "source": [
    "3.2.1. If there is the API functionality (POST/GET request) which allows you to use the data from database in an API call, do it "
   ]
  },
  {
   "cell_type": "code",
   "execution_count": 9,
   "id": "87fc6380",
   "metadata": {},
   "outputs": [
    {
     "name": "stdout",
     "output_type": "stream",
     "text": [
      "{'location': {'name': 'Boston', 'region': 'Lincolnshire', 'country': 'United Kingdom', 'lat': 53.1, 'lon': -0.13, 'tz_id': 'Europe/London', 'localtime_epoch': 1687876713, 'localtime': '2023-06-27 15:38'}, 'current': {'last_updated_epoch': 1687876200, 'last_updated': '2023-06-27 15:30', 'temp_c': 19.0, 'temp_f': 66.2, 'is_day': 1, 'condition': {'text': 'Partly cloudy', 'icon': '//cdn.weatherapi.com/weather/64x64/day/116.png', 'code': 1003}, 'wind_mph': 10.5, 'wind_kph': 16.9, 'wind_degree': 230, 'wind_dir': 'SW', 'pressure_mb': 1018.0, 'pressure_in': 30.06, 'precip_mm': 0.1, 'precip_in': 0.0, 'humidity': 68, 'cloud': 75, 'feelslike_c': 19.0, 'feelslike_f': 66.2, 'vis_km': 10.0, 'vis_miles': 6.0, 'uv': 4.0, 'gust_mph': 15.7, 'gust_kph': 25.2}}\n"
     ]
    }
   ],
   "source": [
    "import requests\n",
    "\n",
    "url = \"https://weatherapi-com.p.rapidapi.com/current.json\"\n",
    "\n",
    "querystring = {\"q\":\"53.1,-0.13\"}\n",
    "\n",
    "headers = {\n",
    "\t\"X-RapidAPI-Key\": \"314fda1e23msha64c1001bcb471fp184f6cjsn252b74745ae5\",\n",
    "\t\"X-RapidAPI-Host\": \"weatherapi-com.p.rapidapi.com\"\n",
    "}\n",
    "\n",
    "response = requests.get(url, headers=headers, params=querystring)\n",
    "\n",
    "print(response.json())"
   ]
  },
  {
   "cell_type": "markdown",
   "id": "e2a95a88",
   "metadata": {},
   "source": [
    "3.2.2. If not - display the data from database as Pandas dataframe"
   ]
  },
  {
   "cell_type": "markdown",
   "id": "752f7d23",
   "metadata": {},
   "source": [
    "n/a"
   ]
  }
 ],
 "metadata": {
  "kernelspec": {
   "display_name": "Python 3 (ipykernel)",
   "language": "python",
   "name": "python3"
  },
  "language_info": {
   "codemirror_mode": {
    "name": "ipython",
    "version": 3
   },
   "file_extension": ".py",
   "mimetype": "text/x-python",
   "name": "python",
   "nbconvert_exporter": "python",
   "pygments_lexer": "ipython3",
   "version": "3.11.2"
  }
 },
 "nbformat": 4,
 "nbformat_minor": 5
}
