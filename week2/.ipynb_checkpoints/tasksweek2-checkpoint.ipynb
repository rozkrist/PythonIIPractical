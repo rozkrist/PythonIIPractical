{
 "cells": [
  {
   "cell_type": "markdown",
   "id": "3f40b4c8",
   "metadata": {},
   "source": [
    "Databases (SQL):\n",
    "1. Select any free API (the choice is up to you, you can use any from https://rapidapi.com/collection/list-of-free-apis)."
   ]
  },
  {
   "cell_type": "code",
   "execution_count": null,
   "id": "e7906ca2",
   "metadata": {},
   "outputs": [],
   "source": []
  },
  {
   "cell_type": "code",
   "execution_count": null,
   "id": "0a9812e6",
   "metadata": {},
   "outputs": [],
   "source": []
  },
  {
   "cell_type": "markdown",
   "id": "e7fa7852",
   "metadata": {},
   "source": [
    "2. Create the database which stores the infomration related to the API chosen (at least 2 tables)."
   ]
  },
  {
   "cell_type": "code",
   "execution_count": null,
   "id": "363b0477",
   "metadata": {},
   "outputs": [],
   "source": []
  },
  {
   "cell_type": "code",
   "execution_count": null,
   "id": "1b742b68",
   "metadata": {},
   "outputs": [],
   "source": []
  },
  {
   "cell_type": "markdown",
   "id": "4504966f",
   "metadata": {},
   "source": [
    "3. In Python,\n",
    "\n",
    "3.1. implement the logic which fetches the data from API and moves it to Database \n",
    "\n",
    "3.2. Fetches the data from database and \n",
    "\n",
    "3.2.1. If there is the API functionality (POST/GET request) which allows you to use the data from database in an API call, do it \n",
    "\n",
    "3.2.2. If not - display the data from database as Pandas dataframe"
   ]
  },
  {
   "cell_type": "code",
   "execution_count": null,
   "id": "65f3cc1f",
   "metadata": {},
   "outputs": [],
   "source": []
  }
 ],
 "metadata": {
  "kernelspec": {
   "display_name": "Python 3 (ipykernel)",
   "language": "python",
   "name": "python3"
  },
  "language_info": {
   "codemirror_mode": {
    "name": "ipython",
    "version": 3
   },
   "file_extension": ".py",
   "mimetype": "text/x-python",
   "name": "python",
   "nbconvert_exporter": "python",
   "pygments_lexer": "ipython3",
   "version": "3.11.2"
  }
 },
 "nbformat": 4,
 "nbformat_minor": 5
}
