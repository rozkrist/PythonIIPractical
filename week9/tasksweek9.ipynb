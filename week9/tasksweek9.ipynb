{
 "cells": [
  {
   "cell_type": "markdown",
   "id": "fa74700b",
   "metadata": {},
   "source": [
    "Cassandra:\n",
    "\n",
    "1.Data Model Creation:\n",
    "\n",
    "Design a data model for an e-commerce platform to handle products, orders, and user information.\n",
    "\n",
    "Define appropriate column families and primary keys to ensure efficient querying."
   ]
  },
  {
   "cell_type": "code",
   "execution_count": 364,
   "id": "7a51245f",
   "metadata": {},
   "outputs": [],
   "source": [
    "from cassandra.cluster import Cluster\n",
    "from cassandra.query import dict_factory\n",
    "import uuid\n",
    "import time\n",
    "import random"
   ]
  },
  {
   "cell_type": "code",
   "execution_count": 365,
   "id": "502e9223",
   "metadata": {},
   "outputs": [
    {
     "data": {
      "text/plain": [
       "UUID('22353409-187b-49c2-b26e-7a86383d5ef0')"
      ]
     },
     "execution_count": 365,
     "metadata": {},
     "output_type": "execute_result"
    }
   ],
   "source": [
    "uuid.uuid4()"
   ]
  },
  {
   "cell_type": "code",
   "execution_count": 366,
   "id": "c3ee9a6b",
   "metadata": {},
   "outputs": [],
   "source": [
    "cluster = Cluster([\"127.0.0.1\"],port=9042)"
   ]
  },
  {
   "cell_type": "code",
   "execution_count": 367,
   "id": "2a3aee7b",
   "metadata": {},
   "outputs": [],
   "source": [
    "session = cluster.connect()"
   ]
  },
  {
   "cell_type": "code",
   "execution_count": 368,
   "id": "6aff37e1",
   "metadata": {},
   "outputs": [
    {
     "data": {
      "text/plain": [
       "<cassandra.cluster.ResultSet at 0x1f6a95ae110>"
      ]
     },
     "execution_count": 368,
     "metadata": {},
     "output_type": "execute_result"
    }
   ],
   "source": [
    "create_keyspace_query = \"\"\"\n",
    "    CREATE KEYSPACE IF NOT EXISTS ecommerce_keyspace\n",
    "    WITH replication = {'class':'SimpleStrategy', 'replication_factor':1}\n",
    "\"\"\"\n",
    "\n",
    "session.execute(create_keyspace_query)"
   ]
  },
  {
   "cell_type": "code",
   "execution_count": 369,
   "id": "2943fb07",
   "metadata": {},
   "outputs": [
    {
     "data": {
      "text/plain": [
       "<cassandra.cluster.ResultSet at 0x1f6a97fdb10>"
      ]
     },
     "execution_count": 369,
     "metadata": {},
     "output_type": "execute_result"
    }
   ],
   "source": [
    "#Creating tables: users, products, orders;\n",
    "session.execute(\"USE ecommerce_keyspace\")\n",
    "session.execute(\"\"\" CREATE TABLE IF NOT EXISTS users (user_id UUID PRIMARY KEY, name TEXT, address TEXT, email TEXT) \"\"\")"
   ]
  },
  {
   "cell_type": "code",
   "execution_count": 370,
   "id": "629b48fc",
   "metadata": {
    "scrolled": true
   },
   "outputs": [
    {
     "data": {
      "text/plain": [
       "<cassandra.cluster.ResultSet at 0x1f6a9774090>"
      ]
     },
     "execution_count": 370,
     "metadata": {},
     "output_type": "execute_result"
    }
   ],
   "source": [
    "session.execute(\"USE ecommerce_keyspace\")\n",
    "session.execute(\"\"\" CREATE TABLE IF NOT EXISTS products (product_id UUID PRIMARY KEY, name TEXT, category TEXT, price DECIMAL) \"\"\")"
   ]
  },
  {
   "cell_type": "code",
   "execution_count": 371,
   "id": "f5e4f4ed",
   "metadata": {},
   "outputs": [
    {
     "data": {
      "text/plain": [
       "<cassandra.cluster.ResultSet at 0x1f6a9777b90>"
      ]
     },
     "execution_count": 371,
     "metadata": {},
     "output_type": "execute_result"
    }
   ],
   "source": [
    "session.execute(\"USE ecommerce_keyspace\")\n",
    "session.execute(\"\"\" CREATE TABLE IF NOT EXISTS orders (order_id UUID PRIMARY KEY, user_id UUID, oder_date TIMESTAMP, status TEXT) \"\"\")"
   ]
  },
  {
   "cell_type": "markdown",
   "id": "800f667f",
   "metadata": {},
   "source": [
    "2.Data Insertion and Retrieval:\n",
    "\n",
    "Insert sample data into the Cassandra database, including user information and product details."
   ]
  },
  {
   "cell_type": "code",
   "execution_count": 372,
   "id": "4d33f40e",
   "metadata": {},
   "outputs": [
    {
     "data": {
      "text/plain": [
       "<cassandra.cluster.ResultSet at 0x1f6a96ca1d0>"
      ]
     },
     "execution_count": 372,
     "metadata": {},
     "output_type": "execute_result"
    }
   ],
   "source": [
    "#Inserting data into users, products and orders tables:\n",
    "\n",
    "insert__users_query = \"INSERT INTO users (user_id, name, address, email) VALUES (?, ?, ?,?)\"\n",
    "\n",
    "prepared = session.prepare(insert__users_query)\n",
    "session.execute(prepared, (uuid.uuid4(), \"Emily Wood\", \"Hope street 17\", \"e.wood@gmail.com\")),\n",
    "session.execute(prepared, (uuid.uuid4(), \"Adam Black\", \"Evelyn street 1\", \"a.black@gmail.com\")),\n",
    "session.execute(prepared, (uuid.uuid4(), \"Anne Green\", \"Justice street 11\", \"a.green@gmail.com\"))"
   ]
  },
  {
   "cell_type": "code",
   "execution_count": 373,
   "id": "ea21577e",
   "metadata": {},
   "outputs": [
    {
     "data": {
      "text/plain": [
       "<cassandra.cluster.ResultSet at 0x1f6a97a08d0>"
      ]
     },
     "execution_count": 373,
     "metadata": {},
     "output_type": "execute_result"
    }
   ],
   "source": [
    "insert_products_query = \"INSERT INTO products (product_id, name, category, price) VALUES (?, ?, ?,?)\"\n",
    "\n",
    "prepared = session.prepare(insert__products_query)\n",
    "session.execute(prepared, (uuid.uuid4(), \"Backpack\", \"Accessories\", \"56.00\")),\n",
    "session.execute(prepared, (uuid.uuid4(), \"Boots\", \"Shoes\", \"120.00\")),\n",
    "session.execute(prepared, (uuid.uuid4(), \"Jacket\", \"Clothing\", \"90.00\"))"
   ]
  },
  {
   "cell_type": "code",
   "execution_count": 374,
   "id": "2840b347",
   "metadata": {},
   "outputs": [
    {
     "ename": "InvalidRequest",
     "evalue": "Error from server: code=2200 [Invalid query] message=\"Undefined column name order_date in table ecommerce_keyspace.orders\"",
     "output_type": "error",
     "traceback": [
      "\u001b[1;31m---------------------------------------------------------------------------\u001b[0m",
      "\u001b[1;31mInvalidRequest\u001b[0m                            Traceback (most recent call last)",
      "Cell \u001b[1;32mIn[374], line 4\u001b[0m\n\u001b[0;32m      1\u001b[0m \u001b[38;5;66;03m#Here not sure which one to use for order_id data when executing session.Also got error massage regarding order_date.\u001b[39;00m\n\u001b[0;32m      2\u001b[0m insert_orders_query \u001b[38;5;241m=\u001b[39m \u001b[38;5;124m\"\u001b[39m\u001b[38;5;124mINSERT INTO orders (order_id, user_id, order_date, status) VALUES (?, ?, ?,?)\u001b[39m\u001b[38;5;124m\"\u001b[39m\n\u001b[1;32m----> 4\u001b[0m prepared \u001b[38;5;241m=\u001b[39m \u001b[43msession\u001b[49m\u001b[38;5;241;43m.\u001b[39;49m\u001b[43mprepare\u001b[49m\u001b[43m(\u001b[49m\u001b[43minsert_orders_query\u001b[49m\u001b[43m)\u001b[49m\n\u001b[0;32m      5\u001b[0m session\u001b[38;5;241m.\u001b[39mexecute(prepared, (uuid\u001b[38;5;241m.\u001b[39muuid4(), (uuid\u001b[38;5;241m.\u001b[39muuid4(), \u001b[38;5;124m\"\u001b[39m\u001b[38;5;124m2023-08-01\u001b[39m\u001b[38;5;124m\"\u001b[39m, \u001b[38;5;124m\"\u001b[39m\u001b[38;5;124mdone\u001b[39m\u001b[38;5;124m\"\u001b[39m)),\n\u001b[0;32m      6\u001b[0m session\u001b[38;5;241m.\u001b[39mexecute(prepared, (uuid\u001b[38;5;241m.\u001b[39muuid4(), uuid\u001b[38;5;241m.\u001b[39muuid4(), \u001b[38;5;124m\"\u001b[39m\u001b[38;5;124m2023-08-15\u001b[39m\u001b[38;5;124m\"\u001b[39m, \u001b[38;5;124m\"\u001b[39m\u001b[38;5;124mpending\u001b[39m\u001b[38;5;124m\"\u001b[39m)),\n\u001b[0;32m      7\u001b[0m session\u001b[38;5;241m.\u001b[39mexecute(prepared, (uuid\u001b[38;5;241m.\u001b[39muuid4(), uuid\u001b[38;5;241m.\u001b[39muuid4(), \u001b[38;5;124m\"\u001b[39m\u001b[38;5;124m2023-07-31\u001b[39m\u001b[38;5;124m\"\u001b[39m, \u001b[38;5;124m\"\u001b[39m\u001b[38;5;124mdone\u001b[39m\u001b[38;5;124m\"\u001b[39m)))\n",
      "File \u001b[1;32m~\\AppData\\Local\\Programs\\Python\\Python311\\Lib\\site-packages\\cassandra\\cluster.py:3091\u001b[0m, in \u001b[0;36mcassandra.cluster.Session.prepare\u001b[1;34m()\u001b[0m\n",
      "File \u001b[1;32m~\\AppData\\Local\\Programs\\Python\\Python311\\Lib\\site-packages\\cassandra\\cluster.py:3088\u001b[0m, in \u001b[0;36mcassandra.cluster.Session.prepare\u001b[1;34m()\u001b[0m\n",
      "File \u001b[1;32m~\\AppData\\Local\\Programs\\Python\\Python311\\Lib\\site-packages\\cassandra\\cluster.py:4920\u001b[0m, in \u001b[0;36mcassandra.cluster.ResponseFuture.result\u001b[1;34m()\u001b[0m\n",
      "\u001b[1;31mInvalidRequest\u001b[0m: Error from server: code=2200 [Invalid query] message=\"Undefined column name order_date in table ecommerce_keyspace.orders\""
     ]
    }
   ],
   "source": [
    "#Here not sure which one to use for order_id data when executing session.Also got error massage regarding order_date.\n",
    "insert_orders_query = \"INSERT INTO orders (order_id, user_id, order_date, status) VALUES (?, ?, ?,?)\"\n",
    "\n",
    "prepared = session.prepare(insert_orders_query)\n",
    "session.execute(prepared, (uuid.uuid4(), (uuid.uuid4(), \"2023-08-01\", \"done\")),\n",
    "session.execute(prepared, (uuid.uuid4(), uuid.uuid4(), \"2023-08-15\", \"pending\")),\n",
    "session.execute(prepared, (uuid.uuid4(), uuid.uuid4(), \"2023-07-31\", \"done\")))"
   ]
  },
  {
   "cell_type": "markdown",
   "id": "4ee5928b",
   "metadata": {},
   "source": [
    "Retrieve a user's order history using CQL (Cassandra Query Language)."
   ]
  },
  {
   "cell_type": "code",
   "execution_count": 375,
   "id": "9b9bb3f1",
   "metadata": {},
   "outputs": [
    {
     "ename": "NameError",
     "evalue": "name 'execute' is not defined",
     "output_type": "error",
     "traceback": [
      "\u001b[1;31m---------------------------------------------------------------------------\u001b[0m",
      "\u001b[1;31mNameError\u001b[0m                                 Traceback (most recent call last)",
      "Cell \u001b[1;32mIn[375], line 6\u001b[0m\n\u001b[0;32m      2\u001b[0m user_id \u001b[38;5;241m=\u001b[39m uuid\u001b[38;5;241m.\u001b[39mUUID\n\u001b[0;32m      3\u001b[0m order_history_query \u001b[38;5;241m=\u001b[39m \u001b[38;5;124m\"\"\"\u001b[39m\u001b[38;5;124m\"\u001b[39m\u001b[38;5;124mSELECT * FROM orders WHERE user_id = \u001b[39m\u001b[38;5;132;01m%(user_id)s\u001b[39;00m\u001b[38;5;124m ALLOW FILTERING\u001b[39m\u001b[38;5;124m\"\"\"\u001b[39m\n\u001b[1;32m----> 6\u001b[0m order_history \u001b[38;5;241m=\u001b[39m \u001b[43mexecute\u001b[49m\u001b[38;5;241m.\u001b[39mrun(order_history_query, {\u001b[38;5;124m\"\u001b[39m\u001b[38;5;124muser_id\u001b[39m\u001b[38;5;124m\"\u001b[39m:user_id})\n\u001b[0;32m      8\u001b[0m \u001b[38;5;28;01mfor\u001b[39;00m order \u001b[38;5;129;01min\u001b[39;00m order_history:\n\u001b[0;32m      9\u001b[0m     \u001b[38;5;28mprint\u001b[39m(\u001b[38;5;124m\"\u001b[39m\u001b[38;5;124morder_id:\u001b[39m\u001b[38;5;124m\"\u001b[39m, order[\u001b[38;5;124m\"\u001b[39m\u001b[38;5;124morder_id\u001b[39m\u001b[38;5;124m\"\u001b[39m])\n",
      "\u001b[1;31mNameError\u001b[0m: name 'execute' is not defined"
     ]
    }
   ],
   "source": [
    "session.row_factory = dict_factory\n",
    "user_id = uuid.UUID\n",
    "order_history_query = \"\"\"\"SELECT * FROM orders WHERE user_id = %(user_id)s ALLOW FILTERING\"\"\"\n",
    "\n",
    "\n",
    "order_history = execute.run(order_history_query, {\"user_id\":user_id})\n",
    "\n",
    "for order in order_history:\n",
    "    print(\"order_id:\", order[\"order_id\"])\n",
    "    print(\"order_date:\", order[\"order_date\"])\n",
    "    print(\"status:\", status[\"status\"])"
   ]
  },
  {
   "cell_type": "code",
   "execution_count": 377,
   "id": "6ffce312",
   "metadata": {},
   "outputs": [],
   "source": [
    "session.shutdown()\n",
    "cluster.shutdown()"
   ]
  },
  {
   "cell_type": "markdown",
   "id": "48afe0e6",
   "metadata": {},
   "source": [
    "3. Time-Series Data:\n",
    "    \n",
    "Design a schema to handle time-series data, such as IoT sensor readings. ---> NOT FINISHED"
   ]
  },
  {
   "cell_type": "code",
   "execution_count": null,
   "id": "ce1e22b4",
   "metadata": {},
   "outputs": [],
   "source": [
    "create_sensor_reading_query = \"\"\" CREATE TABLE IF NOT EXISTS sensor_readings (vehicle_id UUID, timestamp TIMESTAMP, speed DECIMAL\n",
    ")"
   ]
  },
  {
   "cell_type": "markdown",
   "id": "a9fe0c54",
   "metadata": {},
   "source": [
    "Insert and retrieve time-series data efficiently, using appropriate time-based partitioning. ---> NOT FINISHED"
   ]
  },
  {
   "cell_type": "code",
   "execution_count": null,
   "id": "839df357",
   "metadata": {},
   "outputs": [],
   "source": []
  },
  {
   "cell_type": "markdown",
   "id": "140697b7",
   "metadata": {},
   "source": [
    " NEO4J:\n",
    "Graph Creation:"
   ]
  },
  {
   "cell_type": "code",
   "execution_count": 418,
   "id": "5b7036c1",
   "metadata": {},
   "outputs": [],
   "source": [
    "from neo4j import GraphDatabase"
   ]
  },
  {
   "cell_type": "code",
   "execution_count": 419,
   "id": "72ec5db3",
   "metadata": {},
   "outputs": [],
   "source": [
    "uri = \"neo4j+ssc://14c452fc.databases.neo4j.io\"\n",
    "username = \"neo4j\"\n",
    "password = \"5sp0oCaFHPfmkckEPVLKb8Kg1rgbj7FuFN5HBH710YE\""
   ]
  },
  {
   "cell_type": "code",
   "execution_count": 420,
   "id": "e11be036",
   "metadata": {},
   "outputs": [],
   "source": [
    "driver = GraphDatabase.driver(uri,auth=(username,password))"
   ]
  },
  {
   "cell_type": "code",
   "execution_count": 421,
   "id": "1bceedc7",
   "metadata": {},
   "outputs": [],
   "source": [
    "cql_create = \"\"\"CREATE (jonathan:User { name: \"Jonathan\"}), \n",
    "(emily:User { name: \"Emily\"}),\n",
    "(tylor:User { name: \"Tylor\"}),\n",
    "(anabel:User { name: \"Anabel\"}),\n",
    "(jonathan)-[:FRIEND_OF]->(tylor),\n",
    "(tylor)-[:FRIEND_OF]->(anabel),\n",
    "(anabel)-[:FRIEND_OF]->(jonathan),\n",
    "(tylor)-[:FRIEND_OF]->(emily),\n",
    "(emily)-[:FRIEND_OF]->(jonathan),\n",
    "(anabel)-[:FRIEND_OF]->(jonathan),\n",
    "(item1:Item { name: \"Music\"}),\n",
    "(item2:Item { name: \"Traveling\"}),\n",
    "(tylor)-[:LIKES]->(item1),\n",
    "(jonathan)-[:LIKES]->(item1),\n",
    "(emily)-[:LIKES]->(item2),\n",
    "(anabel)-[:LIKES]->(item2)\"\"\"\n",
    "\n",
    "with driver.session() as session:\n",
    "    session.run(cql_create)"
   ]
  },
  {
   "cell_type": "markdown",
   "id": "6c1ad01f",
   "metadata": {},
   "source": [
    "2. Querying Graph Data:\n",
    "    \n",
    "Write a Cypher query to find all friends of a given user up to a certain depth (degree of separation).\n",
    "\n",
    "Retrieve common friends between two users in the graph.\n"
   ]
  },
  {
   "cell_type": "code",
   "execution_count": 444,
   "id": "613a2d2a",
   "metadata": {},
   "outputs": [
    {
     "ename": "NameError",
     "evalue": "name 'transaction' is not defined",
     "output_type": "error",
     "traceback": [
      "\u001b[1;31m---------------------------------------------------------------------------\u001b[0m",
      "\u001b[1;31mNameError\u001b[0m                                 Traceback (most recent call last)",
      "Cell \u001b[1;32mIn[444], line 7\u001b[0m\n\u001b[0;32m      1\u001b[0m \u001b[38;5;28;01mdef\u001b[39;00m \u001b[38;5;21mfind_friends\u001b[39m(transaction, username, depth):\n\u001b[0;32m      2\u001b[0m     prep_stmt \u001b[38;5;241m=\u001b[39m (\n\u001b[0;32m      3\u001b[0m         \u001b[38;5;124m\"\u001b[39m\u001b[38;5;124mMATCH (u1:User \u001b[39m\u001b[38;5;124m{\u001b[39m\u001b[38;5;124mname: $username})-[:FRIEND_OF*1...\u001b[39m\u001b[38;5;124m\"\u001b[39m \u001b[38;5;241m+\u001b[39m \u001b[38;5;28mstr\u001b[39m(depth) \u001b[38;5;241m+\u001b[39m \u001b[38;5;124m\"\u001b[39m\u001b[38;5;124m]->(f)\u001b[39m\u001b[38;5;124m\"\u001b[39m\n\u001b[0;32m      4\u001b[0m         \u001b[38;5;124m\"\u001b[39m\u001b[38;5;124mRETURN DISTINCT f.name\u001b[39m\u001b[38;5;124m\"\u001b[39m\n\u001b[0;32m      5\u001b[0m     )\n\u001b[1;32m----> 7\u001b[0m result \u001b[38;5;241m=\u001b[39m \u001b[43mtransaction\u001b[49m\u001b[38;5;241m.\u001b[39mrun(prep_stmt, username\u001b[38;5;241m=\u001b[39musername)\n\u001b[0;32m      8\u001b[0m \u001b[38;5;28;01mreturn\u001b[39;00m [record[\u001b[38;5;124m\"\u001b[39m\u001b[38;5;124mf.name\u001b[39m\u001b[38;5;124m\"\u001b[39m] \u001b[38;5;28;01mfor\u001b[39;00m record \u001b[38;5;129;01min\u001b[39;00m result]\n",
      "\u001b[1;31mNameError\u001b[0m: name 'transaction' is not defined"
     ]
    }
   ],
   "source": [
    "def find_friends(transaction, username, depth):\n",
    "    prep_stmt = (\n",
    "        \"MATCH (u1:User {name: $username})-[:FRIEND_OF*1...\" + str(depth) + \"]->(f)\"\n",
    "        \"RETURN DISTINCT f.name\"\n",
    "    )\n",
    "\n",
    "result = transaction.run(prep_stmt, username=username)\n",
    "return [record[\"f.name\"] for record in result]"
   ]
  },
  {
   "cell_type": "code",
   "execution_count": 445,
   "id": "2e2f99fe",
   "metadata": {},
   "outputs": [
    {
     "name": "stdout",
     "output_type": "stream",
     "text": [
      "None\n"
     ]
    }
   ],
   "source": [
    "with driver.session() as session:\n",
    "    print(find_friends(session, \"Jonathan\", 1))"
   ]
  },
  {
   "cell_type": "code",
   "execution_count": 446,
   "id": "04536713",
   "metadata": {},
   "outputs": [],
   "source": [
    "def find_mutual_friends(transaction, username1, username2):\n",
    "    result = transaction.run(\"MATCH (u1:User {name: $username1})-[:FRIEND_OF]->(f:User)<-[:FRIEND_OF]-(u2:User {name: $username2})\"\n",
    "                             \"RETURN DISTINCT f.name\", username1=username1, username2=username2)\n",
    "    return[record[\"f.name\"] for record in result]"
   ]
  },
  {
   "cell_type": "code",
   "execution_count": 447,
   "id": "1506a6ba",
   "metadata": {},
   "outputs": [
    {
     "name": "stdout",
     "output_type": "stream",
     "text": [
      "[]\n"
     ]
    }
   ],
   "source": [
    "with driver.session() as session:\n",
    "    print(find_mutual_friends(session, \"Jonathan\", \"Anabel\"))"
   ]
  },
  {
   "cell_type": "markdown",
   "id": "f7f30e91",
   "metadata": {},
   "source": [
    "3. Recommendation System:\n",
    "    \n",
    "Implement a basic recommendation system by finding users who have similar interests based on their interactions.\n",
    "\n",
    "Propose movies, books, or other items that a user might be interested in based on their connections' preferences.\n",
    "\n"
   ]
  },
  {
   "cell_type": "code",
   "execution_count": 448,
   "id": "d0dbe109",
   "metadata": {},
   "outputs": [],
   "source": [
    "def recommended_users(transaction, username):\n",
    "    result = transaction.run(\"MATCH (u1:User {name: $username})-[:FRIEND_OF]->(:User)-[:FRIEND_OF]->(u2:User)\"\n",
    "                            \"RETURN DISTINCT u2.name\", username=username)\n",
    "    return [record[\"u2.name\"] for record in result]"
   ]
  },
  {
   "cell_type": "code",
   "execution_count": 449,
   "id": "be0a8c58",
   "metadata": {},
   "outputs": [],
   "source": [
    "def interest_based(transaction,username):\n",
    "    result = transaction.run(\"MATCH (u1:User {name: $username})-[:FRIEND_OF]->(f:user)-[:LIKES]->(item)\"\n",
    "                            \" RETURN DISTINCT item.name\", username=username)\n",
    "    return [record[\"item.name\"] for record in result]"
   ]
  },
  {
   "cell_type": "code",
   "execution_count": 450,
   "id": "541b1646",
   "metadata": {},
   "outputs": [
    {
     "name": "stdout",
     "output_type": "stream",
     "text": [
      "['Tylor']\n",
      "[]\n"
     ]
    }
   ],
   "source": [
    "with driver.session() as session:\n",
    "    print(recommended_users(session, \"Emily\"))\n",
    "    print(interest_based(session, \"Jonathan\"))"
   ]
  },
  {
   "cell_type": "markdown",
   "id": "229b4a38",
   "metadata": {},
   "source": [
    "4. Pathfinding:\n",
    "\n",
    "Use graph algorithms in Neo4j to find the shortest path between two nodes in the graph."
   ]
  },
  {
   "cell_type": "code",
   "execution_count": 453,
   "id": "2f0e48bb",
   "metadata": {},
   "outputs": [],
   "source": [
    "def find_shortest_path(transaction,start_name, end_name):\n",
    "    result = transaction.run(\"MATCH (start:User {name:$start_name}),(end:User {name:$end_name}), path= SHORTESTPATH ((start)-[*]->(end)) RETURN nodes(path),relationships(path)\", start_name=start_name,end_name=end_name)\n",
    "    return [{\"nodes\":record[\"nodes(path)\"],\"relationships\":record[\"relationships(path)\"]} for record in result]"
   ]
  },
  {
   "cell_type": "code",
   "execution_count": 457,
   "id": "79dd7ef2",
   "metadata": {},
   "outputs": [],
   "source": [
    "with driver.session() as session:\n",
    "    result = session.execute_read(find_shortest_path,\"Jonathan\",\"Emily\")\n",
    "    nodes = result[0][\"nodes\"]\n",
    "    relationships = result[0][\"relationships\"]"
   ]
  },
  {
   "cell_type": "code",
   "execution_count": 458,
   "id": "63684732",
   "metadata": {},
   "outputs": [
    {
     "name": "stdout",
     "output_type": "stream",
     "text": [
      "Jonathan\n",
      "Tylor\n",
      "Emily\n"
     ]
    }
   ],
   "source": [
    "for node in nodes:\n",
    "    print(node.get(\"name\"))"
   ]
  },
  {
   "cell_type": "markdown",
   "id": "53323332",
   "metadata": {},
   "source": [
    "Find the path of mutual friends between two users. ---> NOT FINISHED"
   ]
  },
  {
   "cell_type": "code",
   "execution_count": null,
   "id": "2ef98a01",
   "metadata": {},
   "outputs": [],
   "source": []
  }
 ],
 "metadata": {
  "kernelspec": {
   "display_name": "Python 3 (ipykernel)",
   "language": "python",
   "name": "python3"
  },
  "language_info": {
   "codemirror_mode": {
    "name": "ipython",
    "version": 3
   },
   "file_extension": ".py",
   "mimetype": "text/x-python",
   "name": "python",
   "nbconvert_exporter": "python",
   "pygments_lexer": "ipython3",
   "version": "3.11.2"
  }
 },
 "nbformat": 4,
 "nbformat_minor": 5
}
