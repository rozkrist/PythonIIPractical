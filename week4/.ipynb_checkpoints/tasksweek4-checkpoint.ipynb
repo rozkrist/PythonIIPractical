{
 "cells": [
  {
   "cell_type": "markdown",
   "id": "06e48eac",
   "metadata": {},
   "source": [
    "Build the Linear regression model for:\n",
    "\n",
    "   a) Wine quality\n",
    "   \n",
    "   b) Select your own data"
   ]
  },
  {
   "cell_type": "markdown",
   "id": "a6135174",
   "metadata": {},
   "source": [
    "For both datasets:\n",
    "1. Calculate all the coeficients"
   ]
  },
  {
   "cell_type": "code",
   "execution_count": null,
   "id": "0e7c2115",
   "metadata": {},
   "outputs": [],
   "source": []
  },
  {
   "cell_type": "code",
   "execution_count": null,
   "id": "3392358c",
   "metadata": {},
   "outputs": [],
   "source": []
  },
  {
   "cell_type": "code",
   "execution_count": null,
   "id": "f27ecaf5",
   "metadata": {},
   "outputs": [],
   "source": []
  },
  {
   "cell_type": "markdown",
   "id": "d0a17907",
   "metadata": {},
   "source": [
    "2. Calculate p-values. \n",
    "   If any p-value is > 0.05, this means we are not sure if the coeficient is significant\n",
    "     (close to zero - does not have an impact on the target variable).\n",
    "     In this case - remove the factor from the Linear regression equation\n",
    "     and recalculate the results again.\n",
    "     Check p-values, repeat the procedure if needed."
   ]
  },
  {
   "cell_type": "code",
   "execution_count": null,
   "id": "68469122",
   "metadata": {},
   "outputs": [],
   "source": []
  },
  {
   "cell_type": "code",
   "execution_count": null,
   "id": "5a83d661",
   "metadata": {},
   "outputs": [],
   "source": []
  },
  {
   "cell_type": "code",
   "execution_count": null,
   "id": "96ef340a",
   "metadata": {},
   "outputs": [],
   "source": []
  },
  {
   "cell_type": "markdown",
   "id": "87ee8d37",
   "metadata": {},
   "source": [
    "3. Calculate rest of desriptive measures of the model(MSE, R-squared, etc.).\n",
    "   Based on them, provide the feeback on how good the model fits the data.\n",
    "   \n",
    "Calculate the predictions for some predictior values selected (up to you to select), provide the feedback.\n",
    "   \n",
    "Do a small analysis on the residuals (histogram, density plot and compare it to normal distribution plot)"
   ]
  },
  {
   "cell_type": "code",
   "execution_count": null,
   "id": "2bbd6ea1",
   "metadata": {},
   "outputs": [],
   "source": []
  },
  {
   "cell_type": "code",
   "execution_count": null,
   "id": "7c1aa82e",
   "metadata": {},
   "outputs": [],
   "source": []
  },
  {
   "cell_type": "code",
   "execution_count": null,
   "id": "58632a2f",
   "metadata": {},
   "outputs": [],
   "source": []
  },
  {
   "cell_type": "markdown",
   "id": "8496da04",
   "metadata": {},
   "source": [
    "4. If in point b) you selected 1 factor regression,\n",
    "   then display the model (regression line\n",
    "   in plot) (edited)\n"
   ]
  },
  {
   "cell_type": "code",
   "execution_count": null,
   "id": "4ebd18db",
   "metadata": {},
   "outputs": [],
   "source": []
  }
 ],
 "metadata": {
  "kernelspec": {
   "display_name": "Python 3 (ipykernel)",
   "language": "python",
   "name": "python3"
  },
  "language_info": {
   "codemirror_mode": {
    "name": "ipython",
    "version": 3
   },
   "file_extension": ".py",
   "mimetype": "text/x-python",
   "name": "python",
   "nbconvert_exporter": "python",
   "pygments_lexer": "ipython3",
   "version": "3.11.2"
  }
 },
 "nbformat": 4,
 "nbformat_minor": 5
}
