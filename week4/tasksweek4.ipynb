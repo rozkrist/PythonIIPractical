{
 "cells": [
  {
   "cell_type": "markdown",
   "id": "06e48eac",
   "metadata": {},
   "source": [
    "Build the Linear regression model for:\n",
    "\n",
    "a) winequality_red:"
   ]
  },
  {
   "cell_type": "code",
   "execution_count": 368,
   "id": "3392358c",
   "metadata": {},
   "outputs": [],
   "source": [
    "import statsmodels.api as sm\n",
    "import numpy as np\n",
    "from sklearn import datasets, linear_model\n",
    "import pandas as pa\n",
    "import matplotlib.pyplot as plt\n",
    "import scipy.stats as stats\n",
    "import seaborn as sns"
   ]
  },
  {
   "cell_type": "code",
   "execution_count": 369,
   "id": "92530639",
   "metadata": {},
   "outputs": [],
   "source": [
    "df_red = pa.read_csv(r\"C:\\Users\\krent\\OneDrive\\Desktop\\winequality-red.csv\", delimiter=\";\")"
   ]
  },
  {
   "cell_type": "code",
   "execution_count": 370,
   "id": "75731e70",
   "metadata": {
    "scrolled": true
   },
   "outputs": [
    {
     "data": {
      "text/html": [
       "<div>\n",
       "<style scoped>\n",
       "    .dataframe tbody tr th:only-of-type {\n",
       "        vertical-align: middle;\n",
       "    }\n",
       "\n",
       "    .dataframe tbody tr th {\n",
       "        vertical-align: top;\n",
       "    }\n",
       "\n",
       "    .dataframe thead th {\n",
       "        text-align: right;\n",
       "    }\n",
       "</style>\n",
       "<table border=\"1\" class=\"dataframe\">\n",
       "  <thead>\n",
       "    <tr style=\"text-align: right;\">\n",
       "      <th></th>\n",
       "      <th>fixed acidity</th>\n",
       "      <th>volatile acidity</th>\n",
       "      <th>citric acid</th>\n",
       "      <th>residual sugar</th>\n",
       "      <th>chlorides</th>\n",
       "      <th>free sulfur dioxide</th>\n",
       "      <th>total sulfur dioxide</th>\n",
       "      <th>density</th>\n",
       "      <th>pH</th>\n",
       "      <th>sulphates</th>\n",
       "      <th>alcohol</th>\n",
       "      <th>quality</th>\n",
       "    </tr>\n",
       "  </thead>\n",
       "  <tbody>\n",
       "    <tr>\n",
       "      <th>0</th>\n",
       "      <td>7.4</td>\n",
       "      <td>0.700</td>\n",
       "      <td>0.00</td>\n",
       "      <td>1.9</td>\n",
       "      <td>0.076</td>\n",
       "      <td>11.0</td>\n",
       "      <td>34.0</td>\n",
       "      <td>0.99780</td>\n",
       "      <td>3.51</td>\n",
       "      <td>0.56</td>\n",
       "      <td>9.4</td>\n",
       "      <td>5</td>\n",
       "    </tr>\n",
       "    <tr>\n",
       "      <th>1</th>\n",
       "      <td>7.8</td>\n",
       "      <td>0.880</td>\n",
       "      <td>0.00</td>\n",
       "      <td>2.6</td>\n",
       "      <td>0.098</td>\n",
       "      <td>25.0</td>\n",
       "      <td>67.0</td>\n",
       "      <td>0.99680</td>\n",
       "      <td>3.20</td>\n",
       "      <td>0.68</td>\n",
       "      <td>9.8</td>\n",
       "      <td>5</td>\n",
       "    </tr>\n",
       "    <tr>\n",
       "      <th>2</th>\n",
       "      <td>7.8</td>\n",
       "      <td>0.760</td>\n",
       "      <td>0.04</td>\n",
       "      <td>2.3</td>\n",
       "      <td>0.092</td>\n",
       "      <td>15.0</td>\n",
       "      <td>54.0</td>\n",
       "      <td>0.99700</td>\n",
       "      <td>3.26</td>\n",
       "      <td>0.65</td>\n",
       "      <td>9.8</td>\n",
       "      <td>5</td>\n",
       "    </tr>\n",
       "    <tr>\n",
       "      <th>3</th>\n",
       "      <td>11.2</td>\n",
       "      <td>0.280</td>\n",
       "      <td>0.56</td>\n",
       "      <td>1.9</td>\n",
       "      <td>0.075</td>\n",
       "      <td>17.0</td>\n",
       "      <td>60.0</td>\n",
       "      <td>0.99800</td>\n",
       "      <td>3.16</td>\n",
       "      <td>0.58</td>\n",
       "      <td>9.8</td>\n",
       "      <td>6</td>\n",
       "    </tr>\n",
       "    <tr>\n",
       "      <th>4</th>\n",
       "      <td>7.4</td>\n",
       "      <td>0.700</td>\n",
       "      <td>0.00</td>\n",
       "      <td>1.9</td>\n",
       "      <td>0.076</td>\n",
       "      <td>11.0</td>\n",
       "      <td>34.0</td>\n",
       "      <td>0.99780</td>\n",
       "      <td>3.51</td>\n",
       "      <td>0.56</td>\n",
       "      <td>9.4</td>\n",
       "      <td>5</td>\n",
       "    </tr>\n",
       "    <tr>\n",
       "      <th>...</th>\n",
       "      <td>...</td>\n",
       "      <td>...</td>\n",
       "      <td>...</td>\n",
       "      <td>...</td>\n",
       "      <td>...</td>\n",
       "      <td>...</td>\n",
       "      <td>...</td>\n",
       "      <td>...</td>\n",
       "      <td>...</td>\n",
       "      <td>...</td>\n",
       "      <td>...</td>\n",
       "      <td>...</td>\n",
       "    </tr>\n",
       "    <tr>\n",
       "      <th>1594</th>\n",
       "      <td>6.2</td>\n",
       "      <td>0.600</td>\n",
       "      <td>0.08</td>\n",
       "      <td>2.0</td>\n",
       "      <td>0.090</td>\n",
       "      <td>32.0</td>\n",
       "      <td>44.0</td>\n",
       "      <td>0.99490</td>\n",
       "      <td>3.45</td>\n",
       "      <td>0.58</td>\n",
       "      <td>10.5</td>\n",
       "      <td>5</td>\n",
       "    </tr>\n",
       "    <tr>\n",
       "      <th>1595</th>\n",
       "      <td>5.9</td>\n",
       "      <td>0.550</td>\n",
       "      <td>0.10</td>\n",
       "      <td>2.2</td>\n",
       "      <td>0.062</td>\n",
       "      <td>39.0</td>\n",
       "      <td>51.0</td>\n",
       "      <td>0.99512</td>\n",
       "      <td>3.52</td>\n",
       "      <td>0.76</td>\n",
       "      <td>11.2</td>\n",
       "      <td>6</td>\n",
       "    </tr>\n",
       "    <tr>\n",
       "      <th>1596</th>\n",
       "      <td>6.3</td>\n",
       "      <td>0.510</td>\n",
       "      <td>0.13</td>\n",
       "      <td>2.3</td>\n",
       "      <td>0.076</td>\n",
       "      <td>29.0</td>\n",
       "      <td>40.0</td>\n",
       "      <td>0.99574</td>\n",
       "      <td>3.42</td>\n",
       "      <td>0.75</td>\n",
       "      <td>11.0</td>\n",
       "      <td>6</td>\n",
       "    </tr>\n",
       "    <tr>\n",
       "      <th>1597</th>\n",
       "      <td>5.9</td>\n",
       "      <td>0.645</td>\n",
       "      <td>0.12</td>\n",
       "      <td>2.0</td>\n",
       "      <td>0.075</td>\n",
       "      <td>32.0</td>\n",
       "      <td>44.0</td>\n",
       "      <td>0.99547</td>\n",
       "      <td>3.57</td>\n",
       "      <td>0.71</td>\n",
       "      <td>10.2</td>\n",
       "      <td>5</td>\n",
       "    </tr>\n",
       "    <tr>\n",
       "      <th>1598</th>\n",
       "      <td>6.0</td>\n",
       "      <td>0.310</td>\n",
       "      <td>0.47</td>\n",
       "      <td>3.6</td>\n",
       "      <td>0.067</td>\n",
       "      <td>18.0</td>\n",
       "      <td>42.0</td>\n",
       "      <td>0.99549</td>\n",
       "      <td>3.39</td>\n",
       "      <td>0.66</td>\n",
       "      <td>11.0</td>\n",
       "      <td>6</td>\n",
       "    </tr>\n",
       "  </tbody>\n",
       "</table>\n",
       "<p>1599 rows × 12 columns</p>\n",
       "</div>"
      ],
      "text/plain": [
       "      fixed acidity  volatile acidity  citric acid  residual sugar  chlorides   \n",
       "0               7.4             0.700         0.00             1.9      0.076  \\\n",
       "1               7.8             0.880         0.00             2.6      0.098   \n",
       "2               7.8             0.760         0.04             2.3      0.092   \n",
       "3              11.2             0.280         0.56             1.9      0.075   \n",
       "4               7.4             0.700         0.00             1.9      0.076   \n",
       "...             ...               ...          ...             ...        ...   \n",
       "1594            6.2             0.600         0.08             2.0      0.090   \n",
       "1595            5.9             0.550         0.10             2.2      0.062   \n",
       "1596            6.3             0.510         0.13             2.3      0.076   \n",
       "1597            5.9             0.645         0.12             2.0      0.075   \n",
       "1598            6.0             0.310         0.47             3.6      0.067   \n",
       "\n",
       "      free sulfur dioxide  total sulfur dioxide  density    pH  sulphates   \n",
       "0                    11.0                  34.0  0.99780  3.51       0.56  \\\n",
       "1                    25.0                  67.0  0.99680  3.20       0.68   \n",
       "2                    15.0                  54.0  0.99700  3.26       0.65   \n",
       "3                    17.0                  60.0  0.99800  3.16       0.58   \n",
       "4                    11.0                  34.0  0.99780  3.51       0.56   \n",
       "...                   ...                   ...      ...   ...        ...   \n",
       "1594                 32.0                  44.0  0.99490  3.45       0.58   \n",
       "1595                 39.0                  51.0  0.99512  3.52       0.76   \n",
       "1596                 29.0                  40.0  0.99574  3.42       0.75   \n",
       "1597                 32.0                  44.0  0.99547  3.57       0.71   \n",
       "1598                 18.0                  42.0  0.99549  3.39       0.66   \n",
       "\n",
       "      alcohol  quality  \n",
       "0         9.4        5  \n",
       "1         9.8        5  \n",
       "2         9.8        5  \n",
       "3         9.8        6  \n",
       "4         9.4        5  \n",
       "...       ...      ...  \n",
       "1594     10.5        5  \n",
       "1595     11.2        6  \n",
       "1596     11.0        6  \n",
       "1597     10.2        5  \n",
       "1598     11.0        6  \n",
       "\n",
       "[1599 rows x 12 columns]"
      ]
     },
     "execution_count": 370,
     "metadata": {},
     "output_type": "execute_result"
    }
   ],
   "source": [
    "df_red"
   ]
  },
  {
   "cell_type": "markdown",
   "id": "dc6b48ea",
   "metadata": {},
   "source": [
    "1. Calculate all the coeficients"
   ]
  },
  {
   "cell_type": "code",
   "execution_count": 371,
   "id": "14359a0f",
   "metadata": {},
   "outputs": [],
   "source": [
    "x = df_red[[\"fixed acidity\", \"volatile acidity\", \"citric acid\", \"residual sugar\", \"chlorides\", \"free sulfur dioxide\", \"density\", \"pH\", \"sulphates\", \"alcohol\"]]\n",
    "y = df_red[\"quality\"]"
   ]
  },
  {
   "cell_type": "code",
   "execution_count": 372,
   "id": "abd29c72",
   "metadata": {},
   "outputs": [
    {
     "data": {
      "text/plain": [
       "const                  28.750677\n",
       "fixed acidity           0.051927\n",
       "volatile acidity       -1.199746\n",
       "citric acid            -0.357268\n",
       "residual sugar          0.013892\n",
       "chlorides              -1.610924\n",
       "free sulfur dioxide    -0.002087\n",
       "density               -25.516181\n",
       "pH                     -0.247224\n",
       "sulphates               0.899400\n",
       "alcohol                 0.286096\n",
       "dtype: float64"
      ]
     },
     "execution_count": 372,
     "metadata": {},
     "output_type": "execute_result"
    }
   ],
   "source": [
    "x = sm.add_constant(x)\n",
    "model = sm.OLS(y,x)\n",
    "results = model.fit()\n",
    "results.params"
   ]
  },
  {
   "cell_type": "code",
   "execution_count": 373,
   "id": "e0cf21d8",
   "metadata": {
    "scrolled": true
   },
   "outputs": [
    {
     "data": {
      "text/plain": [
       "const                  1.766012e-01\n",
       "fixed acidity          4.103082e-02\n",
       "volatile acidity       3.264173e-23\n",
       "citric acid            1.243217e-02\n",
       "residual sugar         3.571522e-01\n",
       "chlorides              1.192226e-04\n",
       "free sulfur dioxide    2.020651e-01\n",
       "density                2.397175e-01\n",
       "pH                     1.912438e-01\n",
       "sulphates              9.292435e-15\n",
       "alcohol                3.503190e-26\n",
       "dtype: float64"
      ]
     },
     "execution_count": 373,
     "metadata": {},
     "output_type": "execute_result"
    }
   ],
   "source": [
    "results.pvalues"
   ]
  },
  {
   "cell_type": "code",
   "execution_count": 374,
   "id": "0e62d435",
   "metadata": {},
   "outputs": [
    {
     "data": {
      "text/html": [
       "<table class=\"simpletable\">\n",
       "<caption>OLS Regression Results</caption>\n",
       "<tr>\n",
       "  <th>Dep. Variable:</th>         <td>quality</td>     <th>  R-squared:         </th> <td>   0.352</td> \n",
       "</tr>\n",
       "<tr>\n",
       "  <th>Model:</th>                   <td>OLS</td>       <th>  Adj. R-squared:    </th> <td>   0.348</td> \n",
       "</tr>\n",
       "<tr>\n",
       "  <th>Method:</th>             <td>Least Squares</td>  <th>  F-statistic:       </th> <td>   86.44</td> \n",
       "</tr>\n",
       "<tr>\n",
       "  <th>Date:</th>             <td>Mon, 17 Jul 2023</td> <th>  Prob (F-statistic):</th> <td>3.63e-142</td>\n",
       "</tr>\n",
       "<tr>\n",
       "  <th>Time:</th>                 <td>15:36:00</td>     <th>  Log-Likelihood:    </th> <td> -1579.2</td> \n",
       "</tr>\n",
       "<tr>\n",
       "  <th>No. Observations:</th>      <td>  1599</td>      <th>  AIC:               </th> <td>   3180.</td> \n",
       "</tr>\n",
       "<tr>\n",
       "  <th>Df Residuals:</th>          <td>  1588</td>      <th>  BIC:               </th> <td>   3240.</td> \n",
       "</tr>\n",
       "<tr>\n",
       "  <th>Df Model:</th>              <td>    10</td>      <th>                     </th>     <td> </td>    \n",
       "</tr>\n",
       "<tr>\n",
       "  <th>Covariance Type:</th>      <td>nonrobust</td>    <th>                     </th>     <td> </td>    \n",
       "</tr>\n",
       "</table>\n",
       "<table class=\"simpletable\">\n",
       "<tr>\n",
       "           <td></td>              <th>coef</th>     <th>std err</th>      <th>t</th>      <th>P>|t|</th>  <th>[0.025</th>    <th>0.975]</th>  \n",
       "</tr>\n",
       "<tr>\n",
       "  <th>const</th>               <td>   28.7507</td> <td>   21.267</td> <td>    1.352</td> <td> 0.177</td> <td>  -12.964</td> <td>   70.465</td>\n",
       "</tr>\n",
       "<tr>\n",
       "  <th>fixed acidity</th>       <td>    0.0519</td> <td>    0.025</td> <td>    2.045</td> <td> 0.041</td> <td>    0.002</td> <td>    0.102</td>\n",
       "</tr>\n",
       "<tr>\n",
       "  <th>volatile acidity</th>    <td>   -1.1997</td> <td>    0.119</td> <td>  -10.082</td> <td> 0.000</td> <td>   -1.433</td> <td>   -0.966</td>\n",
       "</tr>\n",
       "<tr>\n",
       "  <th>citric acid</th>         <td>   -0.3573</td> <td>    0.143</td> <td>   -2.502</td> <td> 0.012</td> <td>   -0.637</td> <td>   -0.077</td>\n",
       "</tr>\n",
       "<tr>\n",
       "  <th>residual sugar</th>      <td>    0.0139</td> <td>    0.015</td> <td>    0.921</td> <td> 0.357</td> <td>   -0.016</td> <td>    0.043</td>\n",
       "</tr>\n",
       "<tr>\n",
       "  <th>chlorides</th>           <td>   -1.6109</td> <td>    0.418</td> <td>   -3.857</td> <td> 0.000</td> <td>   -2.430</td> <td>   -0.792</td>\n",
       "</tr>\n",
       "<tr>\n",
       "  <th>free sulfur dioxide</th> <td>   -0.0021</td> <td>    0.002</td> <td>   -1.276</td> <td> 0.202</td> <td>   -0.005</td> <td>    0.001</td>\n",
       "</tr>\n",
       "<tr>\n",
       "  <th>density</th>             <td>  -25.5162</td> <td>   21.695</td> <td>   -1.176</td> <td> 0.240</td> <td>  -68.070</td> <td>   17.038</td>\n",
       "</tr>\n",
       "<tr>\n",
       "  <th>pH</th>                  <td>   -0.2472</td> <td>    0.189</td> <td>   -1.307</td> <td> 0.191</td> <td>   -0.618</td> <td>    0.124</td>\n",
       "</tr>\n",
       "<tr>\n",
       "  <th>sulphates</th>           <td>    0.8994</td> <td>    0.115</td> <td>    7.824</td> <td> 0.000</td> <td>    0.674</td> <td>    1.125</td>\n",
       "</tr>\n",
       "<tr>\n",
       "  <th>alcohol</th>             <td>    0.2861</td> <td>    0.027</td> <td>   10.776</td> <td> 0.000</td> <td>    0.234</td> <td>    0.338</td>\n",
       "</tr>\n",
       "</table>\n",
       "<table class=\"simpletable\">\n",
       "<tr>\n",
       "  <th>Omnibus:</th>       <td>24.508</td> <th>  Durbin-Watson:     </th> <td>   1.749</td>\n",
       "</tr>\n",
       "<tr>\n",
       "  <th>Prob(Omnibus):</th> <td> 0.000</td> <th>  Jarque-Bera (JB):  </th> <td>  36.999</td>\n",
       "</tr>\n",
       "<tr>\n",
       "  <th>Skew:</th>          <td>-0.144</td> <th>  Prob(JB):          </th> <td>9.24e-09</td>\n",
       "</tr>\n",
       "<tr>\n",
       "  <th>Kurtosis:</th>      <td> 3.687</td> <th>  Cond. No.          </th> <td>4.23e+04</td>\n",
       "</tr>\n",
       "</table><br/><br/>Notes:<br/>[1] Standard Errors assume that the covariance matrix of the errors is correctly specified.<br/>[2] The condition number is large, 4.23e+04. This might indicate that there are<br/>strong multicollinearity or other numerical problems."
      ],
      "text/latex": [
       "\\begin{center}\n",
       "\\begin{tabular}{lclc}\n",
       "\\toprule\n",
       "\\textbf{Dep. Variable:}      &     quality      & \\textbf{  R-squared:         } &     0.352   \\\\\n",
       "\\textbf{Model:}              &       OLS        & \\textbf{  Adj. R-squared:    } &     0.348   \\\\\n",
       "\\textbf{Method:}             &  Least Squares   & \\textbf{  F-statistic:       } &     86.44   \\\\\n",
       "\\textbf{Date:}               & Mon, 17 Jul 2023 & \\textbf{  Prob (F-statistic):} & 3.63e-142   \\\\\n",
       "\\textbf{Time:}               &     15:36:00     & \\textbf{  Log-Likelihood:    } &   -1579.2   \\\\\n",
       "\\textbf{No. Observations:}   &        1599      & \\textbf{  AIC:               } &     3180.   \\\\\n",
       "\\textbf{Df Residuals:}       &        1588      & \\textbf{  BIC:               } &     3240.   \\\\\n",
       "\\textbf{Df Model:}           &          10      & \\textbf{                     } &             \\\\\n",
       "\\textbf{Covariance Type:}    &    nonrobust     & \\textbf{                     } &             \\\\\n",
       "\\bottomrule\n",
       "\\end{tabular}\n",
       "\\begin{tabular}{lcccccc}\n",
       "                             & \\textbf{coef} & \\textbf{std err} & \\textbf{t} & \\textbf{P$> |$t$|$} & \\textbf{[0.025} & \\textbf{0.975]}  \\\\\n",
       "\\midrule\n",
       "\\textbf{const}               &      28.7507  &       21.267     &     1.352  &         0.177        &      -12.964    &       70.465     \\\\\n",
       "\\textbf{fixed acidity}       &       0.0519  &        0.025     &     2.045  &         0.041        &        0.002    &        0.102     \\\\\n",
       "\\textbf{volatile acidity}    &      -1.1997  &        0.119     &   -10.082  &         0.000        &       -1.433    &       -0.966     \\\\\n",
       "\\textbf{citric acid}         &      -0.3573  &        0.143     &    -2.502  &         0.012        &       -0.637    &       -0.077     \\\\\n",
       "\\textbf{residual sugar}      &       0.0139  &        0.015     &     0.921  &         0.357        &       -0.016    &        0.043     \\\\\n",
       "\\textbf{chlorides}           &      -1.6109  &        0.418     &    -3.857  &         0.000        &       -2.430    &       -0.792     \\\\\n",
       "\\textbf{free sulfur dioxide} &      -0.0021  &        0.002     &    -1.276  &         0.202        &       -0.005    &        0.001     \\\\\n",
       "\\textbf{density}             &     -25.5162  &       21.695     &    -1.176  &         0.240        &      -68.070    &       17.038     \\\\\n",
       "\\textbf{pH}                  &      -0.2472  &        0.189     &    -1.307  &         0.191        &       -0.618    &        0.124     \\\\\n",
       "\\textbf{sulphates}           &       0.8994  &        0.115     &     7.824  &         0.000        &        0.674    &        1.125     \\\\\n",
       "\\textbf{alcohol}             &       0.2861  &        0.027     &    10.776  &         0.000        &        0.234    &        0.338     \\\\\n",
       "\\bottomrule\n",
       "\\end{tabular}\n",
       "\\begin{tabular}{lclc}\n",
       "\\textbf{Omnibus:}       & 24.508 & \\textbf{  Durbin-Watson:     } &    1.749  \\\\\n",
       "\\textbf{Prob(Omnibus):} &  0.000 & \\textbf{  Jarque-Bera (JB):  } &   36.999  \\\\\n",
       "\\textbf{Skew:}          & -0.144 & \\textbf{  Prob(JB):          } & 9.24e-09  \\\\\n",
       "\\textbf{Kurtosis:}      &  3.687 & \\textbf{  Cond. No.          } & 4.23e+04  \\\\\n",
       "\\bottomrule\n",
       "\\end{tabular}\n",
       "%\\caption{OLS Regression Results}\n",
       "\\end{center}\n",
       "\n",
       "Notes: \\newline\n",
       " [1] Standard Errors assume that the covariance matrix of the errors is correctly specified. \\newline\n",
       " [2] The condition number is large, 4.23e+04. This might indicate that there are \\newline\n",
       " strong multicollinearity or other numerical problems."
      ],
      "text/plain": [
       "<class 'statsmodels.iolib.summary.Summary'>\n",
       "\"\"\"\n",
       "                            OLS Regression Results                            \n",
       "==============================================================================\n",
       "Dep. Variable:                quality   R-squared:                       0.352\n",
       "Model:                            OLS   Adj. R-squared:                  0.348\n",
       "Method:                 Least Squares   F-statistic:                     86.44\n",
       "Date:                Mon, 17 Jul 2023   Prob (F-statistic):          3.63e-142\n",
       "Time:                        15:36:00   Log-Likelihood:                -1579.2\n",
       "No. Observations:                1599   AIC:                             3180.\n",
       "Df Residuals:                    1588   BIC:                             3240.\n",
       "Df Model:                          10                                         \n",
       "Covariance Type:            nonrobust                                         \n",
       "=======================================================================================\n",
       "                          coef    std err          t      P>|t|      [0.025      0.975]\n",
       "---------------------------------------------------------------------------------------\n",
       "const                  28.7507     21.267      1.352      0.177     -12.964      70.465\n",
       "fixed acidity           0.0519      0.025      2.045      0.041       0.002       0.102\n",
       "volatile acidity       -1.1997      0.119    -10.082      0.000      -1.433      -0.966\n",
       "citric acid            -0.3573      0.143     -2.502      0.012      -0.637      -0.077\n",
       "residual sugar          0.0139      0.015      0.921      0.357      -0.016       0.043\n",
       "chlorides              -1.6109      0.418     -3.857      0.000      -2.430      -0.792\n",
       "free sulfur dioxide    -0.0021      0.002     -1.276      0.202      -0.005       0.001\n",
       "density               -25.5162     21.695     -1.176      0.240     -68.070      17.038\n",
       "pH                     -0.2472      0.189     -1.307      0.191      -0.618       0.124\n",
       "sulphates               0.8994      0.115      7.824      0.000       0.674       1.125\n",
       "alcohol                 0.2861      0.027     10.776      0.000       0.234       0.338\n",
       "==============================================================================\n",
       "Omnibus:                       24.508   Durbin-Watson:                   1.749\n",
       "Prob(Omnibus):                  0.000   Jarque-Bera (JB):               36.999\n",
       "Skew:                          -0.144   Prob(JB):                     9.24e-09\n",
       "Kurtosis:                       3.687   Cond. No.                     4.23e+04\n",
       "==============================================================================\n",
       "\n",
       "Notes:\n",
       "[1] Standard Errors assume that the covariance matrix of the errors is correctly specified.\n",
       "[2] The condition number is large, 4.23e+04. This might indicate that there are\n",
       "strong multicollinearity or other numerical problems.\n",
       "\"\"\""
      ]
     },
     "execution_count": 374,
     "metadata": {},
     "output_type": "execute_result"
    }
   ],
   "source": [
    "results.summary()"
   ]
  },
  {
   "cell_type": "markdown",
   "id": "b6b4c67b",
   "metadata": {},
   "source": [
    "2. Calculate p-values. \n",
    "   If any p-value is > 0.05, this means we are not sure if the coeficient is significant\n",
    "     (close to zero - does not have an impact on the target variable).\n",
    "     In this case - remove the factor from the Linear regression equation\n",
    "     and recalculate the results again.\n",
    "     Check p-values, repeat the procedure if needed."
   ]
  },
  {
   "cell_type": "code",
   "execution_count": 375,
   "id": "2d029d41",
   "metadata": {},
   "outputs": [],
   "source": [
    "check_pvalues = results.pvalues[results.pvalues <= 0.05].index.tolist()\n",
    "if len(check_pvalues)<x.shape[1]:\n",
    "    x=x[check_pvalues]"
   ]
  },
  {
   "cell_type": "code",
   "execution_count": 376,
   "id": "90e95800",
   "metadata": {},
   "outputs": [
    {
     "data": {
      "text/plain": [
       "fixed acidity        7.711929e-21\n",
       "volatile acidity     2.531248e-13\n",
       "citric acid          2.073039e-05\n",
       "chlorides            1.569382e-01\n",
       "sulphates            5.682846e-20\n",
       "alcohol             9.316343e-303\n",
       "dtype: float64"
      ]
     },
     "execution_count": 376,
     "metadata": {},
     "output_type": "execute_result"
    }
   ],
   "source": [
    "model = sm.OLS(y,x)\n",
    "results = model.fit()\n",
    "results.pvalues"
   ]
  },
  {
   "cell_type": "code",
   "execution_count": 377,
   "id": "4131125b",
   "metadata": {},
   "outputs": [
    {
     "data": {
      "text/html": [
       "<table class=\"simpletable\">\n",
       "<caption>OLS Regression Results</caption>\n",
       "<tr>\n",
       "  <th>Dep. Variable:</th>         <td>quality</td>     <th>  R-squared (uncentered):</th>      <td>   0.986</td> \n",
       "</tr>\n",
       "<tr>\n",
       "  <th>Model:</th>                   <td>OLS</td>       <th>  Adj. R-squared (uncentered):</th> <td>   0.986</td> \n",
       "</tr>\n",
       "<tr>\n",
       "  <th>Method:</th>             <td>Least Squares</td>  <th>  F-statistic:       </th>          <td>1.874e+04</td>\n",
       "</tr>\n",
       "<tr>\n",
       "  <th>Date:</th>             <td>Mon, 17 Jul 2023</td> <th>  Prob (F-statistic):</th>           <td>  0.00</td>  \n",
       "</tr>\n",
       "<tr>\n",
       "  <th>Time:</th>                 <td>15:36:05</td>     <th>  Log-Likelihood:    </th>          <td> -1635.6</td> \n",
       "</tr>\n",
       "<tr>\n",
       "  <th>No. Observations:</th>      <td>  1599</td>      <th>  AIC:               </th>          <td>   3283.</td> \n",
       "</tr>\n",
       "<tr>\n",
       "  <th>Df Residuals:</th>          <td>  1593</td>      <th>  BIC:               </th>          <td>   3315.</td> \n",
       "</tr>\n",
       "<tr>\n",
       "  <th>Df Model:</th>              <td>     6</td>      <th>                     </th>              <td> </td>    \n",
       "</tr>\n",
       "<tr>\n",
       "  <th>Covariance Type:</th>      <td>nonrobust</td>    <th>                     </th>              <td> </td>    \n",
       "</tr>\n",
       "</table>\n",
       "<table class=\"simpletable\">\n",
       "<tr>\n",
       "          <td></td>            <th>coef</th>     <th>std err</th>      <th>t</th>      <th>P>|t|</th>  <th>[0.025</th>    <th>0.975]</th>  \n",
       "</tr>\n",
       "<tr>\n",
       "  <th>fixed acidity</th>    <td>    0.1142</td> <td>    0.012</td> <td>    9.495</td> <td> 0.000</td> <td>    0.091</td> <td>    0.138</td>\n",
       "</tr>\n",
       "<tr>\n",
       "  <th>volatile acidity</th> <td>   -0.8414</td> <td>    0.114</td> <td>   -7.380</td> <td> 0.000</td> <td>   -1.065</td> <td>   -0.618</td>\n",
       "</tr>\n",
       "<tr>\n",
       "  <th>citric acid</th>      <td>   -0.6123</td> <td>    0.143</td> <td>   -4.270</td> <td> 0.000</td> <td>   -0.894</td> <td>   -0.331</td>\n",
       "</tr>\n",
       "<tr>\n",
       "  <th>chlorides</th>        <td>   -0.5843</td> <td>    0.413</td> <td>   -1.416</td> <td> 0.157</td> <td>   -1.394</td> <td>    0.225</td>\n",
       "</tr>\n",
       "<tr>\n",
       "  <th>sulphates</th>        <td>    1.0460</td> <td>    0.113</td> <td>    9.273</td> <td> 0.000</td> <td>    0.825</td> <td>    1.267</td>\n",
       "</tr>\n",
       "<tr>\n",
       "  <th>alcohol</th>          <td>    0.4458</td> <td>    0.009</td> <td>   46.946</td> <td> 0.000</td> <td>    0.427</td> <td>    0.464</td>\n",
       "</tr>\n",
       "</table>\n",
       "<table class=\"simpletable\">\n",
       "<tr>\n",
       "  <th>Omnibus:</th>       <td>70.244</td> <th>  Durbin-Watson:     </th> <td>   1.738</td>\n",
       "</tr>\n",
       "<tr>\n",
       "  <th>Prob(Omnibus):</th> <td> 0.000</td> <th>  Jarque-Bera (JB):  </th> <td> 119.690</td>\n",
       "</tr>\n",
       "<tr>\n",
       "  <th>Skew:</th>          <td>-0.351</td> <th>  Prob(JB):          </th> <td>1.02e-26</td>\n",
       "</tr>\n",
       "<tr>\n",
       "  <th>Kurtosis:</th>      <td> 4.142</td> <th>  Cond. No.          </th> <td>    334.</td>\n",
       "</tr>\n",
       "</table><br/><br/>Notes:<br/>[1] R² is computed without centering (uncentered) since the model does not contain a constant.<br/>[2] Standard Errors assume that the covariance matrix of the errors is correctly specified."
      ],
      "text/latex": [
       "\\begin{center}\n",
       "\\begin{tabular}{lclc}\n",
       "\\toprule\n",
       "\\textbf{Dep. Variable:}    &     quality      & \\textbf{  R-squared (uncentered):}      &     0.986   \\\\\n",
       "\\textbf{Model:}            &       OLS        & \\textbf{  Adj. R-squared (uncentered):} &     0.986   \\\\\n",
       "\\textbf{Method:}           &  Least Squares   & \\textbf{  F-statistic:       }          & 1.874e+04   \\\\\n",
       "\\textbf{Date:}             & Mon, 17 Jul 2023 & \\textbf{  Prob (F-statistic):}          &     0.00    \\\\\n",
       "\\textbf{Time:}             &     15:36:05     & \\textbf{  Log-Likelihood:    }          &   -1635.6   \\\\\n",
       "\\textbf{No. Observations:} &        1599      & \\textbf{  AIC:               }          &     3283.   \\\\\n",
       "\\textbf{Df Residuals:}     &        1593      & \\textbf{  BIC:               }          &     3315.   \\\\\n",
       "\\textbf{Df Model:}         &           6      & \\textbf{                     }          &             \\\\\n",
       "\\textbf{Covariance Type:}  &    nonrobust     & \\textbf{                     }          &             \\\\\n",
       "\\bottomrule\n",
       "\\end{tabular}\n",
       "\\begin{tabular}{lcccccc}\n",
       "                          & \\textbf{coef} & \\textbf{std err} & \\textbf{t} & \\textbf{P$> |$t$|$} & \\textbf{[0.025} & \\textbf{0.975]}  \\\\\n",
       "\\midrule\n",
       "\\textbf{fixed acidity}    &       0.1142  &        0.012     &     9.495  &         0.000        &        0.091    &        0.138     \\\\\n",
       "\\textbf{volatile acidity} &      -0.8414  &        0.114     &    -7.380  &         0.000        &       -1.065    &       -0.618     \\\\\n",
       "\\textbf{citric acid}      &      -0.6123  &        0.143     &    -4.270  &         0.000        &       -0.894    &       -0.331     \\\\\n",
       "\\textbf{chlorides}        &      -0.5843  &        0.413     &    -1.416  &         0.157        &       -1.394    &        0.225     \\\\\n",
       "\\textbf{sulphates}        &       1.0460  &        0.113     &     9.273  &         0.000        &        0.825    &        1.267     \\\\\n",
       "\\textbf{alcohol}          &       0.4458  &        0.009     &    46.946  &         0.000        &        0.427    &        0.464     \\\\\n",
       "\\bottomrule\n",
       "\\end{tabular}\n",
       "\\begin{tabular}{lclc}\n",
       "\\textbf{Omnibus:}       & 70.244 & \\textbf{  Durbin-Watson:     } &    1.738  \\\\\n",
       "\\textbf{Prob(Omnibus):} &  0.000 & \\textbf{  Jarque-Bera (JB):  } &  119.690  \\\\\n",
       "\\textbf{Skew:}          & -0.351 & \\textbf{  Prob(JB):          } & 1.02e-26  \\\\\n",
       "\\textbf{Kurtosis:}      &  4.142 & \\textbf{  Cond. No.          } &     334.  \\\\\n",
       "\\bottomrule\n",
       "\\end{tabular}\n",
       "%\\caption{OLS Regression Results}\n",
       "\\end{center}\n",
       "\n",
       "Notes: \\newline\n",
       " [1] R² is computed without centering (uncentered) since the model does not contain a constant. \\newline\n",
       " [2] Standard Errors assume that the covariance matrix of the errors is correctly specified."
      ],
      "text/plain": [
       "<class 'statsmodels.iolib.summary.Summary'>\n",
       "\"\"\"\n",
       "                                 OLS Regression Results                                \n",
       "=======================================================================================\n",
       "Dep. Variable:                quality   R-squared (uncentered):                   0.986\n",
       "Model:                            OLS   Adj. R-squared (uncentered):              0.986\n",
       "Method:                 Least Squares   F-statistic:                          1.874e+04\n",
       "Date:                Mon, 17 Jul 2023   Prob (F-statistic):                        0.00\n",
       "Time:                        15:36:05   Log-Likelihood:                         -1635.6\n",
       "No. Observations:                1599   AIC:                                      3283.\n",
       "Df Residuals:                    1593   BIC:                                      3315.\n",
       "Df Model:                           6                                                  \n",
       "Covariance Type:            nonrobust                                                  \n",
       "====================================================================================\n",
       "                       coef    std err          t      P>|t|      [0.025      0.975]\n",
       "------------------------------------------------------------------------------------\n",
       "fixed acidity        0.1142      0.012      9.495      0.000       0.091       0.138\n",
       "volatile acidity    -0.8414      0.114     -7.380      0.000      -1.065      -0.618\n",
       "citric acid         -0.6123      0.143     -4.270      0.000      -0.894      -0.331\n",
       "chlorides           -0.5843      0.413     -1.416      0.157      -1.394       0.225\n",
       "sulphates            1.0460      0.113      9.273      0.000       0.825       1.267\n",
       "alcohol              0.4458      0.009     46.946      0.000       0.427       0.464\n",
       "==============================================================================\n",
       "Omnibus:                       70.244   Durbin-Watson:                   1.738\n",
       "Prob(Omnibus):                  0.000   Jarque-Bera (JB):              119.690\n",
       "Skew:                          -0.351   Prob(JB):                     1.02e-26\n",
       "Kurtosis:                       4.142   Cond. No.                         334.\n",
       "==============================================================================\n",
       "\n",
       "Notes:\n",
       "[1] R² is computed without centering (uncentered) since the model does not contain a constant.\n",
       "[2] Standard Errors assume that the covariance matrix of the errors is correctly specified.\n",
       "\"\"\""
      ]
     },
     "execution_count": 377,
     "metadata": {},
     "output_type": "execute_result"
    }
   ],
   "source": [
    "results.summary()"
   ]
  },
  {
   "cell_type": "markdown",
   "id": "4a12db5a",
   "metadata": {},
   "source": [
    "3. Calculate rest of desriptive measures of the model(MSE, R-squared, etc.).\n",
    "   Based on them, provide the feeback on how good the model fits the data."
   ]
  },
  {
   "cell_type": "code",
   "execution_count": 378,
   "id": "13265d8d",
   "metadata": {},
   "outputs": [
    {
     "data": {
      "text/plain": [
       "0.9859770058430166"
      ]
     },
     "execution_count": 378,
     "metadata": {},
     "output_type": "execute_result"
    }
   ],
   "source": [
    "results.rsquared_adj"
   ]
  },
  {
   "cell_type": "code",
   "execution_count": 379,
   "id": "e26285c9",
   "metadata": {},
   "outputs": [
    {
     "data": {
      "text/plain": [
       "0.9860296249580522"
      ]
     },
     "execution_count": 379,
     "metadata": {},
     "output_type": "execute_result"
    }
   ],
   "source": [
    "results.rsquared"
   ]
  },
  {
   "cell_type": "code",
   "execution_count": 380,
   "id": "af53909d",
   "metadata": {},
   "outputs": [
    {
     "data": {
      "text/plain": [
       "8518.309930012614"
      ]
     },
     "execution_count": 380,
     "metadata": {},
     "output_type": "execute_result"
    }
   ],
   "source": [
    "results.mse_model"
   ]
  },
  {
   "cell_type": "markdown",
   "id": "7d8efc73",
   "metadata": {},
   "source": [
    "Based on them, provide the feeback on how good the model fits the data."
   ]
  },
  {
   "cell_type": "markdown",
   "id": "c37e7b7c",
   "metadata": {},
   "source": [
    "Rerunning the model again after cheking pvalues, \n",
    "excluding less significant values and\n",
    "calculating rest of desriptive measures of the model,\n",
    "R-squared value increased from 35.2% to 98.6%,\n",
    "therefore we can assume that the model is reliable.\n",
    "\n",
    "There is 6 variables left, that significantly impacts the red wine's quality:\n",
    "\n",
    "fixed acidity,\n",
    "\n",
    "volatile acidity,\n",
    "\n",
    "citric acid,\n",
    "\n",
    "chlorides, \n",
    "\n",
    "sulphates, \n",
    "\n",
    "alcohol."
   ]
  },
  {
   "cell_type": "markdown",
   "id": "15316656",
   "metadata": {},
   "source": [
    " Calculate the predictions for some predictior values selected (up to you to select), provide the      feedback."
   ]
  },
  {
   "cell_type": "code",
   "execution_count": 381,
   "id": "879ea0b1",
   "metadata": {},
   "outputs": [
    {
     "data": {
      "text/plain": [
       "0    5.189286\n",
       "dtype: float64"
      ]
     },
     "execution_count": 381,
     "metadata": {},
     "output_type": "execute_result"
    }
   ],
   "source": [
    "predictor_values = pa.DataFrame({ \n",
    "\"fixed acidity\":[7.8],\n",
    "\"volatile acidity\":[0.8],\n",
    "\"citric acid\":[0.04],\n",
    "\"chlorides\":[0.09], \n",
    "\"sulphates\":[0.65],\n",
    "\"alcohol\":[9.8]})\n",
    "pred = results.predict(predictor_values)\n",
    "pred"
   ]
  },
  {
   "cell_type": "code",
   "execution_count": 382,
   "id": "1cade4a8",
   "metadata": {},
   "outputs": [],
   "source": [
    "# The prediction of 5.19 indicates the quality score of the model."
   ]
  },
  {
   "cell_type": "markdown",
   "id": "22cf1f5b",
   "metadata": {},
   "source": [
    " Do a small analysis on the residuals (histogram, density plot and compare it to normal distribution    plot)"
   ]
  },
  {
   "cell_type": "code",
   "execution_count": 383,
   "id": "bb1efbaf",
   "metadata": {},
   "outputs": [
    {
     "data": {
      "text/plain": [
       "0       0.012048\n",
       "1      -0.173173\n",
       "2      -0.221772\n",
       "3       0.367607\n",
       "4       0.012048\n",
       "          ...   \n",
       "1594   -0.389085\n",
       "1595    0.098694\n",
       "1596    0.145501\n",
       "1597   -0.303476\n",
       "1598    0.308558\n",
       "Length: 1599, dtype: float64"
      ]
     },
     "execution_count": 383,
     "metadata": {},
     "output_type": "execute_result"
    }
   ],
   "source": [
    "results.resid"
   ]
  },
  {
   "cell_type": "code",
   "execution_count": 384,
   "id": "63a6131f",
   "metadata": {},
   "outputs": [
    {
     "data": {
      "image/png": "[encoded data removed]",
      "text/plain": [
       "<Figure size 640x480 with 1 Axes>"
      ]
     },
     "metadata": {},
     "output_type": "display_data"
    }
   ],
   "source": [
    "#Histogram\n",
    "from matplotlib import pyplot as plt\n",
    "plt.hist(results.resid)\n",
    "plt.xlabel(\"Residuals\")\n",
    "plt.ylabel(\"Frequency\")\n",
    "plt.show()"
   ]
  },
  {
   "cell_type": "code",
   "execution_count": 385,
   "id": "1c1ce358",
   "metadata": {},
   "outputs": [],
   "source": [
    "#Density plot"
   ]
  },
  {
   "cell_type": "code",
   "execution_count": 386,
   "id": "01b102eb",
   "metadata": {},
   "outputs": [
    {
     "data": {
      "image/png": "[encoded data removed]",
      "text/plain": [
       "<Figure size 640x480 with 1 Axes>"
      ]
     },
     "metadata": {},
     "output_type": "display_data"
    }
   ],
   "source": [
    "sns.kdeplot(results.resid)\n",
    "sns.set_style(\"whitegrid\")\n",
    "plt.xlabel(\"Residuals\")\n",
    "plt.ylabel(\"Density\")\n",
    "plt.show()"
   ]
  },
  {
   "cell_type": "code",
   "execution_count": 387,
   "id": "df5c5f28",
   "metadata": {},
   "outputs": [],
   "source": [
    "#Normal distribution plot"
   ]
  },
  {
   "cell_type": "code",
   "execution_count": 388,
   "id": "e5b3b7ed",
   "metadata": {},
   "outputs": [
    {
     "ename": "TypeError",
     "evalue": "'str' object is not callable",
     "output_type": "error",
     "traceback": [
      "\u001b[1;31m---------------------------------------------------------------------------\u001b[0m",
      "\u001b[1;31mTypeError\u001b[0m                                 Traceback (most recent call last)",
      "Cell \u001b[1;32mIn[388], line 5\u001b[0m\n\u001b[0;32m      3\u001b[0m plt\u001b[38;5;241m.\u001b[39mxlabel(\u001b[38;5;124m\"\u001b[39m\u001b[38;5;124mTheoretical Quantiles\u001b[39m\u001b[38;5;124m\"\u001b[39m)\n\u001b[0;32m      4\u001b[0m plt\u001b[38;5;241m.\u001b[39mylabel(\u001b[38;5;124m\"\u001b[39m\u001b[38;5;124mSample Quantiles\u001b[39m\u001b[38;5;124m\"\u001b[39m)\n\u001b[1;32m----> 5\u001b[0m \u001b[43mplt\u001b[49m\u001b[38;5;241;43m.\u001b[39;49m\u001b[43mtitle\u001b[49m\u001b[43m(\u001b[49m\u001b[38;5;124;43m\"\u001b[39;49m\u001b[38;5;124;43mQ-Q Plot of Residuals-Red Wine\u001b[39;49m\u001b[38;5;124;43m\"\u001b[39;49m\u001b[43m)\u001b[49m\n\u001b[0;32m      6\u001b[0m plt\u001b[38;5;241m.\u001b[39mshow()\n",
      "\u001b[1;31mTypeError\u001b[0m: 'str' object is not callable"
     ]
    },
    {
     "data": {
      "image/png": "[encoded data removed]",
      "text/plain": [
       "<Figure size 640x480 with 1 Axes>"
      ]
     },
     "metadata": {},
     "output_type": "display_data"
    }
   ],
   "source": [
    "plt.figure()\n",
    "stats.probplot(results.resid,plot=plt)\n",
    "plt.xlabel(\"Theoretical Quantiles\")\n",
    "plt.ylabel(\"Sample Quantiles\")\n",
    "plt.title(\"Q-Q Plot of Residuals-Red Wine\")\n",
    "plt.show()"
   ]
  },
  {
   "cell_type": "markdown",
   "id": "3be7ca01",
   "metadata": {},
   "source": [
    "winequality-white:"
   ]
  },
  {
   "cell_type": "code",
   "execution_count": 389,
   "id": "f5af089c",
   "metadata": {},
   "outputs": [],
   "source": [
    "df_white = pa.read_csv(r\"C:\\Users\\krent\\OneDrive\\Desktop\\winequality-white.csv\", delimiter=\";\")"
   ]
  },
  {
   "cell_type": "code",
   "execution_count": 390,
   "id": "60ae67d1",
   "metadata": {
    "scrolled": false
   },
   "outputs": [
    {
     "data": {
      "text/html": [
       "<div>\n",
       "<style scoped>\n",
       "    .dataframe tbody tr th:only-of-type {\n",
       "        vertical-align: middle;\n",
       "    }\n",
       "\n",
       "    .dataframe tbody tr th {\n",
       "        vertical-align: top;\n",
       "    }\n",
       "\n",
       "    .dataframe thead th {\n",
       "        text-align: right;\n",
       "    }\n",
       "</style>\n",
       "<table border=\"1\" class=\"dataframe\">\n",
       "  <thead>\n",
       "    <tr style=\"text-align: right;\">\n",
       "      <th></th>\n",
       "      <th>fixed acidity</th>\n",
       "      <th>volatile acidity</th>\n",
       "      <th>citric acid</th>\n",
       "      <th>residual sugar</th>\n",
       "      <th>chlorides</th>\n",
       "      <th>free sulfur dioxide</th>\n",
       "      <th>total sulfur dioxide</th>\n",
       "      <th>density</th>\n",
       "      <th>pH</th>\n",
       "      <th>sulphates</th>\n",
       "      <th>alcohol</th>\n",
       "      <th>quality</th>\n",
       "    </tr>\n",
       "  </thead>\n",
       "  <tbody>\n",
       "    <tr>\n",
       "      <th>0</th>\n",
       "      <td>7.0</td>\n",
       "      <td>0.27</td>\n",
       "      <td>0.36</td>\n",
       "      <td>20.7</td>\n",
       "      <td>0.045</td>\n",
       "      <td>45.0</td>\n",
       "      <td>170.0</td>\n",
       "      <td>1.00100</td>\n",
       "      <td>3.00</td>\n",
       "      <td>0.45</td>\n",
       "      <td>8.8</td>\n",
       "      <td>6</td>\n",
       "    </tr>\n",
       "    <tr>\n",
       "      <th>1</th>\n",
       "      <td>6.3</td>\n",
       "      <td>0.30</td>\n",
       "      <td>0.34</td>\n",
       "      <td>1.6</td>\n",
       "      <td>0.049</td>\n",
       "      <td>14.0</td>\n",
       "      <td>132.0</td>\n",
       "      <td>0.99400</td>\n",
       "      <td>3.30</td>\n",
       "      <td>0.49</td>\n",
       "      <td>9.5</td>\n",
       "      <td>6</td>\n",
       "    </tr>\n",
       "    <tr>\n",
       "      <th>2</th>\n",
       "      <td>8.1</td>\n",
       "      <td>0.28</td>\n",
       "      <td>0.40</td>\n",
       "      <td>6.9</td>\n",
       "      <td>0.050</td>\n",
       "      <td>30.0</td>\n",
       "      <td>97.0</td>\n",
       "      <td>0.99510</td>\n",
       "      <td>3.26</td>\n",
       "      <td>0.44</td>\n",
       "      <td>10.1</td>\n",
       "      <td>6</td>\n",
       "    </tr>\n",
       "    <tr>\n",
       "      <th>3</th>\n",
       "      <td>7.2</td>\n",
       "      <td>0.23</td>\n",
       "      <td>0.32</td>\n",
       "      <td>8.5</td>\n",
       "      <td>0.058</td>\n",
       "      <td>47.0</td>\n",
       "      <td>186.0</td>\n",
       "      <td>0.99560</td>\n",
       "      <td>3.19</td>\n",
       "      <td>0.40</td>\n",
       "      <td>9.9</td>\n",
       "      <td>6</td>\n",
       "    </tr>\n",
       "    <tr>\n",
       "      <th>4</th>\n",
       "      <td>7.2</td>\n",
       "      <td>0.23</td>\n",
       "      <td>0.32</td>\n",
       "      <td>8.5</td>\n",
       "      <td>0.058</td>\n",
       "      <td>47.0</td>\n",
       "      <td>186.0</td>\n",
       "      <td>0.99560</td>\n",
       "      <td>3.19</td>\n",
       "      <td>0.40</td>\n",
       "      <td>9.9</td>\n",
       "      <td>6</td>\n",
       "    </tr>\n",
       "    <tr>\n",
       "      <th>...</th>\n",
       "      <td>...</td>\n",
       "      <td>...</td>\n",
       "      <td>...</td>\n",
       "      <td>...</td>\n",
       "      <td>...</td>\n",
       "      <td>...</td>\n",
       "      <td>...</td>\n",
       "      <td>...</td>\n",
       "      <td>...</td>\n",
       "      <td>...</td>\n",
       "      <td>...</td>\n",
       "      <td>...</td>\n",
       "    </tr>\n",
       "    <tr>\n",
       "      <th>4893</th>\n",
       "      <td>6.2</td>\n",
       "      <td>0.21</td>\n",
       "      <td>0.29</td>\n",
       "      <td>1.6</td>\n",
       "      <td>0.039</td>\n",
       "      <td>24.0</td>\n",
       "      <td>92.0</td>\n",
       "      <td>0.99114</td>\n",
       "      <td>3.27</td>\n",
       "      <td>0.50</td>\n",
       "      <td>11.2</td>\n",
       "      <td>6</td>\n",
       "    </tr>\n",
       "    <tr>\n",
       "      <th>4894</th>\n",
       "      <td>6.6</td>\n",
       "      <td>0.32</td>\n",
       "      <td>0.36</td>\n",
       "      <td>8.0</td>\n",
       "      <td>0.047</td>\n",
       "      <td>57.0</td>\n",
       "      <td>168.0</td>\n",
       "      <td>0.99490</td>\n",
       "      <td>3.15</td>\n",
       "      <td>0.46</td>\n",
       "      <td>9.6</td>\n",
       "      <td>5</td>\n",
       "    </tr>\n",
       "    <tr>\n",
       "      <th>4895</th>\n",
       "      <td>6.5</td>\n",
       "      <td>0.24</td>\n",
       "      <td>0.19</td>\n",
       "      <td>1.2</td>\n",
       "      <td>0.041</td>\n",
       "      <td>30.0</td>\n",
       "      <td>111.0</td>\n",
       "      <td>0.99254</td>\n",
       "      <td>2.99</td>\n",
       "      <td>0.46</td>\n",
       "      <td>9.4</td>\n",
       "      <td>6</td>\n",
       "    </tr>\n",
       "    <tr>\n",
       "      <th>4896</th>\n",
       "      <td>5.5</td>\n",
       "      <td>0.29</td>\n",
       "      <td>0.30</td>\n",
       "      <td>1.1</td>\n",
       "      <td>0.022</td>\n",
       "      <td>20.0</td>\n",
       "      <td>110.0</td>\n",
       "      <td>0.98869</td>\n",
       "      <td>3.34</td>\n",
       "      <td>0.38</td>\n",
       "      <td>12.8</td>\n",
       "      <td>7</td>\n",
       "    </tr>\n",
       "    <tr>\n",
       "      <th>4897</th>\n",
       "      <td>6.0</td>\n",
       "      <td>0.21</td>\n",
       "      <td>0.38</td>\n",
       "      <td>0.8</td>\n",
       "      <td>0.020</td>\n",
       "      <td>22.0</td>\n",
       "      <td>98.0</td>\n",
       "      <td>0.98941</td>\n",
       "      <td>3.26</td>\n",
       "      <td>0.32</td>\n",
       "      <td>11.8</td>\n",
       "      <td>6</td>\n",
       "    </tr>\n",
       "  </tbody>\n",
       "</table>\n",
       "<p>4898 rows × 12 columns</p>\n",
       "</div>"
      ],
      "text/plain": [
       "      fixed acidity  volatile acidity  citric acid  residual sugar  chlorides   \n",
       "0               7.0              0.27         0.36            20.7      0.045  \\\n",
       "1               6.3              0.30         0.34             1.6      0.049   \n",
       "2               8.1              0.28         0.40             6.9      0.050   \n",
       "3               7.2              0.23         0.32             8.5      0.058   \n",
       "4               7.2              0.23         0.32             8.5      0.058   \n",
       "...             ...               ...          ...             ...        ...   \n",
       "4893            6.2              0.21         0.29             1.6      0.039   \n",
       "4894            6.6              0.32         0.36             8.0      0.047   \n",
       "4895            6.5              0.24         0.19             1.2      0.041   \n",
       "4896            5.5              0.29         0.30             1.1      0.022   \n",
       "4897            6.0              0.21         0.38             0.8      0.020   \n",
       "\n",
       "      free sulfur dioxide  total sulfur dioxide  density    pH  sulphates   \n",
       "0                    45.0                 170.0  1.00100  3.00       0.45  \\\n",
       "1                    14.0                 132.0  0.99400  3.30       0.49   \n",
       "2                    30.0                  97.0  0.99510  3.26       0.44   \n",
       "3                    47.0                 186.0  0.99560  3.19       0.40   \n",
       "4                    47.0                 186.0  0.99560  3.19       0.40   \n",
       "...                   ...                   ...      ...   ...        ...   \n",
       "4893                 24.0                  92.0  0.99114  3.27       0.50   \n",
       "4894                 57.0                 168.0  0.99490  3.15       0.46   \n",
       "4895                 30.0                 111.0  0.99254  2.99       0.46   \n",
       "4896                 20.0                 110.0  0.98869  3.34       0.38   \n",
       "4897                 22.0                  98.0  0.98941  3.26       0.32   \n",
       "\n",
       "      alcohol  quality  \n",
       "0         8.8        6  \n",
       "1         9.5        6  \n",
       "2        10.1        6  \n",
       "3         9.9        6  \n",
       "4         9.9        6  \n",
       "...       ...      ...  \n",
       "4893     11.2        6  \n",
       "4894      9.6        5  \n",
       "4895      9.4        6  \n",
       "4896     12.8        7  \n",
       "4897     11.8        6  \n",
       "\n",
       "[4898 rows x 12 columns]"
      ]
     },
     "execution_count": 390,
     "metadata": {},
     "output_type": "execute_result"
    }
   ],
   "source": [
    "df_white"
   ]
  },
  {
   "cell_type": "markdown",
   "id": "272fbabe",
   "metadata": {},
   "source": [
    "1. Calculate all the coeficients"
   ]
  },
  {
   "cell_type": "code",
   "execution_count": 391,
   "id": "cb5bb675",
   "metadata": {},
   "outputs": [],
   "source": [
    "x = df_white[[\"fixed acidity\", \"volatile acidity\", \"citric acid\", \"residual sugar\", \"chlorides\", \"free sulfur dioxide\", \"density\", \"pH\", \"sulphates\", \"alcohol\"]]\n",
    "y = df_white[\"quality\"]"
   ]
  },
  {
   "cell_type": "code",
   "execution_count": 392,
   "id": "a68e6c77",
   "metadata": {},
   "outputs": [
    {
     "data": {
      "text/plain": [
       "const                  152.978672\n",
       "fixed acidity            0.066133\n",
       "volatile acidity        -1.880175\n",
       "citric acid              0.019149\n",
       "residual sugar           0.082243\n",
       "chlorides               -0.251227\n",
       "free sulfur dioxide      0.003354\n",
       "density               -153.110569\n",
       "pH                       0.687880\n",
       "sulphates                0.626206\n",
       "alcohol                  0.192717\n",
       "dtype: float64"
      ]
     },
     "execution_count": 392,
     "metadata": {},
     "output_type": "execute_result"
    }
   ],
   "source": [
    "x = sm.add_constant(x)\n",
    "model = sm.OLS(y,x)\n",
    "results = model.fit()\n",
    "results.params"
   ]
  },
  {
   "cell_type": "code",
   "execution_count": 393,
   "id": "542638a1",
   "metadata": {},
   "outputs": [],
   "source": [
    "#Updating the dataset as \"density\" value is quite high, therefore removing it as it may give a not so reliable outcome.\n",
    "df_white_new=df_white.drop([\"density\"], axis=1)"
   ]
  },
  {
   "cell_type": "code",
   "execution_count": 394,
   "id": "26650a4c",
   "metadata": {},
   "outputs": [],
   "source": [
    "x = df_white_new[[\"fixed acidity\", \"volatile acidity\", \"citric acid\", \"residual sugar\", \"chlorides\", \"free sulfur dioxide\", \"pH\", \"sulphates\", \"alcohol\"]]\n",
    "y = df_white_new[\"quality\"]"
   ]
  },
  {
   "cell_type": "code",
   "execution_count": 395,
   "id": "d15c7cf7",
   "metadata": {},
   "outputs": [
    {
     "data": {
      "text/html": [
       "<div>\n",
       "<style scoped>\n",
       "    .dataframe tbody tr th:only-of-type {\n",
       "        vertical-align: middle;\n",
       "    }\n",
       "\n",
       "    .dataframe tbody tr th {\n",
       "        vertical-align: top;\n",
       "    }\n",
       "\n",
       "    .dataframe thead th {\n",
       "        text-align: right;\n",
       "    }\n",
       "</style>\n",
       "<table border=\"1\" class=\"dataframe\">\n",
       "  <thead>\n",
       "    <tr style=\"text-align: right;\">\n",
       "      <th></th>\n",
       "      <th>fixed acidity</th>\n",
       "      <th>volatile acidity</th>\n",
       "      <th>citric acid</th>\n",
       "      <th>residual sugar</th>\n",
       "      <th>chlorides</th>\n",
       "      <th>free sulfur dioxide</th>\n",
       "      <th>total sulfur dioxide</th>\n",
       "      <th>pH</th>\n",
       "      <th>sulphates</th>\n",
       "      <th>alcohol</th>\n",
       "      <th>quality</th>\n",
       "    </tr>\n",
       "  </thead>\n",
       "  <tbody>\n",
       "    <tr>\n",
       "      <th>0</th>\n",
       "      <td>7.0</td>\n",
       "      <td>0.27</td>\n",
       "      <td>0.36</td>\n",
       "      <td>20.7</td>\n",
       "      <td>0.045</td>\n",
       "      <td>45.0</td>\n",
       "      <td>170.0</td>\n",
       "      <td>3.00</td>\n",
       "      <td>0.45</td>\n",
       "      <td>8.8</td>\n",
       "      <td>6</td>\n",
       "    </tr>\n",
       "    <tr>\n",
       "      <th>1</th>\n",
       "      <td>6.3</td>\n",
       "      <td>0.30</td>\n",
       "      <td>0.34</td>\n",
       "      <td>1.6</td>\n",
       "      <td>0.049</td>\n",
       "      <td>14.0</td>\n",
       "      <td>132.0</td>\n",
       "      <td>3.30</td>\n",
       "      <td>0.49</td>\n",
       "      <td>9.5</td>\n",
       "      <td>6</td>\n",
       "    </tr>\n",
       "    <tr>\n",
       "      <th>2</th>\n",
       "      <td>8.1</td>\n",
       "      <td>0.28</td>\n",
       "      <td>0.40</td>\n",
       "      <td>6.9</td>\n",
       "      <td>0.050</td>\n",
       "      <td>30.0</td>\n",
       "      <td>97.0</td>\n",
       "      <td>3.26</td>\n",
       "      <td>0.44</td>\n",
       "      <td>10.1</td>\n",
       "      <td>6</td>\n",
       "    </tr>\n",
       "    <tr>\n",
       "      <th>3</th>\n",
       "      <td>7.2</td>\n",
       "      <td>0.23</td>\n",
       "      <td>0.32</td>\n",
       "      <td>8.5</td>\n",
       "      <td>0.058</td>\n",
       "      <td>47.0</td>\n",
       "      <td>186.0</td>\n",
       "      <td>3.19</td>\n",
       "      <td>0.40</td>\n",
       "      <td>9.9</td>\n",
       "      <td>6</td>\n",
       "    </tr>\n",
       "    <tr>\n",
       "      <th>4</th>\n",
       "      <td>7.2</td>\n",
       "      <td>0.23</td>\n",
       "      <td>0.32</td>\n",
       "      <td>8.5</td>\n",
       "      <td>0.058</td>\n",
       "      <td>47.0</td>\n",
       "      <td>186.0</td>\n",
       "      <td>3.19</td>\n",
       "      <td>0.40</td>\n",
       "      <td>9.9</td>\n",
       "      <td>6</td>\n",
       "    </tr>\n",
       "    <tr>\n",
       "      <th>...</th>\n",
       "      <td>...</td>\n",
       "      <td>...</td>\n",
       "      <td>...</td>\n",
       "      <td>...</td>\n",
       "      <td>...</td>\n",
       "      <td>...</td>\n",
       "      <td>...</td>\n",
       "      <td>...</td>\n",
       "      <td>...</td>\n",
       "      <td>...</td>\n",
       "      <td>...</td>\n",
       "    </tr>\n",
       "    <tr>\n",
       "      <th>4893</th>\n",
       "      <td>6.2</td>\n",
       "      <td>0.21</td>\n",
       "      <td>0.29</td>\n",
       "      <td>1.6</td>\n",
       "      <td>0.039</td>\n",
       "      <td>24.0</td>\n",
       "      <td>92.0</td>\n",
       "      <td>3.27</td>\n",
       "      <td>0.50</td>\n",
       "      <td>11.2</td>\n",
       "      <td>6</td>\n",
       "    </tr>\n",
       "    <tr>\n",
       "      <th>4894</th>\n",
       "      <td>6.6</td>\n",
       "      <td>0.32</td>\n",
       "      <td>0.36</td>\n",
       "      <td>8.0</td>\n",
       "      <td>0.047</td>\n",
       "      <td>57.0</td>\n",
       "      <td>168.0</td>\n",
       "      <td>3.15</td>\n",
       "      <td>0.46</td>\n",
       "      <td>9.6</td>\n",
       "      <td>5</td>\n",
       "    </tr>\n",
       "    <tr>\n",
       "      <th>4895</th>\n",
       "      <td>6.5</td>\n",
       "      <td>0.24</td>\n",
       "      <td>0.19</td>\n",
       "      <td>1.2</td>\n",
       "      <td>0.041</td>\n",
       "      <td>30.0</td>\n",
       "      <td>111.0</td>\n",
       "      <td>2.99</td>\n",
       "      <td>0.46</td>\n",
       "      <td>9.4</td>\n",
       "      <td>6</td>\n",
       "    </tr>\n",
       "    <tr>\n",
       "      <th>4896</th>\n",
       "      <td>5.5</td>\n",
       "      <td>0.29</td>\n",
       "      <td>0.30</td>\n",
       "      <td>1.1</td>\n",
       "      <td>0.022</td>\n",
       "      <td>20.0</td>\n",
       "      <td>110.0</td>\n",
       "      <td>3.34</td>\n",
       "      <td>0.38</td>\n",
       "      <td>12.8</td>\n",
       "      <td>7</td>\n",
       "    </tr>\n",
       "    <tr>\n",
       "      <th>4897</th>\n",
       "      <td>6.0</td>\n",
       "      <td>0.21</td>\n",
       "      <td>0.38</td>\n",
       "      <td>0.8</td>\n",
       "      <td>0.020</td>\n",
       "      <td>22.0</td>\n",
       "      <td>98.0</td>\n",
       "      <td>3.26</td>\n",
       "      <td>0.32</td>\n",
       "      <td>11.8</td>\n",
       "      <td>6</td>\n",
       "    </tr>\n",
       "  </tbody>\n",
       "</table>\n",
       "<p>4898 rows × 11 columns</p>\n",
       "</div>"
      ],
      "text/plain": [
       "      fixed acidity  volatile acidity  citric acid  residual sugar  chlorides   \n",
       "0               7.0              0.27         0.36            20.7      0.045  \\\n",
       "1               6.3              0.30         0.34             1.6      0.049   \n",
       "2               8.1              0.28         0.40             6.9      0.050   \n",
       "3               7.2              0.23         0.32             8.5      0.058   \n",
       "4               7.2              0.23         0.32             8.5      0.058   \n",
       "...             ...               ...          ...             ...        ...   \n",
       "4893            6.2              0.21         0.29             1.6      0.039   \n",
       "4894            6.6              0.32         0.36             8.0      0.047   \n",
       "4895            6.5              0.24         0.19             1.2      0.041   \n",
       "4896            5.5              0.29         0.30             1.1      0.022   \n",
       "4897            6.0              0.21         0.38             0.8      0.020   \n",
       "\n",
       "      free sulfur dioxide  total sulfur dioxide    pH  sulphates  alcohol   \n",
       "0                    45.0                 170.0  3.00       0.45      8.8  \\\n",
       "1                    14.0                 132.0  3.30       0.49      9.5   \n",
       "2                    30.0                  97.0  3.26       0.44     10.1   \n",
       "3                    47.0                 186.0  3.19       0.40      9.9   \n",
       "4                    47.0                 186.0  3.19       0.40      9.9   \n",
       "...                   ...                   ...   ...        ...      ...   \n",
       "4893                 24.0                  92.0  3.27       0.50     11.2   \n",
       "4894                 57.0                 168.0  3.15       0.46      9.6   \n",
       "4895                 30.0                 111.0  2.99       0.46      9.4   \n",
       "4896                 20.0                 110.0  3.34       0.38     12.8   \n",
       "4897                 22.0                  98.0  3.26       0.32     11.8   \n",
       "\n",
       "      quality  \n",
       "0           6  \n",
       "1           6  \n",
       "2           6  \n",
       "3           6  \n",
       "4           6  \n",
       "...       ...  \n",
       "4893        6  \n",
       "4894        5  \n",
       "4895        6  \n",
       "4896        7  \n",
       "4897        6  \n",
       "\n",
       "[4898 rows x 11 columns]"
      ]
     },
     "execution_count": 395,
     "metadata": {},
     "output_type": "execute_result"
    }
   ],
   "source": [
    "df_white_new"
   ]
  },
  {
   "cell_type": "code",
   "execution_count": 397,
   "id": "0c65f8ad",
   "metadata": {},
   "outputs": [
    {
     "data": {
      "text/plain": [
       "const                  2.063541\n",
       "fixed acidity         -0.055274\n",
       "volatile acidity      -2.017812\n",
       "citric acid           -0.041297\n",
       "residual sugar         0.024726\n",
       "chlorides             -1.007017\n",
       "free sulfur dioxide    0.003631\n",
       "pH                     0.139008\n",
       "sulphates              0.390032\n",
       "alcohol                0.370365\n",
       "dtype: float64"
      ]
     },
     "execution_count": 397,
     "metadata": {},
     "output_type": "execute_result"
    }
   ],
   "source": [
    "x = sm.add_constant(x)\n",
    "model = sm.OLS(y,x)\n",
    "results = model.fit()\n",
    "results.params"
   ]
  },
  {
   "cell_type": "code",
   "execution_count": 398,
   "id": "3a3f3880",
   "metadata": {},
   "outputs": [
    {
     "data": {
      "text/plain": [
       "const                   3.375950e-09\n",
       "fixed acidity           1.832228e-04\n",
       "volatile acidity        1.710490e-71\n",
       "citric acid             6.672278e-01\n",
       "residual sugar          1.768235e-22\n",
       "chlorides               6.336229e-02\n",
       "free sulfur dioxide     1.121269e-07\n",
       "pH                      8.936382e-02\n",
       "sulphates               5.422817e-05\n",
       "alcohol                7.218400e-232\n",
       "dtype: float64"
      ]
     },
     "execution_count": 398,
     "metadata": {},
     "output_type": "execute_result"
    }
   ],
   "source": [
    "results.pvalues"
   ]
  },
  {
   "cell_type": "code",
   "execution_count": 399,
   "id": "26b3c90b",
   "metadata": {},
   "outputs": [
    {
     "data": {
      "text/html": [
       "<table class=\"simpletable\">\n",
       "<caption>OLS Regression Results</caption>\n",
       "<tr>\n",
       "  <th>Dep. Variable:</th>         <td>quality</td>     <th>  R-squared:         </th> <td>   0.272</td> \n",
       "</tr>\n",
       "<tr>\n",
       "  <th>Model:</th>                   <td>OLS</td>       <th>  Adj. R-squared:    </th> <td>   0.271</td> \n",
       "</tr>\n",
       "<tr>\n",
       "  <th>Method:</th>             <td>Least Squares</td>  <th>  F-statistic:       </th> <td>   202.9</td> \n",
       "</tr>\n",
       "<tr>\n",
       "  <th>Date:</th>             <td>Mon, 17 Jul 2023</td> <th>  Prob (F-statistic):</th>  <td>  0.00</td>  \n",
       "</tr>\n",
       "<tr>\n",
       "  <th>Time:</th>                 <td>15:38:01</td>     <th>  Log-Likelihood:    </th> <td> -5577.4</td> \n",
       "</tr>\n",
       "<tr>\n",
       "  <th>No. Observations:</th>      <td>  4898</td>      <th>  AIC:               </th> <td>1.117e+04</td>\n",
       "</tr>\n",
       "<tr>\n",
       "  <th>Df Residuals:</th>          <td>  4888</td>      <th>  BIC:               </th> <td>1.124e+04</td>\n",
       "</tr>\n",
       "<tr>\n",
       "  <th>Df Model:</th>              <td>     9</td>      <th>                     </th>     <td> </td>    \n",
       "</tr>\n",
       "<tr>\n",
       "  <th>Covariance Type:</th>      <td>nonrobust</td>    <th>                     </th>     <td> </td>    \n",
       "</tr>\n",
       "</table>\n",
       "<table class=\"simpletable\">\n",
       "<tr>\n",
       "           <td></td>              <th>coef</th>     <th>std err</th>      <th>t</th>      <th>P>|t|</th>  <th>[0.025</th>    <th>0.975]</th>  \n",
       "</tr>\n",
       "<tr>\n",
       "  <th>const</th>               <td>    2.0635</td> <td>    0.348</td> <td>    5.923</td> <td> 0.000</td> <td>    1.381</td> <td>    2.747</td>\n",
       "</tr>\n",
       "<tr>\n",
       "  <th>fixed acidity</th>       <td>   -0.0553</td> <td>    0.015</td> <td>   -3.744</td> <td> 0.000</td> <td>   -0.084</td> <td>   -0.026</td>\n",
       "</tr>\n",
       "<tr>\n",
       "  <th>volatile acidity</th>    <td>   -2.0178</td> <td>    0.111</td> <td>  -18.177</td> <td> 0.000</td> <td>   -2.235</td> <td>   -1.800</td>\n",
       "</tr>\n",
       "<tr>\n",
       "  <th>citric acid</th>         <td>   -0.0413</td> <td>    0.096</td> <td>   -0.430</td> <td> 0.667</td> <td>   -0.230</td> <td>    0.147</td>\n",
       "</tr>\n",
       "<tr>\n",
       "  <th>residual sugar</th>      <td>    0.0247</td> <td>    0.003</td> <td>    9.802</td> <td> 0.000</td> <td>    0.020</td> <td>    0.030</td>\n",
       "</tr>\n",
       "<tr>\n",
       "  <th>chlorides</th>           <td>   -1.0070</td> <td>    0.542</td> <td>   -1.857</td> <td> 0.063</td> <td>   -2.070</td> <td>    0.056</td>\n",
       "</tr>\n",
       "<tr>\n",
       "  <th>free sulfur dioxide</th> <td>    0.0036</td> <td>    0.001</td> <td>    5.314</td> <td> 0.000</td> <td>    0.002</td> <td>    0.005</td>\n",
       "</tr>\n",
       "<tr>\n",
       "  <th>pH</th>                  <td>    0.1390</td> <td>    0.082</td> <td>    1.699</td> <td> 0.089</td> <td>   -0.021</td> <td>    0.299</td>\n",
       "</tr>\n",
       "<tr>\n",
       "  <th>sulphates</th>           <td>    0.3900</td> <td>    0.097</td> <td>    4.040</td> <td> 0.000</td> <td>    0.201</td> <td>    0.579</td>\n",
       "</tr>\n",
       "<tr>\n",
       "  <th>alcohol</th>             <td>    0.3704</td> <td>    0.011</td> <td>   34.353</td> <td> 0.000</td> <td>    0.349</td> <td>    0.392</td>\n",
       "</tr>\n",
       "</table>\n",
       "<table class=\"simpletable\">\n",
       "<tr>\n",
       "  <th>Omnibus:</th>       <td>106.891</td> <th>  Durbin-Watson:     </th> <td>   1.626</td>\n",
       "</tr>\n",
       "<tr>\n",
       "  <th>Prob(Omnibus):</th> <td> 0.000</td>  <th>  Jarque-Bera (JB):  </th> <td> 228.986</td>\n",
       "</tr>\n",
       "<tr>\n",
       "  <th>Skew:</th>          <td> 0.069</td>  <th>  Prob(JB):          </th> <td>1.89e-50</td>\n",
       "</tr>\n",
       "<tr>\n",
       "  <th>Kurtosis:</th>      <td> 4.050</td>  <th>  Cond. No.          </th> <td>2.12e+03</td>\n",
       "</tr>\n",
       "</table><br/><br/>Notes:<br/>[1] Standard Errors assume that the covariance matrix of the errors is correctly specified.<br/>[2] The condition number is large, 2.12e+03. This might indicate that there are<br/>strong multicollinearity or other numerical problems."
      ],
      "text/latex": [
       "\\begin{center}\n",
       "\\begin{tabular}{lclc}\n",
       "\\toprule\n",
       "\\textbf{Dep. Variable:}      &     quality      & \\textbf{  R-squared:         } &     0.272   \\\\\n",
       "\\textbf{Model:}              &       OLS        & \\textbf{  Adj. R-squared:    } &     0.271   \\\\\n",
       "\\textbf{Method:}             &  Least Squares   & \\textbf{  F-statistic:       } &     202.9   \\\\\n",
       "\\textbf{Date:}               & Mon, 17 Jul 2023 & \\textbf{  Prob (F-statistic):} &     0.00    \\\\\n",
       "\\textbf{Time:}               &     15:38:01     & \\textbf{  Log-Likelihood:    } &   -5577.4   \\\\\n",
       "\\textbf{No. Observations:}   &        4898      & \\textbf{  AIC:               } & 1.117e+04   \\\\\n",
       "\\textbf{Df Residuals:}       &        4888      & \\textbf{  BIC:               } & 1.124e+04   \\\\\n",
       "\\textbf{Df Model:}           &           9      & \\textbf{                     } &             \\\\\n",
       "\\textbf{Covariance Type:}    &    nonrobust     & \\textbf{                     } &             \\\\\n",
       "\\bottomrule\n",
       "\\end{tabular}\n",
       "\\begin{tabular}{lcccccc}\n",
       "                             & \\textbf{coef} & \\textbf{std err} & \\textbf{t} & \\textbf{P$> |$t$|$} & \\textbf{[0.025} & \\textbf{0.975]}  \\\\\n",
       "\\midrule\n",
       "\\textbf{const}               &       2.0635  &        0.348     &     5.923  &         0.000        &        1.381    &        2.747     \\\\\n",
       "\\textbf{fixed acidity}       &      -0.0553  &        0.015     &    -3.744  &         0.000        &       -0.084    &       -0.026     \\\\\n",
       "\\textbf{volatile acidity}    &      -2.0178  &        0.111     &   -18.177  &         0.000        &       -2.235    &       -1.800     \\\\\n",
       "\\textbf{citric acid}         &      -0.0413  &        0.096     &    -0.430  &         0.667        &       -0.230    &        0.147     \\\\\n",
       "\\textbf{residual sugar}      &       0.0247  &        0.003     &     9.802  &         0.000        &        0.020    &        0.030     \\\\\n",
       "\\textbf{chlorides}           &      -1.0070  &        0.542     &    -1.857  &         0.063        &       -2.070    &        0.056     \\\\\n",
       "\\textbf{free sulfur dioxide} &       0.0036  &        0.001     &     5.314  &         0.000        &        0.002    &        0.005     \\\\\n",
       "\\textbf{pH}                  &       0.1390  &        0.082     &     1.699  &         0.089        &       -0.021    &        0.299     \\\\\n",
       "\\textbf{sulphates}           &       0.3900  &        0.097     &     4.040  &         0.000        &        0.201    &        0.579     \\\\\n",
       "\\textbf{alcohol}             &       0.3704  &        0.011     &    34.353  &         0.000        &        0.349    &        0.392     \\\\\n",
       "\\bottomrule\n",
       "\\end{tabular}\n",
       "\\begin{tabular}{lclc}\n",
       "\\textbf{Omnibus:}       & 106.891 & \\textbf{  Durbin-Watson:     } &    1.626  \\\\\n",
       "\\textbf{Prob(Omnibus):} &   0.000 & \\textbf{  Jarque-Bera (JB):  } &  228.986  \\\\\n",
       "\\textbf{Skew:}          &   0.069 & \\textbf{  Prob(JB):          } & 1.89e-50  \\\\\n",
       "\\textbf{Kurtosis:}      &   4.050 & \\textbf{  Cond. No.          } & 2.12e+03  \\\\\n",
       "\\bottomrule\n",
       "\\end{tabular}\n",
       "%\\caption{OLS Regression Results}\n",
       "\\end{center}\n",
       "\n",
       "Notes: \\newline\n",
       " [1] Standard Errors assume that the covariance matrix of the errors is correctly specified. \\newline\n",
       " [2] The condition number is large, 2.12e+03. This might indicate that there are \\newline\n",
       " strong multicollinearity or other numerical problems."
      ],
      "text/plain": [
       "<class 'statsmodels.iolib.summary.Summary'>\n",
       "\"\"\"\n",
       "                            OLS Regression Results                            \n",
       "==============================================================================\n",
       "Dep. Variable:                quality   R-squared:                       0.272\n",
       "Model:                            OLS   Adj. R-squared:                  0.271\n",
       "Method:                 Least Squares   F-statistic:                     202.9\n",
       "Date:                Mon, 17 Jul 2023   Prob (F-statistic):               0.00\n",
       "Time:                        15:38:01   Log-Likelihood:                -5577.4\n",
       "No. Observations:                4898   AIC:                         1.117e+04\n",
       "Df Residuals:                    4888   BIC:                         1.124e+04\n",
       "Df Model:                           9                                         \n",
       "Covariance Type:            nonrobust                                         \n",
       "=======================================================================================\n",
       "                          coef    std err          t      P>|t|      [0.025      0.975]\n",
       "---------------------------------------------------------------------------------------\n",
       "const                   2.0635      0.348      5.923      0.000       1.381       2.747\n",
       "fixed acidity          -0.0553      0.015     -3.744      0.000      -0.084      -0.026\n",
       "volatile acidity       -2.0178      0.111    -18.177      0.000      -2.235      -1.800\n",
       "citric acid            -0.0413      0.096     -0.430      0.667      -0.230       0.147\n",
       "residual sugar          0.0247      0.003      9.802      0.000       0.020       0.030\n",
       "chlorides              -1.0070      0.542     -1.857      0.063      -2.070       0.056\n",
       "free sulfur dioxide     0.0036      0.001      5.314      0.000       0.002       0.005\n",
       "pH                      0.1390      0.082      1.699      0.089      -0.021       0.299\n",
       "sulphates               0.3900      0.097      4.040      0.000       0.201       0.579\n",
       "alcohol                 0.3704      0.011     34.353      0.000       0.349       0.392\n",
       "==============================================================================\n",
       "Omnibus:                      106.891   Durbin-Watson:                   1.626\n",
       "Prob(Omnibus):                  0.000   Jarque-Bera (JB):              228.986\n",
       "Skew:                           0.069   Prob(JB):                     1.89e-50\n",
       "Kurtosis:                       4.050   Cond. No.                     2.12e+03\n",
       "==============================================================================\n",
       "\n",
       "Notes:\n",
       "[1] Standard Errors assume that the covariance matrix of the errors is correctly specified.\n",
       "[2] The condition number is large, 2.12e+03. This might indicate that there are\n",
       "strong multicollinearity or other numerical problems.\n",
       "\"\"\""
      ]
     },
     "execution_count": 399,
     "metadata": {},
     "output_type": "execute_result"
    }
   ],
   "source": [
    "results.summary()"
   ]
  },
  {
   "cell_type": "markdown",
   "id": "ab4f810a",
   "metadata": {},
   "source": [
    "2. Calculate p-values. \n",
    "   If any p-value is > 0.05, this means we are not sure if the coeficient is significant\n",
    "     (close to zero - does not have an impact on the target variable).\n",
    "     In this case - remove the factor from the Linear regression equation\n",
    "     and recalculate the results again.\n",
    "     Check p-values, repeat the procedure if needed."
   ]
  },
  {
   "cell_type": "code",
   "execution_count": 400,
   "id": "be367872",
   "metadata": {},
   "outputs": [],
   "source": [
    "check_pvalues = results.pvalues[results.pvalues <= 0.05].index.tolist()\n",
    "if len(check_pvalues)<x.shape[1]:\n",
    "    x=x[check_pvalues]"
   ]
  },
  {
   "cell_type": "code",
   "execution_count": 401,
   "id": "c3f66fa5",
   "metadata": {},
   "outputs": [
    {
     "data": {
      "text/plain": [
       "const                   4.226811e-49\n",
       "fixed acidity           2.741224e-07\n",
       "volatile acidity        1.001466e-75\n",
       "residual sugar          5.747486e-23\n",
       "free sulfur dioxide     1.607803e-07\n",
       "sulphates               1.481416e-05\n",
       "alcohol                7.638983e-273\n",
       "dtype: float64"
      ]
     },
     "execution_count": 401,
     "metadata": {},
     "output_type": "execute_result"
    }
   ],
   "source": [
    "model = sm.OLS(y,x)\n",
    "results = model.fit()\n",
    "results.pvalues"
   ]
  },
  {
   "cell_type": "code",
   "execution_count": 402,
   "id": "635875ba",
   "metadata": {},
   "outputs": [
    {
     "data": {
      "text/html": [
       "<table class=\"simpletable\">\n",
       "<caption>OLS Regression Results</caption>\n",
       "<tr>\n",
       "  <th>Dep. Variable:</th>         <td>quality</td>     <th>  R-squared:         </th> <td>   0.271</td> \n",
       "</tr>\n",
       "<tr>\n",
       "  <th>Model:</th>                   <td>OLS</td>       <th>  Adj. R-squared:    </th> <td>   0.270</td> \n",
       "</tr>\n",
       "<tr>\n",
       "  <th>Method:</th>             <td>Least Squares</td>  <th>  F-statistic:       </th> <td>   302.8</td> \n",
       "</tr>\n",
       "<tr>\n",
       "  <th>Date:</th>             <td>Mon, 17 Jul 2023</td> <th>  Prob (F-statistic):</th>  <td>  0.00</td>  \n",
       "</tr>\n",
       "<tr>\n",
       "  <th>Time:</th>                 <td>15:40:31</td>     <th>  Log-Likelihood:    </th> <td> -5581.1</td> \n",
       "</tr>\n",
       "<tr>\n",
       "  <th>No. Observations:</th>      <td>  4898</td>      <th>  AIC:               </th> <td>1.118e+04</td>\n",
       "</tr>\n",
       "<tr>\n",
       "  <th>Df Residuals:</th>          <td>  4891</td>      <th>  BIC:               </th> <td>1.122e+04</td>\n",
       "</tr>\n",
       "<tr>\n",
       "  <th>Df Model:</th>              <td>     6</td>      <th>                     </th>     <td> </td>    \n",
       "</tr>\n",
       "<tr>\n",
       "  <th>Covariance Type:</th>      <td>nonrobust</td>    <th>                     </th>     <td> </td>    \n",
       "</tr>\n",
       "</table>\n",
       "<table class=\"simpletable\">\n",
       "<tr>\n",
       "           <td></td>              <th>coef</th>     <th>std err</th>      <th>t</th>      <th>P>|t|</th>  <th>[0.025</th>    <th>0.975]</th>  \n",
       "</tr>\n",
       "<tr>\n",
       "  <th>const</th>               <td>    2.4462</td> <td>    0.164</td> <td>   14.894</td> <td> 0.000</td> <td>    2.124</td> <td>    2.768</td>\n",
       "</tr>\n",
       "<tr>\n",
       "  <th>fixed acidity</th>       <td>   -0.0668</td> <td>    0.013</td> <td>   -5.148</td> <td> 0.000</td> <td>   -0.092</td> <td>   -0.041</td>\n",
       "</tr>\n",
       "<tr>\n",
       "  <th>volatile acidity</th>    <td>   -2.0402</td> <td>    0.109</td> <td>  -18.740</td> <td> 0.000</td> <td>   -2.254</td> <td>   -1.827</td>\n",
       "</tr>\n",
       "<tr>\n",
       "  <th>residual sugar</th>      <td>    0.0245</td> <td>    0.002</td> <td>    9.918</td> <td> 0.000</td> <td>    0.020</td> <td>    0.029</td>\n",
       "</tr>\n",
       "<tr>\n",
       "  <th>free sulfur dioxide</th> <td>    0.0036</td> <td>    0.001</td> <td>    5.247</td> <td> 0.000</td> <td>    0.002</td> <td>    0.005</td>\n",
       "</tr>\n",
       "<tr>\n",
       "  <th>sulphates</th>           <td>    0.4123</td> <td>    0.095</td> <td>    4.336</td> <td> 0.000</td> <td>    0.226</td> <td>    0.599</td>\n",
       "</tr>\n",
       "<tr>\n",
       "  <th>alcohol</th>             <td>    0.3778</td> <td>    0.010</td> <td>   37.666</td> <td> 0.000</td> <td>    0.358</td> <td>    0.397</td>\n",
       "</tr>\n",
       "</table>\n",
       "<table class=\"simpletable\">\n",
       "<tr>\n",
       "  <th>Omnibus:</th>       <td>106.468</td> <th>  Durbin-Watson:     </th> <td>   1.626</td>\n",
       "</tr>\n",
       "<tr>\n",
       "  <th>Prob(Omnibus):</th> <td> 0.000</td>  <th>  Jarque-Bera (JB):  </th> <td> 225.207</td>\n",
       "</tr>\n",
       "<tr>\n",
       "  <th>Skew:</th>          <td> 0.078</td>  <th>  Prob(JB):          </th> <td>1.25e-49</td>\n",
       "</tr>\n",
       "<tr>\n",
       "  <th>Kurtosis:</th>      <td> 4.039</td>  <th>  Cond. No.          </th> <td>    647.</td>\n",
       "</tr>\n",
       "</table><br/><br/>Notes:<br/>[1] Standard Errors assume that the covariance matrix of the errors is correctly specified."
      ],
      "text/latex": [
       "\\begin{center}\n",
       "\\begin{tabular}{lclc}\n",
       "\\toprule\n",
       "\\textbf{Dep. Variable:}      &     quality      & \\textbf{  R-squared:         } &     0.271   \\\\\n",
       "\\textbf{Model:}              &       OLS        & \\textbf{  Adj. R-squared:    } &     0.270   \\\\\n",
       "\\textbf{Method:}             &  Least Squares   & \\textbf{  F-statistic:       } &     302.8   \\\\\n",
       "\\textbf{Date:}               & Mon, 17 Jul 2023 & \\textbf{  Prob (F-statistic):} &     0.00    \\\\\n",
       "\\textbf{Time:}               &     15:40:31     & \\textbf{  Log-Likelihood:    } &   -5581.1   \\\\\n",
       "\\textbf{No. Observations:}   &        4898      & \\textbf{  AIC:               } & 1.118e+04   \\\\\n",
       "\\textbf{Df Residuals:}       &        4891      & \\textbf{  BIC:               } & 1.122e+04   \\\\\n",
       "\\textbf{Df Model:}           &           6      & \\textbf{                     } &             \\\\\n",
       "\\textbf{Covariance Type:}    &    nonrobust     & \\textbf{                     } &             \\\\\n",
       "\\bottomrule\n",
       "\\end{tabular}\n",
       "\\begin{tabular}{lcccccc}\n",
       "                             & \\textbf{coef} & \\textbf{std err} & \\textbf{t} & \\textbf{P$> |$t$|$} & \\textbf{[0.025} & \\textbf{0.975]}  \\\\\n",
       "\\midrule\n",
       "\\textbf{const}               &       2.4462  &        0.164     &    14.894  &         0.000        &        2.124    &        2.768     \\\\\n",
       "\\textbf{fixed acidity}       &      -0.0668  &        0.013     &    -5.148  &         0.000        &       -0.092    &       -0.041     \\\\\n",
       "\\textbf{volatile acidity}    &      -2.0402  &        0.109     &   -18.740  &         0.000        &       -2.254    &       -1.827     \\\\\n",
       "\\textbf{residual sugar}      &       0.0245  &        0.002     &     9.918  &         0.000        &        0.020    &        0.029     \\\\\n",
       "\\textbf{free sulfur dioxide} &       0.0036  &        0.001     &     5.247  &         0.000        &        0.002    &        0.005     \\\\\n",
       "\\textbf{sulphates}           &       0.4123  &        0.095     &     4.336  &         0.000        &        0.226    &        0.599     \\\\\n",
       "\\textbf{alcohol}             &       0.3778  &        0.010     &    37.666  &         0.000        &        0.358    &        0.397     \\\\\n",
       "\\bottomrule\n",
       "\\end{tabular}\n",
       "\\begin{tabular}{lclc}\n",
       "\\textbf{Omnibus:}       & 106.468 & \\textbf{  Durbin-Watson:     } &    1.626  \\\\\n",
       "\\textbf{Prob(Omnibus):} &   0.000 & \\textbf{  Jarque-Bera (JB):  } &  225.207  \\\\\n",
       "\\textbf{Skew:}          &   0.078 & \\textbf{  Prob(JB):          } & 1.25e-49  \\\\\n",
       "\\textbf{Kurtosis:}      &   4.039 & \\textbf{  Cond. No.          } &     647.  \\\\\n",
       "\\bottomrule\n",
       "\\end{tabular}\n",
       "%\\caption{OLS Regression Results}\n",
       "\\end{center}\n",
       "\n",
       "Notes: \\newline\n",
       " [1] Standard Errors assume that the covariance matrix of the errors is correctly specified."
      ],
      "text/plain": [
       "<class 'statsmodels.iolib.summary.Summary'>\n",
       "\"\"\"\n",
       "                            OLS Regression Results                            \n",
       "==============================================================================\n",
       "Dep. Variable:                quality   R-squared:                       0.271\n",
       "Model:                            OLS   Adj. R-squared:                  0.270\n",
       "Method:                 Least Squares   F-statistic:                     302.8\n",
       "Date:                Mon, 17 Jul 2023   Prob (F-statistic):               0.00\n",
       "Time:                        15:40:31   Log-Likelihood:                -5581.1\n",
       "No. Observations:                4898   AIC:                         1.118e+04\n",
       "Df Residuals:                    4891   BIC:                         1.122e+04\n",
       "Df Model:                           6                                         \n",
       "Covariance Type:            nonrobust                                         \n",
       "=======================================================================================\n",
       "                          coef    std err          t      P>|t|      [0.025      0.975]\n",
       "---------------------------------------------------------------------------------------\n",
       "const                   2.4462      0.164     14.894      0.000       2.124       2.768\n",
       "fixed acidity          -0.0668      0.013     -5.148      0.000      -0.092      -0.041\n",
       "volatile acidity       -2.0402      0.109    -18.740      0.000      -2.254      -1.827\n",
       "residual sugar          0.0245      0.002      9.918      0.000       0.020       0.029\n",
       "free sulfur dioxide     0.0036      0.001      5.247      0.000       0.002       0.005\n",
       "sulphates               0.4123      0.095      4.336      0.000       0.226       0.599\n",
       "alcohol                 0.3778      0.010     37.666      0.000       0.358       0.397\n",
       "==============================================================================\n",
       "Omnibus:                      106.468   Durbin-Watson:                   1.626\n",
       "Prob(Omnibus):                  0.000   Jarque-Bera (JB):              225.207\n",
       "Skew:                           0.078   Prob(JB):                     1.25e-49\n",
       "Kurtosis:                       4.039   Cond. No.                         647.\n",
       "==============================================================================\n",
       "\n",
       "Notes:\n",
       "[1] Standard Errors assume that the covariance matrix of the errors is correctly specified.\n",
       "\"\"\""
      ]
     },
     "execution_count": 402,
     "metadata": {},
     "output_type": "execute_result"
    }
   ],
   "source": [
    "results.summary()"
   ]
  },
  {
   "cell_type": "markdown",
   "id": "e02f87e4",
   "metadata": {},
   "source": [
    "3. Calculate rest of desriptive measures of the model(MSE, R-squared, etc.)"
   ]
  },
  {
   "cell_type": "code",
   "execution_count": 403,
   "id": "79fa5d0f",
   "metadata": {},
   "outputs": [
    {
     "data": {
      "text/plain": [
       "173.3767431360594"
      ]
     },
     "execution_count": 403,
     "metadata": {},
     "output_type": "execute_result"
    }
   ],
   "source": [
    "results.mse_model"
   ]
  },
  {
   "cell_type": "code",
   "execution_count": 404,
   "id": "1054cf68",
   "metadata": {},
   "outputs": [
    {
     "data": {
      "text/plain": [
       "0.2699368495970069"
      ]
     },
     "execution_count": 404,
     "metadata": {},
     "output_type": "execute_result"
    }
   ],
   "source": [
    "results.rsquared_adj"
   ]
  },
  {
   "cell_type": "code",
   "execution_count": 405,
   "id": "e24d277d",
   "metadata": {},
   "outputs": [
    {
     "data": {
      "text/plain": [
       "0.27083135212966325"
      ]
     },
     "execution_count": 405,
     "metadata": {},
     "output_type": "execute_result"
    }
   ],
   "source": [
    "results.rsquared"
   ]
  },
  {
   "cell_type": "markdown",
   "id": "2b899ee3",
   "metadata": {},
   "source": [
    "Based on them, provide the feeback on how good the model fits the data."
   ]
  },
  {
   "cell_type": "markdown",
   "id": "3c930082",
   "metadata": {},
   "source": [
    "Rerunning the model again after removing \"density\" variable from the dataset, rechecking pvalues,\n",
    "calculating rest of desriptive measures of the model,\n",
    "R-squared value was not impacted and remained at 0.27, which gives us a quite small accuarcy, there could be other factors that impacts the model."
   ]
  },
  {
   "cell_type": "markdown",
   "id": "bdd8a77c",
   "metadata": {},
   "source": [
    "Calculate the predictions for some predictior values selected (up to you to select), provide the feedback."
   ]
  },
  {
   "cell_type": "code",
   "execution_count": 407,
   "id": "5369c54a",
   "metadata": {},
   "outputs": [
    {
     "ename": "ValueError",
     "evalue": "shapes (1,6) and (7,) not aligned: 6 (dim 1) != 7 (dim 0)",
     "output_type": "error",
     "traceback": [
      "\u001b[1;31m---------------------------------------------------------------------------\u001b[0m",
      "\u001b[1;31mValueError\u001b[0m                                Traceback (most recent call last)",
      "Cell \u001b[1;32mIn[407], line 8\u001b[0m\n\u001b[0;32m      1\u001b[0m predi_values \u001b[38;5;241m=\u001b[39m pa\u001b[38;5;241m.\u001b[39mDataFrame({ \n\u001b[0;32m      2\u001b[0m \u001b[38;5;124m\"\u001b[39m\u001b[38;5;124mfixed acidity\u001b[39m\u001b[38;5;124m\"\u001b[39m:[\u001b[38;5;241m7.2\u001b[39m],\n\u001b[0;32m      3\u001b[0m \u001b[38;5;124m\"\u001b[39m\u001b[38;5;124mvolatile acidity\u001b[39m\u001b[38;5;124m\"\u001b[39m:[\u001b[38;5;241m0.23\u001b[39m],\n\u001b[1;32m   (...)\u001b[0m\n\u001b[0;32m      6\u001b[0m \u001b[38;5;124m\"\u001b[39m\u001b[38;5;124msulphates\u001b[39m\u001b[38;5;124m\"\u001b[39m:[\u001b[38;5;241m0.40\u001b[39m],\n\u001b[0;32m      7\u001b[0m \u001b[38;5;124m\"\u001b[39m\u001b[38;5;124malcohol\u001b[39m\u001b[38;5;124m\"\u001b[39m:[\u001b[38;5;241m9.9\u001b[39m]})\n\u001b[1;32m----> 8\u001b[0m predi \u001b[38;5;241m=\u001b[39m \u001b[43mresults\u001b[49m\u001b[38;5;241;43m.\u001b[39;49m\u001b[43mpredict\u001b[49m\u001b[43m(\u001b[49m\u001b[43mpredi_values\u001b[49m\u001b[43m)\u001b[49m\n\u001b[0;32m      9\u001b[0m predi\n",
      "File \u001b[1;32m~\\AppData\\Local\\Programs\\Python\\Python311\\Lib\\site-packages\\statsmodels\\base\\model.py:1176\u001b[0m, in \u001b[0;36mResults.predict\u001b[1;34m(self, exog, transform, *args, **kwargs)\u001b[0m\n\u001b[0;32m   1129\u001b[0m \u001b[38;5;250m\u001b[39m\u001b[38;5;124;03m\"\"\"\u001b[39;00m\n\u001b[0;32m   1130\u001b[0m \u001b[38;5;124;03mCall self.model.predict with self.params as the first argument.\u001b[39;00m\n\u001b[0;32m   1131\u001b[0m \n\u001b[1;32m   (...)\u001b[0m\n\u001b[0;32m   1171\u001b[0m \u001b[38;5;124;03mreturned prediction.\u001b[39;00m\n\u001b[0;32m   1172\u001b[0m \u001b[38;5;124;03m\"\"\"\u001b[39;00m\n\u001b[0;32m   1173\u001b[0m exog, exog_index \u001b[38;5;241m=\u001b[39m \u001b[38;5;28mself\u001b[39m\u001b[38;5;241m.\u001b[39m_transform_predict_exog(exog,\n\u001b[0;32m   1174\u001b[0m                                                 transform\u001b[38;5;241m=\u001b[39mtransform)\n\u001b[1;32m-> 1176\u001b[0m predict_results \u001b[38;5;241m=\u001b[39m \u001b[38;5;28;43mself\u001b[39;49m\u001b[38;5;241;43m.\u001b[39;49m\u001b[43mmodel\u001b[49m\u001b[38;5;241;43m.\u001b[39;49m\u001b[43mpredict\u001b[49m\u001b[43m(\u001b[49m\u001b[38;5;28;43mself\u001b[39;49m\u001b[38;5;241;43m.\u001b[39;49m\u001b[43mparams\u001b[49m\u001b[43m,\u001b[49m\u001b[43m \u001b[49m\u001b[43mexog\u001b[49m\u001b[43m,\u001b[49m\u001b[43m \u001b[49m\u001b[38;5;241;43m*\u001b[39;49m\u001b[43margs\u001b[49m\u001b[43m,\u001b[49m\n\u001b[0;32m   1177\u001b[0m \u001b[43m                                     \u001b[49m\u001b[38;5;241;43m*\u001b[39;49m\u001b[38;5;241;43m*\u001b[39;49m\u001b[43mkwargs\u001b[49m\u001b[43m)\u001b[49m\n\u001b[0;32m   1179\u001b[0m \u001b[38;5;28;01mif\u001b[39;00m exog_index \u001b[38;5;129;01mis\u001b[39;00m \u001b[38;5;129;01mnot\u001b[39;00m \u001b[38;5;28;01mNone\u001b[39;00m \u001b[38;5;129;01mand\u001b[39;00m \u001b[38;5;129;01mnot\u001b[39;00m \u001b[38;5;28mhasattr\u001b[39m(predict_results,\n\u001b[0;32m   1180\u001b[0m                                           \u001b[38;5;124m'\u001b[39m\u001b[38;5;124mpredicted_values\u001b[39m\u001b[38;5;124m'\u001b[39m):\n\u001b[0;32m   1181\u001b[0m     \u001b[38;5;28;01mif\u001b[39;00m predict_results\u001b[38;5;241m.\u001b[39mndim \u001b[38;5;241m==\u001b[39m \u001b[38;5;241m1\u001b[39m:\n",
      "File \u001b[1;32m~\\AppData\\Local\\Programs\\Python\\Python311\\Lib\\site-packages\\statsmodels\\regression\\linear_model.py:411\u001b[0m, in \u001b[0;36mRegressionModel.predict\u001b[1;34m(self, params, exog)\u001b[0m\n\u001b[0;32m    408\u001b[0m \u001b[38;5;28;01mif\u001b[39;00m exog \u001b[38;5;129;01mis\u001b[39;00m \u001b[38;5;28;01mNone\u001b[39;00m:\n\u001b[0;32m    409\u001b[0m     exog \u001b[38;5;241m=\u001b[39m \u001b[38;5;28mself\u001b[39m\u001b[38;5;241m.\u001b[39mexog\n\u001b[1;32m--> 411\u001b[0m \u001b[38;5;28;01mreturn\u001b[39;00m \u001b[43mnp\u001b[49m\u001b[38;5;241;43m.\u001b[39;49m\u001b[43mdot\u001b[49m\u001b[43m(\u001b[49m\u001b[43mexog\u001b[49m\u001b[43m,\u001b[49m\u001b[43m \u001b[49m\u001b[43mparams\u001b[49m\u001b[43m)\u001b[49m\n",
      "File \u001b[1;32m<__array_function__ internals>:200\u001b[0m, in \u001b[0;36mdot\u001b[1;34m(*args, **kwargs)\u001b[0m\n",
      "\u001b[1;31mValueError\u001b[0m: shapes (1,6) and (7,) not aligned: 6 (dim 1) != 7 (dim 0)"
     ]
    }
   ],
   "source": [
    "predi_values = pa.DataFrame({ \n",
    "\"fixed acidity\":[7.2],\n",
    "\"volatile acidity\":[0.23],\n",
    "\"residual sugar\":[8.5],\n",
    "\"free sulfur dioxide\":[47], \n",
    "\"sulphates\":[0.40],\n",
    "\"alcohol\":[9.9]})\n",
    "predi = results.predict(predi_values)\n",
    "predi"
   ]
  },
  {
   "cell_type": "markdown",
   "id": "35466a69",
   "metadata": {},
   "source": [
    " Do a small analysis on the residuals (histogram, density plot and compare it to normal distribution    plot)"
   ]
  },
  {
   "cell_type": "code",
   "execution_count": 408,
   "id": "50c66d1d",
   "metadata": {},
   "outputs": [
    {
     "data": {
      "text/plain": [
       "0       0.393459\n",
       "1       0.706248\n",
       "2       0.392458\n",
       "3       0.222356\n",
       "4       0.222356\n",
       "          ...   \n",
       "4893   -0.166217\n",
       "4894   -0.568980\n",
       "4895    0.599986\n",
       "4896    0.421729\n",
       "4897   -0.305299\n",
       "Length: 4898, dtype: float64"
      ]
     },
     "execution_count": 408,
     "metadata": {},
     "output_type": "execute_result"
    }
   ],
   "source": [
    "results.resid"
   ]
  },
  {
   "cell_type": "code",
   "execution_count": 409,
   "id": "d29953e1",
   "metadata": {},
   "outputs": [
    {
     "data": {
      "text/plain": [
       "<function matplotlib.pyplot.show(close=None, block=None)>"
      ]
     },
     "execution_count": 409,
     "metadata": {},
     "output_type": "execute_result"
    },
    {
     "data": {
      "image/png": "[encoded data removed]",
      "text/plain": [
       "<Figure size 640x480 with 1 Axes>"
      ]
     },
     "metadata": {},
     "output_type": "display_data"
    }
   ],
   "source": [
    "#Histogram\n",
    "plt.hist(results.resid)\n",
    "plt.title = \"Histogram- Residuals\"\n",
    "plt.xlabel(\"Residuals\")\n",
    "plt.ylabel(\"Frequency\")\n",
    "plt.show"
   ]
  },
  {
   "cell_type": "code",
   "execution_count": 410,
   "id": "b7abe00b",
   "metadata": {},
   "outputs": [],
   "source": [
    "#Density plot"
   ]
  },
  {
   "cell_type": "code",
   "execution_count": 411,
   "id": "628088d6",
   "metadata": {},
   "outputs": [
    {
     "data": {
      "text/plain": [
       "<function matplotlib.pyplot.show(close=None, block=None)>"
      ]
     },
     "execution_count": 411,
     "metadata": {},
     "output_type": "execute_result"
    },
    {
     "data": {
      "image/png": "[encoded data removed]",
      "text/plain": [
       "<Figure size 640x480 with 1 Axes>"
      ]
     },
     "metadata": {},
     "output_type": "display_data"
    }
   ],
   "source": [
    "sns.kdeplot(results.resid)\n",
    "sns.set_style(\"whitegrid\")\n",
    "plt.xlabel(\"Residuals\")\n",
    "plt.ylabel(\"Density\")\n",
    "plt.show"
   ]
  },
  {
   "cell_type": "code",
   "execution_count": 413,
   "id": "3b02df71",
   "metadata": {},
   "outputs": [
    {
     "data": {
      "image/png": "[encoded data removed]",
      "text/plain": [
       "<Figure size 640x480 with 1 Axes>"
      ]
     },
     "metadata": {},
     "output_type": "display_data"
    }
   ],
   "source": [
    "#Normal distribution plot\n",
    "plt.figure()\n",
    "stats.probplot(results.resid,plot=plt)\n",
    "plt.xlabel(\"Theoretical Quantiles\")\n",
    "plt.ylabel(\"Sample Quantiles\")\n",
    "plt.show()"
   ]
  },
  {
   "cell_type": "markdown",
   "id": "e6488200",
   "metadata": {},
   "source": [
    "b) own dataset:"
   ]
  },
  {
   "cell_type": "code",
   "execution_count": 414,
   "id": "4e7bbcd2",
   "metadata": {},
   "outputs": [],
   "source": [
    "#Diabetes dataset\n",
    "url = \"https://raw.githubusercontent.com/plotly/datasets/master/diabetes.csv\"\n",
    "df = pa.read_csv(url)"
   ]
  },
  {
   "cell_type": "code",
   "execution_count": 415,
   "id": "32877e4e",
   "metadata": {},
   "outputs": [
    {
     "data": {
      "text/html": [
       "<div>\n",
       "<style scoped>\n",
       "    .dataframe tbody tr th:only-of-type {\n",
       "        vertical-align: middle;\n",
       "    }\n",
       "\n",
       "    .dataframe tbody tr th {\n",
       "        vertical-align: top;\n",
       "    }\n",
       "\n",
       "    .dataframe thead th {\n",
       "        text-align: right;\n",
       "    }\n",
       "</style>\n",
       "<table border=\"1\" class=\"dataframe\">\n",
       "  <thead>\n",
       "    <tr style=\"text-align: right;\">\n",
       "      <th></th>\n",
       "      <th>Pregnancies</th>\n",
       "      <th>Glucose</th>\n",
       "      <th>BloodPressure</th>\n",
       "      <th>SkinThickness</th>\n",
       "      <th>Insulin</th>\n",
       "      <th>BMI</th>\n",
       "      <th>DiabetesPedigreeFunction</th>\n",
       "      <th>Age</th>\n",
       "      <th>Outcome</th>\n",
       "    </tr>\n",
       "  </thead>\n",
       "  <tbody>\n",
       "    <tr>\n",
       "      <th>0</th>\n",
       "      <td>6</td>\n",
       "      <td>148</td>\n",
       "      <td>72</td>\n",
       "      <td>35</td>\n",
       "      <td>0</td>\n",
       "      <td>33.6</td>\n",
       "      <td>0.627</td>\n",
       "      <td>50</td>\n",
       "      <td>1</td>\n",
       "    </tr>\n",
       "    <tr>\n",
       "      <th>1</th>\n",
       "      <td>1</td>\n",
       "      <td>85</td>\n",
       "      <td>66</td>\n",
       "      <td>29</td>\n",
       "      <td>0</td>\n",
       "      <td>26.6</td>\n",
       "      <td>0.351</td>\n",
       "      <td>31</td>\n",
       "      <td>0</td>\n",
       "    </tr>\n",
       "    <tr>\n",
       "      <th>2</th>\n",
       "      <td>8</td>\n",
       "      <td>183</td>\n",
       "      <td>64</td>\n",
       "      <td>0</td>\n",
       "      <td>0</td>\n",
       "      <td>23.3</td>\n",
       "      <td>0.672</td>\n",
       "      <td>32</td>\n",
       "      <td>1</td>\n",
       "    </tr>\n",
       "    <tr>\n",
       "      <th>3</th>\n",
       "      <td>1</td>\n",
       "      <td>89</td>\n",
       "      <td>66</td>\n",
       "      <td>23</td>\n",
       "      <td>94</td>\n",
       "      <td>28.1</td>\n",
       "      <td>0.167</td>\n",
       "      <td>21</td>\n",
       "      <td>0</td>\n",
       "    </tr>\n",
       "    <tr>\n",
       "      <th>4</th>\n",
       "      <td>0</td>\n",
       "      <td>137</td>\n",
       "      <td>40</td>\n",
       "      <td>35</td>\n",
       "      <td>168</td>\n",
       "      <td>43.1</td>\n",
       "      <td>2.288</td>\n",
       "      <td>33</td>\n",
       "      <td>1</td>\n",
       "    </tr>\n",
       "    <tr>\n",
       "      <th>...</th>\n",
       "      <td>...</td>\n",
       "      <td>...</td>\n",
       "      <td>...</td>\n",
       "      <td>...</td>\n",
       "      <td>...</td>\n",
       "      <td>...</td>\n",
       "      <td>...</td>\n",
       "      <td>...</td>\n",
       "      <td>...</td>\n",
       "    </tr>\n",
       "    <tr>\n",
       "      <th>763</th>\n",
       "      <td>10</td>\n",
       "      <td>101</td>\n",
       "      <td>76</td>\n",
       "      <td>48</td>\n",
       "      <td>180</td>\n",
       "      <td>32.9</td>\n",
       "      <td>0.171</td>\n",
       "      <td>63</td>\n",
       "      <td>0</td>\n",
       "    </tr>\n",
       "    <tr>\n",
       "      <th>764</th>\n",
       "      <td>2</td>\n",
       "      <td>122</td>\n",
       "      <td>70</td>\n",
       "      <td>27</td>\n",
       "      <td>0</td>\n",
       "      <td>36.8</td>\n",
       "      <td>0.340</td>\n",
       "      <td>27</td>\n",
       "      <td>0</td>\n",
       "    </tr>\n",
       "    <tr>\n",
       "      <th>765</th>\n",
       "      <td>5</td>\n",
       "      <td>121</td>\n",
       "      <td>72</td>\n",
       "      <td>23</td>\n",
       "      <td>112</td>\n",
       "      <td>26.2</td>\n",
       "      <td>0.245</td>\n",
       "      <td>30</td>\n",
       "      <td>0</td>\n",
       "    </tr>\n",
       "    <tr>\n",
       "      <th>766</th>\n",
       "      <td>1</td>\n",
       "      <td>126</td>\n",
       "      <td>60</td>\n",
       "      <td>0</td>\n",
       "      <td>0</td>\n",
       "      <td>30.1</td>\n",
       "      <td>0.349</td>\n",
       "      <td>47</td>\n",
       "      <td>1</td>\n",
       "    </tr>\n",
       "    <tr>\n",
       "      <th>767</th>\n",
       "      <td>1</td>\n",
       "      <td>93</td>\n",
       "      <td>70</td>\n",
       "      <td>31</td>\n",
       "      <td>0</td>\n",
       "      <td>30.4</td>\n",
       "      <td>0.315</td>\n",
       "      <td>23</td>\n",
       "      <td>0</td>\n",
       "    </tr>\n",
       "  </tbody>\n",
       "</table>\n",
       "<p>768 rows × 9 columns</p>\n",
       "</div>"
      ],
      "text/plain": [
       "     Pregnancies  Glucose  BloodPressure  SkinThickness  Insulin   BMI   \n",
       "0              6      148             72             35        0  33.6  \\\n",
       "1              1       85             66             29        0  26.6   \n",
       "2              8      183             64              0        0  23.3   \n",
       "3              1       89             66             23       94  28.1   \n",
       "4              0      137             40             35      168  43.1   \n",
       "..           ...      ...            ...            ...      ...   ...   \n",
       "763           10      101             76             48      180  32.9   \n",
       "764            2      122             70             27        0  36.8   \n",
       "765            5      121             72             23      112  26.2   \n",
       "766            1      126             60              0        0  30.1   \n",
       "767            1       93             70             31        0  30.4   \n",
       "\n",
       "     DiabetesPedigreeFunction  Age  Outcome  \n",
       "0                       0.627   50        1  \n",
       "1                       0.351   31        0  \n",
       "2                       0.672   32        1  \n",
       "3                       0.167   21        0  \n",
       "4                       2.288   33        1  \n",
       "..                        ...  ...      ...  \n",
       "763                     0.171   63        0  \n",
       "764                     0.340   27        0  \n",
       "765                     0.245   30        0  \n",
       "766                     0.349   47        1  \n",
       "767                     0.315   23        0  \n",
       "\n",
       "[768 rows x 9 columns]"
      ]
     },
     "execution_count": 415,
     "metadata": {},
     "output_type": "execute_result"
    }
   ],
   "source": [
    "df"
   ]
  },
  {
   "cell_type": "code",
   "execution_count": 426,
   "id": "cb593add",
   "metadata": {},
   "outputs": [],
   "source": [
    "x = df[[\"Glucose\", \"BloodPressure\", \"SkinThickness\", \"Insulin\", \"BMI\", \"DiabetesPedigreeFunction\", \"Age\", \"Outcome\"]]\n",
    "y = df[\"Pregnancies\"]"
   ]
  },
  {
   "cell_type": "code",
   "execution_count": 427,
   "id": "5594e320",
   "metadata": {},
   "outputs": [
    {
     "data": {
      "text/plain": [
       "const                      -0.432002\n",
       "Glucose                    -0.005395\n",
       "BloodPressure               0.004876\n",
       "SkinThickness               0.000436\n",
       "Insulin                    -0.001201\n",
       "BMI                        -0.010193\n",
       "DiabetesPedigreeFunction   -0.603210\n",
       "Age                         0.148540\n",
       "Outcome                     1.009485\n",
       "dtype: float64"
      ]
     },
     "execution_count": 427,
     "metadata": {},
     "output_type": "execute_result"
    }
   ],
   "source": [
    "x = sm.add_constant(x)\n",
    "model = sm.OLS(y,x)\n",
    "results = model.fit()\n",
    "results.params"
   ]
  },
  {
   "cell_type": "code",
   "execution_count": 428,
   "id": "90d8163c",
   "metadata": {},
   "outputs": [
    {
     "data": {
      "text/plain": [
       "const                       4.975062e-01\n",
       "Glucose                     1.673212e-01\n",
       "BloodPressure               3.934521e-01\n",
       "SkinThickness               9.553167e-01\n",
       "Insulin                     2.527577e-01\n",
       "BMI                         4.968938e-01\n",
       "DiabetesPedigreeFunction    5.736409e-02\n",
       "Age                         1.433414e-48\n",
       "Outcome                     6.561462e-05\n",
       "dtype: float64"
      ]
     },
     "execution_count": 428,
     "metadata": {},
     "output_type": "execute_result"
    }
   ],
   "source": [
    "results.pvalues"
   ]
  },
  {
   "cell_type": "code",
   "execution_count": 429,
   "id": "da7f0cc9",
   "metadata": {},
   "outputs": [
    {
     "data": {
      "text/html": [
       "<table class=\"simpletable\">\n",
       "<caption>OLS Regression Results</caption>\n",
       "<tr>\n",
       "  <th>Dep. Variable:</th>       <td>Pregnancies</td>   <th>  R-squared:         </th> <td>   0.316</td>\n",
       "</tr>\n",
       "<tr>\n",
       "  <th>Model:</th>                   <td>OLS</td>       <th>  Adj. R-squared:    </th> <td>   0.308</td>\n",
       "</tr>\n",
       "<tr>\n",
       "  <th>Method:</th>             <td>Least Squares</td>  <th>  F-statistic:       </th> <td>   43.76</td>\n",
       "</tr>\n",
       "<tr>\n",
       "  <th>Date:</th>             <td>Mon, 17 Jul 2023</td> <th>  Prob (F-statistic):</th> <td>9.09e-58</td>\n",
       "</tr>\n",
       "<tr>\n",
       "  <th>Time:</th>                 <td>15:52:01</td>     <th>  Log-Likelihood:    </th> <td> -1876.6</td>\n",
       "</tr>\n",
       "<tr>\n",
       "  <th>No. Observations:</th>      <td>   768</td>      <th>  AIC:               </th> <td>   3771.</td>\n",
       "</tr>\n",
       "<tr>\n",
       "  <th>Df Residuals:</th>          <td>   759</td>      <th>  BIC:               </th> <td>   3813.</td>\n",
       "</tr>\n",
       "<tr>\n",
       "  <th>Df Model:</th>              <td>     8</td>      <th>                     </th>     <td> </td>   \n",
       "</tr>\n",
       "<tr>\n",
       "  <th>Covariance Type:</th>      <td>nonrobust</td>    <th>                     </th>     <td> </td>   \n",
       "</tr>\n",
       "</table>\n",
       "<table class=\"simpletable\">\n",
       "<tr>\n",
       "              <td></td>                <th>coef</th>     <th>std err</th>      <th>t</th>      <th>P>|t|</th>  <th>[0.025</th>    <th>0.975]</th>  \n",
       "</tr>\n",
       "<tr>\n",
       "  <th>const</th>                    <td>   -0.4320</td> <td>    0.636</td> <td>   -0.679</td> <td> 0.498</td> <td>   -1.681</td> <td>    0.817</td>\n",
       "</tr>\n",
       "<tr>\n",
       "  <th>Glucose</th>                  <td>   -0.0054</td> <td>    0.004</td> <td>   -1.382</td> <td> 0.167</td> <td>   -0.013</td> <td>    0.002</td>\n",
       "</tr>\n",
       "<tr>\n",
       "  <th>BloodPressure</th>            <td>    0.0049</td> <td>    0.006</td> <td>    0.854</td> <td> 0.393</td> <td>   -0.006</td> <td>    0.016</td>\n",
       "</tr>\n",
       "<tr>\n",
       "  <th>SkinThickness</th>            <td>    0.0004</td> <td>    0.008</td> <td>    0.056</td> <td> 0.955</td> <td>   -0.015</td> <td>    0.016</td>\n",
       "</tr>\n",
       "<tr>\n",
       "  <th>Insulin</th>                  <td>   -0.0012</td> <td>    0.001</td> <td>   -1.145</td> <td> 0.253</td> <td>   -0.003</td> <td>    0.001</td>\n",
       "</tr>\n",
       "<tr>\n",
       "  <th>BMI</th>                      <td>   -0.0102</td> <td>    0.015</td> <td>   -0.680</td> <td> 0.497</td> <td>   -0.040</td> <td>    0.019</td>\n",
       "</tr>\n",
       "<tr>\n",
       "  <th>DiabetesPedigreeFunction</th> <td>   -0.6032</td> <td>    0.317</td> <td>   -1.903</td> <td> 0.057</td> <td>   -1.225</td> <td>    0.019</td>\n",
       "</tr>\n",
       "<tr>\n",
       "  <th>Age</th>                      <td>    0.1485</td> <td>    0.009</td> <td>   15.750</td> <td> 0.000</td> <td>    0.130</td> <td>    0.167</td>\n",
       "</tr>\n",
       "<tr>\n",
       "  <th>Outcome</th>                  <td>    1.0095</td> <td>    0.251</td> <td>    4.014</td> <td> 0.000</td> <td>    0.516</td> <td>    1.503</td>\n",
       "</tr>\n",
       "</table>\n",
       "<table class=\"simpletable\">\n",
       "<tr>\n",
       "  <th>Omnibus:</th>       <td>32.295</td> <th>  Durbin-Watson:     </th> <td>   1.986</td>\n",
       "</tr>\n",
       "<tr>\n",
       "  <th>Prob(Omnibus):</th> <td> 0.000</td> <th>  Jarque-Bera (JB):  </th> <td>  45.367</td>\n",
       "</tr>\n",
       "<tr>\n",
       "  <th>Skew:</th>          <td> 0.379</td> <th>  Prob(JB):          </th> <td>1.41e-10</td>\n",
       "</tr>\n",
       "<tr>\n",
       "  <th>Kurtosis:</th>      <td> 3.917</td> <th>  Cond. No.          </th> <td>1.18e+03</td>\n",
       "</tr>\n",
       "</table><br/><br/>Notes:<br/>[1] Standard Errors assume that the covariance matrix of the errors is correctly specified.<br/>[2] The condition number is large, 1.18e+03. This might indicate that there are<br/>strong multicollinearity or other numerical problems."
      ],
      "text/latex": [
       "\\begin{center}\n",
       "\\begin{tabular}{lclc}\n",
       "\\toprule\n",
       "\\textbf{Dep. Variable:}           &   Pregnancies    & \\textbf{  R-squared:         } &     0.316   \\\\\n",
       "\\textbf{Model:}                   &       OLS        & \\textbf{  Adj. R-squared:    } &     0.308   \\\\\n",
       "\\textbf{Method:}                  &  Least Squares   & \\textbf{  F-statistic:       } &     43.76   \\\\\n",
       "\\textbf{Date:}                    & Mon, 17 Jul 2023 & \\textbf{  Prob (F-statistic):} &  9.09e-58   \\\\\n",
       "\\textbf{Time:}                    &     15:52:01     & \\textbf{  Log-Likelihood:    } &   -1876.6   \\\\\n",
       "\\textbf{No. Observations:}        &         768      & \\textbf{  AIC:               } &     3771.   \\\\\n",
       "\\textbf{Df Residuals:}            &         759      & \\textbf{  BIC:               } &     3813.   \\\\\n",
       "\\textbf{Df Model:}                &           8      & \\textbf{                     } &             \\\\\n",
       "\\textbf{Covariance Type:}         &    nonrobust     & \\textbf{                     } &             \\\\\n",
       "\\bottomrule\n",
       "\\end{tabular}\n",
       "\\begin{tabular}{lcccccc}\n",
       "                                  & \\textbf{coef} & \\textbf{std err} & \\textbf{t} & \\textbf{P$> |$t$|$} & \\textbf{[0.025} & \\textbf{0.975]}  \\\\\n",
       "\\midrule\n",
       "\\textbf{const}                    &      -0.4320  &        0.636     &    -0.679  &         0.498        &       -1.681    &        0.817     \\\\\n",
       "\\textbf{Glucose}                  &      -0.0054  &        0.004     &    -1.382  &         0.167        &       -0.013    &        0.002     \\\\\n",
       "\\textbf{BloodPressure}            &       0.0049  &        0.006     &     0.854  &         0.393        &       -0.006    &        0.016     \\\\\n",
       "\\textbf{SkinThickness}            &       0.0004  &        0.008     &     0.056  &         0.955        &       -0.015    &        0.016     \\\\\n",
       "\\textbf{Insulin}                  &      -0.0012  &        0.001     &    -1.145  &         0.253        &       -0.003    &        0.001     \\\\\n",
       "\\textbf{BMI}                      &      -0.0102  &        0.015     &    -0.680  &         0.497        &       -0.040    &        0.019     \\\\\n",
       "\\textbf{DiabetesPedigreeFunction} &      -0.6032  &        0.317     &    -1.903  &         0.057        &       -1.225    &        0.019     \\\\\n",
       "\\textbf{Age}                      &       0.1485  &        0.009     &    15.750  &         0.000        &        0.130    &        0.167     \\\\\n",
       "\\textbf{Outcome}                  &       1.0095  &        0.251     &     4.014  &         0.000        &        0.516    &        1.503     \\\\\n",
       "\\bottomrule\n",
       "\\end{tabular}\n",
       "\\begin{tabular}{lclc}\n",
       "\\textbf{Omnibus:}       & 32.295 & \\textbf{  Durbin-Watson:     } &    1.986  \\\\\n",
       "\\textbf{Prob(Omnibus):} &  0.000 & \\textbf{  Jarque-Bera (JB):  } &   45.367  \\\\\n",
       "\\textbf{Skew:}          &  0.379 & \\textbf{  Prob(JB):          } & 1.41e-10  \\\\\n",
       "\\textbf{Kurtosis:}      &  3.917 & \\textbf{  Cond. No.          } & 1.18e+03  \\\\\n",
       "\\bottomrule\n",
       "\\end{tabular}\n",
       "%\\caption{OLS Regression Results}\n",
       "\\end{center}\n",
       "\n",
       "Notes: \\newline\n",
       " [1] Standard Errors assume that the covariance matrix of the errors is correctly specified. \\newline\n",
       " [2] The condition number is large, 1.18e+03. This might indicate that there are \\newline\n",
       " strong multicollinearity or other numerical problems."
      ],
      "text/plain": [
       "<class 'statsmodels.iolib.summary.Summary'>\n",
       "\"\"\"\n",
       "                            OLS Regression Results                            \n",
       "==============================================================================\n",
       "Dep. Variable:            Pregnancies   R-squared:                       0.316\n",
       "Model:                            OLS   Adj. R-squared:                  0.308\n",
       "Method:                 Least Squares   F-statistic:                     43.76\n",
       "Date:                Mon, 17 Jul 2023   Prob (F-statistic):           9.09e-58\n",
       "Time:                        15:52:01   Log-Likelihood:                -1876.6\n",
       "No. Observations:                 768   AIC:                             3771.\n",
       "Df Residuals:                     759   BIC:                             3813.\n",
       "Df Model:                           8                                         \n",
       "Covariance Type:            nonrobust                                         \n",
       "============================================================================================\n",
       "                               coef    std err          t      P>|t|      [0.025      0.975]\n",
       "--------------------------------------------------------------------------------------------\n",
       "const                       -0.4320      0.636     -0.679      0.498      -1.681       0.817\n",
       "Glucose                     -0.0054      0.004     -1.382      0.167      -0.013       0.002\n",
       "BloodPressure                0.0049      0.006      0.854      0.393      -0.006       0.016\n",
       "SkinThickness                0.0004      0.008      0.056      0.955      -0.015       0.016\n",
       "Insulin                     -0.0012      0.001     -1.145      0.253      -0.003       0.001\n",
       "BMI                         -0.0102      0.015     -0.680      0.497      -0.040       0.019\n",
       "DiabetesPedigreeFunction    -0.6032      0.317     -1.903      0.057      -1.225       0.019\n",
       "Age                          0.1485      0.009     15.750      0.000       0.130       0.167\n",
       "Outcome                      1.0095      0.251      4.014      0.000       0.516       1.503\n",
       "==============================================================================\n",
       "Omnibus:                       32.295   Durbin-Watson:                   1.986\n",
       "Prob(Omnibus):                  0.000   Jarque-Bera (JB):               45.367\n",
       "Skew:                           0.379   Prob(JB):                     1.41e-10\n",
       "Kurtosis:                       3.917   Cond. No.                     1.18e+03\n",
       "==============================================================================\n",
       "\n",
       "Notes:\n",
       "[1] Standard Errors assume that the covariance matrix of the errors is correctly specified.\n",
       "[2] The condition number is large, 1.18e+03. This might indicate that there are\n",
       "strong multicollinearity or other numerical problems.\n",
       "\"\"\""
      ]
     },
     "execution_count": 429,
     "metadata": {},
     "output_type": "execute_result"
    }
   ],
   "source": [
    "results.summary()"
   ]
  },
  {
   "cell_type": "markdown",
   "id": "d0a17907",
   "metadata": {},
   "source": [
    "2. Calculate p-values. \n",
    "   If any p-value is > 0.05, this means we are not sure if the coeficient is significant\n",
    "     (close to zero - does not have an impact on the target variable).\n",
    "     In this case - remove the factor from the Linear regression equation\n",
    "     and recalculate the results again.\n",
    "     Check p-values, repeat the procedure if needed."
   ]
  },
  {
   "cell_type": "code",
   "execution_count": 430,
   "id": "68469122",
   "metadata": {},
   "outputs": [],
   "source": [
    "check_pvalues = results.pvalues[results.pvalues <= 0.05].index.tolist()\n",
    "if len(check_pvalues)<x.shape[1]:\n",
    "    x=x[check_pvalues]"
   ]
  },
  {
   "cell_type": "code",
   "execution_count": 431,
   "id": "5a83d661",
   "metadata": {},
   "outputs": [
    {
     "data": {
      "text/plain": [
       "Age        4.827830e-134\n",
       "Outcome     2.581803e-03\n",
       "dtype: float64"
      ]
     },
     "execution_count": 431,
     "metadata": {},
     "output_type": "execute_result"
    }
   ],
   "source": [
    "model = sm.OLS(y,x)\n",
    "results = model.fit()\n",
    "results.pvalues"
   ]
  },
  {
   "cell_type": "code",
   "execution_count": 432,
   "id": "96ef340a",
   "metadata": {},
   "outputs": [
    {
     "data": {
      "text/html": [
       "<table class=\"simpletable\">\n",
       "<caption>OLS Regression Results</caption>\n",
       "<tr>\n",
       "  <th>Dep. Variable:</th>       <td>Pregnancies</td>   <th>  R-squared (uncentered):</th>      <td>   0.691</td> \n",
       "</tr>\n",
       "<tr>\n",
       "  <th>Model:</th>                   <td>OLS</td>       <th>  Adj. R-squared (uncentered):</th> <td>   0.690</td> \n",
       "</tr>\n",
       "<tr>\n",
       "  <th>Method:</th>             <td>Least Squares</td>  <th>  F-statistic:       </th>          <td>   854.9</td> \n",
       "</tr>\n",
       "<tr>\n",
       "  <th>Date:</th>             <td>Mon, 17 Jul 2023</td> <th>  Prob (F-statistic):</th>          <td>7.25e-196</td>\n",
       "</tr>\n",
       "<tr>\n",
       "  <th>Time:</th>                 <td>15:52:07</td>     <th>  Log-Likelihood:    </th>          <td> -1892.2</td> \n",
       "</tr>\n",
       "<tr>\n",
       "  <th>No. Observations:</th>      <td>   768</td>      <th>  AIC:               </th>          <td>   3788.</td> \n",
       "</tr>\n",
       "<tr>\n",
       "  <th>Df Residuals:</th>          <td>   766</td>      <th>  BIC:               </th>          <td>   3798.</td> \n",
       "</tr>\n",
       "<tr>\n",
       "  <th>Df Model:</th>              <td>     2</td>      <th>                     </th>              <td> </td>    \n",
       "</tr>\n",
       "<tr>\n",
       "  <th>Covariance Type:</th>      <td>nonrobust</td>    <th>                     </th>              <td> </td>    \n",
       "</tr>\n",
       "</table>\n",
       "<table class=\"simpletable\">\n",
       "<tr>\n",
       "     <td></td>        <th>coef</th>     <th>std err</th>      <th>t</th>      <th>P>|t|</th>  <th>[0.025</th>    <th>0.975]</th>  \n",
       "</tr>\n",
       "<tr>\n",
       "  <th>Age</th>     <td>    0.1132</td> <td>    0.004</td> <td>   30.445</td> <td> 0.000</td> <td>    0.106</td> <td>    0.120</td>\n",
       "</tr>\n",
       "<tr>\n",
       "  <th>Outcome</th> <td>    0.6708</td> <td>    0.222</td> <td>    3.024</td> <td> 0.003</td> <td>    0.235</td> <td>    1.106</td>\n",
       "</tr>\n",
       "</table>\n",
       "<table class=\"simpletable\">\n",
       "<tr>\n",
       "  <th>Omnibus:</th>       <td>55.734</td> <th>  Durbin-Watson:     </th> <td>   1.944</td>\n",
       "</tr>\n",
       "<tr>\n",
       "  <th>Prob(Omnibus):</th> <td> 0.000</td> <th>  Jarque-Bera (JB):  </th> <td>  68.306</td>\n",
       "</tr>\n",
       "<tr>\n",
       "  <th>Skew:</th>          <td> 0.649</td> <th>  Prob(JB):          </th> <td>1.47e-15</td>\n",
       "</tr>\n",
       "<tr>\n",
       "  <th>Kurtosis:</th>      <td> 3.671</td> <th>  Cond. No.          </th> <td>    76.2</td>\n",
       "</tr>\n",
       "</table><br/><br/>Notes:<br/>[1] R² is computed without centering (uncentered) since the model does not contain a constant.<br/>[2] Standard Errors assume that the covariance matrix of the errors is correctly specified."
      ],
      "text/latex": [
       "\\begin{center}\n",
       "\\begin{tabular}{lclc}\n",
       "\\toprule\n",
       "\\textbf{Dep. Variable:}    &   Pregnancies    & \\textbf{  R-squared (uncentered):}      &     0.691   \\\\\n",
       "\\textbf{Model:}            &       OLS        & \\textbf{  Adj. R-squared (uncentered):} &     0.690   \\\\\n",
       "\\textbf{Method:}           &  Least Squares   & \\textbf{  F-statistic:       }          &     854.9   \\\\\n",
       "\\textbf{Date:}             & Mon, 17 Jul 2023 & \\textbf{  Prob (F-statistic):}          & 7.25e-196   \\\\\n",
       "\\textbf{Time:}             &     15:52:07     & \\textbf{  Log-Likelihood:    }          &   -1892.2   \\\\\n",
       "\\textbf{No. Observations:} &         768      & \\textbf{  AIC:               }          &     3788.   \\\\\n",
       "\\textbf{Df Residuals:}     &         766      & \\textbf{  BIC:               }          &     3798.   \\\\\n",
       "\\textbf{Df Model:}         &           2      & \\textbf{                     }          &             \\\\\n",
       "\\textbf{Covariance Type:}  &    nonrobust     & \\textbf{                     }          &             \\\\\n",
       "\\bottomrule\n",
       "\\end{tabular}\n",
       "\\begin{tabular}{lcccccc}\n",
       "                 & \\textbf{coef} & \\textbf{std err} & \\textbf{t} & \\textbf{P$> |$t$|$} & \\textbf{[0.025} & \\textbf{0.975]}  \\\\\n",
       "\\midrule\n",
       "\\textbf{Age}     &       0.1132  &        0.004     &    30.445  &         0.000        &        0.106    &        0.120     \\\\\n",
       "\\textbf{Outcome} &       0.6708  &        0.222     &     3.024  &         0.003        &        0.235    &        1.106     \\\\\n",
       "\\bottomrule\n",
       "\\end{tabular}\n",
       "\\begin{tabular}{lclc}\n",
       "\\textbf{Omnibus:}       & 55.734 & \\textbf{  Durbin-Watson:     } &    1.944  \\\\\n",
       "\\textbf{Prob(Omnibus):} &  0.000 & \\textbf{  Jarque-Bera (JB):  } &   68.306  \\\\\n",
       "\\textbf{Skew:}          &  0.649 & \\textbf{  Prob(JB):          } & 1.47e-15  \\\\\n",
       "\\textbf{Kurtosis:}      &  3.671 & \\textbf{  Cond. No.          } &     76.2  \\\\\n",
       "\\bottomrule\n",
       "\\end{tabular}\n",
       "%\\caption{OLS Regression Results}\n",
       "\\end{center}\n",
       "\n",
       "Notes: \\newline\n",
       " [1] R² is computed without centering (uncentered) since the model does not contain a constant. \\newline\n",
       " [2] Standard Errors assume that the covariance matrix of the errors is correctly specified."
      ],
      "text/plain": [
       "<class 'statsmodels.iolib.summary.Summary'>\n",
       "\"\"\"\n",
       "                                 OLS Regression Results                                \n",
       "=======================================================================================\n",
       "Dep. Variable:            Pregnancies   R-squared (uncentered):                   0.691\n",
       "Model:                            OLS   Adj. R-squared (uncentered):              0.690\n",
       "Method:                 Least Squares   F-statistic:                              854.9\n",
       "Date:                Mon, 17 Jul 2023   Prob (F-statistic):                   7.25e-196\n",
       "Time:                        15:52:07   Log-Likelihood:                         -1892.2\n",
       "No. Observations:                 768   AIC:                                      3788.\n",
       "Df Residuals:                     766   BIC:                                      3798.\n",
       "Df Model:                           2                                                  \n",
       "Covariance Type:            nonrobust                                                  \n",
       "==============================================================================\n",
       "                 coef    std err          t      P>|t|      [0.025      0.975]\n",
       "------------------------------------------------------------------------------\n",
       "Age            0.1132      0.004     30.445      0.000       0.106       0.120\n",
       "Outcome        0.6708      0.222      3.024      0.003       0.235       1.106\n",
       "==============================================================================\n",
       "Omnibus:                       55.734   Durbin-Watson:                   1.944\n",
       "Prob(Omnibus):                  0.000   Jarque-Bera (JB):               68.306\n",
       "Skew:                           0.649   Prob(JB):                     1.47e-15\n",
       "Kurtosis:                       3.671   Cond. No.                         76.2\n",
       "==============================================================================\n",
       "\n",
       "Notes:\n",
       "[1] R² is computed without centering (uncentered) since the model does not contain a constant.\n",
       "[2] Standard Errors assume that the covariance matrix of the errors is correctly specified.\n",
       "\"\"\""
      ]
     },
     "execution_count": 432,
     "metadata": {},
     "output_type": "execute_result"
    }
   ],
   "source": [
    "results.summary()"
   ]
  },
  {
   "cell_type": "markdown",
   "id": "87ee8d37",
   "metadata": {},
   "source": [
    "3. Calculate rest of desriptive measures of the model(MSE, R-squared, etc.)"
   ]
  },
  {
   "cell_type": "code",
   "execution_count": 433,
   "id": "497a42a4",
   "metadata": {},
   "outputs": [
    {
     "data": {
      "text/plain": [
       "6927.918032565554"
      ]
     },
     "execution_count": 433,
     "metadata": {},
     "output_type": "execute_result"
    }
   ],
   "source": [
    "results.mse_model"
   ]
  },
  {
   "cell_type": "code",
   "execution_count": 434,
   "id": "cc2bf974",
   "metadata": {},
   "outputs": [
    {
     "data": {
      "text/plain": [
       "0.6898085715388622"
      ]
     },
     "execution_count": 434,
     "metadata": {},
     "output_type": "execute_result"
    }
   ],
   "source": [
    "results.rsquared_adj"
   ]
  },
  {
   "cell_type": "code",
   "execution_count": 435,
   "id": "3c7a71f8",
   "metadata": {},
   "outputs": [
    {
     "data": {
      "text/plain": [
       "0.6906163617171464"
      ]
     },
     "execution_count": 435,
     "metadata": {},
     "output_type": "execute_result"
    }
   ],
   "source": [
    "results.rsquared"
   ]
  },
  {
   "cell_type": "markdown",
   "id": "92cf16f0",
   "metadata": {},
   "source": [
    " Based on them, provide the feeback on how good the model fits the data."
   ]
  },
  {
   "cell_type": "markdown",
   "id": "1303db85",
   "metadata": {},
   "source": [
    "Rerunning the model again after recheking pvalues and\n",
    "calculating rest of desriptive measures of the model,\n",
    "R-squared value increased from 0.32 to 0.69,\n",
    "therefore we can assume that the model was improved in accuarcy."
   ]
  },
  {
   "cell_type": "markdown",
   "id": "583fd7b2",
   "metadata": {},
   "source": [
    "Calculate the predictions for some predictior values selected (up to you to select), provide the feedback."
   ]
  },
  {
   "cell_type": "code",
   "execution_count": 436,
   "id": "58632a2f",
   "metadata": {},
   "outputs": [
    {
     "data": {
      "text/plain": [
       "0    1.419359\n",
       "dtype: float64"
      ]
     },
     "execution_count": 436,
     "metadata": {},
     "output_type": "execute_result"
    }
   ],
   "source": [
    "predi_values = pa.DataFrame({ \n",
    "\"Age\":[7.8],\n",
    "\"Outcome\":[0.8]})\n",
    "predictions = results.predict(predi_values)\n",
    "predictions"
   ]
  },
  {
   "cell_type": "markdown",
   "id": "0d1a3970",
   "metadata": {},
   "source": [
    "Do a small analysis on the residuals (histogram, density plot and compare it to normal distribution plot)"
   ]
  },
  {
   "cell_type": "code",
   "execution_count": 437,
   "id": "9fc428dd",
   "metadata": {},
   "outputs": [
    {
     "data": {
      "text/plain": [
       "0     -0.329275\n",
       "1     -2.508257\n",
       "2      3.707777\n",
       "3     -1.376562\n",
       "4     -4.405392\n",
       "         ...   \n",
       "763    2.870315\n",
       "764   -1.055579\n",
       "765    1.604912\n",
       "766   -4.989767\n",
       "767   -1.602901\n",
       "Length: 768, dtype: float64"
      ]
     },
     "execution_count": 437,
     "metadata": {},
     "output_type": "execute_result"
    }
   ],
   "source": [
    "results.resid"
   ]
  },
  {
   "cell_type": "code",
   "execution_count": 438,
   "id": "e78589ff",
   "metadata": {},
   "outputs": [
    {
     "data": {
      "text/plain": [
       "<function matplotlib.pyplot.show(close=None, block=None)>"
      ]
     },
     "execution_count": 438,
     "metadata": {},
     "output_type": "execute_result"
    },
    {
     "data": {
      "image/png": "[encoded data removed]",
      "text/plain": [
       "<Figure size 640x480 with 1 Axes>"
      ]
     },
     "metadata": {},
     "output_type": "display_data"
    }
   ],
   "source": [
    "#Histogram\n",
    "plt.hist(results.resid)\n",
    "plt.title = \"Histogram- Residuals\"\n",
    "plt.xlabel(\"Residuals\")\n",
    "plt.ylabel(\"Frequency\")\n",
    "plt.show"
   ]
  },
  {
   "cell_type": "code",
   "execution_count": 439,
   "id": "b4b21994",
   "metadata": {},
   "outputs": [
    {
     "data": {
      "text/plain": [
       "<function matplotlib.pyplot.show(close=None, block=None)>"
      ]
     },
     "execution_count": 439,
     "metadata": {},
     "output_type": "execute_result"
    },
    {
     "data": {
      "image/png": "[encoded data removed]",
      "text/plain": [
       "<Figure size 640x480 with 1 Axes>"
      ]
     },
     "metadata": {},
     "output_type": "display_data"
    }
   ],
   "source": [
    "#Density plot\n",
    "sns.kdeplot(results.resid)\n",
    "sns.set_style(\"whitegrid\")\n",
    "plt.xlabel(\"Residuals\")\n",
    "plt.ylabel(\"Density\")\n",
    "plt.show"
   ]
  },
  {
   "cell_type": "code",
   "execution_count": 440,
   "id": "1bed6a8b",
   "metadata": {},
   "outputs": [
    {
     "data": {
      "image/png": "[encoded data removed]",
      "text/plain": [
       "<Figure size 640x480 with 1 Axes>"
      ]
     },
     "metadata": {},
     "output_type": "display_data"
    }
   ],
   "source": [
    "#Normal distribution plot\n",
    "plt.figure()\n",
    "stats.probplot(results.resid,plot=plt)\n",
    "plt.xlabel(\"Theoretical Quantiles\")\n",
    "plt.ylabel(\"Sample Quantiles\")\n",
    "plt.show()"
   ]
  },
  {
   "cell_type": "markdown",
   "id": "8496da04",
   "metadata": {},
   "source": [
    "4. If in point b) you selected 1 factor regression,\n",
    "   then display the model (regression line\n",
    "   in plot)\n"
   ]
  },
  {
   "cell_type": "code",
   "execution_count": null,
   "id": "9538c9e7",
   "metadata": {},
   "outputs": [],
   "source": []
  }
 ],
 "metadata": {
  "kernelspec": {
   "display_name": "Python 3 (ipykernel)",
   "language": "python",
   "name": "python3"
  },
  "language_info": {
   "codemirror_mode": {
    "name": "ipython",
    "version": 3
   },
   "file_extension": ".py",
   "mimetype": "text/x-python",
   "name": "python",
   "nbconvert_exporter": "python",
   "pygments_lexer": "ipython3",
   "version": "3.11.2"
  }
 },
 "nbformat": 4,
 "nbformat_minor": 5
}
