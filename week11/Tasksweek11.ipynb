{
 "cells": [
  {
   "cell_type": "markdown",
   "id": "f9de3c14",
   "metadata": {},
   "source": [
    "### Spark Tasks:\n",
    "\n",
    "1. **Data Aggregation:**\n",
    "   Read a dataset containing sales transactions. Calculate the total sales amount for each product category using Spark's `groupBy` and aggregation functions."
   ]
  },
  {
   "cell_type": "code",
   "execution_count": null,
   "id": "a9c68130",
   "metadata": {},
   "outputs": [],
   "source": []
  },
  {
   "cell_type": "code",
   "execution_count": null,
   "id": "55301c0f",
   "metadata": {},
   "outputs": [],
   "source": []
  },
  {
   "cell_type": "markdown",
   "id": "64f4d8e7",
   "metadata": {},
   "source": [
    "2. **Log Analysis:**\n",
    "   Analyze server log data to find the most frequently accessed URLs and their corresponding IP addresses. Use Spark SQL to query and visualize the results."
   ]
  },
  {
   "cell_type": "code",
   "execution_count": null,
   "id": "374f52c0",
   "metadata": {},
   "outputs": [],
   "source": []
  },
  {
   "cell_type": "code",
   "execution_count": null,
   "id": "78aa5b9e",
   "metadata": {},
   "outputs": [],
   "source": []
  },
  {
   "cell_type": "markdown",
   "id": "fc9b5bb5",
   "metadata": {},
   "source": [
    "### MapReduce Tasks:\n",
    "\n",
    "1. **URL Access Count:**\n",
    "   Given a log file containing records of URLs accessed and their corresponding timestamps, use MapReduce to count the number of times each URL was accessed within a specific time window.\n"
   ]
  },
  {
   "cell_type": "code",
   "execution_count": null,
   "id": "a425eb75",
   "metadata": {},
   "outputs": [],
   "source": []
  },
  {
   "cell_type": "code",
   "execution_count": null,
   "id": "1a006ac5",
   "metadata": {},
   "outputs": [],
   "source": []
  },
  {
   "cell_type": "code",
   "execution_count": null,
   "id": "8b493ba5",
   "metadata": {},
   "outputs": [],
   "source": []
  },
  {
   "cell_type": "markdown",
   "id": "3bb9fa7e",
   "metadata": {},
   "source": [
    "2. **Follower Recommendations:**\n",
    "   Given a dataset representing a social network's following graph. Use MapReduce to recommend the users to follow for another users who do have a mutual followers,\n",
    "but do not follow each other.\n",
    "\n",
    "Example:\n",
    "\n",
    "   a follows b\n",
    "   b follows d.\n",
    "In this case, recommend a to follow d"
   ]
  },
  {
   "cell_type": "code",
   "execution_count": null,
   "id": "1ddb8679",
   "metadata": {},
   "outputs": [],
   "source": []
  }
 ],
 "metadata": {
  "kernelspec": {
   "display_name": "Python 3 (ipykernel)",
   "language": "python",
   "name": "python3"
  },
  "language_info": {
   "codemirror_mode": {
    "name": "ipython",
    "version": 3
   },
   "file_extension": ".py",
   "mimetype": "text/x-python",
   "name": "python",
   "nbconvert_exporter": "python",
   "pygments_lexer": "ipython3",
   "version": "3.11.2"
  }
 },
 "nbformat": 4,
 "nbformat_minor": 5
}
