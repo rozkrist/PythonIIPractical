{
 "cells": [
  {
   "cell_type": "markdown",
   "id": "f9de3c14",
   "metadata": {},
   "source": [
    "### Spark Tasks:\n",
    "\n",
    "1. **Data Aggregation:**\n",
    "   Read a dataset containing sales transactions. Calculate the total sales amount for each product category using Spark's `groupBy` and aggregation functions."
   ]
  },
  {
   "cell_type": "code",
   "execution_count": 90,
   "id": "a9c68130",
   "metadata": {},
   "outputs": [],
   "source": [
    "from pyspark import SparkContext,SparkConf\n",
    "from pyspark.sql import SparkSession\n",
    "from pyspark.sql.functions import sum\n",
    "from pyspark.sql.functions import col, window, expr, date_format\n",
    "from pyspark.sql  import functions as F\n",
    "from pyspark.sql.window import Window\n",
    "from pyspark.sql.functions import rank"
   ]
  },
  {
   "cell_type": "code",
   "execution_count": 91,
   "id": "55301c0f",
   "metadata": {},
   "outputs": [],
   "source": [
    "spark = SparkSession.builder.appName(\"TotalSales\").getOrCreate()"
   ]
  },
  {
   "cell_type": "code",
   "execution_count": 92,
   "id": "14324226",
   "metadata": {},
   "outputs": [],
   "source": [
    "file = r\"C:\\Users\\krent\\OneDrive\\Desktop\\PythonII\\PythonIIPractical\\week11\\sales.csv\""
   ]
  },
  {
   "cell_type": "code",
   "execution_count": 93,
   "id": "59bc728b",
   "metadata": {},
   "outputs": [],
   "source": [
    "data = spark.read.csv(file,header=True,inferSchema=True)"
   ]
  },
  {
   "cell_type": "code",
   "execution_count": 94,
   "id": "361fbb5d",
   "metadata": {},
   "outputs": [
    {
     "data": {
      "text/plain": [
       "DataFrame[Product: string, Category: string, Amount: int]"
      ]
     },
     "execution_count": 94,
     "metadata": {},
     "output_type": "execute_result"
    }
   ],
   "source": [
    "data"
   ]
  },
  {
   "cell_type": "code",
   "execution_count": 95,
   "id": "44bc0da9",
   "metadata": {},
   "outputs": [],
   "source": [
    "total_sales = data.groupBy(\"Category\").agg(sum(\"Amount\").alias(\"Total_Sales\"))"
   ]
  },
  {
   "cell_type": "code",
   "execution_count": 96,
   "id": "77f88a5d",
   "metadata": {},
   "outputs": [
    {
     "name": "stdout",
     "output_type": "stream",
     "text": [
      "+-----------+-----------+\n",
      "|   Category|Total_Sales|\n",
      "+-----------+-----------+\n",
      "|Electronics|        450|\n",
      "|   Clothing|        125|\n",
      "+-----------+-----------+\n",
      "\n"
     ]
    }
   ],
   "source": [
    "total_sales.show()"
   ]
  },
  {
   "cell_type": "code",
   "execution_count": 97,
   "id": "9775b593",
   "metadata": {},
   "outputs": [],
   "source": [
    "spark.stop()"
   ]
  },
  {
   "cell_type": "markdown",
   "id": "64f4d8e7",
   "metadata": {},
   "source": [
    "2. **Log Analysis:**\n",
    "   Analyze server log data to find the most frequently accessed URLs and their corresponding IP addresses. Use Spark SQL to query and visualize the results."
   ]
  },
  {
   "cell_type": "code",
   "execution_count": 98,
   "id": "374f52c0",
   "metadata": {},
   "outputs": [],
   "source": [
    "spark = SparkSession.builder.appName(\"LogAnalysis\").getOrCreate()"
   ]
  },
  {
   "cell_type": "code",
   "execution_count": 99,
   "id": "78aa5b9e",
   "metadata": {},
   "outputs": [],
   "source": [
    "df = spark.read.text(r\"C:\\Users\\krent\\OneDrive\\Desktop\\PythonII\\PythonIIPractical\\week11\\server_log.txt\").selectExpr(\"split(value, ' ')[2] as url\", \"split(value, ' ')[3] as ip_address\")"
   ]
  },
  {
   "cell_type": "code",
   "execution_count": 100,
   "id": "8001596d",
   "metadata": {},
   "outputs": [
    {
     "data": {
      "text/plain": [
       "DataFrame[url: string, ip_address: string]"
      ]
     },
     "execution_count": 100,
     "metadata": {},
     "output_type": "execute_result"
    }
   ],
   "source": [
    "df"
   ]
  },
  {
   "cell_type": "code",
   "execution_count": 101,
   "id": "182ef348",
   "metadata": {},
   "outputs": [],
   "source": [
    "ip_count = df.groupBy(\"url\", \"ip_address\").count()"
   ]
  },
  {
   "cell_type": "code",
   "execution_count": 102,
   "id": "8c505d18",
   "metadata": {},
   "outputs": [],
   "source": [
    "rank_url_count = ip_count.withColumn(\"Access rank\", F.dense_rank().over(Window.orderBy(F.desc(\"count\"))))"
   ]
  },
  {
   "cell_type": "code",
   "execution_count": 103,
   "id": "6faf32f1",
   "metadata": {},
   "outputs": [
    {
     "name": "stdout",
     "output_type": "stream",
     "text": [
      "+------+-------------+-----------+------------+\n",
      "|   URL|   IP Address|Access Rank|Access Count|\n",
      "+------+-------------+-----------+------------+\n",
      "|/page1|192.168.1.102|          1|           1|\n",
      "|/page2|192.168.1.101|          1|           1|\n",
      "|/page2|192.168.1.103|          1|           1|\n",
      "|/page3|192.168.1.100|          1|           1|\n",
      "|/page1|192.168.1.100|          1|           1|\n",
      "+------+-------------+-----------+------------+\n",
      "\n"
     ]
    }
   ],
   "source": [
    "result = rank_url_count.select(\n",
    "    F.col(\"url\").alias(\"URL\"),\n",
    "          F.col(\"ip_address\").alias(\"IP Address\"),\n",
    "          F.col(\"Access Rank\"),\n",
    "          F.col(\"count\").alias(\"Access Count\")\n",
    "         )\n",
    "result.show()"
   ]
  },
  {
   "cell_type": "code",
   "execution_count": 104,
   "id": "2ef2a491",
   "metadata": {},
   "outputs": [],
   "source": [
    "spark.stop()"
   ]
  },
  {
   "cell_type": "markdown",
   "id": "fc9b5bb5",
   "metadata": {},
   "source": [
    "### MapReduce Tasks:\n",
    "\n",
    "1. **URL Access Count:**\n",
    "   Given a log file containing records of URLs accessed and their corresponding timestamps, use MapReduce to count the number of times each URL was accessed within a specific time window.\n"
   ]
  },
  {
   "cell_type": "code",
   "execution_count": 105,
   "id": "a425eb75",
   "metadata": {},
   "outputs": [],
   "source": [
    "spark = SparkSession.builder.appName(\"UrlAccessCount\").getOrCreate()"
   ]
  },
  {
   "cell_type": "code",
   "execution_count": 106,
   "id": "1a006ac5",
   "metadata": {},
   "outputs": [],
   "source": [
    "data = spark.read.text(r\"C:\\Users\\krent\\OneDrive\\Desktop\\PythonII\\PythonIIPractical\\week11\\access_log.txt\")"
   ]
  },
  {
   "cell_type": "code",
   "execution_count": 107,
   "id": "8b493ba5",
   "metadata": {},
   "outputs": [],
   "source": [
    "df = data.selectExpr(\"split(value, ' ')[0] as date_time\", \"split(value, ' ')[2] as url\")"
   ]
  },
  {
   "cell_type": "code",
   "execution_count": 108,
   "id": "d72fc1ab",
   "metadata": {},
   "outputs": [
    {
     "data": {
      "text/plain": [
       "DataFrame[date_time: string, url: string]"
      ]
     },
     "execution_count": 108,
     "metadata": {},
     "output_type": "execute_result"
    }
   ],
   "source": [
    "df"
   ]
  },
  {
   "cell_type": "code",
   "execution_count": 109,
   "id": "d62b8250",
   "metadata": {},
   "outputs": [],
   "source": [
    "time = \"2 hours\"\n",
    "result = df.groupBy(\"url\", window(\"date_time\", time)).count()"
   ]
  },
  {
   "cell_type": "code",
   "execution_count": 110,
   "id": "4f9bbf8f",
   "metadata": {},
   "outputs": [],
   "source": [
    "modified_result = result.select(\n",
    "    col(\"url\").alias(\"URL\"),\n",
    "    date_format(col(\"window.start\"), \"yyyy-mm-dd\").alias(\"Date\"),\n",
    "    col(\"count\").alias(\"Access Count\")\n",
    ")"
   ]
  },
  {
   "cell_type": "code",
   "execution_count": 111,
   "id": "5133c498",
   "metadata": {},
   "outputs": [
    {
     "name": "stdout",
     "output_type": "stream",
     "text": [
      "+------+----------+------------+\n",
      "|   URL|      Date|Access Count|\n",
      "+------+----------+------------+\n",
      "|/page1|2023-00-31|           2|\n",
      "|/page3|2023-00-31|           1|\n",
      "|/page2|2023-00-31|           2|\n",
      "+------+----------+------------+\n",
      "\n"
     ]
    }
   ],
   "source": [
    "modified_result.show()"
   ]
  },
  {
   "cell_type": "code",
   "execution_count": 112,
   "id": "011593ea",
   "metadata": {},
   "outputs": [],
   "source": [
    "spark.stop()"
   ]
  },
  {
   "cell_type": "markdown",
   "id": "3bb9fa7e",
   "metadata": {},
   "source": [
    "2. **Follower Recommendations:**\n",
    "   Given a dataset representing a social network's following graph. Use MapReduce to recommend the users to follow for another users who do have a mutual followers,\n",
    "but do not follow each other.\n",
    "\n",
    "Example:\n",
    "\n",
    "   a follows b\n",
    "   b follows d.\n",
    "In this case, recommend a to follow d ---> NOT FINISHED"
   ]
  },
  {
   "cell_type": "code",
   "execution_count": 113,
   "id": "1ddb8679",
   "metadata": {},
   "outputs": [],
   "source": [
    "conf = SparkConf().setMaster(\"local\").setAppName(\"FollowerRecommendations\")"
   ]
  },
  {
   "cell_type": "code",
   "execution_count": 114,
   "id": "98c08ae2",
   "metadata": {},
   "outputs": [],
   "source": [
    "sc = SparkContext(conf=conf)"
   ]
  },
  {
   "cell_type": "code",
   "execution_count": 116,
   "id": "bafb781d",
   "metadata": {},
   "outputs": [],
   "source": [
    "data = sc.textFile(r\"C:\\Users\\krent\\OneDrive\\Desktop\\PythonII\\PythonIIPractical\\week11\\follower_graph.txt\")"
   ]
  },
  {
   "cell_type": "code",
   "execution_count": 117,
   "id": "56681d7d",
   "metadata": {},
   "outputs": [],
   "source": [
    "pairs = data.map(lambda line: line.split()).map(lambda parts: (parts[0], parts[1:]))"
   ]
  },
  {
   "cell_type": "code",
   "execution_count": null,
   "id": "f7cb52e3",
   "metadata": {},
   "outputs": [],
   "source": []
  },
  {
   "cell_type": "code",
   "execution_count": null,
   "id": "70de7fa3",
   "metadata": {},
   "outputs": [],
   "source": []
  },
  {
   "cell_type": "code",
   "execution_count": null,
   "id": "3442042d",
   "metadata": {},
   "outputs": [],
   "source": []
  }
 ],
 "metadata": {
  "kernelspec": {
   "display_name": "Python 3 (ipykernel)",
   "language": "python",
   "name": "python3"
  },
  "language_info": {
   "codemirror_mode": {
    "name": "ipython",
    "version": 3
   },
   "file_extension": ".py",
   "mimetype": "text/x-python",
   "name": "python",
   "nbconvert_exporter": "python",
   "pygments_lexer": "ipython3",
   "version": "3.11.2"
  }
 },
 "nbformat": 4,
 "nbformat_minor": 5
}
