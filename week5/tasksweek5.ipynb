{
 "cells": [
  {
   "cell_type": "markdown",
   "id": "523c8969",
   "metadata": {},
   "source": [
    " Analyze Times series:\n",
    " Plot time series (give visual feedback)\n",
    " \n",
    " Caculate and plot ACF (give visual feedback)\n",
    " \n",
    " Check, if the time series is stationary (using Augmented Dickey-Fuller (ADF) test)\n",
    " If there is the trend - remove it from the Time Series\n",
    " \n",
    " Check seasonality (visually and using ACF)\n",
    " \n",
    " Run automatic ARIMA model determination.\n",
    " \n",
    " Find the best model, give summary and display the results (existing time range + future)"
   ]
  },
  {
   "cell_type": "markdown",
   "id": "5e489e1b",
   "metadata": {},
   "source": [
    "a) https://www.kaggle.com/datasets/ashfakyeafi/air-passenger-data-for-time-series-analysis"
   ]
  },
  {
   "cell_type": "code",
   "execution_count": 1,
   "id": "28241e3d",
   "metadata": {},
   "outputs": [],
   "source": [
    "import numpy as np"
   ]
  },
  {
   "cell_type": "code",
   "execution_count": null,
   "id": "a9bcaa8f",
   "metadata": {},
   "outputs": [],
   "source": [
    "white_noise = np.random.normal(0,1,size=1000)"
   ]
  },
  {
   "cell_type": "code",
   "execution_count": 2,
   "id": "20b6ea14",
   "metadata": {},
   "outputs": [],
   "source": [
    "import matplotlib.pyplot as plot"
   ]
  },
  {
   "cell_type": "code",
   "execution_count": null,
   "id": "515c8b2c",
   "metadata": {},
   "outputs": [],
   "source": []
  },
  {
   "cell_type": "code",
   "execution_count": null,
   "id": "22f2002b",
   "metadata": {},
   "outputs": [],
   "source": []
  },
  {
   "cell_type": "code",
   "execution_count": null,
   "id": "43e095e1",
   "metadata": {},
   "outputs": [],
   "source": []
  },
  {
   "cell_type": "code",
   "execution_count": null,
   "id": "934a9b6a",
   "metadata": {},
   "outputs": [],
   "source": []
  },
  {
   "cell_type": "code",
   "execution_count": null,
   "id": "2f3bd1a4",
   "metadata": {},
   "outputs": [],
   "source": []
  },
  {
   "cell_type": "code",
   "execution_count": null,
   "id": "5bcdb445",
   "metadata": {},
   "outputs": [],
   "source": []
  },
  {
   "cell_type": "markdown",
   "id": "155de953",
   "metadata": {},
   "source": [
    "b)Select your own data"
   ]
  },
  {
   "cell_type": "code",
   "execution_count": null,
   "id": "1894948e",
   "metadata": {},
   "outputs": [],
   "source": []
  },
  {
   "cell_type": "code",
   "execution_count": null,
   "id": "c16aece1",
   "metadata": {},
   "outputs": [],
   "source": []
  }
 ],
 "metadata": {
  "kernelspec": {
   "display_name": "Python 3 (ipykernel)",
   "language": "python",
   "name": "python3"
  },
  "language_info": {
   "codemirror_mode": {
    "name": "ipython",
    "version": 3
   },
   "file_extension": ".py",
   "mimetype": "text/x-python",
   "name": "python",
   "nbconvert_exporter": "python",
   "pygments_lexer": "ipython3",
   "version": "3.11.2"
  }
 },
 "nbformat": 4,
 "nbformat_minor": 5
}
