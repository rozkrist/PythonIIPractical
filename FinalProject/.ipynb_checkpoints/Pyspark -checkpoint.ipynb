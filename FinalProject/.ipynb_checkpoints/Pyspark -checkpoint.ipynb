{
 "cells": [
  {
   "cell_type": "code",
   "execution_count": 1,
   "id": "55a661f4",
   "metadata": {},
   "outputs": [],
   "source": [
    "from pyspark.sql import SparkSession\n",
    "from pyspark import SparkContext,SparkConf\n",
    "from pyspark.sql.functions import col, round\n",
    "from pyspark.sql.functions import col"
   ]
  },
  {
   "cell_type": "code",
   "execution_count": 2,
   "id": "477d13ca",
   "metadata": {},
   "outputs": [],
   "source": [
    "#clean and transform the extracted data using PySpark:\n",
    "\n",
    "sparkSession = SparkSession.builder.appName(\"spark_spotify_df\").getOrCreate()"
   ]
  },
  {
   "cell_type": "code",
   "execution_count": 4,
   "id": "270216f4",
   "metadata": {},
   "outputs": [],
   "source": [
    "files = [\n",
    "    r\"C:\\Users\\krent\\OneDrive\\Desktop\\PythonII\\PythonIIPractical\\FinalProject\\spotify_mysql.csv\",\n",
    "    r\"C:\\Users\\krent\\OneDrive\\Desktop\\PythonII\\PythonIIPractical\\FinalProject\\spotify_mongodb.csv\",\n",
    "    r\"C:\\Users\\krent\\OneDrive\\Desktop\\PythonII\\PythonIIPractical\\FinalProject\\spotify_neo4j.csv\"\n",
    "]"
   ]
  },
  {
   "cell_type": "code",
   "execution_count": 5,
   "id": "90ed32d5",
   "metadata": {},
   "outputs": [],
   "source": [
    "spark_spotify_df = sparkSession.read.csv(files, header=True, inferSchema=True)"
   ]
  },
  {
   "cell_type": "code",
   "execution_count": 6,
   "id": "0708614d",
   "metadata": {},
   "outputs": [
    {
     "name": "stdout",
     "output_type": "stream",
     "text": [
      "+---+-----------------+--------------------+-----------------+----------------+\n",
      "|_c0|           artist|       artist_genres|artist_popularity|artist_followers|\n",
      "+---+-----------------+--------------------+-----------------+----------------+\n",
      "|  0|           Miguel|             ['r&b']|               77|         4785290|\n",
      "|  1|       Mac Miller|['hip hop', 'pitt...|               81|         9488826|\n",
      "|  2|       Bruno Mars|['dance pop', 'pop']|               87|        50883790|\n",
      "|  3|Waka Flocka Flame|['atl hip hop', '...|               64|         2713409|\n",
      "|  4|              bôa|                  []|               66|          436705|\n",
      "|  5|           Miguel|             ['r&b']|               77|         4785290|\n",
      "|  6|   Zac Brown Band|['contemporary co...|               72|         3694056|\n",
      "|  7|      Nicki Minaj|['hip pop', 'pop'...|               86|        29500230|\n",
      "|  8|            Train|['dance pop', 'ne...|               71|         4355722|\n",
      "|  9|       Kanye West|['chicago rap', '...|               89|        21243558|\n",
      "| 10|       Bruno Mars|['dance pop', 'pop']|               87|        50883790|\n",
      "| 11|            Kesha|['dance pop', 'pop']|               74|         7641502|\n",
      "| 12|       Bruno Mars|['dance pop', 'pop']|               87|        50883790|\n",
      "| 13|       Katy Perry|             ['pop']|               82|        29271680|\n",
      "| 14|             Roar|['pov: indie', 'w...|               66|          705868|\n",
      "| 15|     Jason Aldean|['contemporary co...|               73|         6344732|\n",
      "| 16|          Rihanna|['barbadian pop',...|               88|        57772509|\n",
      "| 17|   Patrick Watson|['indie folk', 'i...|               68|          610243|\n",
      "| 18|       Kanye West|['chicago rap', '...|               89|        21243558|\n",
      "| 19|       Kanye West|['chicago rap', '...|               89|        21243558|\n",
      "+---+-----------------+--------------------+-----------------+----------------+\n",
      "only showing top 20 rows\n",
      "\n"
     ]
    }
   ],
   "source": [
    "spark_spotify_df.show(truncate=True)\n"
   ]
  },
  {
   "cell_type": "code",
   "execution_count": 7,
   "id": "863bf8cb",
   "metadata": {},
   "outputs": [
    {
     "name": "stdout",
     "output_type": "stream",
     "text": [
      "root\n",
      " |-- _c0: integer (nullable = true)\n",
      " |-- artist: string (nullable = true)\n",
      " |-- artist_genres: string (nullable = true)\n",
      " |-- artist_popularity: string (nullable = true)\n",
      " |-- artist_followers: string (nullable = true)\n",
      "\n"
     ]
    }
   ],
   "source": [
    "spark_spotify_df.printSchema()\n"
   ]
  },
  {
   "cell_type": "code",
   "execution_count": null,
   "id": "c87be143",
   "metadata": {},
   "outputs": [],
   "source": []
  }
 ],
 "metadata": {
  "kernelspec": {
   "display_name": "Python 3 (ipykernel)",
   "language": "python",
   "name": "python3"
  },
  "language_info": {
   "codemirror_mode": {
    "name": "ipython",
    "version": 3
   },
   "file_extension": ".py",
   "mimetype": "text/x-python",
   "name": "python",
   "nbconvert_exporter": "python",
   "pygments_lexer": "ipython3",
   "version": "3.11.2"
  }
 },
 "nbformat": 4,
 "nbformat_minor": 5
}
