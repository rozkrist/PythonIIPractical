{
 "cells": [
  {
   "cell_type": "code",
   "execution_count": 37,
   "id": "7a5cefdb",
   "metadata": {},
   "outputs": [],
   "source": [
    "#https://lvngd.com/blog/accessing-spotify-api-python/\n",
    "import requests"
   ]
  },
  {
   "cell_type": "code",
   "execution_count": 39,
   "id": "5cbc3723",
   "metadata": {},
   "outputs": [],
   "source": [
    "auth_url = 'https://accounts.spotify.com/api/token'"
   ]
  },
  {
   "cell_type": "code",
   "execution_count": 40,
   "id": "6c27d42c",
   "metadata": {},
   "outputs": [],
   "source": [
    "data = {\n",
    "    'grant_type': 'client_credentials',\n",
    "    'client_id': client_id,\n",
    "    'client_secret': client_secret,\n",
    "}"
   ]
  },
  {
   "cell_type": "code",
   "execution_count": 41,
   "id": "93f15cb0",
   "metadata": {},
   "outputs": [],
   "source": [
    "auth_response = requests.post(auth_url, data=data)"
   ]
  },
  {
   "cell_type": "code",
   "execution_count": 42,
   "id": "55d1fb56",
   "metadata": {},
   "outputs": [],
   "source": [
    "access_token = auth_response.json().get('access_token')"
   ]
  },
  {
   "cell_type": "code",
   "execution_count": 43,
   "id": "d586de4c",
   "metadata": {},
   "outputs": [
    {
     "data": {
      "text/plain": [
       "'BQB4urdUC7b2clPKlJY8KFzlsFM2yPXywyx1-hGgLllwXt26QlXzGK3ZuAz2GNrchPVycJMn1N9JbqzQKrvAmAQ_FmmqB-qneXirrJ9YRseAmk4PCus'"
      ]
     },
     "execution_count": 43,
     "metadata": {},
     "output_type": "execute_result"
    }
   ],
   "source": [
    "access_token"
   ]
  },
  {
   "cell_type": "code",
   "execution_count": 44,
   "id": "5e3c49f5",
   "metadata": {},
   "outputs": [],
   "source": [
    "base_url = 'https://api.spotify.com/v1/'"
   ]
  },
  {
   "cell_type": "code",
   "execution_count": 45,
   "id": "b0b20493",
   "metadata": {},
   "outputs": [],
   "source": [
    "headers = {\n",
    "    'Authorization': 'Bearer {}'.format(access_token)\n",
    "}"
   ]
  },
  {
   "cell_type": "code",
   "execution_count": 51,
   "id": "a3853094",
   "metadata": {},
   "outputs": [],
   "source": [
    "#featured_playlists_endpoint = 'browse/featured-playlists/?limit=50'\n",
    "#featured_playlists_url = ''.join([base_url,featured_playlists_endpoint])"
   ]
  },
  {
   "cell_type": "code",
   "execution_count": 52,
   "id": "6b1ca30f",
   "metadata": {},
   "outputs": [],
   "source": [
    "playlist_endpoint = \"https://api.spotify.com/v1/playlists/37i9dQZF1DX5Ejj0EkURtP\"\n",
    "playlists_url = ''.join([base_url, playlist_endpoint])"
   ]
  },
  {
   "cell_type": "code",
   "execution_count": 55,
   "id": "035630a8",
   "metadata": {},
   "outputs": [],
   "source": [
    "response = requests.get(playlists_url,headers=headers)"
   ]
  },
  {
   "cell_type": "code",
   "execution_count": 58,
   "id": "aeaaccbb",
   "metadata": {},
   "outputs": [
    {
     "ename": "AttributeError",
     "evalue": "'NoneType' object has no attribute 'get'",
     "output_type": "error",
     "traceback": [
      "\u001b[1;31m---------------------------------------------------------------------------\u001b[0m",
      "\u001b[1;31mAttributeError\u001b[0m                            Traceback (most recent call last)",
      "Cell \u001b[1;32mIn[58], line 1\u001b[0m\n\u001b[1;32m----> 1\u001b[0m playlists \u001b[38;5;241m=\u001b[39m \u001b[43mresponse\u001b[49m\u001b[38;5;241;43m.\u001b[39;49m\u001b[43mjson\u001b[49m\u001b[43m(\u001b[49m\u001b[43m)\u001b[49m\u001b[38;5;241;43m.\u001b[39;49m\u001b[43mget\u001b[49m\u001b[43m(\u001b[49m\u001b[38;5;124;43m'\u001b[39;49m\u001b[38;5;124;43mplaylist\u001b[39;49m\u001b[38;5;124;43m'\u001b[39;49m\u001b[43m)\u001b[49m\u001b[38;5;241;43m.\u001b[39;49m\u001b[43mget\u001b[49m(\u001b[38;5;124m'\u001b[39m\u001b[38;5;124mitems\u001b[39m\u001b[38;5;124m'\u001b[39m)\n",
      "\u001b[1;31mAttributeError\u001b[0m: 'NoneType' object has no attribute 'get'"
     ]
    }
   ],
   "source": [
    "playlists = response.json().get('playlist').get('items')"
   ]
  },
  {
   "cell_type": "code",
   "execution_count": 57,
   "id": "069918ee",
   "metadata": {},
   "outputs": [
    {
     "data": {
      "text/plain": [
       "[{'collaborative': False,\n",
       "  'description': '<a href=\"spotify:genre:space:electronica_chill\">Hypnotic electronic</a> for studies and a relax.',\n",
       "  'external_urls': {'spotify': 'https://open.spotify.com/playlist/37i9dQZF1DWXLeA8Omikj7'},\n",
       "  'href': 'https://api.spotify.com/v1/playlists/37i9dQZF1DWXLeA8Omikj7',\n",
       "  'id': '37i9dQZF1DWXLeA8Omikj7',\n",
       "  'images': [{'height': None,\n",
       "    'url': 'https://i.scdn.co/image/ab67706f000000031888f73e300bd0ee976b0180',\n",
       "    'width': None}],\n",
       "  'name': 'Brain Food',\n",
       "  'owner': {'display_name': 'Spotify',\n",
       "   'external_urls': {'spotify': 'https://open.spotify.com/user/spotify'},\n",
       "   'href': 'https://api.spotify.com/v1/users/spotify',\n",
       "   'id': 'spotify',\n",
       "   'type': 'user',\n",
       "   'uri': 'spotify:user:spotify'},\n",
       "  'primary_color': None,\n",
       "  'public': None,\n",
       "  'snapshot_id': 'MTY5MjcxMDUyOCwwMDAwMDAwMDE4ODkxMTc0Y2MxNjYzOTZjZDQ5NTdmMWM3MjgyYjZi',\n",
       "  'tracks': {'href': 'https://api.spotify.com/v1/playlists/37i9dQZF1DWXLeA8Omikj7/tracks',\n",
       "   'total': 100},\n",
       "  'type': 'playlist',\n",
       "  'uri': 'spotify:playlist:37i9dQZF1DWXLeA8Omikj7'},\n",
       " {'collaborative': False,\n",
       "  'description': \"You're on top of the world. Don't forget it.\",\n",
       "  'external_urls': {'spotify': 'https://open.spotify.com/playlist/37i9dQZF1DX4fpCWaHOned'},\n",
       "  'href': 'https://api.spotify.com/v1/playlists/37i9dQZF1DX4fpCWaHOned',\n",
       "  'id': '37i9dQZF1DX4fpCWaHOned',\n",
       "  'images': [{'height': None,\n",
       "    'url': 'https://i.scdn.co/image/ab67706f00000003ee1821c3e4d71dbeaacf3e51',\n",
       "    'width': None}],\n",
       "  'name': 'Confidence Boost',\n",
       "  'owner': {'display_name': 'Spotify',\n",
       "   'external_urls': {'spotify': 'https://open.spotify.com/user/spotify'},\n",
       "   'href': 'https://api.spotify.com/v1/users/spotify',\n",
       "   'id': 'spotify',\n",
       "   'type': 'user',\n",
       "   'uri': 'spotify:user:spotify'},\n",
       "  'primary_color': None,\n",
       "  'public': None,\n",
       "  'snapshot_id': 'MTY5MzU0MDgwMCwwMDAwMDAwMGQ1Y2E1YmM3MGQwOTA2Nzc5YjBlZWUxZGU4YTYxOGQ4',\n",
       "  'tracks': {'href': 'https://api.spotify.com/v1/playlists/37i9dQZF1DX4fpCWaHOned/tracks',\n",
       "   'total': 75},\n",
       "  'type': 'playlist',\n",
       "  'uri': 'spotify:playlist:37i9dQZF1DX4fpCWaHOned'},\n",
       " {'collaborative': False,\n",
       "  'description': 'New music from Doja Cat, Rod Wave and Lil Wayne.',\n",
       "  'external_urls': {'spotify': 'https://open.spotify.com/playlist/37i9dQZF1DX0XUsuxWHRQd'},\n",
       "  'href': 'https://api.spotify.com/v1/playlists/37i9dQZF1DX0XUsuxWHRQd',\n",
       "  'id': '37i9dQZF1DX0XUsuxWHRQd',\n",
       "  'images': [{'height': None,\n",
       "    'url': 'https://i.scdn.co/image/ab67706f0000000312264e27a6d5351289f54a5c',\n",
       "    'width': None}],\n",
       "  'name': 'RapCaviar',\n",
       "  'owner': {'display_name': 'Spotify',\n",
       "   'external_urls': {'spotify': 'https://open.spotify.com/user/spotify'},\n",
       "   'href': 'https://api.spotify.com/v1/users/spotify',\n",
       "   'id': 'spotify',\n",
       "   'type': 'user',\n",
       "   'uri': 'spotify:user:spotify'},\n",
       "  'primary_color': None,\n",
       "  'public': None,\n",
       "  'snapshot_id': 'MTY5MzU0MTA3MiwwMDAwMDAwMDQwYzNlYWZiZGIyODllMjMwNzUzZGJmOWVjY2U4NzY0',\n",
       "  'tracks': {'href': 'https://api.spotify.com/v1/playlists/37i9dQZF1DX0XUsuxWHRQd/tracks',\n",
       "   'total': 50},\n",
       "  'type': 'playlist',\n",
       "  'uri': 'spotify:playlist:37i9dQZF1DX0XUsuxWHRQd'},\n",
       " {'collaborative': False,\n",
       "  'description': 'Peaceful piano to help you slow down, breathe, and relax. ',\n",
       "  'external_urls': {'spotify': 'https://open.spotify.com/playlist/37i9dQZF1DX4sWSpwq3LiO'},\n",
       "  'href': 'https://api.spotify.com/v1/playlists/37i9dQZF1DX4sWSpwq3LiO',\n",
       "  'id': '37i9dQZF1DX4sWSpwq3LiO',\n",
       "  'images': [{'height': None,\n",
       "    'url': 'https://i.scdn.co/image/ab67706f00000003d073e656e546e43bc387ad79',\n",
       "    'width': None}],\n",
       "  'name': 'Peaceful Piano',\n",
       "  'owner': {'display_name': 'Spotify',\n",
       "   'external_urls': {'spotify': 'https://open.spotify.com/user/spotify'},\n",
       "   'href': 'https://api.spotify.com/v1/users/spotify',\n",
       "   'id': 'spotify',\n",
       "   'type': 'user',\n",
       "   'uri': 'spotify:user:spotify'},\n",
       "  'primary_color': None,\n",
       "  'public': None,\n",
       "  'snapshot_id': 'MTY5MzMwMTYzOSwwMDAwMDAwMDFlMTZhYWRlYzM2OTExYTc4NTVhN2NiYWM4MjQ5MzVk',\n",
       "  'tracks': {'href': 'https://api.spotify.com/v1/playlists/37i9dQZF1DX4sWSpwq3LiO/tracks',\n",
       "   'total': 302},\n",
       "  'type': 'playlist',\n",
       "  'uri': 'spotify:playlist:37i9dQZF1DX4sWSpwq3LiO'},\n",
       " {'collaborative': False,\n",
       "  'description': \"Keeping it lowkey with the best of today's chill pop. Cover: Miley Cyrus\",\n",
       "  'external_urls': {'spotify': 'https://open.spotify.com/playlist/37i9dQZF1DX0MLFaUdXnjA'},\n",
       "  'href': 'https://api.spotify.com/v1/playlists/37i9dQZF1DX0MLFaUdXnjA',\n",
       "  'id': '37i9dQZF1DX0MLFaUdXnjA',\n",
       "  'images': [{'height': None,\n",
       "    'url': 'https://i.scdn.co/image/ab67706f00000003c398b420f197ad8beb3df9c5',\n",
       "    'width': None}],\n",
       "  'name': 'Chill Pop',\n",
       "  'owner': {'display_name': 'Spotify',\n",
       "   'external_urls': {'spotify': 'https://open.spotify.com/user/spotify'},\n",
       "   'href': 'https://api.spotify.com/v1/users/spotify',\n",
       "   'id': 'spotify',\n",
       "   'type': 'user',\n",
       "   'uri': 'spotify:user:spotify'},\n",
       "  'primary_color': None,\n",
       "  'public': None,\n",
       "  'snapshot_id': 'MTY5Mzc1MDMzMCwwMDAwMDAwMGE0NzA0ZDRmZjc0M2U2MzE0ZWY5MTExMDllMWUwNjhk',\n",
       "  'tracks': {'href': 'https://api.spotify.com/v1/playlists/37i9dQZF1DX0MLFaUdXnjA/tracks',\n",
       "   'total': 100},\n",
       "  'type': 'playlist',\n",
       "  'uri': 'spotify:playlist:37i9dQZF1DX0MLFaUdXnjA'},\n",
       " {'collaborative': False,\n",
       "  'description': 'Ambient piano to help you stay focussed. ',\n",
       "  'external_urls': {'spotify': 'https://open.spotify.com/playlist/37i9dQZF1DX3PFzdbtx1Us'},\n",
       "  'href': 'https://api.spotify.com/v1/playlists/37i9dQZF1DX3PFzdbtx1Us',\n",
       "  'id': '37i9dQZF1DX3PFzdbtx1Us',\n",
       "  'images': [{'height': None,\n",
       "    'url': 'https://i.scdn.co/image/ab67706f00000003a984324abc4c3064ad15b8cf',\n",
       "    'width': None}],\n",
       "  'name': 'Music for Concentration',\n",
       "  'owner': {'display_name': 'Spotify',\n",
       "   'external_urls': {'spotify': 'https://open.spotify.com/user/spotify'},\n",
       "   'href': 'https://api.spotify.com/v1/users/spotify',\n",
       "   'id': 'spotify',\n",
       "   'type': 'user',\n",
       "   'uri': 'spotify:user:spotify'},\n",
       "  'primary_color': None,\n",
       "  'public': None,\n",
       "  'snapshot_id': 'MTY5MjA5Mjk5NiwwMDAwMDAwMDY2YTBiOWEwNzk2OTQ0YzNlMmY4MjE2NWE1YTdmYzVk',\n",
       "  'tracks': {'href': 'https://api.spotify.com/v1/playlists/37i9dQZF1DX3PFzdbtx1Us/tracks',\n",
       "   'total': 114},\n",
       "  'type': 'playlist',\n",
       "  'uri': 'spotify:playlist:37i9dQZF1DX3PFzdbtx1Us'},\n",
       " {'collaborative': False,\n",
       "  'description': 'Because we all deserve great pop love songs in one playlist.',\n",
       "  'external_urls': {'spotify': 'https://open.spotify.com/playlist/37i9dQZF1DX50QitC6Oqtn'},\n",
       "  'href': 'https://api.spotify.com/v1/playlists/37i9dQZF1DX50QitC6Oqtn',\n",
       "  'id': '37i9dQZF1DX50QitC6Oqtn',\n",
       "  'images': [{'height': None,\n",
       "    'url': 'https://i.scdn.co/image/ab67706f00000003bc8990862fbf124ce4a1f0a7',\n",
       "    'width': None}],\n",
       "  'name': 'Love Pop',\n",
       "  'owner': {'display_name': 'Spotify',\n",
       "   'external_urls': {'spotify': 'https://open.spotify.com/user/spotify'},\n",
       "   'href': 'https://api.spotify.com/v1/users/spotify',\n",
       "   'id': 'spotify',\n",
       "   'type': 'user',\n",
       "   'uri': 'spotify:user:spotify'},\n",
       "  'primary_color': None,\n",
       "  'public': None,\n",
       "  'snapshot_id': 'MTY4NjkxODYzOSwwMDAwMDAwMDkyYmM5YmE2NWMxNDI3NmIwM2E2ZWFkYjUyZDZmOGE4',\n",
       "  'tracks': {'href': 'https://api.spotify.com/v1/playlists/37i9dQZF1DX50QitC6Oqtn/tracks',\n",
       "   'total': 100},\n",
       "  'type': 'playlist',\n",
       "  'uri': 'spotify:playlist:37i9dQZF1DX50QitC6Oqtn'},\n",
       " {'collaborative': False,\n",
       "  'description': 'Pop hits to keep your workout fresh,',\n",
       "  'external_urls': {'spotify': 'https://open.spotify.com/playlist/37i9dQZF1DX70RN3TfWWJh'},\n",
       "  'href': 'https://api.spotify.com/v1/playlists/37i9dQZF1DX70RN3TfWWJh',\n",
       "  'id': '37i9dQZF1DX70RN3TfWWJh',\n",
       "  'images': [{'height': None,\n",
       "    'url': 'https://i.scdn.co/image/ab67706f00000003e2677fd3e5b5f0c5dae9d763',\n",
       "    'width': None}],\n",
       "  'name': 'Workout',\n",
       "  'owner': {'display_name': 'Spotify',\n",
       "   'external_urls': {'spotify': 'https://open.spotify.com/user/spotify'},\n",
       "   'href': 'https://api.spotify.com/v1/users/spotify',\n",
       "   'id': 'spotify',\n",
       "   'type': 'user',\n",
       "   'uri': 'spotify:user:spotify'},\n",
       "  'primary_color': None,\n",
       "  'public': None,\n",
       "  'snapshot_id': 'MTY5MzQyNjU2MiwwMDAwMDAwMDZjNGE5NzI3MzMxN2MwMGFlNGY1MDMzYjc5N2NiM2Mw',\n",
       "  'tracks': {'href': 'https://api.spotify.com/v1/playlists/37i9dQZF1DX70RN3TfWWJh/tracks',\n",
       "   'total': 100},\n",
       "  'type': 'playlist',\n",
       "  'uri': 'spotify:playlist:37i9dQZF1DX70RN3TfWWJh'},\n",
       " {'collaborative': False,\n",
       "  'description': 'Lekker rustig aan doen op maandag met deze zachte pop liedjes.',\n",
       "  'external_urls': {'spotify': 'https://open.spotify.com/playlist/37i9dQZF1DWYlXpl3xXzDI'},\n",
       "  'href': 'https://api.spotify.com/v1/playlists/37i9dQZF1DWYlXpl3xXzDI',\n",
       "  'id': '37i9dQZF1DWYlXpl3xXzDI',\n",
       "  'images': [{'height': None,\n",
       "    'url': 'https://i.scdn.co/image/ab67706f00000003bc1a3f1466530160932e6fbb',\n",
       "    'width': None}],\n",
       "  'name': 'Easy On Monday',\n",
       "  'owner': {'display_name': 'Spotify',\n",
       "   'external_urls': {'spotify': 'https://open.spotify.com/user/spotify'},\n",
       "   'href': 'https://api.spotify.com/v1/users/spotify',\n",
       "   'id': 'spotify',\n",
       "   'type': 'user',\n",
       "   'uri': 'spotify:user:spotify'},\n",
       "  'primary_color': None,\n",
       "  'public': None,\n",
       "  'snapshot_id': 'MTY4NjkyMDI1NCwwMDAwMDAwMGZiY2RiNThlNzhjODNlNzM2ZmQzNzk5ODQ0MDdiOTQw',\n",
       "  'tracks': {'href': 'https://api.spotify.com/v1/playlists/37i9dQZF1DWYlXpl3xXzDI/tracks',\n",
       "   'total': 99},\n",
       "  'type': 'playlist',\n",
       "  'uri': 'spotify:playlist:37i9dQZF1DWYlXpl3xXzDI'},\n",
       " {'collaborative': False,\n",
       "  'description': 'Have some chill house with your coffee\\n',\n",
       "  'external_urls': {'spotify': 'https://open.spotify.com/playlist/37i9dQZF1DX79UF7ALECl7'},\n",
       "  'href': 'https://api.spotify.com/v1/playlists/37i9dQZF1DX79UF7ALECl7',\n",
       "  'id': '37i9dQZF1DX79UF7ALECl7',\n",
       "  'images': [{'height': None,\n",
       "    'url': 'https://i.scdn.co/image/ab67706f00000003f77eaf04543ec3a35edcd585',\n",
       "    'width': None}],\n",
       "  'name': 'Coffee Club',\n",
       "  'owner': {'display_name': 'Spotify',\n",
       "   'external_urls': {'spotify': 'https://open.spotify.com/user/spotify'},\n",
       "   'href': 'https://api.spotify.com/v1/users/spotify',\n",
       "   'id': 'spotify',\n",
       "   'type': 'user',\n",
       "   'uri': 'spotify:user:spotify'},\n",
       "  'primary_color': None,\n",
       "  'public': None,\n",
       "  'snapshot_id': 'MTY5MzUxOTIwMCwwMDAwMDAwMDg3ZWEwNjFhOGM1YTU3OWZjMWMwNDJlMTk5YzRmNjdk',\n",
       "  'tracks': {'href': 'https://api.spotify.com/v1/playlists/37i9dQZF1DX79UF7ALECl7/tracks',\n",
       "   'total': 100},\n",
       "  'type': 'playlist',\n",
       "  'uri': 'spotify:playlist:37i9dQZF1DX79UF7ALECl7'}]"
      ]
     },
     "execution_count": 57,
     "metadata": {},
     "output_type": "execute_result"
    }
   ],
   "source": [
    "playlists"
   ]
  },
  {
   "cell_type": "code",
   "execution_count": 59,
   "id": "336c6dcb",
   "metadata": {},
   "outputs": [],
   "source": [
    "playlist_ids = set()\n",
    "for pl in playlists:\n",
    "    playlist_id = pl.get('id')\n",
    "    playlist_ids.add(playlist_id)"
   ]
  },
  {
   "cell_type": "code",
   "execution_count": 60,
   "id": "6f5fbab4",
   "metadata": {},
   "outputs": [],
   "source": [
    "artist_ids = set()\n",
    "for p_id in playlist_ids:\n",
    "    pr = requests.get(base_url + 'playlists/{}/tracks'.format(p_id), headers=headers)\n",
    "    pr_data = pr.json()\n",
    "    if pr_data:\n",
    "        playlist_data = pr_data.get('items')\n",
    "        for tr in playlist_data:\n",
    "            track = tr.get('track')\n",
    "            if track:\n",
    "                artists = track.get('artists')\n",
    "                for artist in artists: \n",
    "                    artist_id = artist.get('id')\n",
    "                    artist_ids.add(artist_id)"
   ]
  },
  {
   "cell_type": "code",
   "execution_count": null,
   "id": "2b088796",
   "metadata": {},
   "outputs": [],
   "source": []
  }
 ],
 "metadata": {
  "kernelspec": {
   "display_name": "Python 3 (ipykernel)",
   "language": "python",
   "name": "python3"
  },
  "language_info": {
   "codemirror_mode": {
    "name": "ipython",
    "version": 3
   },
   "file_extension": ".py",
   "mimetype": "text/x-python",
   "name": "python",
   "nbconvert_exporter": "python",
   "pygments_lexer": "ipython3",
   "version": "3.11.2"
  }
 },
 "nbformat": 4,
 "nbformat_minor": 5
}
