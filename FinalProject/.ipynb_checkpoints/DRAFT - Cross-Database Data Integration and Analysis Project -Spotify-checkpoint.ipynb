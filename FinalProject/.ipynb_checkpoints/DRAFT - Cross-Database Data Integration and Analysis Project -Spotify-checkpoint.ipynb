{
 "cells": [
  {
   "cell_type": "markdown",
   "id": "097bf5de",
   "metadata": {},
   "source": [
    "### Cross-Database Data Integration and Analysis Project - SPOTIFY "
   ]
  },
  {
   "cell_type": "code",
   "execution_count": 519,
   "id": "6d7aff29",
   "metadata": {},
   "outputs": [],
   "source": [
    "#import necessary library packages:\n",
    "import spotipy\n",
    "from spotipy.oauth2 import SpotifyOAuth\n",
    "from spotipy.oauth2 import SpotifyClientCredentials\n",
    "import spotipy.util as util\n",
    "import credentials\n",
    "import os\n",
    "import time \n",
    "import datetime\n",
    "import requests\n",
    "import numpy as np\n",
    "import pandas as pd\n",
    "import mysql.connector \n",
    "import pymysql\n",
    "from sqlalchemy import create_engine\n",
    "import pymongo\n",
    "from pymongo.mongo_client import MongoClient\n",
    "from pymongo.server_api import ServerApi\n",
    "from neo4j import GraphDatabase\n",
    "import pyspark\n",
    "from pyspark.sql import SparkSession\n",
    "from pyspark import SparkContext,SparkConf\n",
    "from pyspark.sql.functions import col\n",
    "from sklearn.linear_model import LinearRegression\n",
    "import seaborn as sns\n",
    "import matplotlib.pyplot as plt\n",
    "import plotly.express as px"
   ]
  },
  {
   "cell_type": "code",
   "execution_count": 520,
   "id": "2345c322",
   "metadata": {},
   "outputs": [],
   "source": [
    "#set up credentials to access Spotify APi data:\n",
    "client_id = credentials.client_id\n",
    "client_secret = credentials.client_secret\n",
    "\n",
    "\n",
    "client_credentials_manager = SpotifyClientCredentials(client_id=client_id, client_secret=client_secret)\n",
    "sp = spotipy.Spotify(client_credentials_manager=client_credentials_manager)"
   ]
  },
  {
   "cell_type": "markdown",
   "id": "a7aa8265",
   "metadata": {},
   "source": [
    "This code retrieves 10000 tracks of 2010 from Spotify. The fetched data is loaded into to databases: MySql database, MongoDB  and Neo4j graph database, also saved in CSV files."
   ]
  },
  {
   "cell_type": "markdown",
   "id": "3566c300",
   "metadata": {},
   "source": [
    "#### Data fetching"
   ]
  },
  {
   "cell_type": "code",
   "execution_count": 431,
   "id": "7df82ddf",
   "metadata": {},
   "outputs": [],
   "source": [
    "#retrieving Spotify track data from 2010:\n",
    "artist_id = []\n",
    "artist = []\n",
    "track_id = []\n",
    "track = []\n",
    "track_popularity = []\n",
    "album = [] \n",
    "release_date = []\n",
    "\n",
    "for i in range(0,1000,50):\n",
    "    track_results = sp.search(q=\"year:2010\", type=\"track\", limit=50,offset=i)\n",
    "    for i, t in enumerate(track_results[\"tracks\"][\"items\"]):\n",
    "        artist_id.append(t[\"artists\"][0][\"id\"])\n",
    "        artist.append(t[\"artists\"][0][\"name\"])\n",
    "        track_id.append(t[\"id\"])\n",
    "        track.append(t[\"name\"])\n",
    "        track_popularity.append(t[\"popularity\"])\n",
    "        album.append(t[\"album\"][\"name\"])\n",
    "        release_date.append(t[\"album\"][\"release_date\"])"
   ]
  },
  {
   "cell_type": "code",
   "execution_count": 432,
   "id": "0d4e4788",
   "metadata": {},
   "outputs": [
    {
     "name": "stdout",
     "output_type": "stream",
     "text": [
      "(1000, 7)\n"
     ]
    }
   ],
   "source": [
    "#creating pandas DataFrame:\n",
    "data_df = pd.DataFrame({\"artist_id\":artist_id,\"artist\":artist,\"track_id\":track_id,\"track\":track,\"track_popularity\":track_popularity,\"album\":album,\"release_date\":release_date} )\n",
    "print(data_df.shape)"
   ]
  },
  {
   "cell_type": "code",
   "execution_count": 433,
   "id": "6b715817",
   "metadata": {},
   "outputs": [
    {
     "data": {
      "text/html": [
       "<div>\n",
       "<style scoped>\n",
       "    .dataframe tbody tr th:only-of-type {\n",
       "        vertical-align: middle;\n",
       "    }\n",
       "\n",
       "    .dataframe tbody tr th {\n",
       "        vertical-align: top;\n",
       "    }\n",
       "\n",
       "    .dataframe thead th {\n",
       "        text-align: right;\n",
       "    }\n",
       "</style>\n",
       "<table border=\"1\" class=\"dataframe\">\n",
       "  <thead>\n",
       "    <tr style=\"text-align: right;\">\n",
       "      <th></th>\n",
       "      <th>artist_id</th>\n",
       "      <th>artist</th>\n",
       "      <th>track_id</th>\n",
       "      <th>track</th>\n",
       "      <th>track_popularity</th>\n",
       "      <th>album</th>\n",
       "      <th>release_date</th>\n",
       "    </tr>\n",
       "  </thead>\n",
       "  <tbody>\n",
       "    <tr>\n",
       "      <th>0</th>\n",
       "      <td>360IAlyVv4PCEVjgyMZrxK</td>\n",
       "      <td>Miguel</td>\n",
       "      <td>0JXXNGljqupsJaZsgSbMZV</td>\n",
       "      <td>Sure Thing</td>\n",
       "      <td>89</td>\n",
       "      <td>All I Want Is You</td>\n",
       "      <td>2010-11-26</td>\n",
       "    </tr>\n",
       "    <tr>\n",
       "      <th>1</th>\n",
       "      <td>4LLpKhyESsyAXpc4laK94U</td>\n",
       "      <td>Mac Miller</td>\n",
       "      <td>7FAFkQQZFeNwOFzTrSDFIh</td>\n",
       "      <td>The Spins</td>\n",
       "      <td>84</td>\n",
       "      <td>K.I.D.S. (Deluxe)</td>\n",
       "      <td>2010-08-13</td>\n",
       "    </tr>\n",
       "    <tr>\n",
       "      <th>2</th>\n",
       "      <td>0du5cEVh5yTK9QJze8zA0C</td>\n",
       "      <td>Bruno Mars</td>\n",
       "      <td>7BqBn9nzAq8spo5e7cZ0dJ</td>\n",
       "      <td>Just the Way You Are</td>\n",
       "      <td>86</td>\n",
       "      <td>Doo-Wops &amp; Hooligans</td>\n",
       "      <td>2010-10-05</td>\n",
       "    </tr>\n",
       "    <tr>\n",
       "      <th>3</th>\n",
       "      <td>5jTtGLk1mGFMY5lQOvJYUj</td>\n",
       "      <td>bôa</td>\n",
       "      <td>42qNWdLKCI41S4uzfamhFM</td>\n",
       "      <td>Duvet</td>\n",
       "      <td>85</td>\n",
       "      <td>Twilight</td>\n",
       "      <td>2010-04-20</td>\n",
       "    </tr>\n",
       "    <tr>\n",
       "      <th>4</th>\n",
       "      <td>6f4XkbvYlXMH0QgVRzW0sM</td>\n",
       "      <td>Waka Flocka Flame</td>\n",
       "      <td>03tqyYWC9Um2ZqU0ZN849H</td>\n",
       "      <td>No Hands (feat. Roscoe Dash &amp; Wale)</td>\n",
       "      <td>79</td>\n",
       "      <td>Flockaveli</td>\n",
       "      <td>2010-10-01</td>\n",
       "    </tr>\n",
       "    <tr>\n",
       "      <th>...</th>\n",
       "      <td>...</td>\n",
       "      <td>...</td>\n",
       "      <td>...</td>\n",
       "      <td>...</td>\n",
       "      <td>...</td>\n",
       "      <td>...</td>\n",
       "      <td>...</td>\n",
       "    </tr>\n",
       "    <tr>\n",
       "      <th>995</th>\n",
       "      <td>5PokPZn11xzZXyXSfnvIM3</td>\n",
       "      <td>Lifehouse</td>\n",
       "      <td>5dePpbamNezj1qhHKJPViS</td>\n",
       "      <td>All In</td>\n",
       "      <td>49</td>\n",
       "      <td>Smoke &amp; Mirrors (Deluxe)</td>\n",
       "      <td>2010</td>\n",
       "    </tr>\n",
       "    <tr>\n",
       "      <th>996</th>\n",
       "      <td>535ap2f16rTOKTMPTkvbGB</td>\n",
       "      <td>Los Buitres De Culiacan Sinaloa</td>\n",
       "      <td>7mxukykLaEKZp0VtCSOMli</td>\n",
       "      <td>Pinche Gente Alboretera</td>\n",
       "      <td>55</td>\n",
       "      <td>El Movimiento Alterado Vol. 3</td>\n",
       "      <td>2010</td>\n",
       "    </tr>\n",
       "    <tr>\n",
       "      <th>997</th>\n",
       "      <td>0pqGj6vO9YHsXuZmaJaP2Y</td>\n",
       "      <td>Jan &amp; Dean</td>\n",
       "      <td>1Oewmmr12xuhgzvUJ9Q0cf</td>\n",
       "      <td>Surf City</td>\n",
       "      <td>52</td>\n",
       "      <td>Surf City And Other Swingin' Cities</td>\n",
       "      <td>2010-01-01</td>\n",
       "    </tr>\n",
       "    <tr>\n",
       "      <th>998</th>\n",
       "      <td>3a9qv6NLHnsVxJUtKOMHvD</td>\n",
       "      <td>The Glitch Mob</td>\n",
       "      <td>5VWVVSABdgccboSdrKGiZH</td>\n",
       "      <td>Fortune Days</td>\n",
       "      <td>53</td>\n",
       "      <td>Drink the Sea</td>\n",
       "      <td>2010-06-08</td>\n",
       "    </tr>\n",
       "    <tr>\n",
       "      <th>999</th>\n",
       "      <td>2vdi5RS6XV5Qy7J5GgDqgn</td>\n",
       "      <td>Margarita la diosa de la cumbia</td>\n",
       "      <td>6azC9WCgqehMj2tHoaa10b</td>\n",
       "      <td>Que nadie sepa mi sufrir (Amor de mis amores)</td>\n",
       "      <td>60</td>\n",
       "      <td>30 Aniversario</td>\n",
       "      <td>2010-10-26</td>\n",
       "    </tr>\n",
       "  </tbody>\n",
       "</table>\n",
       "<p>1000 rows × 7 columns</p>\n",
       "</div>"
      ],
      "text/plain": [
       "                  artist_id                           artist   \n",
       "0    360IAlyVv4PCEVjgyMZrxK                           Miguel  \\\n",
       "1    4LLpKhyESsyAXpc4laK94U                       Mac Miller   \n",
       "2    0du5cEVh5yTK9QJze8zA0C                       Bruno Mars   \n",
       "3    5jTtGLk1mGFMY5lQOvJYUj                              bôa   \n",
       "4    6f4XkbvYlXMH0QgVRzW0sM                Waka Flocka Flame   \n",
       "..                      ...                              ...   \n",
       "995  5PokPZn11xzZXyXSfnvIM3                        Lifehouse   \n",
       "996  535ap2f16rTOKTMPTkvbGB  Los Buitres De Culiacan Sinaloa   \n",
       "997  0pqGj6vO9YHsXuZmaJaP2Y                       Jan & Dean   \n",
       "998  3a9qv6NLHnsVxJUtKOMHvD                   The Glitch Mob   \n",
       "999  2vdi5RS6XV5Qy7J5GgDqgn  Margarita la diosa de la cumbia   \n",
       "\n",
       "                   track_id                                          track   \n",
       "0    0JXXNGljqupsJaZsgSbMZV                                     Sure Thing  \\\n",
       "1    7FAFkQQZFeNwOFzTrSDFIh                                      The Spins   \n",
       "2    7BqBn9nzAq8spo5e7cZ0dJ                           Just the Way You Are   \n",
       "3    42qNWdLKCI41S4uzfamhFM                                          Duvet   \n",
       "4    03tqyYWC9Um2ZqU0ZN849H            No Hands (feat. Roscoe Dash & Wale)   \n",
       "..                      ...                                            ...   \n",
       "995  5dePpbamNezj1qhHKJPViS                                         All In   \n",
       "996  7mxukykLaEKZp0VtCSOMli                        Pinche Gente Alboretera   \n",
       "997  1Oewmmr12xuhgzvUJ9Q0cf                                      Surf City   \n",
       "998  5VWVVSABdgccboSdrKGiZH                                   Fortune Days   \n",
       "999  6azC9WCgqehMj2tHoaa10b  Que nadie sepa mi sufrir (Amor de mis amores)   \n",
       "\n",
       "     track_popularity                                album release_date  \n",
       "0                  89                    All I Want Is You   2010-11-26  \n",
       "1                  84                    K.I.D.S. (Deluxe)   2010-08-13  \n",
       "2                  86                 Doo-Wops & Hooligans   2010-10-05  \n",
       "3                  85                             Twilight   2010-04-20  \n",
       "4                  79                           Flockaveli   2010-10-01  \n",
       "..                ...                                  ...          ...  \n",
       "995                49             Smoke & Mirrors (Deluxe)         2010  \n",
       "996                55        El Movimiento Alterado Vol. 3         2010  \n",
       "997                52  Surf City And Other Swingin' Cities   2010-01-01  \n",
       "998                53                        Drink the Sea   2010-06-08  \n",
       "999                60                       30 Aniversario   2010-10-26  \n",
       "\n",
       "[1000 rows x 7 columns]"
      ]
     },
     "execution_count": 433,
     "metadata": {},
     "output_type": "execute_result"
    }
   ],
   "source": [
    "data_df"
   ]
  },
  {
   "cell_type": "code",
   "execution_count": 434,
   "id": "0ea7acb1",
   "metadata": {},
   "outputs": [],
   "source": [
    "#add additional data to DataFrame:\n",
    "artist_popularity = []\n",
    "artist_genres = []\n",
    "artist_followers = []\n",
    "\n",
    "for a_id in data_df.artist_id:\n",
    "    artist = sp.artist(a_id)\n",
    "    artist_popularity.append(artist[\"popularity\"])\n",
    "    artist_genres.append(artist[\"genres\"])\n",
    "    artist_followers.append(artist[\"followers\"][\"total\"])"
   ]
  },
  {
   "cell_type": "code",
   "execution_count": 435,
   "id": "96cb676b",
   "metadata": {},
   "outputs": [
    {
     "data": {
      "text/html": [
       "<div>\n",
       "<style scoped>\n",
       "    .dataframe tbody tr th:only-of-type {\n",
       "        vertical-align: middle;\n",
       "    }\n",
       "\n",
       "    .dataframe tbody tr th {\n",
       "        vertical-align: top;\n",
       "    }\n",
       "\n",
       "    .dataframe thead th {\n",
       "        text-align: right;\n",
       "    }\n",
       "</style>\n",
       "<table border=\"1\" class=\"dataframe\">\n",
       "  <thead>\n",
       "    <tr style=\"text-align: right;\">\n",
       "      <th></th>\n",
       "      <th>artist_id</th>\n",
       "      <th>artist</th>\n",
       "      <th>track_id</th>\n",
       "      <th>track</th>\n",
       "      <th>track_popularity</th>\n",
       "      <th>album</th>\n",
       "      <th>release_date</th>\n",
       "      <th>artist_popularity</th>\n",
       "      <th>artist_genres</th>\n",
       "      <th>artist_followers</th>\n",
       "    </tr>\n",
       "  </thead>\n",
       "  <tbody>\n",
       "    <tr>\n",
       "      <th>0</th>\n",
       "      <td>360IAlyVv4PCEVjgyMZrxK</td>\n",
       "      <td>Miguel</td>\n",
       "      <td>0JXXNGljqupsJaZsgSbMZV</td>\n",
       "      <td>Sure Thing</td>\n",
       "      <td>89</td>\n",
       "      <td>All I Want Is You</td>\n",
       "      <td>2010-11-26</td>\n",
       "      <td>77</td>\n",
       "      <td>[r&amp;b, urban contemporary]</td>\n",
       "      <td>4788498</td>\n",
       "    </tr>\n",
       "    <tr>\n",
       "      <th>1</th>\n",
       "      <td>4LLpKhyESsyAXpc4laK94U</td>\n",
       "      <td>Mac Miller</td>\n",
       "      <td>7FAFkQQZFeNwOFzTrSDFIh</td>\n",
       "      <td>The Spins</td>\n",
       "      <td>84</td>\n",
       "      <td>K.I.D.S. (Deluxe)</td>\n",
       "      <td>2010-08-13</td>\n",
       "      <td>82</td>\n",
       "      <td>[hip hop, pittsburgh rap, pop rap, rap]</td>\n",
       "      <td>9497713</td>\n",
       "    </tr>\n",
       "    <tr>\n",
       "      <th>2</th>\n",
       "      <td>0du5cEVh5yTK9QJze8zA0C</td>\n",
       "      <td>Bruno Mars</td>\n",
       "      <td>7BqBn9nzAq8spo5e7cZ0dJ</td>\n",
       "      <td>Just the Way You Are</td>\n",
       "      <td>86</td>\n",
       "      <td>Doo-Wops &amp; Hooligans</td>\n",
       "      <td>2010-10-05</td>\n",
       "      <td>87</td>\n",
       "      <td>[dance pop, pop]</td>\n",
       "      <td>50939168</td>\n",
       "    </tr>\n",
       "    <tr>\n",
       "      <th>3</th>\n",
       "      <td>5jTtGLk1mGFMY5lQOvJYUj</td>\n",
       "      <td>bôa</td>\n",
       "      <td>42qNWdLKCI41S4uzfamhFM</td>\n",
       "      <td>Duvet</td>\n",
       "      <td>85</td>\n",
       "      <td>Twilight</td>\n",
       "      <td>2010-04-20</td>\n",
       "      <td>66</td>\n",
       "      <td>[]</td>\n",
       "      <td>438554</td>\n",
       "    </tr>\n",
       "    <tr>\n",
       "      <th>4</th>\n",
       "      <td>6f4XkbvYlXMH0QgVRzW0sM</td>\n",
       "      <td>Waka Flocka Flame</td>\n",
       "      <td>03tqyYWC9Um2ZqU0ZN849H</td>\n",
       "      <td>No Hands (feat. Roscoe Dash &amp; Wale)</td>\n",
       "      <td>79</td>\n",
       "      <td>Flockaveli</td>\n",
       "      <td>2010-10-01</td>\n",
       "      <td>64</td>\n",
       "      <td>[atl hip hop, dirty south rap, pop rap, rap, s...</td>\n",
       "      <td>2714590</td>\n",
       "    </tr>\n",
       "    <tr>\n",
       "      <th>...</th>\n",
       "      <td>...</td>\n",
       "      <td>...</td>\n",
       "      <td>...</td>\n",
       "      <td>...</td>\n",
       "      <td>...</td>\n",
       "      <td>...</td>\n",
       "      <td>...</td>\n",
       "      <td>...</td>\n",
       "      <td>...</td>\n",
       "      <td>...</td>\n",
       "    </tr>\n",
       "    <tr>\n",
       "      <th>995</th>\n",
       "      <td>5PokPZn11xzZXyXSfnvIM3</td>\n",
       "      <td>Lifehouse</td>\n",
       "      <td>5dePpbamNezj1qhHKJPViS</td>\n",
       "      <td>All In</td>\n",
       "      <td>49</td>\n",
       "      <td>Smoke &amp; Mirrors (Deluxe)</td>\n",
       "      <td>2010</td>\n",
       "      <td>62</td>\n",
       "      <td>[neo mellow, pop rock, post-grunge]</td>\n",
       "      <td>1972276</td>\n",
       "    </tr>\n",
       "    <tr>\n",
       "      <th>996</th>\n",
       "      <td>535ap2f16rTOKTMPTkvbGB</td>\n",
       "      <td>Los Buitres De Culiacan Sinaloa</td>\n",
       "      <td>7mxukykLaEKZp0VtCSOMli</td>\n",
       "      <td>Pinche Gente Alboretera</td>\n",
       "      <td>55</td>\n",
       "      <td>El Movimiento Alterado Vol. 3</td>\n",
       "      <td>2010</td>\n",
       "      <td>59</td>\n",
       "      <td>[corrido, musica mexicana, norteno, sierreno]</td>\n",
       "      <td>976842</td>\n",
       "    </tr>\n",
       "    <tr>\n",
       "      <th>997</th>\n",
       "      <td>0pqGj6vO9YHsXuZmaJaP2Y</td>\n",
       "      <td>Jan &amp; Dean</td>\n",
       "      <td>1Oewmmr12xuhgzvUJ9Q0cf</td>\n",
       "      <td>Surf City</td>\n",
       "      <td>52</td>\n",
       "      <td>Surf City And Other Swingin' Cities</td>\n",
       "      <td>2010-01-01</td>\n",
       "      <td>38</td>\n",
       "      <td>[bubblegum pop, classic garage rock, doo-wop, ...</td>\n",
       "      <td>106177</td>\n",
       "    </tr>\n",
       "    <tr>\n",
       "      <th>998</th>\n",
       "      <td>3a9qv6NLHnsVxJUtKOMHvD</td>\n",
       "      <td>The Glitch Mob</td>\n",
       "      <td>5VWVVSABdgccboSdrKGiZH</td>\n",
       "      <td>Fortune Days</td>\n",
       "      <td>53</td>\n",
       "      <td>Drink the Sea</td>\n",
       "      <td>2010-06-08</td>\n",
       "      <td>59</td>\n",
       "      <td>[glitch, glitch hop, indietronica]</td>\n",
       "      <td>555130</td>\n",
       "    </tr>\n",
       "    <tr>\n",
       "      <th>999</th>\n",
       "      <td>2vdi5RS6XV5Qy7J5GgDqgn</td>\n",
       "      <td>Margarita la diosa de la cumbia</td>\n",
       "      <td>6azC9WCgqehMj2tHoaa10b</td>\n",
       "      <td>Que nadie sepa mi sufrir (Amor de mis amores)</td>\n",
       "      <td>60</td>\n",
       "      <td>30 Aniversario</td>\n",
       "      <td>2010-10-26</td>\n",
       "      <td>53</td>\n",
       "      <td>[grupera, ranchera, tropical]</td>\n",
       "      <td>337117</td>\n",
       "    </tr>\n",
       "  </tbody>\n",
       "</table>\n",
       "<p>1000 rows × 10 columns</p>\n",
       "</div>"
      ],
      "text/plain": [
       "                  artist_id                           artist   \n",
       "0    360IAlyVv4PCEVjgyMZrxK                           Miguel  \\\n",
       "1    4LLpKhyESsyAXpc4laK94U                       Mac Miller   \n",
       "2    0du5cEVh5yTK9QJze8zA0C                       Bruno Mars   \n",
       "3    5jTtGLk1mGFMY5lQOvJYUj                              bôa   \n",
       "4    6f4XkbvYlXMH0QgVRzW0sM                Waka Flocka Flame   \n",
       "..                      ...                              ...   \n",
       "995  5PokPZn11xzZXyXSfnvIM3                        Lifehouse   \n",
       "996  535ap2f16rTOKTMPTkvbGB  Los Buitres De Culiacan Sinaloa   \n",
       "997  0pqGj6vO9YHsXuZmaJaP2Y                       Jan & Dean   \n",
       "998  3a9qv6NLHnsVxJUtKOMHvD                   The Glitch Mob   \n",
       "999  2vdi5RS6XV5Qy7J5GgDqgn  Margarita la diosa de la cumbia   \n",
       "\n",
       "                   track_id                                          track   \n",
       "0    0JXXNGljqupsJaZsgSbMZV                                     Sure Thing  \\\n",
       "1    7FAFkQQZFeNwOFzTrSDFIh                                      The Spins   \n",
       "2    7BqBn9nzAq8spo5e7cZ0dJ                           Just the Way You Are   \n",
       "3    42qNWdLKCI41S4uzfamhFM                                          Duvet   \n",
       "4    03tqyYWC9Um2ZqU0ZN849H            No Hands (feat. Roscoe Dash & Wale)   \n",
       "..                      ...                                            ...   \n",
       "995  5dePpbamNezj1qhHKJPViS                                         All In   \n",
       "996  7mxukykLaEKZp0VtCSOMli                        Pinche Gente Alboretera   \n",
       "997  1Oewmmr12xuhgzvUJ9Q0cf                                      Surf City   \n",
       "998  5VWVVSABdgccboSdrKGiZH                                   Fortune Days   \n",
       "999  6azC9WCgqehMj2tHoaa10b  Que nadie sepa mi sufrir (Amor de mis amores)   \n",
       "\n",
       "     track_popularity                                album release_date   \n",
       "0                  89                    All I Want Is You   2010-11-26  \\\n",
       "1                  84                    K.I.D.S. (Deluxe)   2010-08-13   \n",
       "2                  86                 Doo-Wops & Hooligans   2010-10-05   \n",
       "3                  85                             Twilight   2010-04-20   \n",
       "4                  79                           Flockaveli   2010-10-01   \n",
       "..                ...                                  ...          ...   \n",
       "995                49             Smoke & Mirrors (Deluxe)         2010   \n",
       "996                55        El Movimiento Alterado Vol. 3         2010   \n",
       "997                52  Surf City And Other Swingin' Cities   2010-01-01   \n",
       "998                53                        Drink the Sea   2010-06-08   \n",
       "999                60                       30 Aniversario   2010-10-26   \n",
       "\n",
       "     artist_popularity                                      artist_genres   \n",
       "0                   77                          [r&b, urban contemporary]  \\\n",
       "1                   82            [hip hop, pittsburgh rap, pop rap, rap]   \n",
       "2                   87                                   [dance pop, pop]   \n",
       "3                   66                                                 []   \n",
       "4                   64  [atl hip hop, dirty south rap, pop rap, rap, s...   \n",
       "..                 ...                                                ...   \n",
       "995                 62                [neo mellow, pop rock, post-grunge]   \n",
       "996                 59      [corrido, musica mexicana, norteno, sierreno]   \n",
       "997                 38  [bubblegum pop, classic garage rock, doo-wop, ...   \n",
       "998                 59                 [glitch, glitch hop, indietronica]   \n",
       "999                 53                      [grupera, ranchera, tropical]   \n",
       "\n",
       "     artist_followers  \n",
       "0             4788498  \n",
       "1             9497713  \n",
       "2            50939168  \n",
       "3              438554  \n",
       "4             2714590  \n",
       "..                ...  \n",
       "995           1972276  \n",
       "996            976842  \n",
       "997            106177  \n",
       "998            555130  \n",
       "999            337117  \n",
       "\n",
       "[1000 rows x 10 columns]"
      ]
     },
     "execution_count": 435,
     "metadata": {},
     "output_type": "execute_result"
    }
   ],
   "source": [
    "data_df = data_df.assign(artist_popularity=artist_popularity, artist_genres=artist_genres, artist_followers=artist_followers)\n",
    "data_df"
   ]
  },
  {
   "cell_type": "code",
   "execution_count": null,
   "id": "ce9a5cf0",
   "metadata": {},
   "outputs": [],
   "source": [
    "#sort by tarck popularity@\n",
    "track_pop_df = "
   ]
  },
  {
   "cell_type": "code",
   "execution_count": 562,
   "id": "a256c3b2",
   "metadata": {},
   "outputs": [
    {
     "name": "stderr",
     "output_type": "stream",
     "text": [
      "Max Retries reached\n"
     ]
    },
    {
     "ename": "SpotifyException",
     "evalue": "http status: 429, code:-1 - /v1/audio-features/?ids=0JXXNGljqupsJaZsgSbMZV:\n Max Retries, reason: too many 429 error responses",
     "output_type": "error",
     "traceback": [
      "\u001b[1;31m---------------------------------------------------------------------------\u001b[0m",
      "\u001b[1;31mMaxRetryError\u001b[0m                             Traceback (most recent call last)",
      "File \u001b[1;32m~\\AppData\\Local\\Programs\\Python\\Python311\\Lib\\site-packages\\requests\\adapters.py:487\u001b[0m, in \u001b[0;36mHTTPAdapter.send\u001b[1;34m(self, request, stream, timeout, verify, cert, proxies)\u001b[0m\n\u001b[0;32m    486\u001b[0m \u001b[38;5;28;01mtry\u001b[39;00m:\n\u001b[1;32m--> 487\u001b[0m     resp \u001b[38;5;241m=\u001b[39m \u001b[43mconn\u001b[49m\u001b[38;5;241;43m.\u001b[39;49m\u001b[43murlopen\u001b[49m\u001b[43m(\u001b[49m\n\u001b[0;32m    488\u001b[0m \u001b[43m        \u001b[49m\u001b[43mmethod\u001b[49m\u001b[38;5;241;43m=\u001b[39;49m\u001b[43mrequest\u001b[49m\u001b[38;5;241;43m.\u001b[39;49m\u001b[43mmethod\u001b[49m\u001b[43m,\u001b[49m\n\u001b[0;32m    489\u001b[0m \u001b[43m        \u001b[49m\u001b[43murl\u001b[49m\u001b[38;5;241;43m=\u001b[39;49m\u001b[43murl\u001b[49m\u001b[43m,\u001b[49m\n\u001b[0;32m    490\u001b[0m \u001b[43m        \u001b[49m\u001b[43mbody\u001b[49m\u001b[38;5;241;43m=\u001b[39;49m\u001b[43mrequest\u001b[49m\u001b[38;5;241;43m.\u001b[39;49m\u001b[43mbody\u001b[49m\u001b[43m,\u001b[49m\n\u001b[0;32m    491\u001b[0m \u001b[43m        \u001b[49m\u001b[43mheaders\u001b[49m\u001b[38;5;241;43m=\u001b[39;49m\u001b[43mrequest\u001b[49m\u001b[38;5;241;43m.\u001b[39;49m\u001b[43mheaders\u001b[49m\u001b[43m,\u001b[49m\n\u001b[0;32m    492\u001b[0m \u001b[43m        \u001b[49m\u001b[43mredirect\u001b[49m\u001b[38;5;241;43m=\u001b[39;49m\u001b[38;5;28;43;01mFalse\u001b[39;49;00m\u001b[43m,\u001b[49m\n\u001b[0;32m    493\u001b[0m \u001b[43m        \u001b[49m\u001b[43massert_same_host\u001b[49m\u001b[38;5;241;43m=\u001b[39;49m\u001b[38;5;28;43;01mFalse\u001b[39;49;00m\u001b[43m,\u001b[49m\n\u001b[0;32m    494\u001b[0m \u001b[43m        \u001b[49m\u001b[43mpreload_content\u001b[49m\u001b[38;5;241;43m=\u001b[39;49m\u001b[38;5;28;43;01mFalse\u001b[39;49;00m\u001b[43m,\u001b[49m\n\u001b[0;32m    495\u001b[0m \u001b[43m        \u001b[49m\u001b[43mdecode_content\u001b[49m\u001b[38;5;241;43m=\u001b[39;49m\u001b[38;5;28;43;01mFalse\u001b[39;49;00m\u001b[43m,\u001b[49m\n\u001b[0;32m    496\u001b[0m \u001b[43m        \u001b[49m\u001b[43mretries\u001b[49m\u001b[38;5;241;43m=\u001b[39;49m\u001b[38;5;28;43mself\u001b[39;49m\u001b[38;5;241;43m.\u001b[39;49m\u001b[43mmax_retries\u001b[49m\u001b[43m,\u001b[49m\n\u001b[0;32m    497\u001b[0m \u001b[43m        \u001b[49m\u001b[43mtimeout\u001b[49m\u001b[38;5;241;43m=\u001b[39;49m\u001b[43mtimeout\u001b[49m\u001b[43m,\u001b[49m\n\u001b[0;32m    498\u001b[0m \u001b[43m        \u001b[49m\u001b[43mchunked\u001b[49m\u001b[38;5;241;43m=\u001b[39;49m\u001b[43mchunked\u001b[49m\u001b[43m,\u001b[49m\n\u001b[0;32m    499\u001b[0m \u001b[43m    \u001b[49m\u001b[43m)\u001b[49m\n\u001b[0;32m    501\u001b[0m \u001b[38;5;28;01mexcept\u001b[39;00m (ProtocolError, \u001b[38;5;167;01mOSError\u001b[39;00m) \u001b[38;5;28;01mas\u001b[39;00m err:\n",
      "File \u001b[1;32m~\\AppData\\Local\\Programs\\Python\\Python311\\Lib\\site-packages\\urllib3\\connectionpool.py:878\u001b[0m, in \u001b[0;36mHTTPConnectionPool.urlopen\u001b[1;34m(self, method, url, body, headers, retries, redirect, assert_same_host, timeout, pool_timeout, release_conn, chunked, body_pos, **response_kw)\u001b[0m\n\u001b[0;32m    877\u001b[0m     log\u001b[38;5;241m.\u001b[39mdebug(\u001b[38;5;124m\"\u001b[39m\u001b[38;5;124mRetry: \u001b[39m\u001b[38;5;132;01m%s\u001b[39;00m\u001b[38;5;124m\"\u001b[39m, url)\n\u001b[1;32m--> 878\u001b[0m     \u001b[38;5;28;01mreturn\u001b[39;00m \u001b[38;5;28;43mself\u001b[39;49m\u001b[38;5;241;43m.\u001b[39;49m\u001b[43murlopen\u001b[49m\u001b[43m(\u001b[49m\n\u001b[0;32m    879\u001b[0m \u001b[43m        \u001b[49m\u001b[43mmethod\u001b[49m\u001b[43m,\u001b[49m\n\u001b[0;32m    880\u001b[0m \u001b[43m        \u001b[49m\u001b[43murl\u001b[49m\u001b[43m,\u001b[49m\n\u001b[0;32m    881\u001b[0m \u001b[43m        \u001b[49m\u001b[43mbody\u001b[49m\u001b[43m,\u001b[49m\n\u001b[0;32m    882\u001b[0m \u001b[43m        \u001b[49m\u001b[43mheaders\u001b[49m\u001b[43m,\u001b[49m\n\u001b[0;32m    883\u001b[0m \u001b[43m        \u001b[49m\u001b[43mretries\u001b[49m\u001b[38;5;241;43m=\u001b[39;49m\u001b[43mretries\u001b[49m\u001b[43m,\u001b[49m\n\u001b[0;32m    884\u001b[0m \u001b[43m        \u001b[49m\u001b[43mredirect\u001b[49m\u001b[38;5;241;43m=\u001b[39;49m\u001b[43mredirect\u001b[49m\u001b[43m,\u001b[49m\n\u001b[0;32m    885\u001b[0m \u001b[43m        \u001b[49m\u001b[43massert_same_host\u001b[49m\u001b[38;5;241;43m=\u001b[39;49m\u001b[43massert_same_host\u001b[49m\u001b[43m,\u001b[49m\n\u001b[0;32m    886\u001b[0m \u001b[43m        \u001b[49m\u001b[43mtimeout\u001b[49m\u001b[38;5;241;43m=\u001b[39;49m\u001b[43mtimeout\u001b[49m\u001b[43m,\u001b[49m\n\u001b[0;32m    887\u001b[0m \u001b[43m        \u001b[49m\u001b[43mpool_timeout\u001b[49m\u001b[38;5;241;43m=\u001b[39;49m\u001b[43mpool_timeout\u001b[49m\u001b[43m,\u001b[49m\n\u001b[0;32m    888\u001b[0m \u001b[43m        \u001b[49m\u001b[43mrelease_conn\u001b[49m\u001b[38;5;241;43m=\u001b[39;49m\u001b[43mrelease_conn\u001b[49m\u001b[43m,\u001b[49m\n\u001b[0;32m    889\u001b[0m \u001b[43m        \u001b[49m\u001b[43mchunked\u001b[49m\u001b[38;5;241;43m=\u001b[39;49m\u001b[43mchunked\u001b[49m\u001b[43m,\u001b[49m\n\u001b[0;32m    890\u001b[0m \u001b[43m        \u001b[49m\u001b[43mbody_pos\u001b[49m\u001b[38;5;241;43m=\u001b[39;49m\u001b[43mbody_pos\u001b[49m\u001b[43m,\u001b[49m\n\u001b[0;32m    891\u001b[0m \u001b[43m        \u001b[49m\u001b[38;5;241;43m*\u001b[39;49m\u001b[38;5;241;43m*\u001b[39;49m\u001b[43mresponse_kw\u001b[49m\n\u001b[0;32m    892\u001b[0m \u001b[43m    \u001b[49m\u001b[43m)\u001b[49m\n\u001b[0;32m    894\u001b[0m \u001b[38;5;28;01mreturn\u001b[39;00m response\n",
      "File \u001b[1;32m~\\AppData\\Local\\Programs\\Python\\Python311\\Lib\\site-packages\\urllib3\\connectionpool.py:878\u001b[0m, in \u001b[0;36mHTTPConnectionPool.urlopen\u001b[1;34m(self, method, url, body, headers, retries, redirect, assert_same_host, timeout, pool_timeout, release_conn, chunked, body_pos, **response_kw)\u001b[0m\n\u001b[0;32m    877\u001b[0m     log\u001b[38;5;241m.\u001b[39mdebug(\u001b[38;5;124m\"\u001b[39m\u001b[38;5;124mRetry: \u001b[39m\u001b[38;5;132;01m%s\u001b[39;00m\u001b[38;5;124m\"\u001b[39m, url)\n\u001b[1;32m--> 878\u001b[0m     \u001b[38;5;28;01mreturn\u001b[39;00m \u001b[38;5;28;43mself\u001b[39;49m\u001b[38;5;241;43m.\u001b[39;49m\u001b[43murlopen\u001b[49m\u001b[43m(\u001b[49m\n\u001b[0;32m    879\u001b[0m \u001b[43m        \u001b[49m\u001b[43mmethod\u001b[49m\u001b[43m,\u001b[49m\n\u001b[0;32m    880\u001b[0m \u001b[43m        \u001b[49m\u001b[43murl\u001b[49m\u001b[43m,\u001b[49m\n\u001b[0;32m    881\u001b[0m \u001b[43m        \u001b[49m\u001b[43mbody\u001b[49m\u001b[43m,\u001b[49m\n\u001b[0;32m    882\u001b[0m \u001b[43m        \u001b[49m\u001b[43mheaders\u001b[49m\u001b[43m,\u001b[49m\n\u001b[0;32m    883\u001b[0m \u001b[43m        \u001b[49m\u001b[43mretries\u001b[49m\u001b[38;5;241;43m=\u001b[39;49m\u001b[43mretries\u001b[49m\u001b[43m,\u001b[49m\n\u001b[0;32m    884\u001b[0m \u001b[43m        \u001b[49m\u001b[43mredirect\u001b[49m\u001b[38;5;241;43m=\u001b[39;49m\u001b[43mredirect\u001b[49m\u001b[43m,\u001b[49m\n\u001b[0;32m    885\u001b[0m \u001b[43m        \u001b[49m\u001b[43massert_same_host\u001b[49m\u001b[38;5;241;43m=\u001b[39;49m\u001b[43massert_same_host\u001b[49m\u001b[43m,\u001b[49m\n\u001b[0;32m    886\u001b[0m \u001b[43m        \u001b[49m\u001b[43mtimeout\u001b[49m\u001b[38;5;241;43m=\u001b[39;49m\u001b[43mtimeout\u001b[49m\u001b[43m,\u001b[49m\n\u001b[0;32m    887\u001b[0m \u001b[43m        \u001b[49m\u001b[43mpool_timeout\u001b[49m\u001b[38;5;241;43m=\u001b[39;49m\u001b[43mpool_timeout\u001b[49m\u001b[43m,\u001b[49m\n\u001b[0;32m    888\u001b[0m \u001b[43m        \u001b[49m\u001b[43mrelease_conn\u001b[49m\u001b[38;5;241;43m=\u001b[39;49m\u001b[43mrelease_conn\u001b[49m\u001b[43m,\u001b[49m\n\u001b[0;32m    889\u001b[0m \u001b[43m        \u001b[49m\u001b[43mchunked\u001b[49m\u001b[38;5;241;43m=\u001b[39;49m\u001b[43mchunked\u001b[49m\u001b[43m,\u001b[49m\n\u001b[0;32m    890\u001b[0m \u001b[43m        \u001b[49m\u001b[43mbody_pos\u001b[49m\u001b[38;5;241;43m=\u001b[39;49m\u001b[43mbody_pos\u001b[49m\u001b[43m,\u001b[49m\n\u001b[0;32m    891\u001b[0m \u001b[43m        \u001b[49m\u001b[38;5;241;43m*\u001b[39;49m\u001b[38;5;241;43m*\u001b[39;49m\u001b[43mresponse_kw\u001b[49m\n\u001b[0;32m    892\u001b[0m \u001b[43m    \u001b[49m\u001b[43m)\u001b[49m\n\u001b[0;32m    894\u001b[0m \u001b[38;5;28;01mreturn\u001b[39;00m response\n",
      "File \u001b[1;32m~\\AppData\\Local\\Programs\\Python\\Python311\\Lib\\site-packages\\urllib3\\connectionpool.py:878\u001b[0m, in \u001b[0;36mHTTPConnectionPool.urlopen\u001b[1;34m(self, method, url, body, headers, retries, redirect, assert_same_host, timeout, pool_timeout, release_conn, chunked, body_pos, **response_kw)\u001b[0m\n\u001b[0;32m    877\u001b[0m     log\u001b[38;5;241m.\u001b[39mdebug(\u001b[38;5;124m\"\u001b[39m\u001b[38;5;124mRetry: \u001b[39m\u001b[38;5;132;01m%s\u001b[39;00m\u001b[38;5;124m\"\u001b[39m, url)\n\u001b[1;32m--> 878\u001b[0m     \u001b[38;5;28;01mreturn\u001b[39;00m \u001b[38;5;28;43mself\u001b[39;49m\u001b[38;5;241;43m.\u001b[39;49m\u001b[43murlopen\u001b[49m\u001b[43m(\u001b[49m\n\u001b[0;32m    879\u001b[0m \u001b[43m        \u001b[49m\u001b[43mmethod\u001b[49m\u001b[43m,\u001b[49m\n\u001b[0;32m    880\u001b[0m \u001b[43m        \u001b[49m\u001b[43murl\u001b[49m\u001b[43m,\u001b[49m\n\u001b[0;32m    881\u001b[0m \u001b[43m        \u001b[49m\u001b[43mbody\u001b[49m\u001b[43m,\u001b[49m\n\u001b[0;32m    882\u001b[0m \u001b[43m        \u001b[49m\u001b[43mheaders\u001b[49m\u001b[43m,\u001b[49m\n\u001b[0;32m    883\u001b[0m \u001b[43m        \u001b[49m\u001b[43mretries\u001b[49m\u001b[38;5;241;43m=\u001b[39;49m\u001b[43mretries\u001b[49m\u001b[43m,\u001b[49m\n\u001b[0;32m    884\u001b[0m \u001b[43m        \u001b[49m\u001b[43mredirect\u001b[49m\u001b[38;5;241;43m=\u001b[39;49m\u001b[43mredirect\u001b[49m\u001b[43m,\u001b[49m\n\u001b[0;32m    885\u001b[0m \u001b[43m        \u001b[49m\u001b[43massert_same_host\u001b[49m\u001b[38;5;241;43m=\u001b[39;49m\u001b[43massert_same_host\u001b[49m\u001b[43m,\u001b[49m\n\u001b[0;32m    886\u001b[0m \u001b[43m        \u001b[49m\u001b[43mtimeout\u001b[49m\u001b[38;5;241;43m=\u001b[39;49m\u001b[43mtimeout\u001b[49m\u001b[43m,\u001b[49m\n\u001b[0;32m    887\u001b[0m \u001b[43m        \u001b[49m\u001b[43mpool_timeout\u001b[49m\u001b[38;5;241;43m=\u001b[39;49m\u001b[43mpool_timeout\u001b[49m\u001b[43m,\u001b[49m\n\u001b[0;32m    888\u001b[0m \u001b[43m        \u001b[49m\u001b[43mrelease_conn\u001b[49m\u001b[38;5;241;43m=\u001b[39;49m\u001b[43mrelease_conn\u001b[49m\u001b[43m,\u001b[49m\n\u001b[0;32m    889\u001b[0m \u001b[43m        \u001b[49m\u001b[43mchunked\u001b[49m\u001b[38;5;241;43m=\u001b[39;49m\u001b[43mchunked\u001b[49m\u001b[43m,\u001b[49m\n\u001b[0;32m    890\u001b[0m \u001b[43m        \u001b[49m\u001b[43mbody_pos\u001b[49m\u001b[38;5;241;43m=\u001b[39;49m\u001b[43mbody_pos\u001b[49m\u001b[43m,\u001b[49m\n\u001b[0;32m    891\u001b[0m \u001b[43m        \u001b[49m\u001b[38;5;241;43m*\u001b[39;49m\u001b[38;5;241;43m*\u001b[39;49m\u001b[43mresponse_kw\u001b[49m\n\u001b[0;32m    892\u001b[0m \u001b[43m    \u001b[49m\u001b[43m)\u001b[49m\n\u001b[0;32m    894\u001b[0m \u001b[38;5;28;01mreturn\u001b[39;00m response\n",
      "File \u001b[1;32m~\\AppData\\Local\\Programs\\Python\\Python311\\Lib\\site-packages\\urllib3\\connectionpool.py:868\u001b[0m, in \u001b[0;36mHTTPConnectionPool.urlopen\u001b[1;34m(self, method, url, body, headers, retries, redirect, assert_same_host, timeout, pool_timeout, release_conn, chunked, body_pos, **response_kw)\u001b[0m\n\u001b[0;32m    867\u001b[0m \u001b[38;5;28;01mtry\u001b[39;00m:\n\u001b[1;32m--> 868\u001b[0m     retries \u001b[38;5;241m=\u001b[39m \u001b[43mretries\u001b[49m\u001b[38;5;241;43m.\u001b[39;49m\u001b[43mincrement\u001b[49m\u001b[43m(\u001b[49m\u001b[43mmethod\u001b[49m\u001b[43m,\u001b[49m\u001b[43m \u001b[49m\u001b[43murl\u001b[49m\u001b[43m,\u001b[49m\u001b[43m \u001b[49m\u001b[43mresponse\u001b[49m\u001b[38;5;241;43m=\u001b[39;49m\u001b[43mresponse\u001b[49m\u001b[43m,\u001b[49m\u001b[43m \u001b[49m\u001b[43m_pool\u001b[49m\u001b[38;5;241;43m=\u001b[39;49m\u001b[38;5;28;43mself\u001b[39;49m\u001b[43m)\u001b[49m\n\u001b[0;32m    869\u001b[0m \u001b[38;5;28;01mexcept\u001b[39;00m MaxRetryError:\n",
      "File \u001b[1;32m~\\AppData\\Local\\Programs\\Python\\Python311\\Lib\\site-packages\\urllib3\\util\\retry.py:592\u001b[0m, in \u001b[0;36mRetry.increment\u001b[1;34m(self, method, url, response, error, _pool, _stacktrace)\u001b[0m\n\u001b[0;32m    591\u001b[0m \u001b[38;5;28;01mif\u001b[39;00m new_retry\u001b[38;5;241m.\u001b[39mis_exhausted():\n\u001b[1;32m--> 592\u001b[0m     \u001b[38;5;28;01mraise\u001b[39;00m MaxRetryError(_pool, url, error \u001b[38;5;129;01mor\u001b[39;00m ResponseError(cause))\n\u001b[0;32m    594\u001b[0m log\u001b[38;5;241m.\u001b[39mdebug(\u001b[38;5;124m\"\u001b[39m\u001b[38;5;124mIncremented Retry for (url=\u001b[39m\u001b[38;5;124m'\u001b[39m\u001b[38;5;132;01m%s\u001b[39;00m\u001b[38;5;124m'\u001b[39m\u001b[38;5;124m): \u001b[39m\u001b[38;5;132;01m%r\u001b[39;00m\u001b[38;5;124m\"\u001b[39m, url, new_retry)\n",
      "\u001b[1;31mMaxRetryError\u001b[0m: HTTPSConnectionPool(host='api.spotify.com', port=443): Max retries exceeded with url: /v1/audio-features/?ids=0JXXNGljqupsJaZsgSbMZV (Caused by ResponseError('too many 429 error responses'))",
      "\nDuring handling of the above exception, another exception occurred:\n",
      "\u001b[1;31mRetryError\u001b[0m                                Traceback (most recent call last)",
      "File \u001b[1;32m~\\AppData\\Local\\Programs\\Python\\Python311\\Lib\\site-packages\\spotipy\\client.py:266\u001b[0m, in \u001b[0;36mSpotify._internal_call\u001b[1;34m(self, method, url, payload, params)\u001b[0m\n\u001b[0;32m    265\u001b[0m \u001b[38;5;28;01mtry\u001b[39;00m:\n\u001b[1;32m--> 266\u001b[0m     response \u001b[38;5;241m=\u001b[39m \u001b[38;5;28;43mself\u001b[39;49m\u001b[38;5;241;43m.\u001b[39;49m\u001b[43m_session\u001b[49m\u001b[38;5;241;43m.\u001b[39;49m\u001b[43mrequest\u001b[49m\u001b[43m(\u001b[49m\n\u001b[0;32m    267\u001b[0m \u001b[43m        \u001b[49m\u001b[43mmethod\u001b[49m\u001b[43m,\u001b[49m\u001b[43m \u001b[49m\u001b[43murl\u001b[49m\u001b[43m,\u001b[49m\u001b[43m \u001b[49m\u001b[43mheaders\u001b[49m\u001b[38;5;241;43m=\u001b[39;49m\u001b[43mheaders\u001b[49m\u001b[43m,\u001b[49m\u001b[43m \u001b[49m\u001b[43mproxies\u001b[49m\u001b[38;5;241;43m=\u001b[39;49m\u001b[38;5;28;43mself\u001b[39;49m\u001b[38;5;241;43m.\u001b[39;49m\u001b[43mproxies\u001b[49m\u001b[43m,\u001b[49m\n\u001b[0;32m    268\u001b[0m \u001b[43m        \u001b[49m\u001b[43mtimeout\u001b[49m\u001b[38;5;241;43m=\u001b[39;49m\u001b[38;5;28;43mself\u001b[39;49m\u001b[38;5;241;43m.\u001b[39;49m\u001b[43mrequests_timeout\u001b[49m\u001b[43m,\u001b[49m\u001b[43m \u001b[49m\u001b[38;5;241;43m*\u001b[39;49m\u001b[38;5;241;43m*\u001b[39;49m\u001b[43margs\u001b[49m\n\u001b[0;32m    269\u001b[0m \u001b[43m    \u001b[49m\u001b[43m)\u001b[49m\n\u001b[0;32m    271\u001b[0m     response\u001b[38;5;241m.\u001b[39mraise_for_status()\n",
      "File \u001b[1;32m~\\AppData\\Local\\Programs\\Python\\Python311\\Lib\\site-packages\\requests\\sessions.py:587\u001b[0m, in \u001b[0;36mSession.request\u001b[1;34m(self, method, url, params, data, headers, cookies, files, auth, timeout, allow_redirects, proxies, hooks, stream, verify, cert, json)\u001b[0m\n\u001b[0;32m    586\u001b[0m send_kwargs\u001b[38;5;241m.\u001b[39mupdate(settings)\n\u001b[1;32m--> 587\u001b[0m resp \u001b[38;5;241m=\u001b[39m \u001b[38;5;28;43mself\u001b[39;49m\u001b[38;5;241;43m.\u001b[39;49m\u001b[43msend\u001b[49m\u001b[43m(\u001b[49m\u001b[43mprep\u001b[49m\u001b[43m,\u001b[49m\u001b[43m \u001b[49m\u001b[38;5;241;43m*\u001b[39;49m\u001b[38;5;241;43m*\u001b[39;49m\u001b[43msend_kwargs\u001b[49m\u001b[43m)\u001b[49m\n\u001b[0;32m    589\u001b[0m \u001b[38;5;28;01mreturn\u001b[39;00m resp\n",
      "File \u001b[1;32m~\\AppData\\Local\\Programs\\Python\\Python311\\Lib\\site-packages\\requests\\sessions.py:701\u001b[0m, in \u001b[0;36mSession.send\u001b[1;34m(self, request, **kwargs)\u001b[0m\n\u001b[0;32m    700\u001b[0m \u001b[38;5;66;03m# Send the request\u001b[39;00m\n\u001b[1;32m--> 701\u001b[0m r \u001b[38;5;241m=\u001b[39m \u001b[43madapter\u001b[49m\u001b[38;5;241;43m.\u001b[39;49m\u001b[43msend\u001b[49m\u001b[43m(\u001b[49m\u001b[43mrequest\u001b[49m\u001b[43m,\u001b[49m\u001b[43m \u001b[49m\u001b[38;5;241;43m*\u001b[39;49m\u001b[38;5;241;43m*\u001b[39;49m\u001b[43mkwargs\u001b[49m\u001b[43m)\u001b[49m\n\u001b[0;32m    703\u001b[0m \u001b[38;5;66;03m# Total elapsed time of the request (approximately)\u001b[39;00m\n",
      "File \u001b[1;32m~\\AppData\\Local\\Programs\\Python\\Python311\\Lib\\site-packages\\requests\\adapters.py:511\u001b[0m, in \u001b[0;36mHTTPAdapter.send\u001b[1;34m(self, request, stream, timeout, verify, cert, proxies)\u001b[0m\n\u001b[0;32m    510\u001b[0m \u001b[38;5;28;01mif\u001b[39;00m \u001b[38;5;28misinstance\u001b[39m(e\u001b[38;5;241m.\u001b[39mreason, ResponseError):\n\u001b[1;32m--> 511\u001b[0m     \u001b[38;5;28;01mraise\u001b[39;00m RetryError(e, request\u001b[38;5;241m=\u001b[39mrequest)\n\u001b[0;32m    513\u001b[0m \u001b[38;5;28;01mif\u001b[39;00m \u001b[38;5;28misinstance\u001b[39m(e\u001b[38;5;241m.\u001b[39mreason, _ProxyError):\n",
      "\u001b[1;31mRetryError\u001b[0m: HTTPSConnectionPool(host='api.spotify.com', port=443): Max retries exceeded with url: /v1/audio-features/?ids=0JXXNGljqupsJaZsgSbMZV (Caused by ResponseError('too many 429 error responses'))",
      "\nDuring handling of the above exception, another exception occurred:\n",
      "\u001b[1;31mSpotifyException\u001b[0m                          Traceback (most recent call last)",
      "Cell \u001b[1;32mIn[562], line 12\u001b[0m\n\u001b[0;32m      9\u001b[0m track_count \u001b[38;5;241m=\u001b[39m \u001b[38;5;241m0\u001b[39m\n\u001b[0;32m     11\u001b[0m \u001b[38;5;28;01mfor\u001b[39;00m track \u001b[38;5;129;01min\u001b[39;00m data_df\u001b[38;5;241m.\u001b[39mtrack_id:\n\u001b[1;32m---> 12\u001b[0m     features \u001b[38;5;241m=\u001b[39m \u001b[43msp\u001b[49m\u001b[38;5;241;43m.\u001b[39;49m\u001b[43maudio_features\u001b[49m\u001b[43m(\u001b[49m\u001b[43mtrack\u001b[49m\u001b[43m)\u001b[49m\n\u001b[0;32m     13\u001b[0m     acousticness\u001b[38;5;241m.\u001b[39mappend(features[\u001b[38;5;241m0\u001b[39m][\u001b[38;5;124m\"\u001b[39m\u001b[38;5;124macousticness\u001b[39m\u001b[38;5;124m\"\u001b[39m])\n\u001b[0;32m     14\u001b[0m     danceability\u001b[38;5;241m.\u001b[39mappend(features[\u001b[38;5;241m0\u001b[39m][\u001b[38;5;124m\"\u001b[39m\u001b[38;5;124mdanceability\u001b[39m\u001b[38;5;124m\"\u001b[39m])\n",
      "File \u001b[1;32m~\\AppData\\Local\\Programs\\Python\\Python311\\Lib\\site-packages\\spotipy\\client.py:1734\u001b[0m, in \u001b[0;36mSpotify.audio_features\u001b[1;34m(self, tracks)\u001b[0m\n\u001b[0;32m   1732\u001b[0m \u001b[38;5;28;01mif\u001b[39;00m \u001b[38;5;28misinstance\u001b[39m(tracks, \u001b[38;5;28mstr\u001b[39m):\n\u001b[0;32m   1733\u001b[0m     trackid \u001b[38;5;241m=\u001b[39m \u001b[38;5;28mself\u001b[39m\u001b[38;5;241m.\u001b[39m_get_id(\u001b[38;5;124m\"\u001b[39m\u001b[38;5;124mtrack\u001b[39m\u001b[38;5;124m\"\u001b[39m, tracks)\n\u001b[1;32m-> 1734\u001b[0m     results \u001b[38;5;241m=\u001b[39m \u001b[38;5;28;43mself\u001b[39;49m\u001b[38;5;241;43m.\u001b[39;49m\u001b[43m_get\u001b[49m\u001b[43m(\u001b[49m\u001b[38;5;124;43m\"\u001b[39;49m\u001b[38;5;124;43maudio-features/?ids=\u001b[39;49m\u001b[38;5;124;43m\"\u001b[39;49m\u001b[43m \u001b[49m\u001b[38;5;241;43m+\u001b[39;49m\u001b[43m \u001b[49m\u001b[43mtrackid\u001b[49m\u001b[43m)\u001b[49m\n\u001b[0;32m   1735\u001b[0m \u001b[38;5;28;01melse\u001b[39;00m:\n\u001b[0;32m   1736\u001b[0m     tlist \u001b[38;5;241m=\u001b[39m [\u001b[38;5;28mself\u001b[39m\u001b[38;5;241m.\u001b[39m_get_id(\u001b[38;5;124m\"\u001b[39m\u001b[38;5;124mtrack\u001b[39m\u001b[38;5;124m\"\u001b[39m, t) \u001b[38;5;28;01mfor\u001b[39;00m t \u001b[38;5;129;01min\u001b[39;00m tracks]\n",
      "File \u001b[1;32m~\\AppData\\Local\\Programs\\Python\\Python311\\Lib\\site-packages\\spotipy\\client.py:323\u001b[0m, in \u001b[0;36mSpotify._get\u001b[1;34m(self, url, args, payload, **kwargs)\u001b[0m\n\u001b[0;32m    320\u001b[0m \u001b[38;5;28;01mif\u001b[39;00m args:\n\u001b[0;32m    321\u001b[0m     kwargs\u001b[38;5;241m.\u001b[39mupdate(args)\n\u001b[1;32m--> 323\u001b[0m \u001b[38;5;28;01mreturn\u001b[39;00m \u001b[38;5;28;43mself\u001b[39;49m\u001b[38;5;241;43m.\u001b[39;49m\u001b[43m_internal_call\u001b[49m\u001b[43m(\u001b[49m\u001b[38;5;124;43m\"\u001b[39;49m\u001b[38;5;124;43mGET\u001b[39;49m\u001b[38;5;124;43m\"\u001b[39;49m\u001b[43m,\u001b[49m\u001b[43m \u001b[49m\u001b[43murl\u001b[49m\u001b[43m,\u001b[49m\u001b[43m \u001b[49m\u001b[43mpayload\u001b[49m\u001b[43m,\u001b[49m\u001b[43m \u001b[49m\u001b[43mkwargs\u001b[49m\u001b[43m)\u001b[49m\n",
      "File \u001b[1;32m~\\AppData\\Local\\Programs\\Python\\Python311\\Lib\\site-packages\\spotipy\\client.py:307\u001b[0m, in \u001b[0;36mSpotify._internal_call\u001b[1;34m(self, method, url, payload, params)\u001b[0m\n\u001b[0;32m    305\u001b[0m     \u001b[38;5;28;01mexcept\u001b[39;00m (\u001b[38;5;167;01mIndexError\u001b[39;00m, \u001b[38;5;167;01mAttributeError\u001b[39;00m):\n\u001b[0;32m    306\u001b[0m         reason \u001b[38;5;241m=\u001b[39m \u001b[38;5;28;01mNone\u001b[39;00m\n\u001b[1;32m--> 307\u001b[0m     \u001b[38;5;28;01mraise\u001b[39;00m SpotifyException(\n\u001b[0;32m    308\u001b[0m         \u001b[38;5;241m429\u001b[39m,\n\u001b[0;32m    309\u001b[0m         \u001b[38;5;241m-\u001b[39m\u001b[38;5;241m1\u001b[39m,\n\u001b[0;32m    310\u001b[0m         \u001b[38;5;124m\"\u001b[39m\u001b[38;5;132;01m%s\u001b[39;00m\u001b[38;5;124m:\u001b[39m\u001b[38;5;130;01m\\n\u001b[39;00m\u001b[38;5;124m \u001b[39m\u001b[38;5;132;01m%s\u001b[39;00m\u001b[38;5;124m\"\u001b[39m \u001b[38;5;241m%\u001b[39m (request\u001b[38;5;241m.\u001b[39mpath_url, \u001b[38;5;124m\"\u001b[39m\u001b[38;5;124mMax Retries\u001b[39m\u001b[38;5;124m\"\u001b[39m),\n\u001b[0;32m    311\u001b[0m         reason\u001b[38;5;241m=\u001b[39mreason\n\u001b[0;32m    312\u001b[0m     )\n\u001b[0;32m    313\u001b[0m \u001b[38;5;28;01mexcept\u001b[39;00m \u001b[38;5;167;01mValueError\u001b[39;00m:\n\u001b[0;32m    314\u001b[0m     results \u001b[38;5;241m=\u001b[39m \u001b[38;5;28;01mNone\u001b[39;00m\n",
      "\u001b[1;31mSpotifyException\u001b[0m: http status: 429, code:-1 - /v1/audio-features/?ids=0JXXNGljqupsJaZsgSbMZV:\n Max Retries, reason: too many 429 error responses"
     ]
    }
   ],
   "source": [
    "#get track audio features for each track year 2010:https:\n",
    "acousticness = []\n",
    "danceability = []\n",
    "energy = []\n",
    "instrumentalness = []\n",
    "loudness = []\n",
    "tempo = []\n",
    "\n",
    "track_count = 0\n",
    "\n",
    "for track in data_df.track_id:\n",
    "    features = sp.audio_features(track)\n",
    "    acousticness.append(features[0][\"acousticness\"])\n",
    "    danceability.append(features[0][\"danceability\"])\n",
    "    energy.append(features[0][\"energy\"])\n",
    "    instrumentalness.append(features[0][\"instrumentalness\"])      \n",
    "    loudness.append(features[0][\"loudness\"])      \n",
    "    tempo.append(features[0][\"tempo\"])"
   ]
  },
  {
   "cell_type": "code",
   "execution_count": 522,
   "id": "b49647d6",
   "metadata": {},
   "outputs": [
    {
     "ename": "ValueError",
     "evalue": "Length of values (1) does not match length of index (1000)",
     "output_type": "error",
     "traceback": [
      "\u001b[1;31m---------------------------------------------------------------------------\u001b[0m",
      "\u001b[1;31mValueError\u001b[0m                                Traceback (most recent call last)",
      "Cell \u001b[1;32mIn[522], line 1\u001b[0m\n\u001b[1;32m----> 1\u001b[0m data_df \u001b[38;5;241m=\u001b[39m \u001b[43mdata_df\u001b[49m\u001b[38;5;241;43m.\u001b[39;49m\u001b[43massign\u001b[49m\u001b[43m(\u001b[49m\u001b[43macousticness\u001b[49m\u001b[38;5;241;43m=\u001b[39;49m\u001b[43macousticness\u001b[49m\u001b[43m,\u001b[49m\u001b[43mdanceability\u001b[49m\u001b[38;5;241;43m=\u001b[39;49m\u001b[43mdanceability\u001b[49m\u001b[43m,\u001b[49m\u001b[43menergy\u001b[49m\u001b[38;5;241;43m=\u001b[39;49m\u001b[43menergy\u001b[49m\u001b[43m,\u001b[49m\u001b[43minstrumentalness\u001b[49m\u001b[38;5;241;43m=\u001b[39;49m\u001b[43minstrumentalness\u001b[49m\u001b[43m,\u001b[49m\u001b[43mloudness\u001b[49m\u001b[38;5;241;43m=\u001b[39;49m\u001b[43mloudness\u001b[49m\u001b[43m,\u001b[49m\u001b[43mtempo\u001b[49m\u001b[38;5;241;43m=\u001b[39;49m\u001b[43mtempo\u001b[49m\u001b[43m)\u001b[49m\n\u001b[0;32m      2\u001b[0m data_df\n",
      "File \u001b[1;32m~\\AppData\\Local\\Programs\\Python\\Python311\\Lib\\site-packages\\pandas\\core\\frame.py:4852\u001b[0m, in \u001b[0;36mDataFrame.assign\u001b[1;34m(self, **kwargs)\u001b[0m\n\u001b[0;32m   4849\u001b[0m data \u001b[38;5;241m=\u001b[39m \u001b[38;5;28mself\u001b[39m\u001b[38;5;241m.\u001b[39mcopy(deep\u001b[38;5;241m=\u001b[39m\u001b[38;5;28;01mNone\u001b[39;00m)\n\u001b[0;32m   4851\u001b[0m \u001b[38;5;28;01mfor\u001b[39;00m k, v \u001b[38;5;129;01min\u001b[39;00m kwargs\u001b[38;5;241m.\u001b[39mitems():\n\u001b[1;32m-> 4852\u001b[0m     \u001b[43mdata\u001b[49m\u001b[43m[\u001b[49m\u001b[43mk\u001b[49m\u001b[43m]\u001b[49m \u001b[38;5;241m=\u001b[39m com\u001b[38;5;241m.\u001b[39mapply_if_callable(v, data)\n\u001b[0;32m   4853\u001b[0m \u001b[38;5;28;01mreturn\u001b[39;00m data\n",
      "File \u001b[1;32m~\\AppData\\Local\\Programs\\Python\\Python311\\Lib\\site-packages\\pandas\\core\\frame.py:3959\u001b[0m, in \u001b[0;36mDataFrame.__setitem__\u001b[1;34m(self, key, value)\u001b[0m\n\u001b[0;32m   3956\u001b[0m     \u001b[38;5;28mself\u001b[39m\u001b[38;5;241m.\u001b[39m_setitem_array([key], value)\n\u001b[0;32m   3957\u001b[0m \u001b[38;5;28;01melse\u001b[39;00m:\n\u001b[0;32m   3958\u001b[0m     \u001b[38;5;66;03m# set column\u001b[39;00m\n\u001b[1;32m-> 3959\u001b[0m     \u001b[38;5;28;43mself\u001b[39;49m\u001b[38;5;241;43m.\u001b[39;49m\u001b[43m_set_item\u001b[49m\u001b[43m(\u001b[49m\u001b[43mkey\u001b[49m\u001b[43m,\u001b[49m\u001b[43m \u001b[49m\u001b[43mvalue\u001b[49m\u001b[43m)\u001b[49m\n",
      "File \u001b[1;32m~\\AppData\\Local\\Programs\\Python\\Python311\\Lib\\site-packages\\pandas\\core\\frame.py:4152\u001b[0m, in \u001b[0;36mDataFrame._set_item\u001b[1;34m(self, key, value)\u001b[0m\n\u001b[0;32m   4142\u001b[0m \u001b[38;5;28;01mdef\u001b[39;00m \u001b[38;5;21m_set_item\u001b[39m(\u001b[38;5;28mself\u001b[39m, key, value) \u001b[38;5;241m-\u001b[39m\u001b[38;5;241m>\u001b[39m \u001b[38;5;28;01mNone\u001b[39;00m:\n\u001b[0;32m   4143\u001b[0m \u001b[38;5;250m    \u001b[39m\u001b[38;5;124;03m\"\"\"\u001b[39;00m\n\u001b[0;32m   4144\u001b[0m \u001b[38;5;124;03m    Add series to DataFrame in specified column.\u001b[39;00m\n\u001b[0;32m   4145\u001b[0m \n\u001b[1;32m   (...)\u001b[0m\n\u001b[0;32m   4150\u001b[0m \u001b[38;5;124;03m    ensure homogeneity.\u001b[39;00m\n\u001b[0;32m   4151\u001b[0m \u001b[38;5;124;03m    \"\"\"\u001b[39;00m\n\u001b[1;32m-> 4152\u001b[0m     value \u001b[38;5;241m=\u001b[39m \u001b[38;5;28;43mself\u001b[39;49m\u001b[38;5;241;43m.\u001b[39;49m\u001b[43m_sanitize_column\u001b[49m\u001b[43m(\u001b[49m\u001b[43mvalue\u001b[49m\u001b[43m)\u001b[49m\n\u001b[0;32m   4154\u001b[0m     \u001b[38;5;28;01mif\u001b[39;00m (\n\u001b[0;32m   4155\u001b[0m         key \u001b[38;5;129;01min\u001b[39;00m \u001b[38;5;28mself\u001b[39m\u001b[38;5;241m.\u001b[39mcolumns\n\u001b[0;32m   4156\u001b[0m         \u001b[38;5;129;01mand\u001b[39;00m value\u001b[38;5;241m.\u001b[39mndim \u001b[38;5;241m==\u001b[39m \u001b[38;5;241m1\u001b[39m\n\u001b[0;32m   4157\u001b[0m         \u001b[38;5;129;01mand\u001b[39;00m \u001b[38;5;129;01mnot\u001b[39;00m is_extension_array_dtype(value)\n\u001b[0;32m   4158\u001b[0m     ):\n\u001b[0;32m   4159\u001b[0m         \u001b[38;5;66;03m# broadcast across multiple columns if necessary\u001b[39;00m\n\u001b[0;32m   4160\u001b[0m         \u001b[38;5;28;01mif\u001b[39;00m \u001b[38;5;129;01mnot\u001b[39;00m \u001b[38;5;28mself\u001b[39m\u001b[38;5;241m.\u001b[39mcolumns\u001b[38;5;241m.\u001b[39mis_unique \u001b[38;5;129;01mor\u001b[39;00m \u001b[38;5;28misinstance\u001b[39m(\u001b[38;5;28mself\u001b[39m\u001b[38;5;241m.\u001b[39mcolumns, MultiIndex):\n",
      "File \u001b[1;32m~\\AppData\\Local\\Programs\\Python\\Python311\\Lib\\site-packages\\pandas\\core\\frame.py:4878\u001b[0m, in \u001b[0;36mDataFrame._sanitize_column\u001b[1;34m(self, value)\u001b[0m\n\u001b[0;32m   4875\u001b[0m     \u001b[38;5;28;01mreturn\u001b[39;00m _reindex_for_setitem(Series(value), \u001b[38;5;28mself\u001b[39m\u001b[38;5;241m.\u001b[39mindex)\n\u001b[0;32m   4877\u001b[0m \u001b[38;5;28;01mif\u001b[39;00m is_list_like(value):\n\u001b[1;32m-> 4878\u001b[0m     \u001b[43mcom\u001b[49m\u001b[38;5;241;43m.\u001b[39;49m\u001b[43mrequire_length_match\u001b[49m\u001b[43m(\u001b[49m\u001b[43mvalue\u001b[49m\u001b[43m,\u001b[49m\u001b[43m \u001b[49m\u001b[38;5;28;43mself\u001b[39;49m\u001b[38;5;241;43m.\u001b[39;49m\u001b[43mindex\u001b[49m\u001b[43m)\u001b[49m\n\u001b[0;32m   4879\u001b[0m \u001b[38;5;28;01mreturn\u001b[39;00m sanitize_array(value, \u001b[38;5;28mself\u001b[39m\u001b[38;5;241m.\u001b[39mindex, copy\u001b[38;5;241m=\u001b[39m\u001b[38;5;28;01mTrue\u001b[39;00m, allow_2d\u001b[38;5;241m=\u001b[39m\u001b[38;5;28;01mTrue\u001b[39;00m)\n",
      "File \u001b[1;32m~\\AppData\\Local\\Programs\\Python\\Python311\\Lib\\site-packages\\pandas\\core\\common.py:576\u001b[0m, in \u001b[0;36mrequire_length_match\u001b[1;34m(data, index)\u001b[0m\n\u001b[0;32m    572\u001b[0m \u001b[38;5;250m\u001b[39m\u001b[38;5;124;03m\"\"\"\u001b[39;00m\n\u001b[0;32m    573\u001b[0m \u001b[38;5;124;03mCheck the length of data matches the length of the index.\u001b[39;00m\n\u001b[0;32m    574\u001b[0m \u001b[38;5;124;03m\"\"\"\u001b[39;00m\n\u001b[0;32m    575\u001b[0m \u001b[38;5;28;01mif\u001b[39;00m \u001b[38;5;28mlen\u001b[39m(data) \u001b[38;5;241m!=\u001b[39m \u001b[38;5;28mlen\u001b[39m(index):\n\u001b[1;32m--> 576\u001b[0m     \u001b[38;5;28;01mraise\u001b[39;00m \u001b[38;5;167;01mValueError\u001b[39;00m(\n\u001b[0;32m    577\u001b[0m         \u001b[38;5;124m\"\u001b[39m\u001b[38;5;124mLength of values \u001b[39m\u001b[38;5;124m\"\u001b[39m\n\u001b[0;32m    578\u001b[0m         \u001b[38;5;124mf\u001b[39m\u001b[38;5;124m\"\u001b[39m\u001b[38;5;124m(\u001b[39m\u001b[38;5;132;01m{\u001b[39;00m\u001b[38;5;28mlen\u001b[39m(data)\u001b[38;5;132;01m}\u001b[39;00m\u001b[38;5;124m) \u001b[39m\u001b[38;5;124m\"\u001b[39m\n\u001b[0;32m    579\u001b[0m         \u001b[38;5;124m\"\u001b[39m\u001b[38;5;124mdoes not match length of index \u001b[39m\u001b[38;5;124m\"\u001b[39m\n\u001b[0;32m    580\u001b[0m         \u001b[38;5;124mf\u001b[39m\u001b[38;5;124m\"\u001b[39m\u001b[38;5;124m(\u001b[39m\u001b[38;5;132;01m{\u001b[39;00m\u001b[38;5;28mlen\u001b[39m(index)\u001b[38;5;132;01m}\u001b[39;00m\u001b[38;5;124m)\u001b[39m\u001b[38;5;124m\"\u001b[39m\n\u001b[0;32m    581\u001b[0m     )\n",
      "\u001b[1;31mValueError\u001b[0m: Length of values (1) does not match length of index (1000)"
     ]
    }
   ],
   "source": [
    "data_df = data_df.assign(acousticness=acousticness,danceability=danceability,energy=energy,instrumentalness=instrumentalness,loudness=loudness,tempo=tempo)\n",
    "data_df"
   ]
  },
  {
   "cell_type": "code",
   "execution_count": 487,
   "id": "999901d7",
   "metadata": {},
   "outputs": [
    {
     "ename": "KeyError",
     "evalue": "\"['acousticness', 'danceability', 'energy', 'instrumentalness', 'loudness', 'tempo'] not in index\"",
     "output_type": "error",
     "traceback": [
      "\u001b[1;31m---------------------------------------------------------------------------\u001b[0m",
      "\u001b[1;31mKeyError\u001b[0m                                  Traceback (most recent call last)",
      "Cell \u001b[1;32mIn[487], line 2\u001b[0m\n\u001b[0;32m      1\u001b[0m \u001b[38;5;66;03m#creating pandas DataFrame for MySql database and saving to csv file:\u001b[39;00m\n\u001b[1;32m----> 2\u001b[0m track_df \u001b[38;5;241m=\u001b[39m \u001b[43mdata_df\u001b[49m\u001b[43m[\u001b[49m\u001b[43m[\u001b[49m\u001b[38;5;124;43m\"\u001b[39;49m\u001b[38;5;124;43mtrack\u001b[39;49m\u001b[38;5;124;43m\"\u001b[39;49m\u001b[43m,\u001b[49m\u001b[38;5;124;43m\"\u001b[39;49m\u001b[38;5;124;43martist\u001b[39;49m\u001b[38;5;124;43m\"\u001b[39;49m\u001b[43m,\u001b[49m\u001b[38;5;124;43m\"\u001b[39;49m\u001b[38;5;124;43malbum\u001b[39;49m\u001b[38;5;124;43m\"\u001b[39;49m\u001b[43m,\u001b[49m\u001b[38;5;124;43m\"\u001b[39;49m\u001b[38;5;124;43mtrack_popularity\u001b[39;49m\u001b[38;5;124;43m\"\u001b[39;49m\u001b[43m,\u001b[49m\u001b[43m \u001b[49m\u001b[38;5;124;43m\"\u001b[39;49m\u001b[38;5;124;43macousticness\u001b[39;49m\u001b[38;5;124;43m\"\u001b[39;49m\u001b[43m,\u001b[49m\u001b[38;5;124;43m\"\u001b[39;49m\u001b[38;5;124;43mdanceability\u001b[39;49m\u001b[38;5;124;43m\"\u001b[39;49m\u001b[43m,\u001b[49m\u001b[38;5;124;43m\"\u001b[39;49m\u001b[38;5;124;43menergy\u001b[39;49m\u001b[38;5;124;43m\"\u001b[39;49m\u001b[43m,\u001b[49m\u001b[38;5;124;43m\"\u001b[39;49m\u001b[38;5;124;43minstrumentalness\u001b[39;49m\u001b[38;5;124;43m\"\u001b[39;49m\u001b[43m,\u001b[49m\u001b[38;5;124;43m\"\u001b[39;49m\u001b[38;5;124;43mloudness\u001b[39;49m\u001b[38;5;124;43m\"\u001b[39;49m\u001b[43m,\u001b[49m\u001b[38;5;124;43m\"\u001b[39;49m\u001b[38;5;124;43mtempo\u001b[39;49m\u001b[38;5;124;43m\"\u001b[39;49m\u001b[43m]\u001b[49m\u001b[43m]\u001b[49m\n\u001b[0;32m      3\u001b[0m track_df\n",
      "File \u001b[1;32m~\\AppData\\Local\\Programs\\Python\\Python311\\Lib\\site-packages\\pandas\\core\\frame.py:3766\u001b[0m, in \u001b[0;36mDataFrame.__getitem__\u001b[1;34m(self, key)\u001b[0m\n\u001b[0;32m   3764\u001b[0m     \u001b[38;5;28;01mif\u001b[39;00m is_iterator(key):\n\u001b[0;32m   3765\u001b[0m         key \u001b[38;5;241m=\u001b[39m \u001b[38;5;28mlist\u001b[39m(key)\n\u001b[1;32m-> 3766\u001b[0m     indexer \u001b[38;5;241m=\u001b[39m \u001b[38;5;28;43mself\u001b[39;49m\u001b[38;5;241;43m.\u001b[39;49m\u001b[43mcolumns\u001b[49m\u001b[38;5;241;43m.\u001b[39;49m\u001b[43m_get_indexer_strict\u001b[49m\u001b[43m(\u001b[49m\u001b[43mkey\u001b[49m\u001b[43m,\u001b[49m\u001b[43m \u001b[49m\u001b[38;5;124;43m\"\u001b[39;49m\u001b[38;5;124;43mcolumns\u001b[39;49m\u001b[38;5;124;43m\"\u001b[39;49m\u001b[43m)\u001b[49m[\u001b[38;5;241m1\u001b[39m]\n\u001b[0;32m   3768\u001b[0m \u001b[38;5;66;03m# take() does not accept boolean indexers\u001b[39;00m\n\u001b[0;32m   3769\u001b[0m \u001b[38;5;28;01mif\u001b[39;00m \u001b[38;5;28mgetattr\u001b[39m(indexer, \u001b[38;5;124m\"\u001b[39m\u001b[38;5;124mdtype\u001b[39m\u001b[38;5;124m\"\u001b[39m, \u001b[38;5;28;01mNone\u001b[39;00m) \u001b[38;5;241m==\u001b[39m \u001b[38;5;28mbool\u001b[39m:\n",
      "File \u001b[1;32m~\\AppData\\Local\\Programs\\Python\\Python311\\Lib\\site-packages\\pandas\\core\\indexes\\base.py:5876\u001b[0m, in \u001b[0;36mIndex._get_indexer_strict\u001b[1;34m(self, key, axis_name)\u001b[0m\n\u001b[0;32m   5873\u001b[0m \u001b[38;5;28;01melse\u001b[39;00m:\n\u001b[0;32m   5874\u001b[0m     keyarr, indexer, new_indexer \u001b[38;5;241m=\u001b[39m \u001b[38;5;28mself\u001b[39m\u001b[38;5;241m.\u001b[39m_reindex_non_unique(keyarr)\n\u001b[1;32m-> 5876\u001b[0m \u001b[38;5;28;43mself\u001b[39;49m\u001b[38;5;241;43m.\u001b[39;49m\u001b[43m_raise_if_missing\u001b[49m\u001b[43m(\u001b[49m\u001b[43mkeyarr\u001b[49m\u001b[43m,\u001b[49m\u001b[43m \u001b[49m\u001b[43mindexer\u001b[49m\u001b[43m,\u001b[49m\u001b[43m \u001b[49m\u001b[43maxis_name\u001b[49m\u001b[43m)\u001b[49m\n\u001b[0;32m   5878\u001b[0m keyarr \u001b[38;5;241m=\u001b[39m \u001b[38;5;28mself\u001b[39m\u001b[38;5;241m.\u001b[39mtake(indexer)\n\u001b[0;32m   5879\u001b[0m \u001b[38;5;28;01mif\u001b[39;00m \u001b[38;5;28misinstance\u001b[39m(key, Index):\n\u001b[0;32m   5880\u001b[0m     \u001b[38;5;66;03m# GH 42790 - Preserve name from an Index\u001b[39;00m\n",
      "File \u001b[1;32m~\\AppData\\Local\\Programs\\Python\\Python311\\Lib\\site-packages\\pandas\\core\\indexes\\base.py:5938\u001b[0m, in \u001b[0;36mIndex._raise_if_missing\u001b[1;34m(self, key, indexer, axis_name)\u001b[0m\n\u001b[0;32m   5935\u001b[0m     \u001b[38;5;28;01mraise\u001b[39;00m \u001b[38;5;167;01mKeyError\u001b[39;00m(\u001b[38;5;124mf\u001b[39m\u001b[38;5;124m\"\u001b[39m\u001b[38;5;124mNone of [\u001b[39m\u001b[38;5;132;01m{\u001b[39;00mkey\u001b[38;5;132;01m}\u001b[39;00m\u001b[38;5;124m] are in the [\u001b[39m\u001b[38;5;132;01m{\u001b[39;00maxis_name\u001b[38;5;132;01m}\u001b[39;00m\u001b[38;5;124m]\u001b[39m\u001b[38;5;124m\"\u001b[39m)\n\u001b[0;32m   5937\u001b[0m not_found \u001b[38;5;241m=\u001b[39m \u001b[38;5;28mlist\u001b[39m(ensure_index(key)[missing_mask\u001b[38;5;241m.\u001b[39mnonzero()[\u001b[38;5;241m0\u001b[39m]]\u001b[38;5;241m.\u001b[39munique())\n\u001b[1;32m-> 5938\u001b[0m \u001b[38;5;28;01mraise\u001b[39;00m \u001b[38;5;167;01mKeyError\u001b[39;00m(\u001b[38;5;124mf\u001b[39m\u001b[38;5;124m\"\u001b[39m\u001b[38;5;132;01m{\u001b[39;00mnot_found\u001b[38;5;132;01m}\u001b[39;00m\u001b[38;5;124m not in index\u001b[39m\u001b[38;5;124m\"\u001b[39m)\n",
      "\u001b[1;31mKeyError\u001b[0m: \"['acousticness', 'danceability', 'energy', 'instrumentalness', 'loudness', 'tempo'] not in index\""
     ]
    }
   ],
   "source": [
    "#creating pandas DataFrame for MySql database and saving to csv file:\n",
    "track_df = data_df[[\"track\",\"artist\",\"album\",\"track_popularity\", \"acousticness\",\"danceability\",\"energy\",\"instrumentalness\",\"loudness\",\"tempo\"]]\n",
    "track_df"
   ]
  },
  {
   "cell_type": "code",
   "execution_count": 440,
   "id": "27166d9c",
   "metadata": {},
   "outputs": [],
   "source": [
    "track_df.to_csv(\"spotify_mysql.csv\")"
   ]
  },
  {
   "cell_type": "code",
   "execution_count": 236,
   "id": "3327560b",
   "metadata": {},
   "outputs": [
    {
     "data": {
      "text/html": [
       "<div>\n",
       "<style scoped>\n",
       "    .dataframe tbody tr th:only-of-type {\n",
       "        vertical-align: middle;\n",
       "    }\n",
       "\n",
       "    .dataframe tbody tr th {\n",
       "        vertical-align: top;\n",
       "    }\n",
       "\n",
       "    .dataframe thead th {\n",
       "        text-align: right;\n",
       "    }\n",
       "</style>\n",
       "<table border=\"1\" class=\"dataframe\">\n",
       "  <thead>\n",
       "    <tr style=\"text-align: right;\">\n",
       "      <th></th>\n",
       "      <th>artist</th>\n",
       "      <th>artist_genres</th>\n",
       "      <th>artist_popularity</th>\n",
       "      <th>artist_followers</th>\n",
       "    </tr>\n",
       "  </thead>\n",
       "  <tbody>\n",
       "    <tr>\n",
       "      <th>0</th>\n",
       "      <td>Miguel</td>\n",
       "      <td>[r&amp;b]</td>\n",
       "      <td>77</td>\n",
       "      <td>4788498</td>\n",
       "    </tr>\n",
       "    <tr>\n",
       "      <th>1</th>\n",
       "      <td>Mac Miller</td>\n",
       "      <td>[hip hop, pittsburgh rap, pop rap, rap]</td>\n",
       "      <td>82</td>\n",
       "      <td>9497713</td>\n",
       "    </tr>\n",
       "    <tr>\n",
       "      <th>2</th>\n",
       "      <td>Bruno Mars</td>\n",
       "      <td>[dance pop, pop]</td>\n",
       "      <td>87</td>\n",
       "      <td>50939168</td>\n",
       "    </tr>\n",
       "    <tr>\n",
       "      <th>3</th>\n",
       "      <td>bôa</td>\n",
       "      <td>[]</td>\n",
       "      <td>66</td>\n",
       "      <td>438554</td>\n",
       "    </tr>\n",
       "    <tr>\n",
       "      <th>4</th>\n",
       "      <td>Waka Flocka Flame</td>\n",
       "      <td>[atl hip hop, dirty south rap, pop rap, rap, s...</td>\n",
       "      <td>64</td>\n",
       "      <td>2714590</td>\n",
       "    </tr>\n",
       "    <tr>\n",
       "      <th>...</th>\n",
       "      <td>...</td>\n",
       "      <td>...</td>\n",
       "      <td>...</td>\n",
       "      <td>...</td>\n",
       "    </tr>\n",
       "    <tr>\n",
       "      <th>995</th>\n",
       "      <td>Lifehouse</td>\n",
       "      <td>[neo mellow, pop rock, post-grunge]</td>\n",
       "      <td>62</td>\n",
       "      <td>1972276</td>\n",
       "    </tr>\n",
       "    <tr>\n",
       "      <th>996</th>\n",
       "      <td>Los Buitres De Culiacan Sinaloa</td>\n",
       "      <td>[corrido, musica mexicana, norteno, sierreno]</td>\n",
       "      <td>59</td>\n",
       "      <td>976842</td>\n",
       "    </tr>\n",
       "    <tr>\n",
       "      <th>997</th>\n",
       "      <td>Jan &amp; Dean</td>\n",
       "      <td>[bubblegum pop, classic garage rock, doo-wop, ...</td>\n",
       "      <td>38</td>\n",
       "      <td>106177</td>\n",
       "    </tr>\n",
       "    <tr>\n",
       "      <th>998</th>\n",
       "      <td>The Glitch Mob</td>\n",
       "      <td>[glitch, glitch hop, indietronica]</td>\n",
       "      <td>59</td>\n",
       "      <td>555130</td>\n",
       "    </tr>\n",
       "    <tr>\n",
       "      <th>999</th>\n",
       "      <td>Margarita la diosa de la cumbia</td>\n",
       "      <td>[grupera, ranchera, tropical]</td>\n",
       "      <td>53</td>\n",
       "      <td>337117</td>\n",
       "    </tr>\n",
       "  </tbody>\n",
       "</table>\n",
       "<p>1000 rows × 4 columns</p>\n",
       "</div>"
      ],
      "text/plain": [
       "                              artist   \n",
       "0                             Miguel  \\\n",
       "1                         Mac Miller   \n",
       "2                         Bruno Mars   \n",
       "3                                bôa   \n",
       "4                  Waka Flocka Flame   \n",
       "..                               ...   \n",
       "995                        Lifehouse   \n",
       "996  Los Buitres De Culiacan Sinaloa   \n",
       "997                       Jan & Dean   \n",
       "998                   The Glitch Mob   \n",
       "999  Margarita la diosa de la cumbia   \n",
       "\n",
       "                                         artist_genres  artist_popularity   \n",
       "0                                                [r&b]                 77  \\\n",
       "1              [hip hop, pittsburgh rap, pop rap, rap]                 82   \n",
       "2                                     [dance pop, pop]                 87   \n",
       "3                                                   []                 66   \n",
       "4    [atl hip hop, dirty south rap, pop rap, rap, s...                 64   \n",
       "..                                                 ...                ...   \n",
       "995                [neo mellow, pop rock, post-grunge]                 62   \n",
       "996      [corrido, musica mexicana, norteno, sierreno]                 59   \n",
       "997  [bubblegum pop, classic garage rock, doo-wop, ...                 38   \n",
       "998                 [glitch, glitch hop, indietronica]                 59   \n",
       "999                      [grupera, ranchera, tropical]                 53   \n",
       "\n",
       "     artist_followers  \n",
       "0             4788498  \n",
       "1             9497713  \n",
       "2            50939168  \n",
       "3              438554  \n",
       "4             2714590  \n",
       "..                ...  \n",
       "995           1972276  \n",
       "996            976842  \n",
       "997            106177  \n",
       "998            555130  \n",
       "999            337117  \n",
       "\n",
       "[1000 rows x 4 columns]"
      ]
     },
     "execution_count": 236,
     "metadata": {},
     "output_type": "execute_result"
    }
   ],
   "source": [
    "#creating pandas DataFrame for MongoDB and saving to csv file::\n",
    "artist_df = data_df[[\"artist\",\"artist_genres\",\"artist_popularity\",\"artist_followers\"]]\n",
    "artist_df"
   ]
  },
  {
   "cell_type": "code",
   "execution_count": 237,
   "id": "107ae8a5",
   "metadata": {},
   "outputs": [],
   "source": [
    "artist_df.to_csv(\"spotify_mongodb.csv\")"
   ]
  },
  {
   "cell_type": "code",
   "execution_count": 238,
   "id": "cf9b547b",
   "metadata": {},
   "outputs": [
    {
     "data": {
      "text/html": [
       "<div>\n",
       "<style scoped>\n",
       "    .dataframe tbody tr th:only-of-type {\n",
       "        vertical-align: middle;\n",
       "    }\n",
       "\n",
       "    .dataframe tbody tr th {\n",
       "        vertical-align: top;\n",
       "    }\n",
       "\n",
       "    .dataframe thead th {\n",
       "        text-align: right;\n",
       "    }\n",
       "</style>\n",
       "<table border=\"1\" class=\"dataframe\">\n",
       "  <thead>\n",
       "    <tr style=\"text-align: right;\">\n",
       "      <th></th>\n",
       "      <th>artist</th>\n",
       "      <th>track</th>\n",
       "      <th>album</th>\n",
       "    </tr>\n",
       "  </thead>\n",
       "  <tbody>\n",
       "    <tr>\n",
       "      <th>0</th>\n",
       "      <td>Miguel</td>\n",
       "      <td>Sure Thing</td>\n",
       "      <td>All I Want Is You</td>\n",
       "    </tr>\n",
       "    <tr>\n",
       "      <th>1</th>\n",
       "      <td>Mac Miller</td>\n",
       "      <td>The Spins</td>\n",
       "      <td>K.I.D.S. (Deluxe)</td>\n",
       "    </tr>\n",
       "    <tr>\n",
       "      <th>2</th>\n",
       "      <td>Bruno Mars</td>\n",
       "      <td>Just the Way You Are</td>\n",
       "      <td>Doo-Wops &amp; Hooligans</td>\n",
       "    </tr>\n",
       "    <tr>\n",
       "      <th>3</th>\n",
       "      <td>bôa</td>\n",
       "      <td>Duvet</td>\n",
       "      <td>Twilight</td>\n",
       "    </tr>\n",
       "    <tr>\n",
       "      <th>4</th>\n",
       "      <td>Waka Flocka Flame</td>\n",
       "      <td>No Hands (feat. Roscoe Dash &amp; Wale)</td>\n",
       "      <td>Flockaveli</td>\n",
       "    </tr>\n",
       "    <tr>\n",
       "      <th>...</th>\n",
       "      <td>...</td>\n",
       "      <td>...</td>\n",
       "      <td>...</td>\n",
       "    </tr>\n",
       "    <tr>\n",
       "      <th>995</th>\n",
       "      <td>Lifehouse</td>\n",
       "      <td>All In</td>\n",
       "      <td>Smoke &amp; Mirrors (Deluxe)</td>\n",
       "    </tr>\n",
       "    <tr>\n",
       "      <th>996</th>\n",
       "      <td>Los Buitres De Culiacan Sinaloa</td>\n",
       "      <td>Pinche Gente Alboretera</td>\n",
       "      <td>El Movimiento Alterado Vol. 3</td>\n",
       "    </tr>\n",
       "    <tr>\n",
       "      <th>997</th>\n",
       "      <td>Jan &amp; Dean</td>\n",
       "      <td>Surf City</td>\n",
       "      <td>Surf City And Other Swingin' Cities</td>\n",
       "    </tr>\n",
       "    <tr>\n",
       "      <th>998</th>\n",
       "      <td>The Glitch Mob</td>\n",
       "      <td>Fortune Days</td>\n",
       "      <td>Drink the Sea</td>\n",
       "    </tr>\n",
       "    <tr>\n",
       "      <th>999</th>\n",
       "      <td>Margarita la diosa de la cumbia</td>\n",
       "      <td>Que nadie sepa mi sufrir (Amor de mis amores)</td>\n",
       "      <td>30 Aniversario</td>\n",
       "    </tr>\n",
       "  </tbody>\n",
       "</table>\n",
       "<p>1000 rows × 3 columns</p>\n",
       "</div>"
      ],
      "text/plain": [
       "                              artist   \n",
       "0                             Miguel  \\\n",
       "1                         Mac Miller   \n",
       "2                         Bruno Mars   \n",
       "3                                bôa   \n",
       "4                  Waka Flocka Flame   \n",
       "..                               ...   \n",
       "995                        Lifehouse   \n",
       "996  Los Buitres De Culiacan Sinaloa   \n",
       "997                       Jan & Dean   \n",
       "998                   The Glitch Mob   \n",
       "999  Margarita la diosa de la cumbia   \n",
       "\n",
       "                                             track   \n",
       "0                                       Sure Thing  \\\n",
       "1                                        The Spins   \n",
       "2                             Just the Way You Are   \n",
       "3                                            Duvet   \n",
       "4              No Hands (feat. Roscoe Dash & Wale)   \n",
       "..                                             ...   \n",
       "995                                         All In   \n",
       "996                        Pinche Gente Alboretera   \n",
       "997                                      Surf City   \n",
       "998                                   Fortune Days   \n",
       "999  Que nadie sepa mi sufrir (Amor de mis amores)   \n",
       "\n",
       "                                   album  \n",
       "0                      All I Want Is You  \n",
       "1                      K.I.D.S. (Deluxe)  \n",
       "2                   Doo-Wops & Hooligans  \n",
       "3                               Twilight  \n",
       "4                             Flockaveli  \n",
       "..                                   ...  \n",
       "995             Smoke & Mirrors (Deluxe)  \n",
       "996        El Movimiento Alterado Vol. 3  \n",
       "997  Surf City And Other Swingin' Cities  \n",
       "998                        Drink the Sea  \n",
       "999                       30 Aniversario  \n",
       "\n",
       "[1000 rows x 3 columns]"
      ]
     },
     "execution_count": 238,
     "metadata": {},
     "output_type": "execute_result"
    }
   ],
   "source": [
    "#creating pandas DataFrame for Neo4j and saving to csv file:\n",
    "artist_album_df = data_df[[\"artist\",\"track\",\"album\"]]\n",
    "artist_album_df"
   ]
  },
  {
   "cell_type": "code",
   "execution_count": 239,
   "id": "7ca5c628",
   "metadata": {},
   "outputs": [],
   "source": [
    "artist_album_df.to_csv(\"spotify_neo4j.csv\")"
   ]
  },
  {
   "cell_type": "markdown",
   "id": "27b775d7",
   "metadata": {},
   "source": [
    "#### Load data into databases:"
   ]
  },
  {
   "cell_type": "code",
   "execution_count": 19,
   "id": "d5719a2b",
   "metadata": {},
   "outputs": [],
   "source": [
    "#to Mysql:\n",
    "connection = pymysql.connect(host=\"localhost\", user=\"root\",  password=\"\", database=\"spotify_db\")\n",
    "cursor = connection.cursor()\n",
    "\n",
    "create_table_query = \"\"\"\n",
    "    CREATE TABLE IF NOT EXISTS tracks (\n",
    "        track_id INT AUTO_INCREMENT PRIMARY KEY,\n",
    "        track VARCHAR(60),\n",
    "        artist VARCHAR(60),\n",
    "        album VARCHAR(60),\n",
    "        track_popularity INT,\n",
    "        acousticness FLOAT,\n",
    "        danceability FLOAT,\n",
    "        energy FLOAT,\n",
    "        instrumentalness FLOAT,\n",
    "        loudness FLOAT,\n",
    "        tempo FLOAT\n",
    "        )\n",
    "    \"\"\"\n",
    "\n",
    "cursor.execute(create_table_query)"
   ]
  },
  {
   "cell_type": "code",
   "execution_count": null,
   "id": "73006163",
   "metadata": {},
   "outputs": [],
   "source": [
    "# Insert whole DataFrame into MySQL\n",
    "track_df.to_sql(\"tracks\", con = engine, if_exists = \"append\", chunksize = 1000, index=False)"
   ]
  },
  {
   "cell_type": "code",
   "execution_count": null,
   "id": "2c0c5c56",
   "metadata": {},
   "outputs": [],
   "source": [
    "connection.commit()\n",
    "connection.close()"
   ]
  },
  {
   "cell_type": "code",
   "execution_count": 22,
   "id": "a33f5b0a",
   "metadata": {},
   "outputs": [],
   "source": [
    "#to MongoDB:\n",
    "data = pd.read_csv(\"spotify_mongodb.csv\")\n",
    "uri = \"uri_mongo\"\n",
    "client = MongoClient(uri, server_api=ServerApi('1'))"
   ]
  },
  {
   "cell_type": "code",
   "execution_count": 23,
   "id": "37ff14f0",
   "metadata": {},
   "outputs": [],
   "source": [
    "db = client[\"SpotifyDB\"]\n",
    "collection = db[\"Spotifydata\"]"
   ]
  },
  {
   "cell_type": "code",
   "execution_count": 24,
   "id": "71f87b14",
   "metadata": {},
   "outputs": [],
   "source": [
    "data.reset_index(inplace=True)\n",
    "data_dict = data.to_dict(\"records\")"
   ]
  },
  {
   "cell_type": "code",
   "execution_count": 26,
   "id": "2c3e99c8",
   "metadata": {},
   "outputs": [],
   "source": [
    "collection.insert_many(data_dict)"
   ]
  },
  {
   "cell_type": "code",
   "execution_count": null,
   "id": "ed13e4b5",
   "metadata": {},
   "outputs": [],
   "source": [
    "client.close()"
   ]
  },
  {
   "cell_type": "code",
   "execution_count": 427,
   "id": "c3f868c8",
   "metadata": {},
   "outputs": [],
   "source": [
    "#to Neo4j: --->to finish up\n",
    "import py2neo\n",
    "from py2neo import Graph,Node,Relationship\n",
    "\n",
    "uri = \"neo4j+ssc://14c452fc.databases.neo4j.io\"\n",
    "username = \"username\"\n",
    "password = \"password\"\n",
    "\n",
    "driver = GraphDatabase.driver(uri,auth=(username,password))"
   ]
  },
  {
   "cell_type": "code",
   "execution_count": 423,
   "id": "a97aec7e",
   "metadata": {},
   "outputs": [],
   "source": [
    "cql_create = \"\"\"CREATE (artist:Artist {\n",
    "                   \"name: $name\",\n",
    "                   \"track: $track\",\n",
    "                   \"album: $album\"}\n",
    "                   \n",
    "            )\"\"\""
   ]
  },
  {
   "cell_type": "markdown",
   "id": "69da66ce",
   "metadata": {},
   "source": [
    "#### Extract data from databases:"
   ]
  },
  {
   "cell_type": "code",
   "execution_count": null,
   "id": "20db7ca0",
   "metadata": {},
   "outputs": [],
   "source": [
    "#MySQL:\n",
    "import mysql.connector \n",
    "\n",
    "connection = mysql.connector.connect(host=\"localhost\", user=\"root\",  password=\"\", database=\"spotify_db\")\n",
    "\n",
    "sql_select_query = \"select * from tracks\"\n",
    "cursor = connection.cursor()\n",
    "cursor.execute(sql_select_query)\n",
    "\n",
    "records = cursor.fetchall()\n",
    "records"
   ]
  },
  {
   "cell_type": "code",
   "execution_count": null,
   "id": "98b0e744",
   "metadata": {},
   "outputs": [],
   "source": [
    "#MongoDB:\n",
    "uri = \"uri_mongo\"\n",
    "client = pymongo.MongoClient(uri, server_api=ServerApi('1'))\n",
    "db = client[\"SpotifyDB\"]\n",
    "collection = db[\"Spotifydata\"]\n",
    "\n",
    "x = collection.find()\n",
    " \n",
    "for data in x:\n",
    "    print(data)"
   ]
  },
  {
   "cell_type": "code",
   "execution_count": null,
   "id": "122fc074",
   "metadata": {},
   "outputs": [],
   "source": [
    "#Neo4j: ---> not finished yet\n"
   ]
  },
  {
   "cell_type": "markdown",
   "id": "ff2c1f93",
   "metadata": {},
   "source": [
    "#### Data transformation & Integration:"
   ]
  },
  {
   "cell_type": "code",
   "execution_count": 488,
   "id": "879e65c6",
   "metadata": {},
   "outputs": [],
   "source": [
    "#clean and transform the extracted data using PySpark:\n",
    "spark = SparkSession.builder.appName(\"Dataframe\").getOrCreate()"
   ]
  },
  {
   "cell_type": "code",
   "execution_count": 489,
   "id": "00891b16",
   "metadata": {},
   "outputs": [],
   "source": [
    "mysql_spark = spark.read.csv(\"spotify_mysql.csv\", header=True, inferSchema=True)\n",
    "mongodb_spark = spark.read.csv(\"spotify_mongodb.csv\", header=True, inferSchema=True)\n",
    "neo4j_spark = spark.read.csv(\"spotify_neo4j.csv\", header=True, inferSchema=True)\n",
    "\n",
    "df = [mysql_spark, mongodb_spark, neo4j_spark]"
   ]
  },
  {
   "cell_type": "code",
   "execution_count": 490,
   "id": "2d2b6618",
   "metadata": {},
   "outputs": [
    {
     "data": {
      "text/plain": [
       "['_c0', 'track', 'artist', 'album', 'track_popularity']"
      ]
     },
     "execution_count": 490,
     "metadata": {},
     "output_type": "execute_result"
    }
   ],
   "source": [
    "mysql_spark.columns"
   ]
  },
  {
   "cell_type": "code",
   "execution_count": 491,
   "id": "d2fc60d4",
   "metadata": {},
   "outputs": [
    {
     "data": {
      "text/plain": [
       "(['_c0', 'artist', 'artist_genres', 'artist_popularity', 'artist_followers'],)"
      ]
     },
     "execution_count": 491,
     "metadata": {},
     "output_type": "execute_result"
    }
   ],
   "source": [
    "mongodb_spark.columns,"
   ]
  },
  {
   "cell_type": "code",
   "execution_count": 492,
   "id": "c6c68276",
   "metadata": {},
   "outputs": [
    {
     "data": {
      "text/plain": [
       "['_c0', 'artist', 'track', 'album']"
      ]
     },
     "execution_count": 492,
     "metadata": {},
     "output_type": "execute_result"
    }
   ],
   "source": [
    "neo4j_spark.columns"
   ]
  },
  {
   "cell_type": "code",
   "execution_count": 493,
   "id": "291d7b46",
   "metadata": {},
   "outputs": [],
   "source": [
    "#join 3 pyspark DataFrames by chaining\n",
    "merged = mysql_spark.join(mongodb_spark,[\"_c0\"]) \\\n",
    "     .join(neo4j_spark,mysql_spark[\"_c0\"] == neo4j_spark[\"_c0\"])"
   ]
  },
  {
   "cell_type": "code",
   "execution_count": 494,
   "id": "e3eb990c",
   "metadata": {},
   "outputs": [],
   "source": [
    "merged_df = mysql_spark.join(mongodb_spark,[\"_c0\",\"artist\"])"
   ]
  },
  {
   "cell_type": "code",
   "execution_count": 495,
   "id": "755db9ef",
   "metadata": {},
   "outputs": [
    {
     "name": "stdout",
     "output_type": "stream",
     "text": [
      "+---+--------------------+--------------------+--------------------+----------------+--------------------+-----------------+----------------+\n",
      "|_c0|              artist|               track|               album|track_popularity|       artist_genres|artist_popularity|artist_followers|\n",
      "+---+--------------------+--------------------+--------------------+----------------+--------------------+-----------------+----------------+\n",
      "|  0|              Miguel|          Sure Thing|   All I Want Is You|              89|             ['r&b']|               77|         4788498|\n",
      "|  1|          Mac Miller|           The Spins|   K.I.D.S. (Deluxe)|              84|['hip hop', 'pitt...|               82|         9497713|\n",
      "|  2|          Bruno Mars|Just the Way You Are|Doo-Wops & Hooligans|              86|['dance pop', 'pop']|               87|        50939168|\n",
      "|  5|              Miguel|Girl With The Tat...|   All I Want Is You|              82|             ['r&b']|               77|         4788498|\n",
      "|  6|      Zac Brown Band|Knee Deep (feat. ...|You Get What You ...|              78|['contemporary co...|               72|         3696155|\n",
      "|  7|         Nicki Minaj|          Super Bass|Pink Friday (Comp...|              82|['hip pop', 'pop'...|               86|        29523913|\n",
      "|  8|               Train|    Hey, Soul Sister|Save Me, San Fran...|              85|['dance pop', 'ne...|               71|         4356940|\n",
      "| 13|          Katy Perry|Last Friday Night...|       Teenage Dream|              77|             ['pop']|               82|        29309751|\n",
      "| 14|                Roar|I Can't Handle Ch...|I Can't Handle Ch...|              81|['pov: indie', 'w...|               66|          706938|\n",
      "| 15|        Jason Aldean|    Dirt Road Anthem|      My Kinda Party|              76|['contemporary co...|               73|         6349106|\n",
      "| 16|             Rihanna|Only Girl (In The...|Loud (Japan Version)|              84|['barbadian pop',...|               88|        57812873|\n",
      "| 17|      Patrick Watson|Je te laisserai d...|Je te laisserai d...|              85|['indie folk', 'i...|               68|          610904|\n",
      "| 18|          Kanye West|             Runaway|My Beautiful Dark...|              81|['chicago rap', '...|               89|        21267742|\n",
      "| 19|          Kanye West|   All Of The Lights|My Beautiful Dark...|              80|['chicago rap', '...|               89|        21267742|\n",
      "| 24|                Roar|      Christmas Kids|I Can't Handle Ch...|              82|['pov: indie', 'w...|               66|          706938|\n",
      "| 25|          Katy Perry|       Teenage Dream|       Teenage Dream|              76|             ['pop']|               82|        29309751|\n",
      "| 28|          Kanye West|               POWER|My Beautiful Dark...|              80|['chicago rap', '...|               89|        21267742|\n",
      "| 29|Two Door Cinema Club|       What You Know|     Tourist History|              76|['indie rock', 'i...|               67|         2341620|\n",
      "| 30|       Justin Bieber|                Baby|        My World 2.0|              83|['canadian pop', ...|               87|        74210660|\n",
      "| 31|          Bruno Mars|           Marry You|Doo-Wops & Hooligans|              78|['dance pop', 'pop']|               87|        50939168|\n",
      "+---+--------------------+--------------------+--------------------+----------------+--------------------+-----------------+----------------+\n",
      "only showing top 20 rows\n",
      "\n"
     ]
    }
   ],
   "source": [
    "merged_df.show(truncate=True)"
   ]
  },
  {
   "cell_type": "code",
   "execution_count": 496,
   "id": "70b28266",
   "metadata": {},
   "outputs": [
    {
     "data": {
      "text/plain": [
       "[('_c0', 'int'),\n",
       " ('artist', 'string'),\n",
       " ('track', 'string'),\n",
       " ('album', 'string'),\n",
       " ('track_popularity', 'int'),\n",
       " ('artist_genres', 'string'),\n",
       " ('artist_popularity', 'string'),\n",
       " ('artist_followers', 'string')]"
      ]
     },
     "execution_count": 496,
     "metadata": {},
     "output_type": "execute_result"
    }
   ],
   "source": [
    "#verify data types:\n",
    "merged_df.dtypes"
   ]
  },
  {
   "cell_type": "code",
   "execution_count": 497,
   "id": "318baeed",
   "metadata": {},
   "outputs": [
    {
     "name": "stdout",
     "output_type": "stream",
     "text": [
      "+---+------+-----+-----+----------------+-------------+-----------------+----------------+\n",
      "|_c0|artist|track|album|track_popularity|artist_genres|artist_popularity|artist_followers|\n",
      "+---+------+-----+-----+----------------+-------------+-----------------+----------------+\n",
      "|  0|     0|    0|    0|               0|            0|                0|               0|\n",
      "+---+------+-----+-----+----------------+-------------+-----------------+----------------+\n",
      "\n"
     ]
    }
   ],
   "source": [
    "#find count of Null, None, NaN of all data columns:\n",
    "from pyspark.sql.functions import col,isnan, when, count\n",
    "merged_df.select([count(when(isnan(c) | col(c).isNull(), c)).alias(c) for c in merged_df.columns]).show()"
   ]
  },
  {
   "cell_type": "code",
   "execution_count": 498,
   "id": "c47a9a89",
   "metadata": {
    "scrolled": true
   },
   "outputs": [
    {
     "name": "stdout",
     "output_type": "stream",
     "text": [
      "root\n",
      " |-- No: integer (nullable = true)\n",
      " |-- artist: string (nullable = true)\n",
      " |-- track: string (nullable = true)\n",
      " |-- album: string (nullable = true)\n",
      " |-- track_popularity: integer (nullable = true)\n",
      " |-- artist_genres: string (nullable = true)\n",
      " |-- artist_popularity: string (nullable = true)\n",
      " |-- artist_followers: string (nullable = true)\n",
      "\n"
     ]
    }
   ],
   "source": [
    "#replace column name:\n",
    "renamed_df = merged_df.withColumnRenamed(\"_c0\",\"No\").printSchema()"
   ]
  },
  {
   "cell_type": "code",
   "execution_count": 499,
   "id": "32bb30ed",
   "metadata": {},
   "outputs": [
    {
     "name": "stdout",
     "output_type": "stream",
     "text": [
      "Distinct count: 258\n",
      "+---+--------------------+--------------------+--------------------+----------------+--------------------+-----------------+----------------+\n",
      "|_c0|              artist|               track|               album|track_popularity|       artist_genres|artist_popularity|artist_followers|\n",
      "+---+--------------------+--------------------+--------------------+----------------+--------------------+-----------------+----------------+\n",
      "|181|Sleeping With Sirens|If I'm James Dean...|With Ears To See ...|              66|['neon pop punk',...|               62|         2241737|\n",
      "|526|                FLOW|                Sign|           MICROCOSM|              68|           ['anime']|               57|          455986|\n",
      "|594|             Wig Wam|Do Ya Wanna Taste It|Non Stop Rock'n Roll|              61|       ['glam rock']|               43|           36853|\n",
      "|395|Ramon Ayala Y Sus...|      Tragos Amargos|  Cruzando Fronteras|              56|['musica mexicana...|               62|          468728|\n",
      "|146|        Jason Derulo|          In My Head|        Jason Derulo|              64|['dance pop', 'pop']|               77|        11929946|\n",
      "|546|          Stone Sour| Say You'll Haunt Me|       Audio Secrecy|              58|['alternative met...|               62|         2804577|\n",
      "|826|                 bôa|         Little Miss|            Twilight|              55|                  []|               66|          438554|\n",
      "|185|               Train|            Marry Me|Save Me, San Fran...|              69|['dance pop', 'ne...|               71|         4356940|\n",
      "|914|             Dondria|      You're the One|Dondria vs. Phatf...|              51|  ['hip pop', 'r&b']|               33|          220069|\n",
      "|239|               Robyn|Dancing On My Own...|           Body Talk|              61|['dance pop', 'el...|               58|          826457|\n",
      "|141|         Mike Posner|     Please Don't Go|31 Minutes to Tak...|              69|['dance pop', 'po...|               68|         1375859|\n",
      "| 41|              Plan B|       Es un Secreto|   House Of Pleasure|              71|['reggaeton', 'tr...|               77|         3386064|\n",
      "| 79|    The Steeldrivers|Where Rainbows Ne...|            Reckless|              69|['bluegrass', 'mo...|               60|          327164|\n",
      "|142|       Kenny Chesney|You and Tequila (...| Hemingway's Whiskey|              66|['contemporary co...|               70|         4396103|\n",
      "|249|            Kid Cudi|        Mojo So Dope|Man On The Moon I...|              62|['hip hop', 'ohio...|               78|         6675522|\n",
      "|341|        Sanctus Real|             Lead Me|Pieces Of A Real ...|              60|['ccm', 'christia...|               58|          319398|\n",
      "|440|Two Door Cinema Club|          I Can Talk|     Tourist History|              58|['indie rock', 'i...|               67|         2341620|\n",
      "|405|             Rihanna| California King Bed|Loud (Japan Version)|              70|['barbadian pop',...|               88|        57812873|\n",
      "|617|             Sabaton|      Ghost Division|The Art of War (R...|              64|['power metal', '...|               70|         1942184|\n",
      "| 65|               Drake|      Find Your Love|      Thank Me Later|              70|['canadian hip ho...|               94|        79671951|\n",
      "+---+--------------------+--------------------+--------------------+----------------+--------------------+-----------------+----------------+\n",
      "only showing top 20 rows\n",
      "\n"
     ]
    }
   ],
   "source": [
    "#check duplicate values in DataFrame:\n",
    "merged_df = merged_df.distinct()\n",
    "print(\"Distinct count: \"+str(merged_df.count()))\n",
    "merged_df.show(truncate=True)"
   ]
  },
  {
   "cell_type": "code",
   "execution_count": 500,
   "id": "cae5142d",
   "metadata": {},
   "outputs": [
    {
     "data": {
      "text/html": [
       "<div>\n",
       "<style scoped>\n",
       "    .dataframe tbody tr th:only-of-type {\n",
       "        vertical-align: middle;\n",
       "    }\n",
       "\n",
       "    .dataframe tbody tr th {\n",
       "        vertical-align: top;\n",
       "    }\n",
       "\n",
       "    .dataframe thead th {\n",
       "        text-align: right;\n",
       "    }\n",
       "</style>\n",
       "<table border=\"1\" class=\"dataframe\">\n",
       "  <thead>\n",
       "    <tr style=\"text-align: right;\">\n",
       "      <th></th>\n",
       "      <th>_c0</th>\n",
       "      <th>artist</th>\n",
       "      <th>track</th>\n",
       "      <th>album</th>\n",
       "      <th>track_popularity</th>\n",
       "      <th>artist_genres</th>\n",
       "      <th>artist_popularity</th>\n",
       "      <th>artist_followers</th>\n",
       "    </tr>\n",
       "  </thead>\n",
       "  <tbody>\n",
       "    <tr>\n",
       "      <th>0</th>\n",
       "      <td>181</td>\n",
       "      <td>Sleeping With Sirens</td>\n",
       "      <td>If I'm James Dean, You're Audrey Hepburn</td>\n",
       "      <td>With Ears To See And Eyes To Hear</td>\n",
       "      <td>66</td>\n",
       "      <td>['neon pop punk', 'pop emo', 'pop punk', 'scre...</td>\n",
       "      <td>62</td>\n",
       "      <td>2241737</td>\n",
       "    </tr>\n",
       "    <tr>\n",
       "      <th>1</th>\n",
       "      <td>526</td>\n",
       "      <td>FLOW</td>\n",
       "      <td>Sign</td>\n",
       "      <td>MICROCOSM</td>\n",
       "      <td>68</td>\n",
       "      <td>['anime']</td>\n",
       "      <td>57</td>\n",
       "      <td>455986</td>\n",
       "    </tr>\n",
       "    <tr>\n",
       "      <th>2</th>\n",
       "      <td>594</td>\n",
       "      <td>Wig Wam</td>\n",
       "      <td>Do Ya Wanna Taste It</td>\n",
       "      <td>Non Stop Rock'n Roll</td>\n",
       "      <td>61</td>\n",
       "      <td>['glam rock']</td>\n",
       "      <td>43</td>\n",
       "      <td>36853</td>\n",
       "    </tr>\n",
       "    <tr>\n",
       "      <th>3</th>\n",
       "      <td>395</td>\n",
       "      <td>Ramon Ayala Y Sus Bravos Del Norte</td>\n",
       "      <td>Tragos Amargos</td>\n",
       "      <td>Cruzando Fronteras</td>\n",
       "      <td>56</td>\n",
       "      <td>['musica mexicana', 'norteno']</td>\n",
       "      <td>62</td>\n",
       "      <td>468728</td>\n",
       "    </tr>\n",
       "    <tr>\n",
       "      <th>4</th>\n",
       "      <td>146</td>\n",
       "      <td>Jason Derulo</td>\n",
       "      <td>In My Head</td>\n",
       "      <td>Jason Derulo</td>\n",
       "      <td>64</td>\n",
       "      <td>['dance pop', 'pop']</td>\n",
       "      <td>77</td>\n",
       "      <td>11929946</td>\n",
       "    </tr>\n",
       "  </tbody>\n",
       "</table>\n",
       "</div>"
      ],
      "text/plain": [
       "   _c0                              artist   \n",
       "0  181                Sleeping With Sirens  \\\n",
       "1  526                                FLOW   \n",
       "2  594                             Wig Wam   \n",
       "3  395  Ramon Ayala Y Sus Bravos Del Norte   \n",
       "4  146                        Jason Derulo   \n",
       "\n",
       "                                      track   \n",
       "0  If I'm James Dean, You're Audrey Hepburn  \\\n",
       "1                                      Sign   \n",
       "2                      Do Ya Wanna Taste It   \n",
       "3                            Tragos Amargos   \n",
       "4                                In My Head   \n",
       "\n",
       "                               album  track_popularity   \n",
       "0  With Ears To See And Eyes To Hear                66  \\\n",
       "1                          MICROCOSM                68   \n",
       "2               Non Stop Rock'n Roll                61   \n",
       "3                 Cruzando Fronteras                56   \n",
       "4                       Jason Derulo                64   \n",
       "\n",
       "                                       artist_genres artist_popularity   \n",
       "0  ['neon pop punk', 'pop emo', 'pop punk', 'scre...                62  \\\n",
       "1                                          ['anime']                57   \n",
       "2                                      ['glam rock']                43   \n",
       "3                     ['musica mexicana', 'norteno']                62   \n",
       "4                               ['dance pop', 'pop']                77   \n",
       "\n",
       "  artist_followers  \n",
       "0          2241737  \n",
       "1           455986  \n",
       "2            36853  \n",
       "3           468728  \n",
       "4         11929946  "
      ]
     },
     "execution_count": 500,
     "metadata": {},
     "output_type": "execute_result"
    }
   ],
   "source": [
    "#after processing data in PySpark convert to Pandas DataFrame:\n",
    "df = merged_df.toPandas()\n",
    "df.head()"
   ]
  },
  {
   "cell_type": "code",
   "execution_count": 501,
   "id": "55f4a552",
   "metadata": {},
   "outputs": [],
   "source": [
    "#drop unecessary column:\n",
    "df = df.drop([\"_c0\"], axis=1)"
   ]
  },
  {
   "cell_type": "code",
   "execution_count": 502,
   "id": "2484732d",
   "metadata": {},
   "outputs": [
    {
     "data": {
      "text/html": [
       "<div>\n",
       "<style scoped>\n",
       "    .dataframe tbody tr th:only-of-type {\n",
       "        vertical-align: middle;\n",
       "    }\n",
       "\n",
       "    .dataframe tbody tr th {\n",
       "        vertical-align: top;\n",
       "    }\n",
       "\n",
       "    .dataframe thead th {\n",
       "        text-align: right;\n",
       "    }\n",
       "</style>\n",
       "<table border=\"1\" class=\"dataframe\">\n",
       "  <thead>\n",
       "    <tr style=\"text-align: right;\">\n",
       "      <th></th>\n",
       "      <th>artist</th>\n",
       "      <th>track</th>\n",
       "      <th>album</th>\n",
       "      <th>track_popularity</th>\n",
       "      <th>artist_genres</th>\n",
       "      <th>artist_popularity</th>\n",
       "      <th>artist_followers</th>\n",
       "    </tr>\n",
       "  </thead>\n",
       "  <tbody>\n",
       "    <tr>\n",
       "      <th>0</th>\n",
       "      <td>Sleeping With Sirens</td>\n",
       "      <td>If I'm James Dean, You're Audrey Hepburn</td>\n",
       "      <td>With Ears To See And Eyes To Hear</td>\n",
       "      <td>66</td>\n",
       "      <td>['neon pop punk', 'pop emo', 'pop punk', 'scre...</td>\n",
       "      <td>62</td>\n",
       "      <td>2241737</td>\n",
       "    </tr>\n",
       "    <tr>\n",
       "      <th>1</th>\n",
       "      <td>FLOW</td>\n",
       "      <td>Sign</td>\n",
       "      <td>MICROCOSM</td>\n",
       "      <td>68</td>\n",
       "      <td>['anime']</td>\n",
       "      <td>57</td>\n",
       "      <td>455986</td>\n",
       "    </tr>\n",
       "    <tr>\n",
       "      <th>2</th>\n",
       "      <td>Wig Wam</td>\n",
       "      <td>Do Ya Wanna Taste It</td>\n",
       "      <td>Non Stop Rock'n Roll</td>\n",
       "      <td>61</td>\n",
       "      <td>['glam rock']</td>\n",
       "      <td>43</td>\n",
       "      <td>36853</td>\n",
       "    </tr>\n",
       "    <tr>\n",
       "      <th>3</th>\n",
       "      <td>Ramon Ayala Y Sus Bravos Del Norte</td>\n",
       "      <td>Tragos Amargos</td>\n",
       "      <td>Cruzando Fronteras</td>\n",
       "      <td>56</td>\n",
       "      <td>['musica mexicana', 'norteno']</td>\n",
       "      <td>62</td>\n",
       "      <td>468728</td>\n",
       "    </tr>\n",
       "    <tr>\n",
       "      <th>4</th>\n",
       "      <td>Jason Derulo</td>\n",
       "      <td>In My Head</td>\n",
       "      <td>Jason Derulo</td>\n",
       "      <td>64</td>\n",
       "      <td>['dance pop', 'pop']</td>\n",
       "      <td>77</td>\n",
       "      <td>11929946</td>\n",
       "    </tr>\n",
       "    <tr>\n",
       "      <th>...</th>\n",
       "      <td>...</td>\n",
       "      <td>...</td>\n",
       "      <td>...</td>\n",
       "      <td>...</td>\n",
       "      <td>...</td>\n",
       "      <td>...</td>\n",
       "      <td>...</td>\n",
       "    </tr>\n",
       "    <tr>\n",
       "      <th>253</th>\n",
       "      <td>Pierce The Veil</td>\n",
       "      <td>Million Dollar Houses (The Painter)</td>\n",
       "      <td>Selfish Machines</td>\n",
       "      <td>58</td>\n",
       "      <td>['pop punk', 'screamo']</td>\n",
       "      <td>71</td>\n",
       "      <td>2616964</td>\n",
       "    </tr>\n",
       "    <tr>\n",
       "      <th>254</th>\n",
       "      <td>Waka Flocka Flame</td>\n",
       "      <td>Grove St. Party (feat. Kebo Gotti)</td>\n",
       "      <td>Flockaveli</td>\n",
       "      <td>64</td>\n",
       "      <td>['atl hip hop', 'dirty south rap', 'pop rap', ...</td>\n",
       "      <td>64</td>\n",
       "      <td>2714590</td>\n",
       "    </tr>\n",
       "    <tr>\n",
       "      <th>255</th>\n",
       "      <td>Avenged Sevenfold</td>\n",
       "      <td>Fiction</td>\n",
       "      <td>Nightmare</td>\n",
       "      <td>54</td>\n",
       "      <td>['alternative metal', 'nu metal']</td>\n",
       "      <td>74</td>\n",
       "      <td>6508554</td>\n",
       "    </tr>\n",
       "    <tr>\n",
       "      <th>256</th>\n",
       "      <td>Enrique Iglesias</td>\n",
       "      <td>Cuando Me Enamoro</td>\n",
       "      <td>Euphoria (Standard US/Latin version)</td>\n",
       "      <td>74</td>\n",
       "      <td>['dance pop', 'latin pop', 'mexican pop']</td>\n",
       "      <td>75</td>\n",
       "      <td>11327933</td>\n",
       "    </tr>\n",
       "    <tr>\n",
       "      <th>257</th>\n",
       "      <td>Alan Jackson</td>\n",
       "      <td>Where I Come From</td>\n",
       "      <td>34 Number Ones</td>\n",
       "      <td>58</td>\n",
       "      <td>['country']</td>\n",
       "      <td>71</td>\n",
       "      <td>2481373</td>\n",
       "    </tr>\n",
       "  </tbody>\n",
       "</table>\n",
       "<p>258 rows × 7 columns</p>\n",
       "</div>"
      ],
      "text/plain": [
       "                                 artist   \n",
       "0                  Sleeping With Sirens  \\\n",
       "1                                  FLOW   \n",
       "2                               Wig Wam   \n",
       "3    Ramon Ayala Y Sus Bravos Del Norte   \n",
       "4                          Jason Derulo   \n",
       "..                                  ...   \n",
       "253                     Pierce The Veil   \n",
       "254                   Waka Flocka Flame   \n",
       "255                   Avenged Sevenfold   \n",
       "256                    Enrique Iglesias   \n",
       "257                        Alan Jackson   \n",
       "\n",
       "                                        track   \n",
       "0    If I'm James Dean, You're Audrey Hepburn  \\\n",
       "1                                        Sign   \n",
       "2                        Do Ya Wanna Taste It   \n",
       "3                              Tragos Amargos   \n",
       "4                                  In My Head   \n",
       "..                                        ...   \n",
       "253       Million Dollar Houses (The Painter)   \n",
       "254        Grove St. Party (feat. Kebo Gotti)   \n",
       "255                                   Fiction   \n",
       "256                         Cuando Me Enamoro   \n",
       "257                         Where I Come From   \n",
       "\n",
       "                                    album  track_popularity   \n",
       "0       With Ears To See And Eyes To Hear                66  \\\n",
       "1                               MICROCOSM                68   \n",
       "2                    Non Stop Rock'n Roll                61   \n",
       "3                      Cruzando Fronteras                56   \n",
       "4                            Jason Derulo                64   \n",
       "..                                    ...               ...   \n",
       "253                      Selfish Machines                58   \n",
       "254                            Flockaveli                64   \n",
       "255                             Nightmare                54   \n",
       "256  Euphoria (Standard US/Latin version)                74   \n",
       "257                        34 Number Ones                58   \n",
       "\n",
       "                                         artist_genres artist_popularity   \n",
       "0    ['neon pop punk', 'pop emo', 'pop punk', 'scre...                62  \\\n",
       "1                                            ['anime']                57   \n",
       "2                                        ['glam rock']                43   \n",
       "3                       ['musica mexicana', 'norteno']                62   \n",
       "4                                 ['dance pop', 'pop']                77   \n",
       "..                                                 ...               ...   \n",
       "253                            ['pop punk', 'screamo']                71   \n",
       "254  ['atl hip hop', 'dirty south rap', 'pop rap', ...                64   \n",
       "255                  ['alternative metal', 'nu metal']                74   \n",
       "256          ['dance pop', 'latin pop', 'mexican pop']                75   \n",
       "257                                        ['country']                71   \n",
       "\n",
       "    artist_followers  \n",
       "0            2241737  \n",
       "1             455986  \n",
       "2              36853  \n",
       "3             468728  \n",
       "4           11929946  \n",
       "..               ...  \n",
       "253          2616964  \n",
       "254          2714590  \n",
       "255          6508554  \n",
       "256         11327933  \n",
       "257          2481373  \n",
       "\n",
       "[258 rows x 7 columns]"
      ]
     },
     "execution_count": 502,
     "metadata": {},
     "output_type": "execute_result"
    }
   ],
   "source": [
    "df"
   ]
  },
  {
   "cell_type": "code",
   "execution_count": 368,
   "id": "4629d663",
   "metadata": {},
   "outputs": [],
   "source": [
    "spark.stop()"
   ]
  },
  {
   "cell_type": "markdown",
   "id": "95d63907",
   "metadata": {},
   "source": [
    "#### 4. Exploratory Data Analysis(EDA):\n",
    "  "
   ]
  },
  {
   "cell_type": "code",
   "execution_count": 563,
   "id": "b4585f3a",
   "metadata": {},
   "outputs": [
    {
     "data": {
      "text/html": [
       "<div>\n",
       "<style scoped>\n",
       "    .dataframe tbody tr th:only-of-type {\n",
       "        vertical-align: middle;\n",
       "    }\n",
       "\n",
       "    .dataframe tbody tr th {\n",
       "        vertical-align: top;\n",
       "    }\n",
       "\n",
       "    .dataframe thead th {\n",
       "        text-align: right;\n",
       "    }\n",
       "</style>\n",
       "<table border=\"1\" class=\"dataframe\">\n",
       "  <thead>\n",
       "    <tr style=\"text-align: right;\">\n",
       "      <th></th>\n",
       "      <th>artist</th>\n",
       "      <th>track</th>\n",
       "      <th>album</th>\n",
       "      <th>track_popularity</th>\n",
       "      <th>artist_genres</th>\n",
       "      <th>artist_popularity</th>\n",
       "      <th>artist_followers</th>\n",
       "    </tr>\n",
       "  </thead>\n",
       "  <tbody>\n",
       "    <tr>\n",
       "      <th>0</th>\n",
       "      <td>Sleeping With Sirens</td>\n",
       "      <td>If I'm James Dean, You're Audrey Hepburn</td>\n",
       "      <td>With Ears To See And Eyes To Hear</td>\n",
       "      <td>66</td>\n",
       "      <td>[hip hop, pop rap, gospelnhip hop, pop rap, go...</td>\n",
       "      <td>62</td>\n",
       "      <td>2241737</td>\n",
       "    </tr>\n",
       "    <tr>\n",
       "      <th>1</th>\n",
       "      <td>FLOW</td>\n",
       "      <td>Sign</td>\n",
       "      <td>MICROCOSM</td>\n",
       "      <td>68</td>\n",
       "      <td>[hip hop, pop rap, gospelhip hop, pop rap, gos...</td>\n",
       "      <td>57</td>\n",
       "      <td>455986</td>\n",
       "    </tr>\n",
       "    <tr>\n",
       "      <th>2</th>\n",
       "      <td>Wig Wam</td>\n",
       "      <td>Do Ya Wanna Taste It</td>\n",
       "      <td>Non Stop Rock'n Roll</td>\n",
       "      <td>61</td>\n",
       "      <td>[hip hop, pop rap, gospelhip hop, pop rap, gos...</td>\n",
       "      <td>43</td>\n",
       "      <td>36853</td>\n",
       "    </tr>\n",
       "    <tr>\n",
       "      <th>3</th>\n",
       "      <td>Ramon Ayala Y Sus Bravos Del Norte</td>\n",
       "      <td>Tragos Amargos</td>\n",
       "      <td>Cruzando Fronteras</td>\n",
       "      <td>56</td>\n",
       "      <td>[hip hop, pop rap, gospelmuhip hop, pop rap, g...</td>\n",
       "      <td>62</td>\n",
       "      <td>468728</td>\n",
       "    </tr>\n",
       "    <tr>\n",
       "      <th>4</th>\n",
       "      <td>Jason Derulo</td>\n",
       "      <td>In My Head</td>\n",
       "      <td>Jason Derulo</td>\n",
       "      <td>64</td>\n",
       "      <td>[hip hop, pop rap, gospeldhip hop, pop rap, go...</td>\n",
       "      <td>77</td>\n",
       "      <td>11929946</td>\n",
       "    </tr>\n",
       "    <tr>\n",
       "      <th>...</th>\n",
       "      <td>...</td>\n",
       "      <td>...</td>\n",
       "      <td>...</td>\n",
       "      <td>...</td>\n",
       "      <td>...</td>\n",
       "      <td>...</td>\n",
       "      <td>...</td>\n",
       "    </tr>\n",
       "    <tr>\n",
       "      <th>253</th>\n",
       "      <td>Pierce The Veil</td>\n",
       "      <td>Million Dollar Houses (The Painter)</td>\n",
       "      <td>Selfish Machines</td>\n",
       "      <td>58</td>\n",
       "      <td>[hip hop, pop rap, gospelhip hop, pop rap, gos...</td>\n",
       "      <td>71</td>\n",
       "      <td>2616964</td>\n",
       "    </tr>\n",
       "    <tr>\n",
       "      <th>254</th>\n",
       "      <td>Waka Flocka Flame</td>\n",
       "      <td>Grove St. Party (feat. Kebo Gotti)</td>\n",
       "      <td>Flockaveli</td>\n",
       "      <td>64</td>\n",
       "      <td>[hip hop, pop rap, gospelhip hop, pop rap, gos...</td>\n",
       "      <td>64</td>\n",
       "      <td>2714590</td>\n",
       "    </tr>\n",
       "    <tr>\n",
       "      <th>255</th>\n",
       "      <td>Avenged Sevenfold</td>\n",
       "      <td>Fiction</td>\n",
       "      <td>Nightmare</td>\n",
       "      <td>54</td>\n",
       "      <td>[hip hop, pop rap, gospelhip hop, pop rap, gos...</td>\n",
       "      <td>74</td>\n",
       "      <td>6508554</td>\n",
       "    </tr>\n",
       "    <tr>\n",
       "      <th>256</th>\n",
       "      <td>Enrique Iglesias</td>\n",
       "      <td>Cuando Me Enamoro</td>\n",
       "      <td>Euphoria (Standard US/Latin version)</td>\n",
       "      <td>74</td>\n",
       "      <td>[hip hop, pop rap, gospeldhip hop, pop rap, go...</td>\n",
       "      <td>75</td>\n",
       "      <td>11327933</td>\n",
       "    </tr>\n",
       "    <tr>\n",
       "      <th>257</th>\n",
       "      <td>Alan Jackson</td>\n",
       "      <td>Where I Come From</td>\n",
       "      <td>34 Number Ones</td>\n",
       "      <td>58</td>\n",
       "      <td>[hip hop, pop rap, gospelchip hop, pop rap, go...</td>\n",
       "      <td>71</td>\n",
       "      <td>2481373</td>\n",
       "    </tr>\n",
       "  </tbody>\n",
       "</table>\n",
       "<p>258 rows × 7 columns</p>\n",
       "</div>"
      ],
      "text/plain": [
       "                                 artist   \n",
       "0                  Sleeping With Sirens  \\\n",
       "1                                  FLOW   \n",
       "2                               Wig Wam   \n",
       "3    Ramon Ayala Y Sus Bravos Del Norte   \n",
       "4                          Jason Derulo   \n",
       "..                                  ...   \n",
       "253                     Pierce The Veil   \n",
       "254                   Waka Flocka Flame   \n",
       "255                   Avenged Sevenfold   \n",
       "256                    Enrique Iglesias   \n",
       "257                        Alan Jackson   \n",
       "\n",
       "                                        track   \n",
       "0    If I'm James Dean, You're Audrey Hepburn  \\\n",
       "1                                        Sign   \n",
       "2                        Do Ya Wanna Taste It   \n",
       "3                              Tragos Amargos   \n",
       "4                                  In My Head   \n",
       "..                                        ...   \n",
       "253       Million Dollar Houses (The Painter)   \n",
       "254        Grove St. Party (feat. Kebo Gotti)   \n",
       "255                                   Fiction   \n",
       "256                         Cuando Me Enamoro   \n",
       "257                         Where I Come From   \n",
       "\n",
       "                                    album  track_popularity   \n",
       "0       With Ears To See And Eyes To Hear                66  \\\n",
       "1                               MICROCOSM                68   \n",
       "2                    Non Stop Rock'n Roll                61   \n",
       "3                      Cruzando Fronteras                56   \n",
       "4                            Jason Derulo                64   \n",
       "..                                    ...               ...   \n",
       "253                      Selfish Machines                58   \n",
       "254                            Flockaveli                64   \n",
       "255                             Nightmare                54   \n",
       "256  Euphoria (Standard US/Latin version)                74   \n",
       "257                        34 Number Ones                58   \n",
       "\n",
       "                                         artist_genres artist_popularity   \n",
       "0    [hip hop, pop rap, gospelnhip hop, pop rap, go...                62  \\\n",
       "1    [hip hop, pop rap, gospelhip hop, pop rap, gos...                57   \n",
       "2    [hip hop, pop rap, gospelhip hop, pop rap, gos...                43   \n",
       "3    [hip hop, pop rap, gospelmuhip hop, pop rap, g...                62   \n",
       "4    [hip hop, pop rap, gospeldhip hop, pop rap, go...                77   \n",
       "..                                                 ...               ...   \n",
       "253  [hip hop, pop rap, gospelhip hop, pop rap, gos...                71   \n",
       "254  [hip hop, pop rap, gospelhip hop, pop rap, gos...                64   \n",
       "255  [hip hop, pop rap, gospelhip hop, pop rap, gos...                74   \n",
       "256  [hip hop, pop rap, gospeldhip hop, pop rap, go...                75   \n",
       "257  [hip hop, pop rap, gospelchip hop, pop rap, go...                71   \n",
       "\n",
       "    artist_followers  \n",
       "0            2241737  \n",
       "1             455986  \n",
       "2              36853  \n",
       "3             468728  \n",
       "4           11929946  \n",
       "..               ...  \n",
       "253          2616964  \n",
       "254          2714590  \n",
       "255          6508554  \n",
       "256         11327933  \n",
       "257          2481373  \n",
       "\n",
       "[258 rows x 7 columns]"
      ]
     },
     "execution_count": 563,
     "metadata": {},
     "output_type": "execute_result"
    }
   ],
   "source": [
    "#pandas dataframe created from pyspark df:\n",
    "df"
   ]
  },
  {
   "cell_type": "code",
   "execution_count": 504,
   "id": "a8dee6b0",
   "metadata": {},
   "outputs": [
    {
     "name": "stdout",
     "output_type": "stream",
     "text": [
      "<class 'pandas.core.frame.DataFrame'>\n",
      "RangeIndex: 258 entries, 0 to 257\n",
      "Data columns (total 7 columns):\n",
      " #   Column             Non-Null Count  Dtype \n",
      "---  ------             --------------  ----- \n",
      " 0   artist             258 non-null    object\n",
      " 1   track              258 non-null    object\n",
      " 2   album              258 non-null    object\n",
      " 3   track_popularity   258 non-null    int32 \n",
      " 4   artist_genres      258 non-null    object\n",
      " 5   artist_popularity  258 non-null    object\n",
      " 6   artist_followers   258 non-null    object\n",
      "dtypes: int32(1), object(6)\n",
      "memory usage: 13.2+ KB\n"
     ]
    },
    {
     "data": {
      "text/plain": [
       "(258, 7)"
      ]
     },
     "execution_count": 504,
     "metadata": {},
     "output_type": "execute_result"
    }
   ],
   "source": [
    "#show basic data info:\n",
    "df.info()\n",
    "#data shape:\n",
    "df.shape"
   ]
  },
  {
   "cell_type": "code",
   "execution_count": null,
   "id": "9c5b5a20",
   "metadata": {},
   "outputs": [],
   "source": [
    "df"
   ]
  },
  {
   "cell_type": "code",
   "execution_count": 505,
   "id": "d156d4a6",
   "metadata": {},
   "outputs": [
    {
     "data": {
      "text/plain": [
       "0"
      ]
     },
     "execution_count": 505,
     "metadata": {},
     "output_type": "execute_result"
    }
   ],
   "source": [
    "#Find the duplicates\n",
    "df.duplicated().sum()"
   ]
  },
  {
   "cell_type": "code",
   "execution_count": 506,
   "id": "1de08272",
   "metadata": {},
   "outputs": [
    {
     "data": {
      "text/html": [
       "<div>\n",
       "<style scoped>\n",
       "    .dataframe tbody tr th:only-of-type {\n",
       "        vertical-align: middle;\n",
       "    }\n",
       "\n",
       "    .dataframe tbody tr th {\n",
       "        vertical-align: top;\n",
       "    }\n",
       "\n",
       "    .dataframe thead th {\n",
       "        text-align: right;\n",
       "    }\n",
       "</style>\n",
       "<table border=\"1\" class=\"dataframe\">\n",
       "  <thead>\n",
       "    <tr style=\"text-align: right;\">\n",
       "      <th></th>\n",
       "      <th>track_popularity</th>\n",
       "    </tr>\n",
       "  </thead>\n",
       "  <tbody>\n",
       "    <tr>\n",
       "      <th>count</th>\n",
       "      <td>258.000000</td>\n",
       "    </tr>\n",
       "    <tr>\n",
       "      <th>mean</th>\n",
       "      <td>65.968992</td>\n",
       "    </tr>\n",
       "    <tr>\n",
       "      <th>std</th>\n",
       "      <td>8.479720</td>\n",
       "    </tr>\n",
       "    <tr>\n",
       "      <th>min</th>\n",
       "      <td>49.000000</td>\n",
       "    </tr>\n",
       "    <tr>\n",
       "      <th>25%</th>\n",
       "      <td>59.000000</td>\n",
       "    </tr>\n",
       "    <tr>\n",
       "      <th>50%</th>\n",
       "      <td>66.000000</td>\n",
       "    </tr>\n",
       "    <tr>\n",
       "      <th>75%</th>\n",
       "      <td>72.000000</td>\n",
       "    </tr>\n",
       "    <tr>\n",
       "      <th>max</th>\n",
       "      <td>89.000000</td>\n",
       "    </tr>\n",
       "  </tbody>\n",
       "</table>\n",
       "</div>"
      ],
      "text/plain": [
       "       track_popularity\n",
       "count        258.000000\n",
       "mean          65.968992\n",
       "std            8.479720\n",
       "min           49.000000\n",
       "25%           59.000000\n",
       "50%           66.000000\n",
       "75%           72.000000\n",
       "max           89.000000"
      ]
     },
     "execution_count": 506,
     "metadata": {},
     "output_type": "execute_result"
    }
   ],
   "source": [
    "#describe the data:--->to be added audio features when finally loaded\n",
    "df.describe()"
   ]
  },
  {
   "cell_type": "code",
   "execution_count": 507,
   "id": "74d4ab01",
   "metadata": {},
   "outputs": [],
   "source": [
    "#check if there is any correlation between track popuarity and audio features of the track:\n",
    "scatter = sns.pairplot(df[[\"track_popularity\", \"acousticness\", \"danceability\",\"energy\", \"instrumentalness\",\"loudness\",\"tempo\"]], diag_kind=\"kde\")"
   ]
  },
  {
   "cell_type": "code",
   "execution_count": 525,
   "id": "2496eed1",
   "metadata": {},
   "outputs": [
    {
     "ename": "KeyError",
     "evalue": "\"['acousticness', 'danceability', 'energy', 'instrumentalness', 'loudness', 'tempo'] not in index\"",
     "output_type": "error",
     "traceback": [
      "\u001b[1;31m---------------------------------------------------------------------------\u001b[0m",
      "\u001b[1;31mKeyError\u001b[0m                                  Traceback (most recent call last)",
      "Cell \u001b[1;32mIn[525], line 3\u001b[0m\n\u001b[0;32m      1\u001b[0m \u001b[38;5;66;03m#heatmap to summarize the correlation ratio:\u001b[39;00m\n\u001b[0;32m      2\u001b[0m numeric\u001b[38;5;241m=\u001b[39m[\u001b[38;5;124m\"\u001b[39m\u001b[38;5;124mtrack_popularity\u001b[39m\u001b[38;5;124m\"\u001b[39m, \u001b[38;5;124m\"\u001b[39m\u001b[38;5;124macousticness\u001b[39m\u001b[38;5;124m\"\u001b[39m, \u001b[38;5;124m\"\u001b[39m\u001b[38;5;124mdanceability\u001b[39m\u001b[38;5;124m\"\u001b[39m, \u001b[38;5;124m\"\u001b[39m\u001b[38;5;124menergy\u001b[39m\u001b[38;5;124m\"\u001b[39m, \u001b[38;5;124m\"\u001b[39m\u001b[38;5;124minstrumentalness\u001b[39m\u001b[38;5;124m\"\u001b[39m, \u001b[38;5;124m\"\u001b[39m\u001b[38;5;124mloudness\u001b[39m\u001b[38;5;124m\"\u001b[39m, \u001b[38;5;124m\"\u001b[39m\u001b[38;5;124mtempo\u001b[39m\u001b[38;5;124m\"\u001b[39m]\n\u001b[1;32m----> 3\u001b[0m correlation_matrix \u001b[38;5;241m=\u001b[39m \u001b[43mdf\u001b[49m\u001b[43m[\u001b[49m\u001b[43mnumeric\u001b[49m\u001b[43m]\u001b[49m\u001b[38;5;241m.\u001b[39mcorr()\n\u001b[0;32m      4\u001b[0m y, x \u001b[38;5;241m=\u001b[39m plt\u001b[38;5;241m.\u001b[39msubplots(figsize\u001b[38;5;241m=\u001b[39m(\u001b[38;5;241m9\u001b[39m, \u001b[38;5;241m7\u001b[39m))\n\u001b[0;32m      6\u001b[0m heatmap \u001b[38;5;241m=\u001b[39m sns\u001b[38;5;241m.\u001b[39mheatmap(matrix, annot\u001b[38;5;241m=\u001b[39m\u001b[38;5;28;01mTrue\u001b[39;00m, fmt\u001b[38;5;241m=\u001b[39m\u001b[38;5;124m\"\u001b[39m\u001b[38;5;124m.2f\u001b[39m\u001b[38;5;124m\"\u001b[39m, linewidths\u001b[38;5;241m=\u001b[39m\u001b[38;5;241m.5\u001b[39m, cmap\u001b[38;5;241m=\u001b[39m\u001b[38;5;124m\"\u001b[39m\u001b[38;5;124mGnBu\u001b[39m\u001b[38;5;124m\"\u001b[39m)\n",
      "File \u001b[1;32m~\\AppData\\Local\\Programs\\Python\\Python311\\Lib\\site-packages\\pandas\\core\\frame.py:3766\u001b[0m, in \u001b[0;36mDataFrame.__getitem__\u001b[1;34m(self, key)\u001b[0m\n\u001b[0;32m   3764\u001b[0m     \u001b[38;5;28;01mif\u001b[39;00m is_iterator(key):\n\u001b[0;32m   3765\u001b[0m         key \u001b[38;5;241m=\u001b[39m \u001b[38;5;28mlist\u001b[39m(key)\n\u001b[1;32m-> 3766\u001b[0m     indexer \u001b[38;5;241m=\u001b[39m \u001b[38;5;28;43mself\u001b[39;49m\u001b[38;5;241;43m.\u001b[39;49m\u001b[43mcolumns\u001b[49m\u001b[38;5;241;43m.\u001b[39;49m\u001b[43m_get_indexer_strict\u001b[49m\u001b[43m(\u001b[49m\u001b[43mkey\u001b[49m\u001b[43m,\u001b[49m\u001b[43m \u001b[49m\u001b[38;5;124;43m\"\u001b[39;49m\u001b[38;5;124;43mcolumns\u001b[39;49m\u001b[38;5;124;43m\"\u001b[39;49m\u001b[43m)\u001b[49m[\u001b[38;5;241m1\u001b[39m]\n\u001b[0;32m   3768\u001b[0m \u001b[38;5;66;03m# take() does not accept boolean indexers\u001b[39;00m\n\u001b[0;32m   3769\u001b[0m \u001b[38;5;28;01mif\u001b[39;00m \u001b[38;5;28mgetattr\u001b[39m(indexer, \u001b[38;5;124m\"\u001b[39m\u001b[38;5;124mdtype\u001b[39m\u001b[38;5;124m\"\u001b[39m, \u001b[38;5;28;01mNone\u001b[39;00m) \u001b[38;5;241m==\u001b[39m \u001b[38;5;28mbool\u001b[39m:\n",
      "File \u001b[1;32m~\\AppData\\Local\\Programs\\Python\\Python311\\Lib\\site-packages\\pandas\\core\\indexes\\base.py:5876\u001b[0m, in \u001b[0;36mIndex._get_indexer_strict\u001b[1;34m(self, key, axis_name)\u001b[0m\n\u001b[0;32m   5873\u001b[0m \u001b[38;5;28;01melse\u001b[39;00m:\n\u001b[0;32m   5874\u001b[0m     keyarr, indexer, new_indexer \u001b[38;5;241m=\u001b[39m \u001b[38;5;28mself\u001b[39m\u001b[38;5;241m.\u001b[39m_reindex_non_unique(keyarr)\n\u001b[1;32m-> 5876\u001b[0m \u001b[38;5;28;43mself\u001b[39;49m\u001b[38;5;241;43m.\u001b[39;49m\u001b[43m_raise_if_missing\u001b[49m\u001b[43m(\u001b[49m\u001b[43mkeyarr\u001b[49m\u001b[43m,\u001b[49m\u001b[43m \u001b[49m\u001b[43mindexer\u001b[49m\u001b[43m,\u001b[49m\u001b[43m \u001b[49m\u001b[43maxis_name\u001b[49m\u001b[43m)\u001b[49m\n\u001b[0;32m   5878\u001b[0m keyarr \u001b[38;5;241m=\u001b[39m \u001b[38;5;28mself\u001b[39m\u001b[38;5;241m.\u001b[39mtake(indexer)\n\u001b[0;32m   5879\u001b[0m \u001b[38;5;28;01mif\u001b[39;00m \u001b[38;5;28misinstance\u001b[39m(key, Index):\n\u001b[0;32m   5880\u001b[0m     \u001b[38;5;66;03m# GH 42790 - Preserve name from an Index\u001b[39;00m\n",
      "File \u001b[1;32m~\\AppData\\Local\\Programs\\Python\\Python311\\Lib\\site-packages\\pandas\\core\\indexes\\base.py:5938\u001b[0m, in \u001b[0;36mIndex._raise_if_missing\u001b[1;34m(self, key, indexer, axis_name)\u001b[0m\n\u001b[0;32m   5935\u001b[0m     \u001b[38;5;28;01mraise\u001b[39;00m \u001b[38;5;167;01mKeyError\u001b[39;00m(\u001b[38;5;124mf\u001b[39m\u001b[38;5;124m\"\u001b[39m\u001b[38;5;124mNone of [\u001b[39m\u001b[38;5;132;01m{\u001b[39;00mkey\u001b[38;5;132;01m}\u001b[39;00m\u001b[38;5;124m] are in the [\u001b[39m\u001b[38;5;132;01m{\u001b[39;00maxis_name\u001b[38;5;132;01m}\u001b[39;00m\u001b[38;5;124m]\u001b[39m\u001b[38;5;124m\"\u001b[39m)\n\u001b[0;32m   5937\u001b[0m not_found \u001b[38;5;241m=\u001b[39m \u001b[38;5;28mlist\u001b[39m(ensure_index(key)[missing_mask\u001b[38;5;241m.\u001b[39mnonzero()[\u001b[38;5;241m0\u001b[39m]]\u001b[38;5;241m.\u001b[39munique())\n\u001b[1;32m-> 5938\u001b[0m \u001b[38;5;28;01mraise\u001b[39;00m \u001b[38;5;167;01mKeyError\u001b[39;00m(\u001b[38;5;124mf\u001b[39m\u001b[38;5;124m\"\u001b[39m\u001b[38;5;132;01m{\u001b[39;00mnot_found\u001b[38;5;132;01m}\u001b[39;00m\u001b[38;5;124m not in index\u001b[39m\u001b[38;5;124m\"\u001b[39m)\n",
      "\u001b[1;31mKeyError\u001b[0m: \"['acousticness', 'danceability', 'energy', 'instrumentalness', 'loudness', 'tempo'] not in index\""
     ]
    }
   ],
   "source": [
    "#heatmap to summarize the correlation ratio:\n",
    "numeric=[\"track_popularity\", \"acousticness\", \"danceability\", \"energy\", \"instrumentalness\", \"loudness\", \"tempo\"]\n",
    "correlation_matrix = df[numeric].corr()\n",
    "y, x = plt.subplots(figsize=(9, 7))\n",
    "\n",
    "heatmap = sns.heatmap(matrix, annot=True, fmt=\".2f\", linewidths=.5, cmap=\"GnBu\")\n",
    "plt.show()"
   ]
  },
  {
   "cell_type": "code",
   "execution_count": 572,
   "id": "a0833cb6",
   "metadata": {},
   "outputs": [],
   "source": [
    "#track audio_feature pairplot:\n",
    "sns.pairplot(df)\n",
    "plt.show()"
   ]
  },
  {
   "cell_type": "code",
   "execution_count": 573,
   "id": "e1f42577",
   "metadata": {},
   "outputs": [
    {
     "ename": "KeyError",
     "evalue": "\"None of [Index(['danceability'], dtype='object')] are in the [columns]\"",
     "output_type": "error",
     "traceback": [
      "\u001b[1;31m---------------------------------------------------------------------------\u001b[0m",
      "\u001b[1;31mKeyError\u001b[0m                                  Traceback (most recent call last)",
      "Cell \u001b[1;32mIn[573], line 4\u001b[0m\n\u001b[0;32m      1\u001b[0m \u001b[38;5;66;03m#fit a linear regression model to the relationship between track audio feature - danceability and track popularity. \u001b[39;00m\n\u001b[0;32m      2\u001b[0m model \u001b[38;5;241m=\u001b[39m LinearRegression()\n\u001b[1;32m----> 4\u001b[0m x \u001b[38;5;241m=\u001b[39m \u001b[43mdf\u001b[49m\u001b[43m[\u001b[49m\u001b[43m[\u001b[49m\u001b[38;5;124;43m\"\u001b[39;49m\u001b[38;5;124;43mdanceability\u001b[39;49m\u001b[38;5;124;43m\"\u001b[39;49m\u001b[43m]\u001b[49m\u001b[43m]\u001b[49m\n\u001b[0;32m      5\u001b[0m y \u001b[38;5;241m=\u001b[39m df[\u001b[38;5;124m\"\u001b[39m\u001b[38;5;124mtrack_popularity\u001b[39m\u001b[38;5;124m\"\u001b[39m]\n\u001b[0;32m      6\u001b[0m model\u001b[38;5;241m.\u001b[39mfit(x, y)\n",
      "File \u001b[1;32m~\\AppData\\Local\\Programs\\Python\\Python311\\Lib\\site-packages\\pandas\\core\\frame.py:3766\u001b[0m, in \u001b[0;36mDataFrame.__getitem__\u001b[1;34m(self, key)\u001b[0m\n\u001b[0;32m   3764\u001b[0m     \u001b[38;5;28;01mif\u001b[39;00m is_iterator(key):\n\u001b[0;32m   3765\u001b[0m         key \u001b[38;5;241m=\u001b[39m \u001b[38;5;28mlist\u001b[39m(key)\n\u001b[1;32m-> 3766\u001b[0m     indexer \u001b[38;5;241m=\u001b[39m \u001b[38;5;28;43mself\u001b[39;49m\u001b[38;5;241;43m.\u001b[39;49m\u001b[43mcolumns\u001b[49m\u001b[38;5;241;43m.\u001b[39;49m\u001b[43m_get_indexer_strict\u001b[49m\u001b[43m(\u001b[49m\u001b[43mkey\u001b[49m\u001b[43m,\u001b[49m\u001b[43m \u001b[49m\u001b[38;5;124;43m\"\u001b[39;49m\u001b[38;5;124;43mcolumns\u001b[39;49m\u001b[38;5;124;43m\"\u001b[39;49m\u001b[43m)\u001b[49m[\u001b[38;5;241m1\u001b[39m]\n\u001b[0;32m   3768\u001b[0m \u001b[38;5;66;03m# take() does not accept boolean indexers\u001b[39;00m\n\u001b[0;32m   3769\u001b[0m \u001b[38;5;28;01mif\u001b[39;00m \u001b[38;5;28mgetattr\u001b[39m(indexer, \u001b[38;5;124m\"\u001b[39m\u001b[38;5;124mdtype\u001b[39m\u001b[38;5;124m\"\u001b[39m, \u001b[38;5;28;01mNone\u001b[39;00m) \u001b[38;5;241m==\u001b[39m \u001b[38;5;28mbool\u001b[39m:\n",
      "File \u001b[1;32m~\\AppData\\Local\\Programs\\Python\\Python311\\Lib\\site-packages\\pandas\\core\\indexes\\base.py:5876\u001b[0m, in \u001b[0;36mIndex._get_indexer_strict\u001b[1;34m(self, key, axis_name)\u001b[0m\n\u001b[0;32m   5873\u001b[0m \u001b[38;5;28;01melse\u001b[39;00m:\n\u001b[0;32m   5874\u001b[0m     keyarr, indexer, new_indexer \u001b[38;5;241m=\u001b[39m \u001b[38;5;28mself\u001b[39m\u001b[38;5;241m.\u001b[39m_reindex_non_unique(keyarr)\n\u001b[1;32m-> 5876\u001b[0m \u001b[38;5;28;43mself\u001b[39;49m\u001b[38;5;241;43m.\u001b[39;49m\u001b[43m_raise_if_missing\u001b[49m\u001b[43m(\u001b[49m\u001b[43mkeyarr\u001b[49m\u001b[43m,\u001b[49m\u001b[43m \u001b[49m\u001b[43mindexer\u001b[49m\u001b[43m,\u001b[49m\u001b[43m \u001b[49m\u001b[43maxis_name\u001b[49m\u001b[43m)\u001b[49m\n\u001b[0;32m   5878\u001b[0m keyarr \u001b[38;5;241m=\u001b[39m \u001b[38;5;28mself\u001b[39m\u001b[38;5;241m.\u001b[39mtake(indexer)\n\u001b[0;32m   5879\u001b[0m \u001b[38;5;28;01mif\u001b[39;00m \u001b[38;5;28misinstance\u001b[39m(key, Index):\n\u001b[0;32m   5880\u001b[0m     \u001b[38;5;66;03m# GH 42790 - Preserve name from an Index\u001b[39;00m\n",
      "File \u001b[1;32m~\\AppData\\Local\\Programs\\Python\\Python311\\Lib\\site-packages\\pandas\\core\\indexes\\base.py:5935\u001b[0m, in \u001b[0;36mIndex._raise_if_missing\u001b[1;34m(self, key, indexer, axis_name)\u001b[0m\n\u001b[0;32m   5933\u001b[0m     \u001b[38;5;28;01mif\u001b[39;00m use_interval_msg:\n\u001b[0;32m   5934\u001b[0m         key \u001b[38;5;241m=\u001b[39m \u001b[38;5;28mlist\u001b[39m(key)\n\u001b[1;32m-> 5935\u001b[0m     \u001b[38;5;28;01mraise\u001b[39;00m \u001b[38;5;167;01mKeyError\u001b[39;00m(\u001b[38;5;124mf\u001b[39m\u001b[38;5;124m\"\u001b[39m\u001b[38;5;124mNone of [\u001b[39m\u001b[38;5;132;01m{\u001b[39;00mkey\u001b[38;5;132;01m}\u001b[39;00m\u001b[38;5;124m] are in the [\u001b[39m\u001b[38;5;132;01m{\u001b[39;00maxis_name\u001b[38;5;132;01m}\u001b[39;00m\u001b[38;5;124m]\u001b[39m\u001b[38;5;124m\"\u001b[39m)\n\u001b[0;32m   5937\u001b[0m not_found \u001b[38;5;241m=\u001b[39m \u001b[38;5;28mlist\u001b[39m(ensure_index(key)[missing_mask\u001b[38;5;241m.\u001b[39mnonzero()[\u001b[38;5;241m0\u001b[39m]]\u001b[38;5;241m.\u001b[39munique())\n\u001b[0;32m   5938\u001b[0m \u001b[38;5;28;01mraise\u001b[39;00m \u001b[38;5;167;01mKeyError\u001b[39;00m(\u001b[38;5;124mf\u001b[39m\u001b[38;5;124m\"\u001b[39m\u001b[38;5;132;01m{\u001b[39;00mnot_found\u001b[38;5;132;01m}\u001b[39;00m\u001b[38;5;124m not in index\u001b[39m\u001b[38;5;124m\"\u001b[39m)\n",
      "\u001b[1;31mKeyError\u001b[0m: \"None of [Index(['danceability'], dtype='object')] are in the [columns]\""
     ]
    }
   ],
   "source": [
    "#fit a linear regression model to the relationship between track audio feature - danceability and track popularity. \n",
    "model = LinearRegression()\n",
    "\n",
    "x = df[[\"danceability\"]]\n",
    "y = df[\"track_popularity\"]\n",
    "model.fit(x, y)\n",
    "\n",
    "predictions = model.predict(X)\n",
    "\n",
    "plt.scatter(x, y, label=\"Actual\", alpha=0.5)\n",
    "plt.plot(x, predictions, color=\"green\", label=\"Predicted\")\n",
    "plt.xlabel(\"danceability\")\n",
    "plt.ylabel(\"track_popularity\")\n",
    "plt.title(\"Linear Regression: danceability vs. track popularity\")\n",
    "plt.legend()\n",
    "plt.show()"
   ]
  },
  {
   "cell_type": "code",
   "execution_count": null,
   "id": "8894cc2f",
   "metadata": {},
   "outputs": [],
   "source": []
  },
  {
   "cell_type": "code",
   "execution_count": null,
   "id": "51661338",
   "metadata": {},
   "outputs": [],
   "source": []
  },
  {
   "cell_type": "markdown",
   "id": "5faad413",
   "metadata": {},
   "source": [
    "#### 5. Graph Analysis:"
   ]
  },
  {
   "cell_type": "code",
   "execution_count": null,
   "id": "763e42be",
   "metadata": {},
   "outputs": [],
   "source": []
  },
  {
   "cell_type": "code",
   "execution_count": null,
   "id": "c708bf42",
   "metadata": {},
   "outputs": [],
   "source": []
  },
  {
   "cell_type": "code",
   "execution_count": null,
   "id": "2e7a18bc",
   "metadata": {},
   "outputs": [],
   "source": []
  },
  {
   "cell_type": "markdown",
   "id": "54c80966",
   "metadata": {},
   "source": [
    "#### 6. Data Visualization:"
   ]
  },
  {
   "cell_type": "code",
   "execution_count": 593,
   "id": "90269865",
   "metadata": {},
   "outputs": [
    {
     "data": {
      "text/html": [
       "<div>\n",
       "<style scoped>\n",
       "    .dataframe tbody tr th:only-of-type {\n",
       "        vertical-align: middle;\n",
       "    }\n",
       "\n",
       "    .dataframe tbody tr th {\n",
       "        vertical-align: top;\n",
       "    }\n",
       "\n",
       "    .dataframe thead th {\n",
       "        text-align: right;\n",
       "    }\n",
       "</style>\n",
       "<table border=\"1\" class=\"dataframe\">\n",
       "  <thead>\n",
       "    <tr style=\"text-align: right;\">\n",
       "      <th></th>\n",
       "      <th>artist</th>\n",
       "      <th>track</th>\n",
       "      <th>album</th>\n",
       "      <th>track_popularity</th>\n",
       "      <th>artist_genres</th>\n",
       "      <th>artist_popularity</th>\n",
       "      <th>artist_followers</th>\n",
       "    </tr>\n",
       "  </thead>\n",
       "  <tbody>\n",
       "    <tr>\n",
       "      <th>251</th>\n",
       "      <td>Miguel</td>\n",
       "      <td>Sure Thing</td>\n",
       "      <td>All I Want Is You</td>\n",
       "      <td>89</td>\n",
       "      <td>[hip hop, pop rap, gospelhip hop, pop rap, gos...</td>\n",
       "      <td>77</td>\n",
       "      <td>4788498</td>\n",
       "    </tr>\n",
       "    <tr>\n",
       "      <th>58</th>\n",
       "      <td>Bruno Mars</td>\n",
       "      <td>Just the Way You Are</td>\n",
       "      <td>Doo-Wops &amp; Hooligans</td>\n",
       "      <td>86</td>\n",
       "      <td>[hip hop, pop rap, gospeldhip hop, pop rap, go...</td>\n",
       "      <td>87</td>\n",
       "      <td>50939168</td>\n",
       "    </tr>\n",
       "    <tr>\n",
       "      <th>214</th>\n",
       "      <td>Patrick Watson</td>\n",
       "      <td>Je te laisserai des mots</td>\n",
       "      <td>Je te laisserai des mots</td>\n",
       "      <td>85</td>\n",
       "      <td>[hip hop, pop rap, gospelhip hop, pop rap, gos...</td>\n",
       "      <td>68</td>\n",
       "      <td>610904</td>\n",
       "    </tr>\n",
       "    <tr>\n",
       "      <th>93</th>\n",
       "      <td>Train</td>\n",
       "      <td>Hey, Soul Sister</td>\n",
       "      <td>Save Me, San Francisco (Golden Gate Edition)</td>\n",
       "      <td>85</td>\n",
       "      <td>[hip hop, pop rap, gospeldhip hop, pop rap, go...</td>\n",
       "      <td>71</td>\n",
       "      <td>4356940</td>\n",
       "    </tr>\n",
       "    <tr>\n",
       "      <th>185</th>\n",
       "      <td>Mac Miller</td>\n",
       "      <td>The Spins</td>\n",
       "      <td>K.I.D.S. (Deluxe)</td>\n",
       "      <td>84</td>\n",
       "      <td>[hip hop, pop rap, gospelhip hop, pop rap, gos...</td>\n",
       "      <td>82</td>\n",
       "      <td>9497713</td>\n",
       "    </tr>\n",
       "    <tr>\n",
       "      <th>237</th>\n",
       "      <td>Rihanna</td>\n",
       "      <td>Only Girl (In The World)</td>\n",
       "      <td>Loud (Japan Version)</td>\n",
       "      <td>84</td>\n",
       "      <td>[hip hop, pop rap, gospelbhip hop, pop rap, go...</td>\n",
       "      <td>88</td>\n",
       "      <td>57812873</td>\n",
       "    </tr>\n",
       "    <tr>\n",
       "      <th>150</th>\n",
       "      <td>Justin Bieber</td>\n",
       "      <td>Baby</td>\n",
       "      <td>My World 2.0</td>\n",
       "      <td>83</td>\n",
       "      <td>[hip hop, pop rap, gospelchip hop, pop rap, go...</td>\n",
       "      <td>87</td>\n",
       "      <td>74210660</td>\n",
       "    </tr>\n",
       "    <tr>\n",
       "      <th>72</th>\n",
       "      <td>Roar</td>\n",
       "      <td>Christmas Kids</td>\n",
       "      <td>I Can't Handle Change</td>\n",
       "      <td>82</td>\n",
       "      <td>[hip hop, pop rap, gospelhip hop, pop rap, gos...</td>\n",
       "      <td>66</td>\n",
       "      <td>706938</td>\n",
       "    </tr>\n",
       "    <tr>\n",
       "      <th>116</th>\n",
       "      <td>Nicki Minaj</td>\n",
       "      <td>Super Bass</td>\n",
       "      <td>Pink Friday (Complete Edition)</td>\n",
       "      <td>82</td>\n",
       "      <td>[hip hop, pop rap, gospelhip hop, pop rap, gos...</td>\n",
       "      <td>86</td>\n",
       "      <td>29523913</td>\n",
       "    </tr>\n",
       "    <tr>\n",
       "      <th>84</th>\n",
       "      <td>Miguel</td>\n",
       "      <td>Girl With The Tattoo Enter.lewd</td>\n",
       "      <td>All I Want Is You</td>\n",
       "      <td>82</td>\n",
       "      <td>[hip hop, pop rap, gospelhip hop, pop rap, gos...</td>\n",
       "      <td>77</td>\n",
       "      <td>4788498</td>\n",
       "    </tr>\n",
       "  </tbody>\n",
       "</table>\n",
       "</div>"
      ],
      "text/plain": [
       "             artist                            track   \n",
       "251          Miguel                       Sure Thing  \\\n",
       "58       Bruno Mars             Just the Way You Are   \n",
       "214  Patrick Watson         Je te laisserai des mots   \n",
       "93            Train                 Hey, Soul Sister   \n",
       "185      Mac Miller                        The Spins   \n",
       "237         Rihanna         Only Girl (In The World)   \n",
       "150   Justin Bieber                             Baby   \n",
       "72             Roar                   Christmas Kids   \n",
       "116     Nicki Minaj                       Super Bass   \n",
       "84           Miguel  Girl With The Tattoo Enter.lewd   \n",
       "\n",
       "                                            album  track_popularity   \n",
       "251                             All I Want Is You                89  \\\n",
       "58                           Doo-Wops & Hooligans                86   \n",
       "214                      Je te laisserai des mots                85   \n",
       "93   Save Me, San Francisco (Golden Gate Edition)                85   \n",
       "185                             K.I.D.S. (Deluxe)                84   \n",
       "237                          Loud (Japan Version)                84   \n",
       "150                                  My World 2.0                83   \n",
       "72                          I Can't Handle Change                82   \n",
       "116                Pink Friday (Complete Edition)                82   \n",
       "84                              All I Want Is You                82   \n",
       "\n",
       "                                         artist_genres artist_popularity   \n",
       "251  [hip hop, pop rap, gospelhip hop, pop rap, gos...                77  \\\n",
       "58   [hip hop, pop rap, gospeldhip hop, pop rap, go...                87   \n",
       "214  [hip hop, pop rap, gospelhip hop, pop rap, gos...                68   \n",
       "93   [hip hop, pop rap, gospeldhip hop, pop rap, go...                71   \n",
       "185  [hip hop, pop rap, gospelhip hop, pop rap, gos...                82   \n",
       "237  [hip hop, pop rap, gospelbhip hop, pop rap, go...                88   \n",
       "150  [hip hop, pop rap, gospelchip hop, pop rap, go...                87   \n",
       "72   [hip hop, pop rap, gospelhip hop, pop rap, gos...                66   \n",
       "116  [hip hop, pop rap, gospelhip hop, pop rap, gos...                86   \n",
       "84   [hip hop, pop rap, gospelhip hop, pop rap, gos...                77   \n",
       "\n",
       "    artist_followers  \n",
       "251          4788498  \n",
       "58          50939168  \n",
       "214           610904  \n",
       "93           4356940  \n",
       "185          9497713  \n",
       "237         57812873  \n",
       "150         74210660  \n",
       "72            706938  \n",
       "116         29523913  \n",
       "84           4788498  "
      ]
     },
     "execution_count": 593,
     "metadata": {},
     "output_type": "execute_result"
    }
   ],
   "source": [
    "#top 10 most popular tracks of 2010 on Spotify:\n",
    "top_10 = df.sort_values(\"track_popularity\", ascending=False)\n",
    "top_10.head(10)"
   ]
  },
  {
   "cell_type": "code",
   "execution_count": 621,
   "id": "16bceade",
   "metadata": {},
   "outputs": [
    {
     "data": {
      "application/vnd.plotly.v1+json": {
       "config": {
        "plotlyServerURL": "https://plot.ly"
       },
       "data": [
        {
         "customdata": [
          [
           "Miguel"
          ],
          [
           "Bruno Mars"
          ],
          [
           "Patrick Watson"
          ],
          [
           "Train"
          ],
          [
           "Mac Miller"
          ],
          [
           "Rihanna"
          ],
          [
           "Justin Bieber"
          ],
          [
           "Roar"
          ],
          [
           "Nicki Minaj"
          ],
          [
           "Miguel"
          ]
         ],
         "hovertemplate": "track=%{x}<br>track_popularity=%{y}<br>artist=%{customdata[0]}<extra></extra>",
         "legendgroup": "",
         "line": {
          "color": "green",
          "dash": "solid"
         },
         "marker": {
          "symbol": "circle"
         },
         "mode": "lines+markers",
         "name": "",
         "orientation": "v",
         "showlegend": false,
         "type": "scatter",
         "x": [
          "Sure Thing",
          "Just the Way You Are",
          "Je te laisserai des mots",
          "Hey, Soul Sister",
          "The Spins",
          "Only Girl (In The World)",
          "Baby",
          "Christmas Kids",
          "Super Bass",
          "Girl With The Tattoo Enter.lewd"
         ],
         "xaxis": "x",
         "y": [
          89,
          86,
          85,
          85,
          84,
          84,
          83,
          82,
          82,
          82
         ],
         "yaxis": "y"
        }
       ],
       "layout": {
        "legend": {
         "tracegroupgap": 0
        },
        "template": {
         "data": {
          "bar": [
           {
            "error_x": {
             "color": "#2a3f5f"
            },
            "error_y": {
             "color": "#2a3f5f"
            },
            "marker": {
             "line": {
              "color": "#E5ECF6",
              "width": 0.5
             },
             "pattern": {
              "fillmode": "overlay",
              "size": 10,
              "solidity": 0.2
             }
            },
            "type": "bar"
           }
          ],
          "barpolar": [
           {
            "marker": {
             "line": {
              "color": "#E5ECF6",
              "width": 0.5
             },
             "pattern": {
              "fillmode": "overlay",
              "size": 10,
              "solidity": 0.2
             }
            },
            "type": "barpolar"
           }
          ],
          "carpet": [
           {
            "aaxis": {
             "endlinecolor": "#2a3f5f",
             "gridcolor": "white",
             "linecolor": "white",
             "minorgridcolor": "white",
             "startlinecolor": "#2a3f5f"
            },
            "baxis": {
             "endlinecolor": "#2a3f5f",
             "gridcolor": "white",
             "linecolor": "white",
             "minorgridcolor": "white",
             "startlinecolor": "#2a3f5f"
            },
            "type": "carpet"
           }
          ],
          "choropleth": [
           {
            "colorbar": {
             "outlinewidth": 0,
             "ticks": ""
            },
            "type": "choropleth"
           }
          ],
          "contour": [
           {
            "colorbar": {
             "outlinewidth": 0,
             "ticks": ""
            },
            "colorscale": [
             [
              0,
              "#0d0887"
             ],
             [
              0.1111111111111111,
              "#46039f"
             ],
             [
              0.2222222222222222,
              "#7201a8"
             ],
             [
              0.3333333333333333,
              "#9c179e"
             ],
             [
              0.4444444444444444,
              "#bd3786"
             ],
             [
              0.5555555555555556,
              "#d8576b"
             ],
             [
              0.6666666666666666,
              "#ed7953"
             ],
             [
              0.7777777777777778,
              "#fb9f3a"
             ],
             [
              0.8888888888888888,
              "#fdca26"
             ],
             [
              1,
              "#f0f921"
             ]
            ],
            "type": "contour"
           }
          ],
          "contourcarpet": [
           {
            "colorbar": {
             "outlinewidth": 0,
             "ticks": ""
            },
            "type": "contourcarpet"
           }
          ],
          "heatmap": [
           {
            "colorbar": {
             "outlinewidth": 0,
             "ticks": ""
            },
            "colorscale": [
             [
              0,
              "#0d0887"
             ],
             [
              0.1111111111111111,
              "#46039f"
             ],
             [
              0.2222222222222222,
              "#7201a8"
             ],
             [
              0.3333333333333333,
              "#9c179e"
             ],
             [
              0.4444444444444444,
              "#bd3786"
             ],
             [
              0.5555555555555556,
              "#d8576b"
             ],
             [
              0.6666666666666666,
              "#ed7953"
             ],
             [
              0.7777777777777778,
              "#fb9f3a"
             ],
             [
              0.8888888888888888,
              "#fdca26"
             ],
             [
              1,
              "#f0f921"
             ]
            ],
            "type": "heatmap"
           }
          ],
          "heatmapgl": [
           {
            "colorbar": {
             "outlinewidth": 0,
             "ticks": ""
            },
            "colorscale": [
             [
              0,
              "#0d0887"
             ],
             [
              0.1111111111111111,
              "#46039f"
             ],
             [
              0.2222222222222222,
              "#7201a8"
             ],
             [
              0.3333333333333333,
              "#9c179e"
             ],
             [
              0.4444444444444444,
              "#bd3786"
             ],
             [
              0.5555555555555556,
              "#d8576b"
             ],
             [
              0.6666666666666666,
              "#ed7953"
             ],
             [
              0.7777777777777778,
              "#fb9f3a"
             ],
             [
              0.8888888888888888,
              "#fdca26"
             ],
             [
              1,
              "#f0f921"
             ]
            ],
            "type": "heatmapgl"
           }
          ],
          "histogram": [
           {
            "marker": {
             "pattern": {
              "fillmode": "overlay",
              "size": 10,
              "solidity": 0.2
             }
            },
            "type": "histogram"
           }
          ],
          "histogram2d": [
           {
            "colorbar": {
             "outlinewidth": 0,
             "ticks": ""
            },
            "colorscale": [
             [
              0,
              "#0d0887"
             ],
             [
              0.1111111111111111,
              "#46039f"
             ],
             [
              0.2222222222222222,
              "#7201a8"
             ],
             [
              0.3333333333333333,
              "#9c179e"
             ],
             [
              0.4444444444444444,
              "#bd3786"
             ],
             [
              0.5555555555555556,
              "#d8576b"
             ],
             [
              0.6666666666666666,
              "#ed7953"
             ],
             [
              0.7777777777777778,
              "#fb9f3a"
             ],
             [
              0.8888888888888888,
              "#fdca26"
             ],
             [
              1,
              "#f0f921"
             ]
            ],
            "type": "histogram2d"
           }
          ],
          "histogram2dcontour": [
           {
            "colorbar": {
             "outlinewidth": 0,
             "ticks": ""
            },
            "colorscale": [
             [
              0,
              "#0d0887"
             ],
             [
              0.1111111111111111,
              "#46039f"
             ],
             [
              0.2222222222222222,
              "#7201a8"
             ],
             [
              0.3333333333333333,
              "#9c179e"
             ],
             [
              0.4444444444444444,
              "#bd3786"
             ],
             [
              0.5555555555555556,
              "#d8576b"
             ],
             [
              0.6666666666666666,
              "#ed7953"
             ],
             [
              0.7777777777777778,
              "#fb9f3a"
             ],
             [
              0.8888888888888888,
              "#fdca26"
             ],
             [
              1,
              "#f0f921"
             ]
            ],
            "type": "histogram2dcontour"
           }
          ],
          "mesh3d": [
           {
            "colorbar": {
             "outlinewidth": 0,
             "ticks": ""
            },
            "type": "mesh3d"
           }
          ],
          "parcoords": [
           {
            "line": {
             "colorbar": {
              "outlinewidth": 0,
              "ticks": ""
             }
            },
            "type": "parcoords"
           }
          ],
          "pie": [
           {
            "automargin": true,
            "type": "pie"
           }
          ],
          "scatter": [
           {
            "fillpattern": {
             "fillmode": "overlay",
             "size": 10,
             "solidity": 0.2
            },
            "type": "scatter"
           }
          ],
          "scatter3d": [
           {
            "line": {
             "colorbar": {
              "outlinewidth": 0,
              "ticks": ""
             }
            },
            "marker": {
             "colorbar": {
              "outlinewidth": 0,
              "ticks": ""
             }
            },
            "type": "scatter3d"
           }
          ],
          "scattercarpet": [
           {
            "marker": {
             "colorbar": {
              "outlinewidth": 0,
              "ticks": ""
             }
            },
            "type": "scattercarpet"
           }
          ],
          "scattergeo": [
           {
            "marker": {
             "colorbar": {
              "outlinewidth": 0,
              "ticks": ""
             }
            },
            "type": "scattergeo"
           }
          ],
          "scattergl": [
           {
            "marker": {
             "colorbar": {
              "outlinewidth": 0,
              "ticks": ""
             }
            },
            "type": "scattergl"
           }
          ],
          "scattermapbox": [
           {
            "marker": {
             "colorbar": {
              "outlinewidth": 0,
              "ticks": ""
             }
            },
            "type": "scattermapbox"
           }
          ],
          "scatterpolar": [
           {
            "marker": {
             "colorbar": {
              "outlinewidth": 0,
              "ticks": ""
             }
            },
            "type": "scatterpolar"
           }
          ],
          "scatterpolargl": [
           {
            "marker": {
             "colorbar": {
              "outlinewidth": 0,
              "ticks": ""
             }
            },
            "type": "scatterpolargl"
           }
          ],
          "scatterternary": [
           {
            "marker": {
             "colorbar": {
              "outlinewidth": 0,
              "ticks": ""
             }
            },
            "type": "scatterternary"
           }
          ],
          "surface": [
           {
            "colorbar": {
             "outlinewidth": 0,
             "ticks": ""
            },
            "colorscale": [
             [
              0,
              "#0d0887"
             ],
             [
              0.1111111111111111,
              "#46039f"
             ],
             [
              0.2222222222222222,
              "#7201a8"
             ],
             [
              0.3333333333333333,
              "#9c179e"
             ],
             [
              0.4444444444444444,
              "#bd3786"
             ],
             [
              0.5555555555555556,
              "#d8576b"
             ],
             [
              0.6666666666666666,
              "#ed7953"
             ],
             [
              0.7777777777777778,
              "#fb9f3a"
             ],
             [
              0.8888888888888888,
              "#fdca26"
             ],
             [
              1,
              "#f0f921"
             ]
            ],
            "type": "surface"
           }
          ],
          "table": [
           {
            "cells": {
             "fill": {
              "color": "#EBF0F8"
             },
             "line": {
              "color": "white"
             }
            },
            "header": {
             "fill": {
              "color": "#C8D4E3"
             },
             "line": {
              "color": "white"
             }
            },
            "type": "table"
           }
          ]
         },
         "layout": {
          "annotationdefaults": {
           "arrowcolor": "#2a3f5f",
           "arrowhead": 0,
           "arrowwidth": 1
          },
          "autotypenumbers": "strict",
          "coloraxis": {
           "colorbar": {
            "outlinewidth": 0,
            "ticks": ""
           }
          },
          "colorscale": {
           "diverging": [
            [
             0,
             "#8e0152"
            ],
            [
             0.1,
             "#c51b7d"
            ],
            [
             0.2,
             "#de77ae"
            ],
            [
             0.3,
             "#f1b6da"
            ],
            [
             0.4,
             "#fde0ef"
            ],
            [
             0.5,
             "#f7f7f7"
            ],
            [
             0.6,
             "#e6f5d0"
            ],
            [
             0.7,
             "#b8e186"
            ],
            [
             0.8,
             "#7fbc41"
            ],
            [
             0.9,
             "#4d9221"
            ],
            [
             1,
             "#276419"
            ]
           ],
           "sequential": [
            [
             0,
             "#0d0887"
            ],
            [
             0.1111111111111111,
             "#46039f"
            ],
            [
             0.2222222222222222,
             "#7201a8"
            ],
            [
             0.3333333333333333,
             "#9c179e"
            ],
            [
             0.4444444444444444,
             "#bd3786"
            ],
            [
             0.5555555555555556,
             "#d8576b"
            ],
            [
             0.6666666666666666,
             "#ed7953"
            ],
            [
             0.7777777777777778,
             "#fb9f3a"
            ],
            [
             0.8888888888888888,
             "#fdca26"
            ],
            [
             1,
             "#f0f921"
            ]
           ],
           "sequentialminus": [
            [
             0,
             "#0d0887"
            ],
            [
             0.1111111111111111,
             "#46039f"
            ],
            [
             0.2222222222222222,
             "#7201a8"
            ],
            [
             0.3333333333333333,
             "#9c179e"
            ],
            [
             0.4444444444444444,
             "#bd3786"
            ],
            [
             0.5555555555555556,
             "#d8576b"
            ],
            [
             0.6666666666666666,
             "#ed7953"
            ],
            [
             0.7777777777777778,
             "#fb9f3a"
            ],
            [
             0.8888888888888888,
             "#fdca26"
            ],
            [
             1,
             "#f0f921"
            ]
           ]
          },
          "colorway": [
           "#636efa",
           "#EF553B",
           "#00cc96",
           "#ab63fa",
           "#FFA15A",
           "#19d3f3",
           "#FF6692",
           "#B6E880",
           "#FF97FF",
           "#FECB52"
          ],
          "font": {
           "color": "#2a3f5f"
          },
          "geo": {
           "bgcolor": "white",
           "lakecolor": "white",
           "landcolor": "#E5ECF6",
           "showlakes": true,
           "showland": true,
           "subunitcolor": "white"
          },
          "hoverlabel": {
           "align": "left"
          },
          "hovermode": "closest",
          "mapbox": {
           "style": "light"
          },
          "paper_bgcolor": "white",
          "plot_bgcolor": "#E5ECF6",
          "polar": {
           "angularaxis": {
            "gridcolor": "white",
            "linecolor": "white",
            "ticks": ""
           },
           "bgcolor": "#E5ECF6",
           "radialaxis": {
            "gridcolor": "white",
            "linecolor": "white",
            "ticks": ""
           }
          },
          "scene": {
           "xaxis": {
            "backgroundcolor": "#E5ECF6",
            "gridcolor": "white",
            "gridwidth": 2,
            "linecolor": "white",
            "showbackground": true,
            "ticks": "",
            "zerolinecolor": "white"
           },
           "yaxis": {
            "backgroundcolor": "#E5ECF6",
            "gridcolor": "white",
            "gridwidth": 2,
            "linecolor": "white",
            "showbackground": true,
            "ticks": "",
            "zerolinecolor": "white"
           },
           "zaxis": {
            "backgroundcolor": "#E5ECF6",
            "gridcolor": "white",
            "gridwidth": 2,
            "linecolor": "white",
            "showbackground": true,
            "ticks": "",
            "zerolinecolor": "white"
           }
          },
          "shapedefaults": {
           "line": {
            "color": "#2a3f5f"
           }
          },
          "ternary": {
           "aaxis": {
            "gridcolor": "white",
            "linecolor": "white",
            "ticks": ""
           },
           "baxis": {
            "gridcolor": "white",
            "linecolor": "white",
            "ticks": ""
           },
           "bgcolor": "#E5ECF6",
           "caxis": {
            "gridcolor": "white",
            "linecolor": "white",
            "ticks": ""
           }
          },
          "title": {
           "x": 0.05
          },
          "xaxis": {
           "automargin": true,
           "gridcolor": "white",
           "linecolor": "white",
           "ticks": "",
           "title": {
            "standoff": 15
           },
           "zerolinecolor": "white",
           "zerolinewidth": 2
          },
          "yaxis": {
           "automargin": true,
           "gridcolor": "white",
           "linecolor": "white",
           "ticks": "",
           "title": {
            "standoff": 15
           },
           "zerolinecolor": "white",
           "zerolinewidth": 2
          }
         }
        },
        "title": {
         "text": "Top 10 tracks on Spotify 2010"
        },
        "xaxis": {
         "anchor": "y",
         "domain": [
          0,
          1
         ],
         "title": {
          "text": "track"
         }
        },
        "yaxis": {
         "anchor": "x",
         "domain": [
          0,
          1
         ],
         "title": {
          "text": "track_popularity"
         }
        }
       }
      },
      "text/html": [
       "<div>                            <div id=\"1b66ad81-71c2-44e7-a99e-0b843ad910d3\" class=\"plotly-graph-div\" style=\"height:525px; width:100%;\"></div>            <script type=\"text/javascript\">                require([\"plotly\"], function(Plotly) {                    window.PLOTLYENV=window.PLOTLYENV || {};                                    if (document.getElementById(\"1b66ad81-71c2-44e7-a99e-0b843ad910d3\")) {                    Plotly.newPlot(                        \"1b66ad81-71c2-44e7-a99e-0b843ad910d3\",                        [{\"customdata\":[[\"Miguel\"],[\"Bruno Mars\"],[\"Patrick Watson\"],[\"Train\"],[\"Mac Miller\"],[\"Rihanna\"],[\"Justin Bieber\"],[\"Roar\"],[\"Nicki Minaj\"],[\"Miguel\"]],\"hovertemplate\":\"track=%{x}<br>track_popularity=%{y}<br>artist=%{customdata[0]}<extra></extra>\",\"legendgroup\":\"\",\"line\":{\"color\":\"green\",\"dash\":\"solid\"},\"marker\":{\"symbol\":\"circle\"},\"mode\":\"lines+markers\",\"name\":\"\",\"orientation\":\"v\",\"showlegend\":false,\"x\":[\"Sure Thing\",\"Just the Way You Are\",\"Je te laisserai des mots\",\"Hey, Soul Sister\",\"The Spins\",\"Only Girl (In The World)\",\"Baby\",\"Christmas Kids\",\"Super Bass\",\"Girl With The Tattoo Enter.lewd\"],\"xaxis\":\"x\",\"y\":[89,86,85,85,84,84,83,82,82,82],\"yaxis\":\"y\",\"type\":\"scatter\"}],                        {\"template\":{\"data\":{\"histogram2dcontour\":[{\"type\":\"histogram2dcontour\",\"colorbar\":{\"outlinewidth\":0,\"ticks\":\"\"},\"colorscale\":[[0.0,\"#0d0887\"],[0.1111111111111111,\"#46039f\"],[0.2222222222222222,\"#7201a8\"],[0.3333333333333333,\"#9c179e\"],[0.4444444444444444,\"#bd3786\"],[0.5555555555555556,\"#d8576b\"],[0.6666666666666666,\"#ed7953\"],[0.7777777777777778,\"#fb9f3a\"],[0.8888888888888888,\"#fdca26\"],[1.0,\"#f0f921\"]]}],\"choropleth\":[{\"type\":\"choropleth\",\"colorbar\":{\"outlinewidth\":0,\"ticks\":\"\"}}],\"histogram2d\":[{\"type\":\"histogram2d\",\"colorbar\":{\"outlinewidth\":0,\"ticks\":\"\"},\"colorscale\":[[0.0,\"#0d0887\"],[0.1111111111111111,\"#46039f\"],[0.2222222222222222,\"#7201a8\"],[0.3333333333333333,\"#9c179e\"],[0.4444444444444444,\"#bd3786\"],[0.5555555555555556,\"#d8576b\"],[0.6666666666666666,\"#ed7953\"],[0.7777777777777778,\"#fb9f3a\"],[0.8888888888888888,\"#fdca26\"],[1.0,\"#f0f921\"]]}],\"heatmap\":[{\"type\":\"heatmap\",\"colorbar\":{\"outlinewidth\":0,\"ticks\":\"\"},\"colorscale\":[[0.0,\"#0d0887\"],[0.1111111111111111,\"#46039f\"],[0.2222222222222222,\"#7201a8\"],[0.3333333333333333,\"#9c179e\"],[0.4444444444444444,\"#bd3786\"],[0.5555555555555556,\"#d8576b\"],[0.6666666666666666,\"#ed7953\"],[0.7777777777777778,\"#fb9f3a\"],[0.8888888888888888,\"#fdca26\"],[1.0,\"#f0f921\"]]}],\"heatmapgl\":[{\"type\":\"heatmapgl\",\"colorbar\":{\"outlinewidth\":0,\"ticks\":\"\"},\"colorscale\":[[0.0,\"#0d0887\"],[0.1111111111111111,\"#46039f\"],[0.2222222222222222,\"#7201a8\"],[0.3333333333333333,\"#9c179e\"],[0.4444444444444444,\"#bd3786\"],[0.5555555555555556,\"#d8576b\"],[0.6666666666666666,\"#ed7953\"],[0.7777777777777778,\"#fb9f3a\"],[0.8888888888888888,\"#fdca26\"],[1.0,\"#f0f921\"]]}],\"contourcarpet\":[{\"type\":\"contourcarpet\",\"colorbar\":{\"outlinewidth\":0,\"ticks\":\"\"}}],\"contour\":[{\"type\":\"contour\",\"colorbar\":{\"outlinewidth\":0,\"ticks\":\"\"},\"colorscale\":[[0.0,\"#0d0887\"],[0.1111111111111111,\"#46039f\"],[0.2222222222222222,\"#7201a8\"],[0.3333333333333333,\"#9c179e\"],[0.4444444444444444,\"#bd3786\"],[0.5555555555555556,\"#d8576b\"],[0.6666666666666666,\"#ed7953\"],[0.7777777777777778,\"#fb9f3a\"],[0.8888888888888888,\"#fdca26\"],[1.0,\"#f0f921\"]]}],\"surface\":[{\"type\":\"surface\",\"colorbar\":{\"outlinewidth\":0,\"ticks\":\"\"},\"colorscale\":[[0.0,\"#0d0887\"],[0.1111111111111111,\"#46039f\"],[0.2222222222222222,\"#7201a8\"],[0.3333333333333333,\"#9c179e\"],[0.4444444444444444,\"#bd3786\"],[0.5555555555555556,\"#d8576b\"],[0.6666666666666666,\"#ed7953\"],[0.7777777777777778,\"#fb9f3a\"],[0.8888888888888888,\"#fdca26\"],[1.0,\"#f0f921\"]]}],\"mesh3d\":[{\"type\":\"mesh3d\",\"colorbar\":{\"outlinewidth\":0,\"ticks\":\"\"}}],\"scatter\":[{\"fillpattern\":{\"fillmode\":\"overlay\",\"size\":10,\"solidity\":0.2},\"type\":\"scatter\"}],\"parcoords\":[{\"type\":\"parcoords\",\"line\":{\"colorbar\":{\"outlinewidth\":0,\"ticks\":\"\"}}}],\"scatterpolargl\":[{\"type\":\"scatterpolargl\",\"marker\":{\"colorbar\":{\"outlinewidth\":0,\"ticks\":\"\"}}}],\"bar\":[{\"error_x\":{\"color\":\"#2a3f5f\"},\"error_y\":{\"color\":\"#2a3f5f\"},\"marker\":{\"line\":{\"color\":\"#E5ECF6\",\"width\":0.5},\"pattern\":{\"fillmode\":\"overlay\",\"size\":10,\"solidity\":0.2}},\"type\":\"bar\"}],\"scattergeo\":[{\"type\":\"scattergeo\",\"marker\":{\"colorbar\":{\"outlinewidth\":0,\"ticks\":\"\"}}}],\"scatterpolar\":[{\"type\":\"scatterpolar\",\"marker\":{\"colorbar\":{\"outlinewidth\":0,\"ticks\":\"\"}}}],\"histogram\":[{\"marker\":{\"pattern\":{\"fillmode\":\"overlay\",\"size\":10,\"solidity\":0.2}},\"type\":\"histogram\"}],\"scattergl\":[{\"type\":\"scattergl\",\"marker\":{\"colorbar\":{\"outlinewidth\":0,\"ticks\":\"\"}}}],\"scatter3d\":[{\"type\":\"scatter3d\",\"line\":{\"colorbar\":{\"outlinewidth\":0,\"ticks\":\"\"}},\"marker\":{\"colorbar\":{\"outlinewidth\":0,\"ticks\":\"\"}}}],\"scattermapbox\":[{\"type\":\"scattermapbox\",\"marker\":{\"colorbar\":{\"outlinewidth\":0,\"ticks\":\"\"}}}],\"scatterternary\":[{\"type\":\"scatterternary\",\"marker\":{\"colorbar\":{\"outlinewidth\":0,\"ticks\":\"\"}}}],\"scattercarpet\":[{\"type\":\"scattercarpet\",\"marker\":{\"colorbar\":{\"outlinewidth\":0,\"ticks\":\"\"}}}],\"carpet\":[{\"aaxis\":{\"endlinecolor\":\"#2a3f5f\",\"gridcolor\":\"white\",\"linecolor\":\"white\",\"minorgridcolor\":\"white\",\"startlinecolor\":\"#2a3f5f\"},\"baxis\":{\"endlinecolor\":\"#2a3f5f\",\"gridcolor\":\"white\",\"linecolor\":\"white\",\"minorgridcolor\":\"white\",\"startlinecolor\":\"#2a3f5f\"},\"type\":\"carpet\"}],\"table\":[{\"cells\":{\"fill\":{\"color\":\"#EBF0F8\"},\"line\":{\"color\":\"white\"}},\"header\":{\"fill\":{\"color\":\"#C8D4E3\"},\"line\":{\"color\":\"white\"}},\"type\":\"table\"}],\"barpolar\":[{\"marker\":{\"line\":{\"color\":\"#E5ECF6\",\"width\":0.5},\"pattern\":{\"fillmode\":\"overlay\",\"size\":10,\"solidity\":0.2}},\"type\":\"barpolar\"}],\"pie\":[{\"automargin\":true,\"type\":\"pie\"}]},\"layout\":{\"autotypenumbers\":\"strict\",\"colorway\":[\"#636efa\",\"#EF553B\",\"#00cc96\",\"#ab63fa\",\"#FFA15A\",\"#19d3f3\",\"#FF6692\",\"#B6E880\",\"#FF97FF\",\"#FECB52\"],\"font\":{\"color\":\"#2a3f5f\"},\"hovermode\":\"closest\",\"hoverlabel\":{\"align\":\"left\"},\"paper_bgcolor\":\"white\",\"plot_bgcolor\":\"#E5ECF6\",\"polar\":{\"bgcolor\":\"#E5ECF6\",\"angularaxis\":{\"gridcolor\":\"white\",\"linecolor\":\"white\",\"ticks\":\"\"},\"radialaxis\":{\"gridcolor\":\"white\",\"linecolor\":\"white\",\"ticks\":\"\"}},\"ternary\":{\"bgcolor\":\"#E5ECF6\",\"aaxis\":{\"gridcolor\":\"white\",\"linecolor\":\"white\",\"ticks\":\"\"},\"baxis\":{\"gridcolor\":\"white\",\"linecolor\":\"white\",\"ticks\":\"\"},\"caxis\":{\"gridcolor\":\"white\",\"linecolor\":\"white\",\"ticks\":\"\"}},\"coloraxis\":{\"colorbar\":{\"outlinewidth\":0,\"ticks\":\"\"}},\"colorscale\":{\"sequential\":[[0.0,\"#0d0887\"],[0.1111111111111111,\"#46039f\"],[0.2222222222222222,\"#7201a8\"],[0.3333333333333333,\"#9c179e\"],[0.4444444444444444,\"#bd3786\"],[0.5555555555555556,\"#d8576b\"],[0.6666666666666666,\"#ed7953\"],[0.7777777777777778,\"#fb9f3a\"],[0.8888888888888888,\"#fdca26\"],[1.0,\"#f0f921\"]],\"sequentialminus\":[[0.0,\"#0d0887\"],[0.1111111111111111,\"#46039f\"],[0.2222222222222222,\"#7201a8\"],[0.3333333333333333,\"#9c179e\"],[0.4444444444444444,\"#bd3786\"],[0.5555555555555556,\"#d8576b\"],[0.6666666666666666,\"#ed7953\"],[0.7777777777777778,\"#fb9f3a\"],[0.8888888888888888,\"#fdca26\"],[1.0,\"#f0f921\"]],\"diverging\":[[0,\"#8e0152\"],[0.1,\"#c51b7d\"],[0.2,\"#de77ae\"],[0.3,\"#f1b6da\"],[0.4,\"#fde0ef\"],[0.5,\"#f7f7f7\"],[0.6,\"#e6f5d0\"],[0.7,\"#b8e186\"],[0.8,\"#7fbc41\"],[0.9,\"#4d9221\"],[1,\"#276419\"]]},\"xaxis\":{\"gridcolor\":\"white\",\"linecolor\":\"white\",\"ticks\":\"\",\"title\":{\"standoff\":15},\"zerolinecolor\":\"white\",\"automargin\":true,\"zerolinewidth\":2},\"yaxis\":{\"gridcolor\":\"white\",\"linecolor\":\"white\",\"ticks\":\"\",\"title\":{\"standoff\":15},\"zerolinecolor\":\"white\",\"automargin\":true,\"zerolinewidth\":2},\"scene\":{\"xaxis\":{\"backgroundcolor\":\"#E5ECF6\",\"gridcolor\":\"white\",\"linecolor\":\"white\",\"showbackground\":true,\"ticks\":\"\",\"zerolinecolor\":\"white\",\"gridwidth\":2},\"yaxis\":{\"backgroundcolor\":\"#E5ECF6\",\"gridcolor\":\"white\",\"linecolor\":\"white\",\"showbackground\":true,\"ticks\":\"\",\"zerolinecolor\":\"white\",\"gridwidth\":2},\"zaxis\":{\"backgroundcolor\":\"#E5ECF6\",\"gridcolor\":\"white\",\"linecolor\":\"white\",\"showbackground\":true,\"ticks\":\"\",\"zerolinecolor\":\"white\",\"gridwidth\":2}},\"shapedefaults\":{\"line\":{\"color\":\"#2a3f5f\"}},\"annotationdefaults\":{\"arrowcolor\":\"#2a3f5f\",\"arrowhead\":0,\"arrowwidth\":1},\"geo\":{\"bgcolor\":\"white\",\"landcolor\":\"#E5ECF6\",\"subunitcolor\":\"white\",\"showland\":true,\"showlakes\":true,\"lakecolor\":\"white\"},\"title\":{\"x\":0.05},\"mapbox\":{\"style\":\"light\"}}},\"xaxis\":{\"anchor\":\"y\",\"domain\":[0.0,1.0],\"title\":{\"text\":\"track\"}},\"yaxis\":{\"anchor\":\"x\",\"domain\":[0.0,1.0],\"title\":{\"text\":\"track_popularity\"}},\"legend\":{\"tracegroupgap\":0},\"title\":{\"text\":\"Top 10 tracks on Spotify 2010\"}},                        {\"responsive\": true}                    ).then(function(){\n",
       "                            \n",
       "var gd = document.getElementById('1b66ad81-71c2-44e7-a99e-0b843ad910d3');\n",
       "var x = new MutationObserver(function (mutations, observer) {{\n",
       "        var display = window.getComputedStyle(gd).display;\n",
       "        if (!display || display === 'none') {{\n",
       "            console.log([gd, 'removed!']);\n",
       "            Plotly.purge(gd);\n",
       "            observer.disconnect();\n",
       "        }}\n",
       "}});\n",
       "\n",
       "// Listen for the removal of the full notebook cells\n",
       "var notebookContainer = gd.closest('#notebook-container');\n",
       "if (notebookContainer) {{\n",
       "    x.observe(notebookContainer, {childList: true});\n",
       "}}\n",
       "\n",
       "// Listen for the clearing of the current output cell\n",
       "var outputEl = gd.closest('.output');\n",
       "if (outputEl) {{\n",
       "    x.observe(outputEl, {childList: true});\n",
       "}}\n",
       "\n",
       "                        })                };                });            </script>        </div>"
      ]
     },
     "metadata": {},
     "output_type": "display_data"
    }
   ],
   "source": [
    "#plot top 10 tracks on Spotify 2010:\n",
    "fig=px.line(top_10.head(10),x=\"track\",y=\"track_popularity\",hover_data=[\"artist\"],color_discrete_sequence=[\"green\"],markers=True,title=\"Top 10 tracks on Spotify 2010\")\n",
    "fig.show()"
   ]
  },
  {
   "cell_type": "code",
   "execution_count": 663,
   "id": "c29939ec",
   "metadata": {},
   "outputs": [
    {
     "data": {
      "text/html": [
       "<div>\n",
       "<style scoped>\n",
       "    .dataframe tbody tr th:only-of-type {\n",
       "        vertical-align: middle;\n",
       "    }\n",
       "\n",
       "    .dataframe tbody tr th {\n",
       "        vertical-align: top;\n",
       "    }\n",
       "\n",
       "    .dataframe thead th {\n",
       "        text-align: right;\n",
       "    }\n",
       "</style>\n",
       "<table border=\"1\" class=\"dataframe\">\n",
       "  <thead>\n",
       "    <tr style=\"text-align: right;\">\n",
       "      <th></th>\n",
       "      <th>artist</th>\n",
       "      <th>track</th>\n",
       "      <th>album</th>\n",
       "      <th>track_popularity</th>\n",
       "      <th>artist_genres</th>\n",
       "      <th>artist_popularity</th>\n",
       "      <th>artist_followers</th>\n",
       "    </tr>\n",
       "  </thead>\n",
       "  <tbody>\n",
       "    <tr>\n",
       "      <th>94</th>\n",
       "      <td>Drake</td>\n",
       "      <td>Up All Night</td>\n",
       "      <td>Thank Me Later</td>\n",
       "      <td>68</td>\n",
       "      <td>[hip hop, pop rap, gospelchip hop, pop rap, go...</td>\n",
       "      <td>94</td>\n",
       "      <td>79671951</td>\n",
       "    </tr>\n",
       "    <tr>\n",
       "      <th>19</th>\n",
       "      <td>Drake</td>\n",
       "      <td>Find Your Love</td>\n",
       "      <td>Thank Me Later</td>\n",
       "      <td>70</td>\n",
       "      <td>[hip hop, pop rap, gospelchip hop, pop rap, go...</td>\n",
       "      <td>94</td>\n",
       "      <td>79671951</td>\n",
       "    </tr>\n",
       "    <tr>\n",
       "      <th>67</th>\n",
       "      <td>Drake</td>\n",
       "      <td>The Resistance</td>\n",
       "      <td>Thank Me Later</td>\n",
       "      <td>63</td>\n",
       "      <td>[hip hop, pop rap, gospelchip hop, pop rap, go...</td>\n",
       "      <td>94</td>\n",
       "      <td>79671951</td>\n",
       "    </tr>\n",
       "    <tr>\n",
       "      <th>171</th>\n",
       "      <td>Drake</td>\n",
       "      <td>Over</td>\n",
       "      <td>Thank Me Later</td>\n",
       "      <td>73</td>\n",
       "      <td>[hip hop, pop rap, gospelchip hop, pop rap, go...</td>\n",
       "      <td>94</td>\n",
       "      <td>79671951</td>\n",
       "    </tr>\n",
       "    <tr>\n",
       "      <th>36</th>\n",
       "      <td>Kanye West</td>\n",
       "      <td>POWER</td>\n",
       "      <td>My Beautiful Dark Twisted Fantasy</td>\n",
       "      <td>80</td>\n",
       "      <td>[hip hop, pop rap, gospelchip hop, pop rap, go...</td>\n",
       "      <td>89</td>\n",
       "      <td>21267742</td>\n",
       "    </tr>\n",
       "    <tr>\n",
       "      <th>...</th>\n",
       "      <td>...</td>\n",
       "      <td>...</td>\n",
       "      <td>...</td>\n",
       "      <td>...</td>\n",
       "      <td>...</td>\n",
       "      <td>...</td>\n",
       "      <td>...</td>\n",
       "    </tr>\n",
       "    <tr>\n",
       "      <th>180</th>\n",
       "      <td>Orianthi</td>\n",
       "      <td>According To You</td>\n",
       "      <td>Believe (II)</td>\n",
       "      <td>50</td>\n",
       "      <td>[hip hop, pop rap, gospelchip hop, pop rap, go...</td>\n",
       "      <td>40</td>\n",
       "      <td>82596</td>\n",
       "    </tr>\n",
       "    <tr>\n",
       "      <th>115</th>\n",
       "      <td>Garrett Hedlund</td>\n",
       "      <td>Give In to Me</td>\n",
       "      <td>Country Strong (More Music from the Motion Pic...</td>\n",
       "      <td>55</td>\n",
       "      <td>[]</td>\n",
       "      <td>38</td>\n",
       "      <td>20459</td>\n",
       "    </tr>\n",
       "    <tr>\n",
       "      <th>8</th>\n",
       "      <td>Dondria</td>\n",
       "      <td>You're the One</td>\n",
       "      <td>Dondria vs. Phatfffat</td>\n",
       "      <td>51</td>\n",
       "      <td>[hip hop, pop rap, gospelhip hop, pop rap, gos...</td>\n",
       "      <td>33</td>\n",
       "      <td>220069</td>\n",
       "    </tr>\n",
       "    <tr>\n",
       "      <th>202</th>\n",
       "      <td>Taylor Swift</td>\n",
       "      <td>Never Grow Up</td>\n",
       "      <td>Speak Now (Deluxe Edition)</td>\n",
       "      <td>55</td>\n",
       "      <td>[hip hop, pop rap, gospelhip hop, pop rap, gos...</td>\n",
       "      <td>100</td>\n",
       "      <td>86026925</td>\n",
       "    </tr>\n",
       "    <tr>\n",
       "      <th>218</th>\n",
       "      <td>Taylor Swift</td>\n",
       "      <td>Mine</td>\n",
       "      <td>Speak Now</td>\n",
       "      <td>65</td>\n",
       "      <td>[hip hop, pop rap, gospelhip hop, pop rap, gos...</td>\n",
       "      <td>100</td>\n",
       "      <td>86026925</td>\n",
       "    </tr>\n",
       "  </tbody>\n",
       "</table>\n",
       "<p>258 rows × 7 columns</p>\n",
       "</div>"
      ],
      "text/plain": [
       "              artist             track   \n",
       "94             Drake      Up All Night  \\\n",
       "19             Drake    Find Your Love   \n",
       "67             Drake    The Resistance   \n",
       "171            Drake              Over   \n",
       "36        Kanye West             POWER   \n",
       "..               ...               ...   \n",
       "180         Orianthi  According To You   \n",
       "115  Garrett Hedlund     Give In to Me   \n",
       "8            Dondria    You're the One   \n",
       "202     Taylor Swift     Never Grow Up   \n",
       "218     Taylor Swift              Mine   \n",
       "\n",
       "                                                 album  track_popularity   \n",
       "94                                      Thank Me Later                68  \\\n",
       "19                                      Thank Me Later                70   \n",
       "67                                      Thank Me Later                63   \n",
       "171                                     Thank Me Later                73   \n",
       "36                   My Beautiful Dark Twisted Fantasy                80   \n",
       "..                                                 ...               ...   \n",
       "180                                       Believe (II)                50   \n",
       "115  Country Strong (More Music from the Motion Pic...                55   \n",
       "8                                Dondria vs. Phatfffat                51   \n",
       "202                         Speak Now (Deluxe Edition)                55   \n",
       "218                                          Speak Now                65   \n",
       "\n",
       "                                         artist_genres artist_popularity   \n",
       "94   [hip hop, pop rap, gospelchip hop, pop rap, go...                94  \\\n",
       "19   [hip hop, pop rap, gospelchip hop, pop rap, go...                94   \n",
       "67   [hip hop, pop rap, gospelchip hop, pop rap, go...                94   \n",
       "171  [hip hop, pop rap, gospelchip hop, pop rap, go...                94   \n",
       "36   [hip hop, pop rap, gospelchip hop, pop rap, go...                89   \n",
       "..                                                 ...               ...   \n",
       "180  [hip hop, pop rap, gospelchip hop, pop rap, go...                40   \n",
       "115                                                 []                38   \n",
       "8    [hip hop, pop rap, gospelhip hop, pop rap, gos...                33   \n",
       "202  [hip hop, pop rap, gospelhip hop, pop rap, gos...               100   \n",
       "218  [hip hop, pop rap, gospelhip hop, pop rap, gos...               100   \n",
       "\n",
       "    artist_followers  \n",
       "94          79671951  \n",
       "19          79671951  \n",
       "67          79671951  \n",
       "171         79671951  \n",
       "36          21267742  \n",
       "..               ...  \n",
       "180            82596  \n",
       "115            20459  \n",
       "8             220069  \n",
       "202         86026925  \n",
       "218         86026925  \n",
       "\n",
       "[258 rows x 7 columns]"
      ]
     },
     "execution_count": 663,
     "metadata": {},
     "output_type": "execute_result"
    }
   ],
   "source": [
    "#top 20 most popular artists of 2010 on Spotify:\n",
    "top_artists = df.sort_values(\"artist_popularity\", ascending=False)\n",
    "top_artists"
   ]
  },
  {
   "cell_type": "code",
   "execution_count": 666,
   "id": "0bbc053e",
   "metadata": {},
   "outputs": [
    {
     "data": {
      "application/vnd.plotly.v1+json": {
       "config": {
        "plotlyServerURL": "https://plot.ly"
       },
       "data": [
        {
         "alignmentgroup": "True",
         "hovertemplate": "artist=%{x}<br>artist_popularity=%{y}<extra></extra>",
         "legendgroup": "",
         "marker": {
          "color": "#636efa",
          "pattern": {
           "shape": ""
          }
         },
         "name": "",
         "offsetgroup": "",
         "orientation": "v",
         "showlegend": false,
         "textposition": "auto",
         "type": "bar",
         "x": [
          "Drake",
          "Drake",
          "Drake",
          "Drake",
          "Kanye West",
          "Kanye West",
          "Kanye West",
          "Kanye West",
          "Kanye West",
          "Rihanna",
          "Eminem",
          "Eminem",
          "Rihanna",
          "Rihanna",
          "Rihanna",
          "Rihanna",
          "Rihanna",
          "Bruno Mars",
          "Justin Bieber",
          "Justin Bieber"
         ],
         "xaxis": "x",
         "y": [
          "94",
          "94",
          "94",
          "94",
          "89",
          "89",
          "89",
          "89",
          "89",
          "88",
          "88",
          "88",
          "88",
          "88",
          "88",
          "88",
          "88",
          "87",
          "87",
          "87"
         ],
         "yaxis": "y"
        }
       ],
       "layout": {
        "barmode": "relative",
        "legend": {
         "tracegroupgap": 0
        },
        "margin": {
         "t": 60
        },
        "template": {
         "data": {
          "bar": [
           {
            "error_x": {
             "color": "#2a3f5f"
            },
            "error_y": {
             "color": "#2a3f5f"
            },
            "marker": {
             "line": {
              "color": "#E5ECF6",
              "width": 0.5
             },
             "pattern": {
              "fillmode": "overlay",
              "size": 10,
              "solidity": 0.2
             }
            },
            "type": "bar"
           }
          ],
          "barpolar": [
           {
            "marker": {
             "line": {
              "color": "#E5ECF6",
              "width": 0.5
             },
             "pattern": {
              "fillmode": "overlay",
              "size": 10,
              "solidity": 0.2
             }
            },
            "type": "barpolar"
           }
          ],
          "carpet": [
           {
            "aaxis": {
             "endlinecolor": "#2a3f5f",
             "gridcolor": "white",
             "linecolor": "white",
             "minorgridcolor": "white",
             "startlinecolor": "#2a3f5f"
            },
            "baxis": {
             "endlinecolor": "#2a3f5f",
             "gridcolor": "white",
             "linecolor": "white",
             "minorgridcolor": "white",
             "startlinecolor": "#2a3f5f"
            },
            "type": "carpet"
           }
          ],
          "choropleth": [
           {
            "colorbar": {
             "outlinewidth": 0,
             "ticks": ""
            },
            "type": "choropleth"
           }
          ],
          "contour": [
           {
            "colorbar": {
             "outlinewidth": 0,
             "ticks": ""
            },
            "colorscale": [
             [
              0,
              "#0d0887"
             ],
             [
              0.1111111111111111,
              "#46039f"
             ],
             [
              0.2222222222222222,
              "#7201a8"
             ],
             [
              0.3333333333333333,
              "#9c179e"
             ],
             [
              0.4444444444444444,
              "#bd3786"
             ],
             [
              0.5555555555555556,
              "#d8576b"
             ],
             [
              0.6666666666666666,
              "#ed7953"
             ],
             [
              0.7777777777777778,
              "#fb9f3a"
             ],
             [
              0.8888888888888888,
              "#fdca26"
             ],
             [
              1,
              "#f0f921"
             ]
            ],
            "type": "contour"
           }
          ],
          "contourcarpet": [
           {
            "colorbar": {
             "outlinewidth": 0,
             "ticks": ""
            },
            "type": "contourcarpet"
           }
          ],
          "heatmap": [
           {
            "colorbar": {
             "outlinewidth": 0,
             "ticks": ""
            },
            "colorscale": [
             [
              0,
              "#0d0887"
             ],
             [
              0.1111111111111111,
              "#46039f"
             ],
             [
              0.2222222222222222,
              "#7201a8"
             ],
             [
              0.3333333333333333,
              "#9c179e"
             ],
             [
              0.4444444444444444,
              "#bd3786"
             ],
             [
              0.5555555555555556,
              "#d8576b"
             ],
             [
              0.6666666666666666,
              "#ed7953"
             ],
             [
              0.7777777777777778,
              "#fb9f3a"
             ],
             [
              0.8888888888888888,
              "#fdca26"
             ],
             [
              1,
              "#f0f921"
             ]
            ],
            "type": "heatmap"
           }
          ],
          "heatmapgl": [
           {
            "colorbar": {
             "outlinewidth": 0,
             "ticks": ""
            },
            "colorscale": [
             [
              0,
              "#0d0887"
             ],
             [
              0.1111111111111111,
              "#46039f"
             ],
             [
              0.2222222222222222,
              "#7201a8"
             ],
             [
              0.3333333333333333,
              "#9c179e"
             ],
             [
              0.4444444444444444,
              "#bd3786"
             ],
             [
              0.5555555555555556,
              "#d8576b"
             ],
             [
              0.6666666666666666,
              "#ed7953"
             ],
             [
              0.7777777777777778,
              "#fb9f3a"
             ],
             [
              0.8888888888888888,
              "#fdca26"
             ],
             [
              1,
              "#f0f921"
             ]
            ],
            "type": "heatmapgl"
           }
          ],
          "histogram": [
           {
            "marker": {
             "pattern": {
              "fillmode": "overlay",
              "size": 10,
              "solidity": 0.2
             }
            },
            "type": "histogram"
           }
          ],
          "histogram2d": [
           {
            "colorbar": {
             "outlinewidth": 0,
             "ticks": ""
            },
            "colorscale": [
             [
              0,
              "#0d0887"
             ],
             [
              0.1111111111111111,
              "#46039f"
             ],
             [
              0.2222222222222222,
              "#7201a8"
             ],
             [
              0.3333333333333333,
              "#9c179e"
             ],
             [
              0.4444444444444444,
              "#bd3786"
             ],
             [
              0.5555555555555556,
              "#d8576b"
             ],
             [
              0.6666666666666666,
              "#ed7953"
             ],
             [
              0.7777777777777778,
              "#fb9f3a"
             ],
             [
              0.8888888888888888,
              "#fdca26"
             ],
             [
              1,
              "#f0f921"
             ]
            ],
            "type": "histogram2d"
           }
          ],
          "histogram2dcontour": [
           {
            "colorbar": {
             "outlinewidth": 0,
             "ticks": ""
            },
            "colorscale": [
             [
              0,
              "#0d0887"
             ],
             [
              0.1111111111111111,
              "#46039f"
             ],
             [
              0.2222222222222222,
              "#7201a8"
             ],
             [
              0.3333333333333333,
              "#9c179e"
             ],
             [
              0.4444444444444444,
              "#bd3786"
             ],
             [
              0.5555555555555556,
              "#d8576b"
             ],
             [
              0.6666666666666666,
              "#ed7953"
             ],
             [
              0.7777777777777778,
              "#fb9f3a"
             ],
             [
              0.8888888888888888,
              "#fdca26"
             ],
             [
              1,
              "#f0f921"
             ]
            ],
            "type": "histogram2dcontour"
           }
          ],
          "mesh3d": [
           {
            "colorbar": {
             "outlinewidth": 0,
             "ticks": ""
            },
            "type": "mesh3d"
           }
          ],
          "parcoords": [
           {
            "line": {
             "colorbar": {
              "outlinewidth": 0,
              "ticks": ""
             }
            },
            "type": "parcoords"
           }
          ],
          "pie": [
           {
            "automargin": true,
            "type": "pie"
           }
          ],
          "scatter": [
           {
            "fillpattern": {
             "fillmode": "overlay",
             "size": 10,
             "solidity": 0.2
            },
            "type": "scatter"
           }
          ],
          "scatter3d": [
           {
            "line": {
             "colorbar": {
              "outlinewidth": 0,
              "ticks": ""
             }
            },
            "marker": {
             "colorbar": {
              "outlinewidth": 0,
              "ticks": ""
             }
            },
            "type": "scatter3d"
           }
          ],
          "scattercarpet": [
           {
            "marker": {
             "colorbar": {
              "outlinewidth": 0,
              "ticks": ""
             }
            },
            "type": "scattercarpet"
           }
          ],
          "scattergeo": [
           {
            "marker": {
             "colorbar": {
              "outlinewidth": 0,
              "ticks": ""
             }
            },
            "type": "scattergeo"
           }
          ],
          "scattergl": [
           {
            "marker": {
             "colorbar": {
              "outlinewidth": 0,
              "ticks": ""
             }
            },
            "type": "scattergl"
           }
          ],
          "scattermapbox": [
           {
            "marker": {
             "colorbar": {
              "outlinewidth": 0,
              "ticks": ""
             }
            },
            "type": "scattermapbox"
           }
          ],
          "scatterpolar": [
           {
            "marker": {
             "colorbar": {
              "outlinewidth": 0,
              "ticks": ""
             }
            },
            "type": "scatterpolar"
           }
          ],
          "scatterpolargl": [
           {
            "marker": {
             "colorbar": {
              "outlinewidth": 0,
              "ticks": ""
             }
            },
            "type": "scatterpolargl"
           }
          ],
          "scatterternary": [
           {
            "marker": {
             "colorbar": {
              "outlinewidth": 0,
              "ticks": ""
             }
            },
            "type": "scatterternary"
           }
          ],
          "surface": [
           {
            "colorbar": {
             "outlinewidth": 0,
             "ticks": ""
            },
            "colorscale": [
             [
              0,
              "#0d0887"
             ],
             [
              0.1111111111111111,
              "#46039f"
             ],
             [
              0.2222222222222222,
              "#7201a8"
             ],
             [
              0.3333333333333333,
              "#9c179e"
             ],
             [
              0.4444444444444444,
              "#bd3786"
             ],
             [
              0.5555555555555556,
              "#d8576b"
             ],
             [
              0.6666666666666666,
              "#ed7953"
             ],
             [
              0.7777777777777778,
              "#fb9f3a"
             ],
             [
              0.8888888888888888,
              "#fdca26"
             ],
             [
              1,
              "#f0f921"
             ]
            ],
            "type": "surface"
           }
          ],
          "table": [
           {
            "cells": {
             "fill": {
              "color": "#EBF0F8"
             },
             "line": {
              "color": "white"
             }
            },
            "header": {
             "fill": {
              "color": "#C8D4E3"
             },
             "line": {
              "color": "white"
             }
            },
            "type": "table"
           }
          ]
         },
         "layout": {
          "annotationdefaults": {
           "arrowcolor": "#2a3f5f",
           "arrowhead": 0,
           "arrowwidth": 1
          },
          "autotypenumbers": "strict",
          "coloraxis": {
           "colorbar": {
            "outlinewidth": 0,
            "ticks": ""
           }
          },
          "colorscale": {
           "diverging": [
            [
             0,
             "#8e0152"
            ],
            [
             0.1,
             "#c51b7d"
            ],
            [
             0.2,
             "#de77ae"
            ],
            [
             0.3,
             "#f1b6da"
            ],
            [
             0.4,
             "#fde0ef"
            ],
            [
             0.5,
             "#f7f7f7"
            ],
            [
             0.6,
             "#e6f5d0"
            ],
            [
             0.7,
             "#b8e186"
            ],
            [
             0.8,
             "#7fbc41"
            ],
            [
             0.9,
             "#4d9221"
            ],
            [
             1,
             "#276419"
            ]
           ],
           "sequential": [
            [
             0,
             "#0d0887"
            ],
            [
             0.1111111111111111,
             "#46039f"
            ],
            [
             0.2222222222222222,
             "#7201a8"
            ],
            [
             0.3333333333333333,
             "#9c179e"
            ],
            [
             0.4444444444444444,
             "#bd3786"
            ],
            [
             0.5555555555555556,
             "#d8576b"
            ],
            [
             0.6666666666666666,
             "#ed7953"
            ],
            [
             0.7777777777777778,
             "#fb9f3a"
            ],
            [
             0.8888888888888888,
             "#fdca26"
            ],
            [
             1,
             "#f0f921"
            ]
           ],
           "sequentialminus": [
            [
             0,
             "#0d0887"
            ],
            [
             0.1111111111111111,
             "#46039f"
            ],
            [
             0.2222222222222222,
             "#7201a8"
            ],
            [
             0.3333333333333333,
             "#9c179e"
            ],
            [
             0.4444444444444444,
             "#bd3786"
            ],
            [
             0.5555555555555556,
             "#d8576b"
            ],
            [
             0.6666666666666666,
             "#ed7953"
            ],
            [
             0.7777777777777778,
             "#fb9f3a"
            ],
            [
             0.8888888888888888,
             "#fdca26"
            ],
            [
             1,
             "#f0f921"
            ]
           ]
          },
          "colorway": [
           "#636efa",
           "#EF553B",
           "#00cc96",
           "#ab63fa",
           "#FFA15A",
           "#19d3f3",
           "#FF6692",
           "#B6E880",
           "#FF97FF",
           "#FECB52"
          ],
          "font": {
           "color": "#2a3f5f"
          },
          "geo": {
           "bgcolor": "white",
           "lakecolor": "white",
           "landcolor": "#E5ECF6",
           "showlakes": true,
           "showland": true,
           "subunitcolor": "white"
          },
          "hoverlabel": {
           "align": "left"
          },
          "hovermode": "closest",
          "mapbox": {
           "style": "light"
          },
          "paper_bgcolor": "white",
          "plot_bgcolor": "#E5ECF6",
          "polar": {
           "angularaxis": {
            "gridcolor": "white",
            "linecolor": "white",
            "ticks": ""
           },
           "bgcolor": "#E5ECF6",
           "radialaxis": {
            "gridcolor": "white",
            "linecolor": "white",
            "ticks": ""
           }
          },
          "scene": {
           "xaxis": {
            "backgroundcolor": "#E5ECF6",
            "gridcolor": "white",
            "gridwidth": 2,
            "linecolor": "white",
            "showbackground": true,
            "ticks": "",
            "zerolinecolor": "white"
           },
           "yaxis": {
            "backgroundcolor": "#E5ECF6",
            "gridcolor": "white",
            "gridwidth": 2,
            "linecolor": "white",
            "showbackground": true,
            "ticks": "",
            "zerolinecolor": "white"
           },
           "zaxis": {
            "backgroundcolor": "#E5ECF6",
            "gridcolor": "white",
            "gridwidth": 2,
            "linecolor": "white",
            "showbackground": true,
            "ticks": "",
            "zerolinecolor": "white"
           }
          },
          "shapedefaults": {
           "line": {
            "color": "#2a3f5f"
           }
          },
          "ternary": {
           "aaxis": {
            "gridcolor": "white",
            "linecolor": "white",
            "ticks": ""
           },
           "baxis": {
            "gridcolor": "white",
            "linecolor": "white",
            "ticks": ""
           },
           "bgcolor": "#E5ECF6",
           "caxis": {
            "gridcolor": "white",
            "linecolor": "white",
            "ticks": ""
           }
          },
          "title": {
           "x": 0.05
          },
          "xaxis": {
           "automargin": true,
           "gridcolor": "white",
           "linecolor": "white",
           "ticks": "",
           "title": {
            "standoff": 15
           },
           "zerolinecolor": "white",
           "zerolinewidth": 2
          },
          "yaxis": {
           "automargin": true,
           "gridcolor": "white",
           "linecolor": "white",
           "ticks": "",
           "title": {
            "standoff": 15
           },
           "zerolinecolor": "white",
           "zerolinewidth": 2
          }
         }
        },
        "title": {
         "text": "Top Artists on Spotify 2010"
        },
        "xaxis": {
         "anchor": "y",
         "domain": [
          0,
          1
         ],
         "title": {
          "text": "artist"
         }
        },
        "yaxis": {
         "anchor": "x",
         "domain": [
          0,
          1
         ],
         "title": {
          "text": "artist_popularity"
         }
        }
       }
      },
      "text/html": [
       "<div>                            <div id=\"d82eeb9f-1ef8-4cb0-a8e2-961370bb6ac7\" class=\"plotly-graph-div\" style=\"height:525px; width:100%;\"></div>            <script type=\"text/javascript\">                require([\"plotly\"], function(Plotly) {                    window.PLOTLYENV=window.PLOTLYENV || {};                                    if (document.getElementById(\"d82eeb9f-1ef8-4cb0-a8e2-961370bb6ac7\")) {                    Plotly.newPlot(                        \"d82eeb9f-1ef8-4cb0-a8e2-961370bb6ac7\",                        [{\"alignmentgroup\":\"True\",\"hovertemplate\":\"artist=%{x}<br>artist_popularity=%{y}<extra></extra>\",\"legendgroup\":\"\",\"marker\":{\"color\":\"#636efa\",\"pattern\":{\"shape\":\"\"}},\"name\":\"\",\"offsetgroup\":\"\",\"orientation\":\"v\",\"showlegend\":false,\"textposition\":\"auto\",\"x\":[\"Drake\",\"Drake\",\"Drake\",\"Drake\",\"Kanye West\",\"Kanye West\",\"Kanye West\",\"Kanye West\",\"Kanye West\",\"Rihanna\",\"Eminem\",\"Eminem\",\"Rihanna\",\"Rihanna\",\"Rihanna\",\"Rihanna\",\"Rihanna\",\"Bruno Mars\",\"Justin Bieber\",\"Justin Bieber\"],\"xaxis\":\"x\",\"y\":[\"94\",\"94\",\"94\",\"94\",\"89\",\"89\",\"89\",\"89\",\"89\",\"88\",\"88\",\"88\",\"88\",\"88\",\"88\",\"88\",\"88\",\"87\",\"87\",\"87\"],\"yaxis\":\"y\",\"type\":\"bar\"}],                        {\"template\":{\"data\":{\"histogram2dcontour\":[{\"type\":\"histogram2dcontour\",\"colorbar\":{\"outlinewidth\":0,\"ticks\":\"\"},\"colorscale\":[[0.0,\"#0d0887\"],[0.1111111111111111,\"#46039f\"],[0.2222222222222222,\"#7201a8\"],[0.3333333333333333,\"#9c179e\"],[0.4444444444444444,\"#bd3786\"],[0.5555555555555556,\"#d8576b\"],[0.6666666666666666,\"#ed7953\"],[0.7777777777777778,\"#fb9f3a\"],[0.8888888888888888,\"#fdca26\"],[1.0,\"#f0f921\"]]}],\"choropleth\":[{\"type\":\"choropleth\",\"colorbar\":{\"outlinewidth\":0,\"ticks\":\"\"}}],\"histogram2d\":[{\"type\":\"histogram2d\",\"colorbar\":{\"outlinewidth\":0,\"ticks\":\"\"},\"colorscale\":[[0.0,\"#0d0887\"],[0.1111111111111111,\"#46039f\"],[0.2222222222222222,\"#7201a8\"],[0.3333333333333333,\"#9c179e\"],[0.4444444444444444,\"#bd3786\"],[0.5555555555555556,\"#d8576b\"],[0.6666666666666666,\"#ed7953\"],[0.7777777777777778,\"#fb9f3a\"],[0.8888888888888888,\"#fdca26\"],[1.0,\"#f0f921\"]]}],\"heatmap\":[{\"type\":\"heatmap\",\"colorbar\":{\"outlinewidth\":0,\"ticks\":\"\"},\"colorscale\":[[0.0,\"#0d0887\"],[0.1111111111111111,\"#46039f\"],[0.2222222222222222,\"#7201a8\"],[0.3333333333333333,\"#9c179e\"],[0.4444444444444444,\"#bd3786\"],[0.5555555555555556,\"#d8576b\"],[0.6666666666666666,\"#ed7953\"],[0.7777777777777778,\"#fb9f3a\"],[0.8888888888888888,\"#fdca26\"],[1.0,\"#f0f921\"]]}],\"heatmapgl\":[{\"type\":\"heatmapgl\",\"colorbar\":{\"outlinewidth\":0,\"ticks\":\"\"},\"colorscale\":[[0.0,\"#0d0887\"],[0.1111111111111111,\"#46039f\"],[0.2222222222222222,\"#7201a8\"],[0.3333333333333333,\"#9c179e\"],[0.4444444444444444,\"#bd3786\"],[0.5555555555555556,\"#d8576b\"],[0.6666666666666666,\"#ed7953\"],[0.7777777777777778,\"#fb9f3a\"],[0.8888888888888888,\"#fdca26\"],[1.0,\"#f0f921\"]]}],\"contourcarpet\":[{\"type\":\"contourcarpet\",\"colorbar\":{\"outlinewidth\":0,\"ticks\":\"\"}}],\"contour\":[{\"type\":\"contour\",\"colorbar\":{\"outlinewidth\":0,\"ticks\":\"\"},\"colorscale\":[[0.0,\"#0d0887\"],[0.1111111111111111,\"#46039f\"],[0.2222222222222222,\"#7201a8\"],[0.3333333333333333,\"#9c179e\"],[0.4444444444444444,\"#bd3786\"],[0.5555555555555556,\"#d8576b\"],[0.6666666666666666,\"#ed7953\"],[0.7777777777777778,\"#fb9f3a\"],[0.8888888888888888,\"#fdca26\"],[1.0,\"#f0f921\"]]}],\"surface\":[{\"type\":\"surface\",\"colorbar\":{\"outlinewidth\":0,\"ticks\":\"\"},\"colorscale\":[[0.0,\"#0d0887\"],[0.1111111111111111,\"#46039f\"],[0.2222222222222222,\"#7201a8\"],[0.3333333333333333,\"#9c179e\"],[0.4444444444444444,\"#bd3786\"],[0.5555555555555556,\"#d8576b\"],[0.6666666666666666,\"#ed7953\"],[0.7777777777777778,\"#fb9f3a\"],[0.8888888888888888,\"#fdca26\"],[1.0,\"#f0f921\"]]}],\"mesh3d\":[{\"type\":\"mesh3d\",\"colorbar\":{\"outlinewidth\":0,\"ticks\":\"\"}}],\"scatter\":[{\"fillpattern\":{\"fillmode\":\"overlay\",\"size\":10,\"solidity\":0.2},\"type\":\"scatter\"}],\"parcoords\":[{\"type\":\"parcoords\",\"line\":{\"colorbar\":{\"outlinewidth\":0,\"ticks\":\"\"}}}],\"scatterpolargl\":[{\"type\":\"scatterpolargl\",\"marker\":{\"colorbar\":{\"outlinewidth\":0,\"ticks\":\"\"}}}],\"bar\":[{\"error_x\":{\"color\":\"#2a3f5f\"},\"error_y\":{\"color\":\"#2a3f5f\"},\"marker\":{\"line\":{\"color\":\"#E5ECF6\",\"width\":0.5},\"pattern\":{\"fillmode\":\"overlay\",\"size\":10,\"solidity\":0.2}},\"type\":\"bar\"}],\"scattergeo\":[{\"type\":\"scattergeo\",\"marker\":{\"colorbar\":{\"outlinewidth\":0,\"ticks\":\"\"}}}],\"scatterpolar\":[{\"type\":\"scatterpolar\",\"marker\":{\"colorbar\":{\"outlinewidth\":0,\"ticks\":\"\"}}}],\"histogram\":[{\"marker\":{\"pattern\":{\"fillmode\":\"overlay\",\"size\":10,\"solidity\":0.2}},\"type\":\"histogram\"}],\"scattergl\":[{\"type\":\"scattergl\",\"marker\":{\"colorbar\":{\"outlinewidth\":0,\"ticks\":\"\"}}}],\"scatter3d\":[{\"type\":\"scatter3d\",\"line\":{\"colorbar\":{\"outlinewidth\":0,\"ticks\":\"\"}},\"marker\":{\"colorbar\":{\"outlinewidth\":0,\"ticks\":\"\"}}}],\"scattermapbox\":[{\"type\":\"scattermapbox\",\"marker\":{\"colorbar\":{\"outlinewidth\":0,\"ticks\":\"\"}}}],\"scatterternary\":[{\"type\":\"scatterternary\",\"marker\":{\"colorbar\":{\"outlinewidth\":0,\"ticks\":\"\"}}}],\"scattercarpet\":[{\"type\":\"scattercarpet\",\"marker\":{\"colorbar\":{\"outlinewidth\":0,\"ticks\":\"\"}}}],\"carpet\":[{\"aaxis\":{\"endlinecolor\":\"#2a3f5f\",\"gridcolor\":\"white\",\"linecolor\":\"white\",\"minorgridcolor\":\"white\",\"startlinecolor\":\"#2a3f5f\"},\"baxis\":{\"endlinecolor\":\"#2a3f5f\",\"gridcolor\":\"white\",\"linecolor\":\"white\",\"minorgridcolor\":\"white\",\"startlinecolor\":\"#2a3f5f\"},\"type\":\"carpet\"}],\"table\":[{\"cells\":{\"fill\":{\"color\":\"#EBF0F8\"},\"line\":{\"color\":\"white\"}},\"header\":{\"fill\":{\"color\":\"#C8D4E3\"},\"line\":{\"color\":\"white\"}},\"type\":\"table\"}],\"barpolar\":[{\"marker\":{\"line\":{\"color\":\"#E5ECF6\",\"width\":0.5},\"pattern\":{\"fillmode\":\"overlay\",\"size\":10,\"solidity\":0.2}},\"type\":\"barpolar\"}],\"pie\":[{\"automargin\":true,\"type\":\"pie\"}]},\"layout\":{\"autotypenumbers\":\"strict\",\"colorway\":[\"#636efa\",\"#EF553B\",\"#00cc96\",\"#ab63fa\",\"#FFA15A\",\"#19d3f3\",\"#FF6692\",\"#B6E880\",\"#FF97FF\",\"#FECB52\"],\"font\":{\"color\":\"#2a3f5f\"},\"hovermode\":\"closest\",\"hoverlabel\":{\"align\":\"left\"},\"paper_bgcolor\":\"white\",\"plot_bgcolor\":\"#E5ECF6\",\"polar\":{\"bgcolor\":\"#E5ECF6\",\"angularaxis\":{\"gridcolor\":\"white\",\"linecolor\":\"white\",\"ticks\":\"\"},\"radialaxis\":{\"gridcolor\":\"white\",\"linecolor\":\"white\",\"ticks\":\"\"}},\"ternary\":{\"bgcolor\":\"#E5ECF6\",\"aaxis\":{\"gridcolor\":\"white\",\"linecolor\":\"white\",\"ticks\":\"\"},\"baxis\":{\"gridcolor\":\"white\",\"linecolor\":\"white\",\"ticks\":\"\"},\"caxis\":{\"gridcolor\":\"white\",\"linecolor\":\"white\",\"ticks\":\"\"}},\"coloraxis\":{\"colorbar\":{\"outlinewidth\":0,\"ticks\":\"\"}},\"colorscale\":{\"sequential\":[[0.0,\"#0d0887\"],[0.1111111111111111,\"#46039f\"],[0.2222222222222222,\"#7201a8\"],[0.3333333333333333,\"#9c179e\"],[0.4444444444444444,\"#bd3786\"],[0.5555555555555556,\"#d8576b\"],[0.6666666666666666,\"#ed7953\"],[0.7777777777777778,\"#fb9f3a\"],[0.8888888888888888,\"#fdca26\"],[1.0,\"#f0f921\"]],\"sequentialminus\":[[0.0,\"#0d0887\"],[0.1111111111111111,\"#46039f\"],[0.2222222222222222,\"#7201a8\"],[0.3333333333333333,\"#9c179e\"],[0.4444444444444444,\"#bd3786\"],[0.5555555555555556,\"#d8576b\"],[0.6666666666666666,\"#ed7953\"],[0.7777777777777778,\"#fb9f3a\"],[0.8888888888888888,\"#fdca26\"],[1.0,\"#f0f921\"]],\"diverging\":[[0,\"#8e0152\"],[0.1,\"#c51b7d\"],[0.2,\"#de77ae\"],[0.3,\"#f1b6da\"],[0.4,\"#fde0ef\"],[0.5,\"#f7f7f7\"],[0.6,\"#e6f5d0\"],[0.7,\"#b8e186\"],[0.8,\"#7fbc41\"],[0.9,\"#4d9221\"],[1,\"#276419\"]]},\"xaxis\":{\"gridcolor\":\"white\",\"linecolor\":\"white\",\"ticks\":\"\",\"title\":{\"standoff\":15},\"zerolinecolor\":\"white\",\"automargin\":true,\"zerolinewidth\":2},\"yaxis\":{\"gridcolor\":\"white\",\"linecolor\":\"white\",\"ticks\":\"\",\"title\":{\"standoff\":15},\"zerolinecolor\":\"white\",\"automargin\":true,\"zerolinewidth\":2},\"scene\":{\"xaxis\":{\"backgroundcolor\":\"#E5ECF6\",\"gridcolor\":\"white\",\"linecolor\":\"white\",\"showbackground\":true,\"ticks\":\"\",\"zerolinecolor\":\"white\",\"gridwidth\":2},\"yaxis\":{\"backgroundcolor\":\"#E5ECF6\",\"gridcolor\":\"white\",\"linecolor\":\"white\",\"showbackground\":true,\"ticks\":\"\",\"zerolinecolor\":\"white\",\"gridwidth\":2},\"zaxis\":{\"backgroundcolor\":\"#E5ECF6\",\"gridcolor\":\"white\",\"linecolor\":\"white\",\"showbackground\":true,\"ticks\":\"\",\"zerolinecolor\":\"white\",\"gridwidth\":2}},\"shapedefaults\":{\"line\":{\"color\":\"#2a3f5f\"}},\"annotationdefaults\":{\"arrowcolor\":\"#2a3f5f\",\"arrowhead\":0,\"arrowwidth\":1},\"geo\":{\"bgcolor\":\"white\",\"landcolor\":\"#E5ECF6\",\"subunitcolor\":\"white\",\"showland\":true,\"showlakes\":true,\"lakecolor\":\"white\"},\"title\":{\"x\":0.05},\"mapbox\":{\"style\":\"light\"}}},\"xaxis\":{\"anchor\":\"y\",\"domain\":[0.0,1.0],\"title\":{\"text\":\"artist\"}},\"yaxis\":{\"anchor\":\"x\",\"domain\":[0.0,1.0],\"title\":{\"text\":\"artist_popularity\"}},\"legend\":{\"tracegroupgap\":0},\"margin\":{\"t\":60},\"barmode\":\"relative\",\"title\":{\"text\":\"Top Artists on Spotify 2010\"}},                        {\"responsive\": true}                    ).then(function(){\n",
       "                            \n",
       "var gd = document.getElementById('d82eeb9f-1ef8-4cb0-a8e2-961370bb6ac7');\n",
       "var x = new MutationObserver(function (mutations, observer) {{\n",
       "        var display = window.getComputedStyle(gd).display;\n",
       "        if (!display || display === 'none') {{\n",
       "            console.log([gd, 'removed!']);\n",
       "            Plotly.purge(gd);\n",
       "            observer.disconnect();\n",
       "        }}\n",
       "}});\n",
       "\n",
       "// Listen for the removal of the full notebook cells\n",
       "var notebookContainer = gd.closest('#notebook-container');\n",
       "if (notebookContainer) {{\n",
       "    x.observe(notebookContainer, {childList: true});\n",
       "}}\n",
       "\n",
       "// Listen for the clearing of the current output cell\n",
       "var outputEl = gd.closest('.output');\n",
       "if (outputEl) {{\n",
       "    x.observe(outputEl, {childList: true});\n",
       "}}\n",
       "\n",
       "                        })                };                });            </script>        </div>"
      ]
     },
     "metadata": {},
     "output_type": "display_data"
    }
   ],
   "source": [
    "fig = px.bar(top_artists.iloc[:20,:].sort_values(by=[\"artist_popularity\"], ascending=False), \n",
    "             x=\"artist\", y=\"artist_popularity\")\n",
    "fig.update_layout(\n",
    "    title={\"text\": \"Top Artists on Spotify 2010\" })\n",
    "fig.show()"
   ]
  },
  {
   "cell_type": "code",
   "execution_count": 665,
   "id": "2e51f098",
   "metadata": {},
   "outputs": [],
   "source": [
    "#remove specific  characters from df column \"artist_genres\": ---> to improve the plot for genres\n",
    "#df[\"artist_genres\"] = df[\"artist_genres\"].str.replace(, regex=True)"
   ]
  },
  {
   "cell_type": "code",
   "execution_count": 629,
   "id": "d0094f14",
   "metadata": {},
   "outputs": [
    {
     "ename": "TypeError",
     "evalue": "Series.sort_values() takes 1 positional argument but 2 positional arguments (and 1 keyword-only argument) were given",
     "output_type": "error",
     "traceback": [
      "\u001b[1;31m---------------------------------------------------------------------------\u001b[0m",
      "\u001b[1;31mTypeError\u001b[0m                                 Traceback (most recent call last)",
      "Cell \u001b[1;32mIn[629], line 2\u001b[0m\n\u001b[0;32m      1\u001b[0m \u001b[38;5;66;03m#check popular genres based on popularity in 2010:\u001b[39;00m\n\u001b[1;32m----> 2\u001b[0m fig\u001b[38;5;241m=\u001b[39mpx\u001b[38;5;241m.\u001b[39mhistogram(\u001b[43mdf\u001b[49m\u001b[43m[\u001b[49m\u001b[38;5;124;43m\"\u001b[39;49m\u001b[38;5;124;43martist_genres\u001b[39;49m\u001b[38;5;124;43m\"\u001b[39;49m\u001b[43m]\u001b[49m\u001b[38;5;241;43m.\u001b[39;49m\u001b[43msort_values\u001b[49m\u001b[43m(\u001b[49m\u001b[38;5;124;43m\"\u001b[39;49m\u001b[38;5;124;43mtrack_popularity\u001b[39;49m\u001b[38;5;124;43m\"\u001b[39;49m\u001b[43m,\u001b[49m\u001b[43mascending\u001b[49m\u001b[38;5;241;43m=\u001b[39;49m\u001b[38;5;28;43;01mFalse\u001b[39;49;00m\u001b[43m)\u001b[49m,x\u001b[38;5;241m=\u001b[39m\u001b[38;5;124m\"\u001b[39m\u001b[38;5;124martist_genres\u001b[39m\u001b[38;5;124m\"\u001b[39m,y\u001b[38;5;241m=\u001b[39m\u001b[38;5;124m\"\u001b[39m\u001b[38;5;124mtrack_popularity\u001b[39m\u001b[38;5;124m\"\u001b[39m,color_discrete_sequence\u001b[38;5;241m=\u001b[39m[\u001b[38;5;124m\"\u001b[39m\u001b[38;5;124myellow\u001b[39m\u001b[38;5;124m\"\u001b[39m],marginal\u001b[38;5;241m=\u001b[39m\u001b[38;5;124m'\u001b[39m\u001b[38;5;124mbox\u001b[39m\u001b[38;5;124m'\u001b[39m,title\u001b[38;5;241m=\u001b[39m\u001b[38;5;124m\"\u001b[39m\u001b[38;5;124mPopular genres based on track pouplarity 2010\u001b[39m\u001b[38;5;124m\"\u001b[39m)\n\u001b[0;32m      3\u001b[0m fig\u001b[38;5;241m.\u001b[39mupdate_layout(title_x\u001b[38;5;241m=\u001b[39m\u001b[38;5;241m0.5\u001b[39m)\n",
      "\u001b[1;31mTypeError\u001b[0m: Series.sort_values() takes 1 positional argument but 2 positional arguments (and 1 keyword-only argument) were given"
     ]
    }
   ],
   "source": [
    "#check popular genres based on popularity in 2010:\n",
    "fig=px.histogram(df[\"artist_genres\"].sort_values(\"track_popularity\",ascending=False),x=\"artist_genres\",y=\"track_popularity\",color_discrete_sequence=[\"yellow\"],marginal='box',title=\"Popular genres based on track pouplarity 2010\")\n",
    "fig.update_layout(title_x=0.5)"
   ]
  },
  {
   "cell_type": "code",
   "execution_count": null,
   "id": "918e9233",
   "metadata": {},
   "outputs": [],
   "source": []
  },
  {
   "cell_type": "markdown",
   "id": "96c2d549",
   "metadata": {},
   "source": [
    "#### 7. Insights and Reporting:"
   ]
  },
  {
   "cell_type": "code",
   "execution_count": null,
   "id": "726dd09f",
   "metadata": {},
   "outputs": [],
   "source": []
  },
  {
   "cell_type": "markdown",
   "id": "47ef5aa4",
   "metadata": {},
   "source": [
    "#### 8. Performance Optimization:"
   ]
  },
  {
   "cell_type": "code",
   "execution_count": null,
   "id": "fdb1bc5d",
   "metadata": {},
   "outputs": [],
   "source": []
  }
 ],
 "metadata": {
  "kernelspec": {
   "display_name": "Python 3 (ipykernel)",
   "language": "python",
   "name": "python3"
  },
  "language_info": {
   "codemirror_mode": {
    "name": "ipython",
    "version": 3
   },
   "file_extension": ".py",
   "mimetype": "text/x-python",
   "name": "python",
   "nbconvert_exporter": "python",
   "pygments_lexer": "ipython3",
   "version": "3.11.2"
  }
 },
 "nbformat": 4,
 "nbformat_minor": 5
}
