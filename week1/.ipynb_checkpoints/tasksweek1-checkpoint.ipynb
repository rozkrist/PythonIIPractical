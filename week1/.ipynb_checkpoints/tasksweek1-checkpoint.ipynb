{
 "cells": [
  {
   "cell_type": "markdown",
   "id": "812ddab1",
   "metadata": {},
   "source": [
    "1. Map and Filter: Use map to double each element in a list of numbers.\n",
    "Use filter to select only the odd numbers from a list of integers."
   ]
  },
  {
   "cell_type": "code",
   "execution_count": 46,
   "id": "c1bc068f",
   "metadata": {},
   "outputs": [],
   "source": [
    "numbers = [1, 2, 3, 4, 5, 6, 7]"
   ]
  },
  {
   "cell_type": "code",
   "execution_count": 50,
   "id": "d0547b08",
   "metadata": {
    "scrolled": true
   },
   "outputs": [],
   "source": [
    "def double(x):\n",
    "    return 2 * x"
   ]
  },
  {
   "cell_type": "code",
   "execution_count": 51,
   "id": "c0f23961",
   "metadata": {},
   "outputs": [],
   "source": [
    "result = map(double, numbers)"
   ]
  },
  {
   "cell_type": "code",
   "execution_count": 52,
   "id": "2584f79a",
   "metadata": {},
   "outputs": [],
   "source": [
    "doubled_numbers = list(result)"
   ]
  },
  {
   "cell_type": "code",
   "execution_count": 53,
   "id": "66e2f5e2",
   "metadata": {},
   "outputs": [
    {
     "data": {
      "text/plain": [
       "[2, 4, 6, 8, 10, 12, 14]"
      ]
     },
     "execution_count": 53,
     "metadata": {},
     "output_type": "execute_result"
    }
   ],
   "source": [
    "doubled_numbers"
   ]
  },
  {
   "cell_type": "code",
   "execution_count": null,
   "id": "3b1ae63c",
   "metadata": {},
   "outputs": [],
   "source": [
    "numbers = [1, 2, 3, 4, 5, 6, 7]"
   ]
  },
  {
   "cell_type": "code",
   "execution_count": 54,
   "id": "f8d91345",
   "metadata": {},
   "outputs": [],
   "source": [
    "odd_num = [num for num in numbers if num % 2 == 1]"
   ]
  },
  {
   "cell_type": "code",
   "execution_count": 55,
   "id": "b9ea4d36",
   "metadata": {},
   "outputs": [
    {
     "data": {
      "text/plain": [
       "[1, 3, 5, 7]"
      ]
     },
     "execution_count": 55,
     "metadata": {},
     "output_type": "execute_result"
    }
   ],
   "source": [
    "odd_num"
   ]
  },
  {
   "cell_type": "markdown",
   "id": "0662bc1a",
   "metadata": {},
   "source": [
    "2. Pandas: Read a CSV file into a pandas DataFrame and display the first few rows.\n",
    "Group a DataFrame by a specific column and calculate the average of another column.\n",
    "Merge two DataFrames based on a common column."
   ]
  },
  {
   "cell_type": "code",
   "execution_count": 2,
   "id": "a6cef7e7",
   "metadata": {},
   "outputs": [],
   "source": [
    "import pandas as pd"
   ]
  },
  {
   "cell_type": "code",
   "execution_count": 5,
   "id": "9b3347d5",
   "metadata": {},
   "outputs": [],
   "source": [
    "df = pd.read_csv(r\"C:\\Users\\krent\\OneDrive\\Desktop\\PythonII\\PythonIIPractical\\output.csv\")"
   ]
  },
  {
   "cell_type": "code",
   "execution_count": 6,
   "id": "06d32a04",
   "metadata": {},
   "outputs": [
    {
     "data": {
      "text/html": [
       "<div>\n",
       "<style scoped>\n",
       "    .dataframe tbody tr th:only-of-type {\n",
       "        vertical-align: middle;\n",
       "    }\n",
       "\n",
       "    .dataframe tbody tr th {\n",
       "        vertical-align: top;\n",
       "    }\n",
       "\n",
       "    .dataframe thead th {\n",
       "        text-align: right;\n",
       "    }\n",
       "</style>\n",
       "<table border=\"1\" class=\"dataframe\">\n",
       "  <thead>\n",
       "    <tr style=\"text-align: right;\">\n",
       "      <th></th>\n",
       "      <th>rating</th>\n",
       "      <th>date</th>\n",
       "      <th>variation</th>\n",
       "      <th>verified_reviews</th>\n",
       "      <th>feedback</th>\n",
       "    </tr>\n",
       "  </thead>\n",
       "  <tbody>\n",
       "    <tr>\n",
       "      <th>0</th>\n",
       "      <td>5</td>\n",
       "      <td>31-Jul-18</td>\n",
       "      <td>Charcoal Fabric</td>\n",
       "      <td>Love my Echo!</td>\n",
       "      <td>1</td>\n",
       "    </tr>\n",
       "    <tr>\n",
       "      <th>1</th>\n",
       "      <td>5</td>\n",
       "      <td>31-Jul-18</td>\n",
       "      <td>Charcoal Fabric</td>\n",
       "      <td>Loved it!</td>\n",
       "      <td>1</td>\n",
       "    </tr>\n",
       "    <tr>\n",
       "      <th>2</th>\n",
       "      <td>4</td>\n",
       "      <td>31-Jul-18</td>\n",
       "      <td>Walnut Finish</td>\n",
       "      <td>Sometimes while playing a game, you can answer...</td>\n",
       "      <td>1</td>\n",
       "    </tr>\n",
       "    <tr>\n",
       "      <th>3</th>\n",
       "      <td>5</td>\n",
       "      <td>31-Jul-18</td>\n",
       "      <td>Charcoal Fabric</td>\n",
       "      <td>I have had a lot of fun with this thing. My 4 ...</td>\n",
       "      <td>1</td>\n",
       "    </tr>\n",
       "    <tr>\n",
       "      <th>4</th>\n",
       "      <td>5</td>\n",
       "      <td>31-Jul-18</td>\n",
       "      <td>Charcoal Fabric</td>\n",
       "      <td>Music</td>\n",
       "      <td>1</td>\n",
       "    </tr>\n",
       "  </tbody>\n",
       "</table>\n",
       "</div>"
      ],
      "text/plain": [
       "   rating       date         variation   \n",
       "0       5  31-Jul-18  Charcoal Fabric   \\\n",
       "1       5  31-Jul-18  Charcoal Fabric    \n",
       "2       4  31-Jul-18    Walnut Finish    \n",
       "3       5  31-Jul-18  Charcoal Fabric    \n",
       "4       5  31-Jul-18  Charcoal Fabric    \n",
       "\n",
       "                                    verified_reviews  feedback  \n",
       "0                                      Love my Echo!         1  \n",
       "1                                          Loved it!         1  \n",
       "2  Sometimes while playing a game, you can answer...         1  \n",
       "3  I have had a lot of fun with this thing. My 4 ...         1  \n",
       "4                                              Music         1  "
      ]
     },
     "execution_count": 6,
     "metadata": {},
     "output_type": "execute_result"
    }
   ],
   "source": [
    "df.head()"
   ]
  },
  {
   "cell_type": "code",
   "execution_count": 9,
   "id": "c8a38ca3",
   "metadata": {},
   "outputs": [
    {
     "data": {
      "text/html": [
       "<div>\n",
       "<style scoped>\n",
       "    .dataframe tbody tr th:only-of-type {\n",
       "        vertical-align: middle;\n",
       "    }\n",
       "\n",
       "    .dataframe tbody tr th {\n",
       "        vertical-align: top;\n",
       "    }\n",
       "\n",
       "    .dataframe thead th {\n",
       "        text-align: right;\n",
       "    }\n",
       "</style>\n",
       "<table border=\"1\" class=\"dataframe\">\n",
       "  <thead>\n",
       "    <tr style=\"text-align: right;\">\n",
       "      <th></th>\n",
       "      <th>rating</th>\n",
       "      <th>date</th>\n",
       "      <th>verified_reviews</th>\n",
       "      <th>feedback</th>\n",
       "    </tr>\n",
       "    <tr>\n",
       "      <th>variation</th>\n",
       "      <th></th>\n",
       "      <th></th>\n",
       "      <th></th>\n",
       "      <th></th>\n",
       "    </tr>\n",
       "  </thead>\n",
       "  <tbody>\n",
       "    <tr>\n",
       "      <th>Black</th>\n",
       "      <td>261</td>\n",
       "      <td>261</td>\n",
       "      <td>261</td>\n",
       "      <td>261</td>\n",
       "    </tr>\n",
       "    <tr>\n",
       "      <th>Black  Dot</th>\n",
       "      <td>516</td>\n",
       "      <td>516</td>\n",
       "      <td>516</td>\n",
       "      <td>516</td>\n",
       "    </tr>\n",
       "    <tr>\n",
       "      <th>Black  Plus</th>\n",
       "      <td>270</td>\n",
       "      <td>270</td>\n",
       "      <td>270</td>\n",
       "      <td>270</td>\n",
       "    </tr>\n",
       "    <tr>\n",
       "      <th>Black  Show</th>\n",
       "      <td>265</td>\n",
       "      <td>265</td>\n",
       "      <td>265</td>\n",
       "      <td>265</td>\n",
       "    </tr>\n",
       "    <tr>\n",
       "      <th>Black  Spot</th>\n",
       "      <td>241</td>\n",
       "      <td>241</td>\n",
       "      <td>241</td>\n",
       "      <td>241</td>\n",
       "    </tr>\n",
       "    <tr>\n",
       "      <th>Charcoal Fabric</th>\n",
       "      <td>430</td>\n",
       "      <td>430</td>\n",
       "      <td>430</td>\n",
       "      <td>430</td>\n",
       "    </tr>\n",
       "    <tr>\n",
       "      <th>Configuration: Fire TV Stick</th>\n",
       "      <td>350</td>\n",
       "      <td>350</td>\n",
       "      <td>350</td>\n",
       "      <td>350</td>\n",
       "    </tr>\n",
       "    <tr>\n",
       "      <th>Heather Gray Fabric</th>\n",
       "      <td>157</td>\n",
       "      <td>157</td>\n",
       "      <td>157</td>\n",
       "      <td>157</td>\n",
       "    </tr>\n",
       "    <tr>\n",
       "      <th>Oak Finish</th>\n",
       "      <td>14</td>\n",
       "      <td>14</td>\n",
       "      <td>14</td>\n",
       "      <td>14</td>\n",
       "    </tr>\n",
       "    <tr>\n",
       "      <th>Sandstone Fabric</th>\n",
       "      <td>90</td>\n",
       "      <td>90</td>\n",
       "      <td>90</td>\n",
       "      <td>90</td>\n",
       "    </tr>\n",
       "    <tr>\n",
       "      <th>Walnut Finish</th>\n",
       "      <td>9</td>\n",
       "      <td>9</td>\n",
       "      <td>9</td>\n",
       "      <td>9</td>\n",
       "    </tr>\n",
       "    <tr>\n",
       "      <th>White</th>\n",
       "      <td>91</td>\n",
       "      <td>91</td>\n",
       "      <td>90</td>\n",
       "      <td>91</td>\n",
       "    </tr>\n",
       "    <tr>\n",
       "      <th>White  Dot</th>\n",
       "      <td>184</td>\n",
       "      <td>184</td>\n",
       "      <td>184</td>\n",
       "      <td>184</td>\n",
       "    </tr>\n",
       "    <tr>\n",
       "      <th>White  Plus</th>\n",
       "      <td>78</td>\n",
       "      <td>78</td>\n",
       "      <td>78</td>\n",
       "      <td>78</td>\n",
       "    </tr>\n",
       "    <tr>\n",
       "      <th>White  Show</th>\n",
       "      <td>85</td>\n",
       "      <td>85</td>\n",
       "      <td>85</td>\n",
       "      <td>85</td>\n",
       "    </tr>\n",
       "    <tr>\n",
       "      <th>White  Spot</th>\n",
       "      <td>109</td>\n",
       "      <td>109</td>\n",
       "      <td>109</td>\n",
       "      <td>109</td>\n",
       "    </tr>\n",
       "  </tbody>\n",
       "</table>\n",
       "</div>"
      ],
      "text/plain": [
       "                              rating  date  verified_reviews  feedback\n",
       "variation                                                             \n",
       "Black                            261   261               261       261\n",
       "Black  Dot                       516   516               516       516\n",
       "Black  Plus                      270   270               270       270\n",
       "Black  Show                      265   265               265       265\n",
       "Black  Spot                      241   241               241       241\n",
       "Charcoal Fabric                  430   430               430       430\n",
       "Configuration: Fire TV Stick     350   350               350       350\n",
       "Heather Gray Fabric              157   157               157       157\n",
       "Oak Finish                        14    14                14        14\n",
       "Sandstone Fabric                  90    90                90        90\n",
       "Walnut Finish                      9     9                 9         9\n",
       "White                             91    91                90        91\n",
       "White  Dot                       184   184               184       184\n",
       "White  Plus                       78    78                78        78\n",
       "White  Show                       85    85                85        85\n",
       "White  Spot                      109   109               109       109"
      ]
     },
     "execution_count": 9,
     "metadata": {},
     "output_type": "execute_result"
    }
   ],
   "source": [
    "df.groupby([\"variation\"]).count()"
   ]
  },
  {
   "cell_type": "code",
   "execution_count": 56,
   "id": "07fffb18",
   "metadata": {},
   "outputs": [
    {
     "data": {
      "text/plain": [
       "4.463174603174603"
      ]
     },
     "execution_count": 56,
     "metadata": {},
     "output_type": "execute_result"
    }
   ],
   "source": [
    "df[\"rating\"].mean()"
   ]
  },
  {
   "cell_type": "code",
   "execution_count": null,
   "id": "dbe5a9e8",
   "metadata": {},
   "outputs": [],
   "source": [
    "df1= df[]"
   ]
  },
  {
   "cell_type": "code",
   "execution_count": null,
   "id": "ee8da635",
   "metadata": {},
   "outputs": [],
   "source": [
    "df2 = df[]"
   ]
  },
  {
   "cell_type": "code",
   "execution_count": null,
   "id": "5cd1e41f",
   "metadata": {},
   "outputs": [],
   "source": [
    "pd.merge(df1, df2, on=\"variation\")"
   ]
  },
  {
   "cell_type": "markdown",
   "id": "bca5a8c9",
   "metadata": {},
   "source": [
    "3. Namedtuple: Define a Person named tuple with fields for name, age, and city. Create instances of Person and access their attributes."
   ]
  },
  {
   "cell_type": "code",
   "execution_count": 13,
   "id": "74bb5a89",
   "metadata": {},
   "outputs": [],
   "source": [
    "from collections import namedtuple"
   ]
  },
  {
   "cell_type": "code",
   "execution_count": 14,
   "id": "f0274caa",
   "metadata": {},
   "outputs": [],
   "source": [
    "Person = namedtuple(\"Person\", [\"name\", \"age\", \"city\"])"
   ]
  },
  {
   "cell_type": "code",
   "execution_count": 15,
   "id": "aae1180f",
   "metadata": {},
   "outputs": [],
   "source": [
    "person = Person(\"Robert\", 38, \"Amsterdam\")"
   ]
  },
  {
   "cell_type": "code",
   "execution_count": 16,
   "id": "a35cd33a",
   "metadata": {},
   "outputs": [
    {
     "name": "stdout",
     "output_type": "stream",
     "text": [
      "Robert\n"
     ]
    }
   ],
   "source": [
    "print(person.name)"
   ]
  },
  {
   "cell_type": "code",
   "execution_count": 17,
   "id": "3052f11d",
   "metadata": {},
   "outputs": [
    {
     "name": "stdout",
     "output_type": "stream",
     "text": [
      "38\n"
     ]
    }
   ],
   "source": [
    "print(person.age)"
   ]
  },
  {
   "cell_type": "code",
   "execution_count": 18,
   "id": "25b23ad6",
   "metadata": {},
   "outputs": [
    {
     "name": "stdout",
     "output_type": "stream",
     "text": [
      "Amsterdam\n"
     ]
    }
   ],
   "source": [
    "print(person.city)"
   ]
  },
  {
   "cell_type": "markdown",
   "id": "fcb32827",
   "metadata": {},
   "source": [
    "4. Counter: Count the frequency of each word in a given text and display the top 5 most common words.\n",
    "Merge two counters together and calculate the total count of each element."
   ]
  },
  {
   "cell_type": "code",
   "execution_count": 62,
   "id": "fb4f9075",
   "metadata": {},
   "outputs": [],
   "source": [
    "from collections import Counter"
   ]
  },
  {
   "cell_type": "code",
   "execution_count": 63,
   "id": "ac7fc5ac",
   "metadata": {},
   "outputs": [],
   "source": [
    "c = Counter([\"green\", \"blue\", \"yellow\", \"violet\", \"violet\", \"green\", \"black\", \"yellow\", \"yellow\"])"
   ]
  },
  {
   "cell_type": "code",
   "execution_count": 64,
   "id": "4c9c9c0c",
   "metadata": {},
   "outputs": [
    {
     "name": "stdout",
     "output_type": "stream",
     "text": [
      "2\n"
     ]
    }
   ],
   "source": [
    "print(c[\"green\"]) "
   ]
  },
  {
   "cell_type": "code",
   "execution_count": 65,
   "id": "78038adb",
   "metadata": {},
   "outputs": [
    {
     "name": "stdout",
     "output_type": "stream",
     "text": [
      "1\n"
     ]
    }
   ],
   "source": [
    "print(c[\"blue\"]) "
   ]
  },
  {
   "cell_type": "code",
   "execution_count": 66,
   "id": "2fcd0266",
   "metadata": {},
   "outputs": [
    {
     "name": "stdout",
     "output_type": "stream",
     "text": [
      "3\n"
     ]
    }
   ],
   "source": [
    "print(c[\"yellow\"]) "
   ]
  },
  {
   "cell_type": "code",
   "execution_count": 67,
   "id": "c66f73db",
   "metadata": {},
   "outputs": [
    {
     "name": "stdout",
     "output_type": "stream",
     "text": [
      "2\n"
     ]
    }
   ],
   "source": [
    "print(c[\"violet\"]) "
   ]
  },
  {
   "cell_type": "code",
   "execution_count": 68,
   "id": "2b5999b1",
   "metadata": {},
   "outputs": [
    {
     "name": "stdout",
     "output_type": "stream",
     "text": [
      "1\n"
     ]
    }
   ],
   "source": [
    "print(c[\"black\"]) "
   ]
  },
  {
   "cell_type": "code",
   "execution_count": 69,
   "id": "15ecddb3",
   "metadata": {},
   "outputs": [
    {
     "name": "stdout",
     "output_type": "stream",
     "text": [
      "[('yellow', 3), ('green', 2), ('violet', 2), ('blue', 1), ('black', 1)]\n"
     ]
    }
   ],
   "source": [
    "print(c.most_common(5))"
   ]
  },
  {
   "cell_type": "code",
   "execution_count": 70,
   "id": "4a7b29c3",
   "metadata": {},
   "outputs": [],
   "source": [
    "counter1 = Counter([\"a\",\"b\",\"c\", \"D\"])"
   ]
  },
  {
   "cell_type": "code",
   "execution_count": 71,
   "id": "09a423f1",
   "metadata": {},
   "outputs": [],
   "source": [
    "counter2 = Counter([\"D\",\"E\",\"F\", \"a\"])"
   ]
  },
  {
   "cell_type": "code",
   "execution_count": 73,
   "id": "5c393f1f",
   "metadata": {},
   "outputs": [],
   "source": [
    "merged_counter = counter1 + counter2 "
   ]
  },
  {
   "cell_type": "code",
   "execution_count": 74,
   "id": "2234f828",
   "metadata": {},
   "outputs": [
    {
     "data": {
      "text/plain": [
       "Counter({'a': 2, 'b': 1, 'c': 1, 'D': 2, 'E': 1, 'F': 1})"
      ]
     },
     "execution_count": 74,
     "metadata": {},
     "output_type": "execute_result"
    }
   ],
   "source": [
    "merged_counter"
   ]
  },
  {
   "cell_type": "markdown",
   "id": "b05f04a5",
   "metadata": {},
   "source": [
    "5. Deque: Use a deque to implement a queue and perform enqueue and dequeue operations.\n",
    "Reverse the order of elements in a deque."
   ]
  },
  {
   "cell_type": "code",
   "execution_count": 28,
   "id": "c0ee2864",
   "metadata": {},
   "outputs": [],
   "source": [
    "from collections import deque"
   ]
  },
  {
   "cell_type": "code",
   "execution_count": 32,
   "id": "46914461",
   "metadata": {},
   "outputs": [],
   "source": [
    "queue = deque([1, 2, 3, 4, 5, 6, 7]) "
   ]
  },
  {
   "cell_type": "code",
   "execution_count": 34,
   "id": "bda10608",
   "metadata": {},
   "outputs": [],
   "source": [
    "queue.append(8)"
   ]
  },
  {
   "cell_type": "code",
   "execution_count": 35,
   "id": "c4ef02bf",
   "metadata": {},
   "outputs": [
    {
     "data": {
      "text/plain": [
       "deque([1, 2, 3, 4, 5, 6, 7, 8])"
      ]
     },
     "execution_count": 35,
     "metadata": {},
     "output_type": "execute_result"
    }
   ],
   "source": [
    "queue"
   ]
  },
  {
   "cell_type": "code",
   "execution_count": 36,
   "id": "5d1b6c5b",
   "metadata": {},
   "outputs": [],
   "source": [
    "queue.appendleft(0)"
   ]
  },
  {
   "cell_type": "code",
   "execution_count": 37,
   "id": "cda4b70a",
   "metadata": {},
   "outputs": [
    {
     "data": {
      "text/plain": [
       "deque([0, 1, 2, 3, 4, 5, 6, 7, 8])"
      ]
     },
     "execution_count": 37,
     "metadata": {},
     "output_type": "execute_result"
    }
   ],
   "source": [
    "queue"
   ]
  },
  {
   "cell_type": "code",
   "execution_count": 38,
   "id": "c28f4f3d",
   "metadata": {},
   "outputs": [],
   "source": [
    "queue.reverse()"
   ]
  },
  {
   "cell_type": "code",
   "execution_count": 39,
   "id": "5190242f",
   "metadata": {},
   "outputs": [
    {
     "data": {
      "text/plain": [
       "deque([8, 7, 6, 5, 4, 3, 2, 1, 0])"
      ]
     },
     "execution_count": 39,
     "metadata": {},
     "output_type": "execute_result"
    }
   ],
   "source": [
    "queue"
   ]
  },
  {
   "cell_type": "markdown",
   "id": "8571e7ab",
   "metadata": {},
   "source": [
    "6. Defaultdict: Create a defaultdict that maps a character to a list of words starting with that character.\n",
    "Calculate the sum of values for each key in a dictionary using a defaultdict."
   ]
  },
  {
   "cell_type": "code",
   "execution_count": 40,
   "id": "a8757bbe",
   "metadata": {},
   "outputs": [],
   "source": [
    "from collections import defaultdict"
   ]
  },
  {
   "cell_type": "code",
   "execution_count": null,
   "id": "9108ef48",
   "metadata": {},
   "outputs": [],
   "source": [
    "d = defaultdict(int)\n"
   ]
  },
  {
   "cell_type": "markdown",
   "id": "55433079",
   "metadata": {},
   "source": [
    "7. Reduce: Use reduce to find the maximum element in a list of numbers.\n",
    "Combine a list of strings into a single string using reduce."
   ]
  },
  {
   "cell_type": "code",
   "execution_count": 75,
   "id": "4cea9a04",
   "metadata": {},
   "outputs": [],
   "source": [
    "from functools import reduce"
   ]
  },
  {
   "cell_type": "code",
   "execution_count": 76,
   "id": "62cb5586",
   "metadata": {},
   "outputs": [],
   "source": [
    "list = [1, 2, 3, 4, 5, 6, 7]"
   ]
  },
  {
   "cell_type": "code",
   "execution_count": 77,
   "id": "4ec9b802",
   "metadata": {},
   "outputs": [],
   "source": [
    "largest_elem = reduce(max, list)"
   ]
  },
  {
   "cell_type": "code",
   "execution_count": 78,
   "id": "7a30a907",
   "metadata": {},
   "outputs": [
    {
     "data": {
      "text/plain": [
       "7"
      ]
     },
     "execution_count": 78,
     "metadata": {},
     "output_type": "execute_result"
    }
   ],
   "source": [
    "largest_elem"
   ]
  },
  {
   "cell_type": "code",
   "execution_count": 79,
   "id": "a311ee27",
   "metadata": {},
   "outputs": [],
   "source": [
    "items = [\"have\", \"a\", \"nice\", \"day\"]"
   ]
  },
  {
   "cell_type": "code",
   "execution_count": 80,
   "id": "33d3cc67",
   "metadata": {},
   "outputs": [],
   "source": [
    "result = reduce(lambda x, y: x + ' ' + y, map(str, items))"
   ]
  },
  {
   "cell_type": "code",
   "execution_count": 81,
   "id": "e42b0fef",
   "metadata": {},
   "outputs": [
    {
     "data": {
      "text/plain": [
       "'have a nice day'"
      ]
     },
     "execution_count": 81,
     "metadata": {},
     "output_type": "execute_result"
    }
   ],
   "source": [
    "result"
   ]
  }
 ],
 "metadata": {
  "kernelspec": {
   "display_name": "Python 3 (ipykernel)",
   "language": "python",
   "name": "python3"
  },
  "language_info": {
   "codemirror_mode": {
    "name": "ipython",
    "version": 3
   },
   "file_extension": ".py",
   "mimetype": "text/x-python",
   "name": "python",
   "nbconvert_exporter": "python",
   "pygments_lexer": "ipython3",
   "version": "3.11.2"
  }
 },
 "nbformat": 4,
 "nbformat_minor": 5
}
