{
 "cells": [
  {
   "cell_type": "code",
   "execution_count": null,
   "id": "f415ebec",
   "metadata": {},
   "outputs": [],
   "source": [
    "import multiprocessing"
   ]
  },
  {
   "cell_type": "code",
   "execution_count": null,
   "id": "66618bb4",
   "metadata": {},
   "outputs": [],
   "source": [
    "def word_count(filename):\n",
    "    with open(filename, \"r\") as file:\n",
    "        text = file.read()\n",
    "        words = text.split()\n",
    "        return len(words)\n",
    "    \n",
    "\n"
   ]
  },
  {
   "cell_type": "code",
   "execution_count": null,
   "id": "9a3478d1",
   "metadata": {},
   "outputs": [],
   "source": [
    "\n",
    "if __name__ == \"__main__\":\n",
    "        num_workers = multiprocessing.cpu_count()\n",
    "        file_names = [\"Africa.txt\", \"Etymology.txt\", \"History.txt\"]\n",
    "\n",
    "        \n"
   ]
  },
  {
   "cell_type": "code",
   "execution_count": null,
   "id": "f06738b8",
   "metadata": {},
   "outputs": [],
   "source": [
    "with multiprocessing.Pool(num_workers) as pool:\n",
    "    result = pool.map(word_count, file_names) \n",
    "\n",
    "for filename, count in zip(file_names, result):\n",
    "    print(f\"Word count of {filename}: {count}\")"
   ]
  },
  {
   "cell_type": "code",
   "execution_count": null,
   "id": "32bdcac1",
   "metadata": {},
   "outputs": [],
   "source": [
    "import concurrent.futures\n",
    "\n",
    "#def elements(k,l,M,N):\n",
    "   # return sum(M[])\n",
    "\n",
    "def parallel_matrix_multipl(M,N):\n",
    "    with concurrent.futures.ThreadPoolExecutor() as executor:\n",
    "        return [\n",
    "            executor.submit(elements, k, g, M, N).result() for g in range(len(N[0]))]\n",
    "    for k in range (len(M))\n",
    "    \n",
    "    \n",
    "M_element = [\n",
    "    [1,2,3,4],\n",
    "    [4,6,5,6],\n",
    "    [3,4,3,4],\n",
    "    [8,9,7,6]\n",
    "            ]    \n",
    "    \n",
    "N_element = [\n",
    "    [10,5,3,4],\n",
    "    [14,16,5,6],\n",
    "    [3,14,10,4],\n",
    "    [18,9,17,6]\n",
    "            ]      \n",
    "result = parallel_matrix_multipl(M_element, N_element)\n",
    "for row in result:\n",
    "    print(row)"
   ]
  },
  {
   "cell_type": "code",
   "execution_count": null,
   "id": "a2545737",
   "metadata": {},
   "outputs": [],
   "source": [
    "row"
   ]
  },
  {
   "cell_type": "code",
   "execution_count": null,
   "id": "8dc29e33",
   "metadata": {},
   "outputs": [],
   "source": [
    "import concurrent.futures\n",
    "\n",
    "def multiply(a, b):\n",
    "     value = a*b\n",
    "\n",
    " if __name__ == \"__main__\":\n",
    " \n",
    " with concurrent.futures.ThreadPoolExecutor() as executor:\n",
    "    for i in range(3):\n",
    "        executor.submit(multiply, a=1, b=1)\n",
    "\n",
    "print(f\"{a}*{b}={value}\")"
   ]
  },
  {
   "cell_type": "code",
   "execution_count": null,
   "id": "e2b23844",
   "metadata": {},
   "outputs": [],
   "source": []
  }
 ],
 "metadata": {
  "kernelspec": {
   "display_name": "Python 3 (ipykernel)",
   "language": "python",
   "name": "python3"
  },
  "language_info": {
   "codemirror_mode": {
    "name": "ipython",
    "version": 3
   },
   "file_extension": ".py",
   "mimetype": "text/x-python",
   "name": "python",
   "nbconvert_exporter": "python",
   "pygments_lexer": "ipython3",
   "version": "3.11.2"
  }
 },
 "nbformat": 4,
 "nbformat_minor": 5
}
